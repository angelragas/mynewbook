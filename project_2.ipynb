{
 "cells": [
  {
   "cell_type": "code",
   "execution_count": 17,
   "id": "2d633501",
   "metadata": {},
   "outputs": [],
   "source": [
    "import plotly.io as pio\n",
    "\n",
    "pio.renderers.default = \"vscode+jupyterlab+notebook_connected\""
   ]
  },
  {
   "cell_type": "markdown",
   "id": "0d140bb0",
   "metadata": {},
   "source": [
    "# Project 2"
   ]
  },
  {
   "cell_type": "code",
   "execution_count": 18,
   "id": "62b39f9f-fec3-42ec-95ba-a6aa58a72c04",
   "metadata": {},
   "outputs": [],
   "source": [
    "import pandas as pd"
   ]
  },
  {
   "cell_type": "code",
   "execution_count": 19,
   "id": "debc02b2-b548-48a2-a75c-01cc0d789b67",
   "metadata": {},
   "outputs": [],
   "source": [
    "#I have selected UN Consumer Price Index, because I haven't work extensively that\n",
    "#Topic\n",
    "#This work is based on a workteam with Federico Yepes, due to our similar interests\n",
    "#About environmental regulations and market effects\n",
    "#I have chosen UN datas because I worked with a similar one for Project 1"
   ]
  },
  {
   "cell_type": "code",
   "execution_count": 20,
   "id": "ed5193ff-1127-4964-9406-ced26388f24e",
   "metadata": {},
   "outputs": [
    {
     "data": {
      "text/html": [
       "<div>\n",
       "<style scoped>\n",
       "    .dataframe tbody tr th:only-of-type {\n",
       "        vertical-align: middle;\n",
       "    }\n",
       "\n",
       "    .dataframe tbody tr th {\n",
       "        vertical-align: top;\n",
       "    }\n",
       "\n",
       "    .dataframe thead th {\n",
       "        text-align: right;\n",
       "    }\n",
       "</style>\n",
       "<table border=\"1\" class=\"dataframe\">\n",
       "  <thead>\n",
       "    <tr style=\"text-align: right;\">\n",
       "      <th></th>\n",
       "      <th>N°</th>\n",
       "      <th>Country</th>\n",
       "      <th>Year</th>\n",
       "      <th>Series</th>\n",
       "      <th>Value</th>\n",
       "      <th>Footnotes</th>\n",
       "      <th>Source</th>\n",
       "    </tr>\n",
       "  </thead>\n",
       "  <tbody>\n",
       "    <tr>\n",
       "      <th>0</th>\n",
       "      <td>8</td>\n",
       "      <td>Albania</td>\n",
       "      <td>1975</td>\n",
       "      <td>Emissions (thousand metric tons of carbon diox...</td>\n",
       "      <td>4,524</td>\n",
       "      <td>NaN</td>\n",
       "      <td>International Energy Agency, IEA World Energy ...</td>\n",
       "    </tr>\n",
       "    <tr>\n",
       "      <th>1</th>\n",
       "      <td>8</td>\n",
       "      <td>Albania</td>\n",
       "      <td>1985</td>\n",
       "      <td>Emissions (thousand metric tons of carbon diox...</td>\n",
       "      <td>7,145</td>\n",
       "      <td>NaN</td>\n",
       "      <td>International Energy Agency, IEA World Energy ...</td>\n",
       "    </tr>\n",
       "    <tr>\n",
       "      <th>2</th>\n",
       "      <td>8</td>\n",
       "      <td>Albania</td>\n",
       "      <td>2005</td>\n",
       "      <td>Emissions (thousand metric tons of carbon diox...</td>\n",
       "      <td>3,980</td>\n",
       "      <td>NaN</td>\n",
       "      <td>International Energy Agency, IEA World Energy ...</td>\n",
       "    </tr>\n",
       "    <tr>\n",
       "      <th>3</th>\n",
       "      <td>8</td>\n",
       "      <td>Albania</td>\n",
       "      <td>2010</td>\n",
       "      <td>Emissions (thousand metric tons of carbon diox...</td>\n",
       "      <td>4,074</td>\n",
       "      <td>NaN</td>\n",
       "      <td>International Energy Agency, IEA World Energy ...</td>\n",
       "    </tr>\n",
       "    <tr>\n",
       "      <th>4</th>\n",
       "      <td>8</td>\n",
       "      <td>Albania</td>\n",
       "      <td>2015</td>\n",
       "      <td>Emissions (thousand metric tons of carbon diox...</td>\n",
       "      <td>3,975</td>\n",
       "      <td>NaN</td>\n",
       "      <td>International Energy Agency, IEA World Energy ...</td>\n",
       "    </tr>\n",
       "    <tr>\n",
       "      <th>...</th>\n",
       "      <td>...</td>\n",
       "      <td>...</td>\n",
       "      <td>...</td>\n",
       "      <td>...</td>\n",
       "      <td>...</td>\n",
       "      <td>...</td>\n",
       "      <td>...</td>\n",
       "    </tr>\n",
       "    <tr>\n",
       "      <th>2259</th>\n",
       "      <td>716</td>\n",
       "      <td>Zimbabwe</td>\n",
       "      <td>2010</td>\n",
       "      <td>Emissions per capita (metric tons of carbon di...</td>\n",
       "      <td>0.7</td>\n",
       "      <td>NaN</td>\n",
       "      <td>International Energy Agency, IEA World Energy ...</td>\n",
       "    </tr>\n",
       "    <tr>\n",
       "      <th>2260</th>\n",
       "      <td>716</td>\n",
       "      <td>Zimbabwe</td>\n",
       "      <td>2015</td>\n",
       "      <td>Emissions per capita (metric tons of carbon di...</td>\n",
       "      <td>0.8</td>\n",
       "      <td>NaN</td>\n",
       "      <td>International Energy Agency, IEA World Energy ...</td>\n",
       "    </tr>\n",
       "    <tr>\n",
       "      <th>2261</th>\n",
       "      <td>716</td>\n",
       "      <td>Zimbabwe</td>\n",
       "      <td>2018</td>\n",
       "      <td>Emissions per capita (metric tons of carbon di...</td>\n",
       "      <td>0.7</td>\n",
       "      <td>NaN</td>\n",
       "      <td>International Energy Agency, IEA World Energy ...</td>\n",
       "    </tr>\n",
       "    <tr>\n",
       "      <th>2262</th>\n",
       "      <td>716</td>\n",
       "      <td>Zimbabwe</td>\n",
       "      <td>2019</td>\n",
       "      <td>Emissions per capita (metric tons of carbon di...</td>\n",
       "      <td>0.7</td>\n",
       "      <td>NaN</td>\n",
       "      <td>International Energy Agency, IEA World Energy ...</td>\n",
       "    </tr>\n",
       "    <tr>\n",
       "      <th>2263</th>\n",
       "      <td>716</td>\n",
       "      <td>Zimbabwe</td>\n",
       "      <td>2020</td>\n",
       "      <td>Emissions per capita (metric tons of carbon di...</td>\n",
       "      <td>0.5</td>\n",
       "      <td>NaN</td>\n",
       "      <td>International Energy Agency, IEA World Energy ...</td>\n",
       "    </tr>\n",
       "  </tbody>\n",
       "</table>\n",
       "<p>2264 rows × 7 columns</p>\n",
       "</div>"
      ],
      "text/plain": [
       "       N°   Country  Year                                             Series  \\\n",
       "0       8   Albania  1975  Emissions (thousand metric tons of carbon diox...   \n",
       "1       8   Albania  1985  Emissions (thousand metric tons of carbon diox...   \n",
       "2       8   Albania  2005  Emissions (thousand metric tons of carbon diox...   \n",
       "3       8   Albania  2010  Emissions (thousand metric tons of carbon diox...   \n",
       "4       8   Albania  2015  Emissions (thousand metric tons of carbon diox...   \n",
       "...   ...       ...   ...                                                ...   \n",
       "2259  716  Zimbabwe  2010  Emissions per capita (metric tons of carbon di...   \n",
       "2260  716  Zimbabwe  2015  Emissions per capita (metric tons of carbon di...   \n",
       "2261  716  Zimbabwe  2018  Emissions per capita (metric tons of carbon di...   \n",
       "2262  716  Zimbabwe  2019  Emissions per capita (metric tons of carbon di...   \n",
       "2263  716  Zimbabwe  2020  Emissions per capita (metric tons of carbon di...   \n",
       "\n",
       "      Value Footnotes                                             Source  \n",
       "0     4,524       NaN  International Energy Agency, IEA World Energy ...  \n",
       "1     7,145       NaN  International Energy Agency, IEA World Energy ...  \n",
       "2     3,980       NaN  International Energy Agency, IEA World Energy ...  \n",
       "3     4,074       NaN  International Energy Agency, IEA World Energy ...  \n",
       "4     3,975       NaN  International Energy Agency, IEA World Energy ...  \n",
       "...     ...       ...                                                ...  \n",
       "2259    0.7       NaN  International Energy Agency, IEA World Energy ...  \n",
       "2260    0.8       NaN  International Energy Agency, IEA World Energy ...  \n",
       "2261    0.7       NaN  International Energy Agency, IEA World Energy ...  \n",
       "2262    0.7       NaN  International Energy Agency, IEA World Energy ...  \n",
       "2263    0.5       NaN  International Energy Agency, IEA World Energy ...  \n",
       "\n",
       "[2264 rows x 7 columns]"
      ]
     },
     "execution_count": 20,
     "metadata": {},
     "output_type": "execute_result"
    }
   ],
   "source": [
    "#data of CO2 (data.un.org): CO2 emissions estimates\n",
    "un_co2 = pd.read_csv(\"/Users/angelragasr/Desktop/project2/SYB66_310_202310_Carbon Dioxide Emission Estimates.csv\", \n",
    "                       encoding=\"ISO-8859-1\", skiprows=1, header=0)\n",
    "un_co2.columns=['N°', 'Country', 'Year', 'Series', 'Value', 'Footnotes', 'Source']\n",
    "un_co2\n",
    "#The encoding, skiprows and header codes were recommended by online tutorials to open my file"
   ]
  },
  {
   "cell_type": "code",
   "execution_count": 21,
   "id": "5a05f735-4dff-40d8-9422-90455ae83566",
   "metadata": {},
   "outputs": [
    {
     "name": "stdout",
     "output_type": "stream",
     "text": [
      "['Emissions (thousand metric tons of carbon dioxide)'\n",
      " 'Emissions per capita (metric tons of carbon dioxide)']\n"
     ]
    }
   ],
   "source": [
    "#Veryfing the types of CO2 emissions in the data\n",
    "unique_un_co2 = un_co2['Series'].unique()\n",
    "print(unique_un_co2)"
   ]
  },
  {
   "cell_type": "code",
   "execution_count": 22,
   "id": "b4d1fbb1-8c83-4246-bfd7-fd4c2cc57b4d",
   "metadata": {},
   "outputs": [],
   "source": [
    "#data of Consumer Price Index (UN): https://w3.unece.org/PXWeb/en/DataMap?IndicatorCode=1\n",
    "un_cpi_preview = pd.read_csv(\"//Users/angelragasr/Desktop/project2/data_20241126154521.csv\", \n",
    "                       encoding=\"ISO-8859-1\")\n",
    "#The encoding, skiprows and header codes were recommended by online tutorials to open my file\n",
    "un_cpi = un_cpi_preview[['IndicatorName', 'CountryName', 'PeriodCode', 'Value']].reset_index(drop=True)"
   ]
  },
  {
   "cell_type": "code",
   "execution_count": 23,
   "id": "0e5db665-563e-4c54-be8c-bee745f4cd50",
   "metadata": {},
   "outputs": [
    {
     "data": {
      "text/html": [
       "<div>\n",
       "<style scoped>\n",
       "    .dataframe tbody tr th:only-of-type {\n",
       "        vertical-align: middle;\n",
       "    }\n",
       "\n",
       "    .dataframe tbody tr th {\n",
       "        vertical-align: top;\n",
       "    }\n",
       "\n",
       "    .dataframe thead th {\n",
       "        text-align: right;\n",
       "    }\n",
       "</style>\n",
       "<table border=\"1\" class=\"dataframe\">\n",
       "  <thead>\n",
       "    <tr style=\"text-align: right;\">\n",
       "      <th></th>\n",
       "      <th>Indicator Name</th>\n",
       "      <th>Country</th>\n",
       "      <th>Year</th>\n",
       "      <th>Value</th>\n",
       "    </tr>\n",
       "  </thead>\n",
       "  <tbody>\n",
       "    <tr>\n",
       "      <th>0</th>\n",
       "      <td>Consumer price index, growth rate (%)</td>\n",
       "      <td>Albania</td>\n",
       "      <td>2005</td>\n",
       "      <td>2.4</td>\n",
       "    </tr>\n",
       "    <tr>\n",
       "      <th>1</th>\n",
       "      <td>Consumer price index, growth rate (%)</td>\n",
       "      <td>Albania</td>\n",
       "      <td>2006</td>\n",
       "      <td>2.4</td>\n",
       "    </tr>\n",
       "    <tr>\n",
       "      <th>2</th>\n",
       "      <td>Consumer price index, growth rate (%)</td>\n",
       "      <td>Albania</td>\n",
       "      <td>2007</td>\n",
       "      <td>2.9</td>\n",
       "    </tr>\n",
       "    <tr>\n",
       "      <th>3</th>\n",
       "      <td>Consumer price index, growth rate (%)</td>\n",
       "      <td>Albania</td>\n",
       "      <td>2008</td>\n",
       "      <td>3.4</td>\n",
       "    </tr>\n",
       "    <tr>\n",
       "      <th>4</th>\n",
       "      <td>Consumer price index, growth rate (%)</td>\n",
       "      <td>Albania</td>\n",
       "      <td>2009</td>\n",
       "      <td>2.3</td>\n",
       "    </tr>\n",
       "    <tr>\n",
       "      <th>...</th>\n",
       "      <td>...</td>\n",
       "      <td>...</td>\n",
       "      <td>...</td>\n",
       "      <td>...</td>\n",
       "    </tr>\n",
       "    <tr>\n",
       "      <th>1021</th>\n",
       "      <td>Consumer price index, growth rate (%)</td>\n",
       "      <td>Uzbekistan</td>\n",
       "      <td>2019</td>\n",
       "      <td>14.5</td>\n",
       "    </tr>\n",
       "    <tr>\n",
       "      <th>1022</th>\n",
       "      <td>Consumer price index, growth rate (%)</td>\n",
       "      <td>Uzbekistan</td>\n",
       "      <td>2020</td>\n",
       "      <td>12.9</td>\n",
       "    </tr>\n",
       "    <tr>\n",
       "      <th>1023</th>\n",
       "      <td>Consumer price index, growth rate (%)</td>\n",
       "      <td>Uzbekistan</td>\n",
       "      <td>2021</td>\n",
       "      <td>10.8</td>\n",
       "    </tr>\n",
       "    <tr>\n",
       "      <th>1024</th>\n",
       "      <td>Consumer price index, growth rate (%)</td>\n",
       "      <td>Uzbekistan</td>\n",
       "      <td>2022</td>\n",
       "      <td>11.4</td>\n",
       "    </tr>\n",
       "    <tr>\n",
       "      <th>1025</th>\n",
       "      <td>Consumer price index, growth rate (%)</td>\n",
       "      <td>Uzbekistan</td>\n",
       "      <td>2023</td>\n",
       "      <td>9.4</td>\n",
       "    </tr>\n",
       "  </tbody>\n",
       "</table>\n",
       "<p>1026 rows × 4 columns</p>\n",
       "</div>"
      ],
      "text/plain": [
       "                             Indicator Name     Country  Year Value\n",
       "0     Consumer price index, growth rate (%)     Albania  2005   2.4\n",
       "1     Consumer price index, growth rate (%)     Albania  2006   2.4\n",
       "2     Consumer price index, growth rate (%)     Albania  2007   2.9\n",
       "3     Consumer price index, growth rate (%)     Albania  2008   3.4\n",
       "4     Consumer price index, growth rate (%)     Albania  2009   2.3\n",
       "...                                     ...         ...   ...   ...\n",
       "1021  Consumer price index, growth rate (%)  Uzbekistan  2019  14.5\n",
       "1022  Consumer price index, growth rate (%)  Uzbekistan  2020  12.9\n",
       "1023  Consumer price index, growth rate (%)  Uzbekistan  2021  10.8\n",
       "1024  Consumer price index, growth rate (%)  Uzbekistan  2022  11.4\n",
       "1025  Consumer price index, growth rate (%)  Uzbekistan  2023   9.4\n",
       "\n",
       "[1026 rows x 4 columns]"
      ]
     },
     "execution_count": 23,
     "metadata": {},
     "output_type": "execute_result"
    }
   ],
   "source": [
    "un_cpi.columns=['Indicator Name', 'Country', 'Year', 'Value']\n",
    "un_cpi"
   ]
  },
  {
   "cell_type": "code",
   "execution_count": 24,
   "id": "b55bdb1a-61f6-4ccf-82b0-cc3eb2fe4a6c",
   "metadata": {},
   "outputs": [],
   "source": [
    "#list of the non-country names (regions, sub-regions, continents and non\n",
    "#recognized nations)\n",
    "excluded_countries = [\n",
    "    \"Total, all countries or areas\", \"Africa\", \"Northern Africa\", \"Sub-Saharan Africa\", \"Eastern Africa\", \n",
    "    \"Middle Africa\", \"Southern Africa\", \"Western Africa\", \"Americas\", \n",
    "    \"Northern America\", \"Latin America & the Caribbean\", \"Caribbean\", \n",
    "    \"Central America\", \"South America\", \"Asia\", \"Central Asia\", \n",
    "    \"Eastern Asia\", \"South-central Asia\", \"South-eastern Asia\", \"Southern Asia\", \n",
    "    \"Western Asia\", \"Europe\", \"European Union (EU)\",\"Eastern Europe\", \"Northern Europe\", \n",
    "    \"Southern Europe\", \"Western Europe\", \"Oceania\", \"Australia and New Zealand\", \n",
    "    \"Melanesia\", \"Micronesia\", \"Polynesia\", \"British Virgin Islands\", \n",
    "    \"Falkland Islands (Malvinas)\", \"Faroe Islands\", \"French Guiana\", \n",
    "    \"Guam\", \"New Caledonia\", \"Puerto Rico\", \"Saint Martin (French part)\", \n",
    "    \"Sint Maarten (Dutch part)\", \"Turks and Caicos Islands\", \n",
    "    \"United States Virgin Islands\", \"Other non-specified areas\", \n",
    "    \"LLDCs\", \"LDCs\", \"SIDS\", \"LDC§\", \"LLDC§\", \"SID§\", \"American Samoa\", \"Aruba\", \"Bermuda\", \"Bonaire, St. Eustatius & Saba\", \n",
    "    \"British Virgin Islands\", \"Cayman Islands\", \"Cook Islands\", \n",
    "    \"Falkland Islands (Malvinas)\", \"French Guiana\", \"French Polynesia\", \n",
    "    \"Guam\", \"Isle of Man\", \"Montserrat\", \"New Caledonia\", \"Niue\", \n",
    "    \"Northern Mariana Islands\", \"Puerto Rico\", \"Réunion\", \n",
    "    \"Saint Barthélemy\", \"Saint Helena\", \"Saint Martin (French part)\", \n",
    "    \"Sint Maarten (Dutch part)\", \"Tokelau\", \"Turks and Caicos Islands\", \n",
    "    \"United States Virgin Islands\", \"Wallis and Futuna Islands\", \n",
    "    \"Western Sahara\", \"Anguilla\", \"Aruba\", \"Bermuda\", \"Bonaire, St. Eustatius & Saba\", \n",
    "    \"British Virgin Islands\", \"Cayman Islands\", \"Cook Islands\", \n",
    "    \"Falkland Islands (Malvinas)\", \"French Guiana\", \"French Polynesia\", \n",
    "    \"Guam\", \"Isle of Man\", \"Montserrat\", \"New Caledonia\", \"Niue\", \n",
    "    \"Northern Mariana Islands\", \"Puerto Rico\", \"Réunion\", \n",
    "    \"Saint Barthélemy\", \"Saint Helena\", \"Saint Martin (French part)\", \n",
    "    \"Sint Maarten (Dutch part)\", \"Tokelau\", \"Turks and Caicos Islands\", \n",
    "    \"United States Virgin Islands\", \"Wallis and Futuna Islands\", \n",
    "    \"Western Sahara\"\n",
    "]"
   ]
  },
  {
   "cell_type": "code",
   "execution_count": 25,
   "id": "154fbee1-546c-4c88-aa12-f7d1bca99173",
   "metadata": {},
   "outputs": [
    {
     "data": {
      "text/html": [
       "<div>\n",
       "<style scoped>\n",
       "    .dataframe tbody tr th:only-of-type {\n",
       "        vertical-align: middle;\n",
       "    }\n",
       "\n",
       "    .dataframe tbody tr th {\n",
       "        vertical-align: top;\n",
       "    }\n",
       "\n",
       "    .dataframe thead th {\n",
       "        text-align: right;\n",
       "    }\n",
       "</style>\n",
       "<table border=\"1\" class=\"dataframe\">\n",
       "  <thead>\n",
       "    <tr style=\"text-align: right;\">\n",
       "      <th></th>\n",
       "      <th>Indicator Name</th>\n",
       "      <th>Country</th>\n",
       "      <th>Year</th>\n",
       "      <th>Value</th>\n",
       "    </tr>\n",
       "  </thead>\n",
       "  <tbody>\n",
       "    <tr>\n",
       "      <th>0</th>\n",
       "      <td>Consumer price index, growth rate (%)</td>\n",
       "      <td>Albania</td>\n",
       "      <td>2005</td>\n",
       "      <td>2.4</td>\n",
       "    </tr>\n",
       "    <tr>\n",
       "      <th>1</th>\n",
       "      <td>Consumer price index, growth rate (%)</td>\n",
       "      <td>Albania</td>\n",
       "      <td>2006</td>\n",
       "      <td>2.4</td>\n",
       "    </tr>\n",
       "    <tr>\n",
       "      <th>2</th>\n",
       "      <td>Consumer price index, growth rate (%)</td>\n",
       "      <td>Albania</td>\n",
       "      <td>2007</td>\n",
       "      <td>2.9</td>\n",
       "    </tr>\n",
       "    <tr>\n",
       "      <th>3</th>\n",
       "      <td>Consumer price index, growth rate (%)</td>\n",
       "      <td>Albania</td>\n",
       "      <td>2008</td>\n",
       "      <td>3.4</td>\n",
       "    </tr>\n",
       "    <tr>\n",
       "      <th>4</th>\n",
       "      <td>Consumer price index, growth rate (%)</td>\n",
       "      <td>Albania</td>\n",
       "      <td>2009</td>\n",
       "      <td>2.3</td>\n",
       "    </tr>\n",
       "    <tr>\n",
       "      <th>...</th>\n",
       "      <td>...</td>\n",
       "      <td>...</td>\n",
       "      <td>...</td>\n",
       "      <td>...</td>\n",
       "    </tr>\n",
       "    <tr>\n",
       "      <th>1021</th>\n",
       "      <td>Consumer price index, growth rate (%)</td>\n",
       "      <td>Uzbekistan</td>\n",
       "      <td>2019</td>\n",
       "      <td>14.5</td>\n",
       "    </tr>\n",
       "    <tr>\n",
       "      <th>1022</th>\n",
       "      <td>Consumer price index, growth rate (%)</td>\n",
       "      <td>Uzbekistan</td>\n",
       "      <td>2020</td>\n",
       "      <td>12.9</td>\n",
       "    </tr>\n",
       "    <tr>\n",
       "      <th>1023</th>\n",
       "      <td>Consumer price index, growth rate (%)</td>\n",
       "      <td>Uzbekistan</td>\n",
       "      <td>2021</td>\n",
       "      <td>10.8</td>\n",
       "    </tr>\n",
       "    <tr>\n",
       "      <th>1024</th>\n",
       "      <td>Consumer price index, growth rate (%)</td>\n",
       "      <td>Uzbekistan</td>\n",
       "      <td>2022</td>\n",
       "      <td>11.4</td>\n",
       "    </tr>\n",
       "    <tr>\n",
       "      <th>1025</th>\n",
       "      <td>Consumer price index, growth rate (%)</td>\n",
       "      <td>Uzbekistan</td>\n",
       "      <td>2023</td>\n",
       "      <td>9.4</td>\n",
       "    </tr>\n",
       "  </tbody>\n",
       "</table>\n",
       "<p>1026 rows × 4 columns</p>\n",
       "</div>"
      ],
      "text/plain": [
       "                             Indicator Name     Country  Year Value\n",
       "0     Consumer price index, growth rate (%)     Albania  2005   2.4\n",
       "1     Consumer price index, growth rate (%)     Albania  2006   2.4\n",
       "2     Consumer price index, growth rate (%)     Albania  2007   2.9\n",
       "3     Consumer price index, growth rate (%)     Albania  2008   3.4\n",
       "4     Consumer price index, growth rate (%)     Albania  2009   2.3\n",
       "...                                     ...         ...   ...   ...\n",
       "1021  Consumer price index, growth rate (%)  Uzbekistan  2019  14.5\n",
       "1022  Consumer price index, growth rate (%)  Uzbekistan  2020  12.9\n",
       "1023  Consumer price index, growth rate (%)  Uzbekistan  2021  10.8\n",
       "1024  Consumer price index, growth rate (%)  Uzbekistan  2022  11.4\n",
       "1025  Consumer price index, growth rate (%)  Uzbekistan  2023   9.4\n",
       "\n",
       "[1026 rows x 4 columns]"
      ]
     },
     "execution_count": 25,
     "metadata": {},
     "output_type": "execute_result"
    }
   ],
   "source": [
    "#To filter only the valid countries\n",
    "countries = un_cpi[un_cpi[\"Country\"].isin(excluded_countries) == False]\n",
    "countries"
   ]
  },
  {
   "cell_type": "code",
   "execution_count": 26,
   "id": "03ee449e-f2c8-4439-ba4a-d05f9d9e5694",
   "metadata": {},
   "outputs": [],
   "source": [
    "#To convert the value column to a numeric format by removing commas and then coercing \n",
    "#non-numeric values to NaN (if any)\n",
    "un_cpi['Value'] = un_cpi['Value'].astype(str).str.replace(',', '')\n",
    "un_cpi['Value'] = pd.to_numeric(un_cpi['Value'], errors='coerce')\n",
    "\n",
    "un_co2['Value'] = un_co2['Value'].astype(str).str.replace(',', '')\n",
    "un_co2['Value'] = pd.to_numeric(un_co2['Value'], errors='coerce')\n",
    "\n",
    "#drop rows where 'value' is NaN (non-valid values)\n",
    "un_cpi = un_cpi.dropna(subset=['Value'])\n",
    "un_co2 = un_co2.dropna(subset=['Value'])\n",
    "\n",
    "#I have used the template I've used for Project 1"
   ]
  },
  {
   "cell_type": "code",
   "execution_count": 27,
   "id": "4a0a59d7-0237-47c0-b291-051b820eda5c",
   "metadata": {},
   "outputs": [],
   "source": [
    "#Converting to string\n",
    "countries['Year'] = countries['Year'].astype(str)\n",
    "un_co2['Year'] = un_co2['Year'].astype(str)"
   ]
  },
  {
   "cell_type": "code",
   "execution_count": 28,
   "id": "14018945-38e3-4da4-a633-a27d01f0e2bb",
   "metadata": {},
   "outputs": [
    {
     "name": "stdout",
     "output_type": "stream",
     "text": [
      "['Consumer price index, growth rate (%)']\n"
     ]
    }
   ],
   "source": [
    "#To verify the only index type in my data\n",
    "unique_cpi = countries['Indicator Name'].unique()\n",
    "print(unique_cpi)"
   ]
  },
  {
   "cell_type": "code",
   "execution_count": 29,
   "id": "9ad2b75e-60b7-44de-b709-165d7abfcaf6",
   "metadata": {},
   "outputs": [
    {
     "data": {
      "text/html": [
       "<div>\n",
       "<style scoped>\n",
       "    .dataframe tbody tr th:only-of-type {\n",
       "        vertical-align: middle;\n",
       "    }\n",
       "\n",
       "    .dataframe tbody tr th {\n",
       "        vertical-align: top;\n",
       "    }\n",
       "\n",
       "    .dataframe thead th {\n",
       "        text-align: right;\n",
       "    }\n",
       "</style>\n",
       "<table border=\"1\" class=\"dataframe\">\n",
       "  <thead>\n",
       "    <tr style=\"text-align: right;\">\n",
       "      <th></th>\n",
       "      <th>N°</th>\n",
       "      <th>Country</th>\n",
       "      <th>Year</th>\n",
       "      <th>Series</th>\n",
       "      <th>Value</th>\n",
       "      <th>Footnotes</th>\n",
       "      <th>Source</th>\n",
       "    </tr>\n",
       "  </thead>\n",
       "  <tbody>\n",
       "    <tr>\n",
       "      <th>8</th>\n",
       "      <td>8</td>\n",
       "      <td>Albania</td>\n",
       "      <td>1975</td>\n",
       "      <td>Emissions per capita (metric tons of carbon di...</td>\n",
       "      <td>1.8</td>\n",
       "      <td>NaN</td>\n",
       "      <td>International Energy Agency, IEA World Energy ...</td>\n",
       "    </tr>\n",
       "    <tr>\n",
       "      <th>9</th>\n",
       "      <td>8</td>\n",
       "      <td>Albania</td>\n",
       "      <td>1985</td>\n",
       "      <td>Emissions per capita (metric tons of carbon di...</td>\n",
       "      <td>2.3</td>\n",
       "      <td>NaN</td>\n",
       "      <td>International Energy Agency, IEA World Energy ...</td>\n",
       "    </tr>\n",
       "    <tr>\n",
       "      <th>10</th>\n",
       "      <td>8</td>\n",
       "      <td>Albania</td>\n",
       "      <td>2005</td>\n",
       "      <td>Emissions per capita (metric tons of carbon di...</td>\n",
       "      <td>1.3</td>\n",
       "      <td>NaN</td>\n",
       "      <td>International Energy Agency, IEA World Energy ...</td>\n",
       "    </tr>\n",
       "    <tr>\n",
       "      <th>11</th>\n",
       "      <td>8</td>\n",
       "      <td>Albania</td>\n",
       "      <td>2010</td>\n",
       "      <td>Emissions per capita (metric tons of carbon di...</td>\n",
       "      <td>1.4</td>\n",
       "      <td>NaN</td>\n",
       "      <td>International Energy Agency, IEA World Energy ...</td>\n",
       "    </tr>\n",
       "    <tr>\n",
       "      <th>12</th>\n",
       "      <td>8</td>\n",
       "      <td>Albania</td>\n",
       "      <td>2015</td>\n",
       "      <td>Emissions per capita (metric tons of carbon di...</td>\n",
       "      <td>1.3</td>\n",
       "      <td>NaN</td>\n",
       "      <td>International Energy Agency, IEA World Energy ...</td>\n",
       "    </tr>\n",
       "    <tr>\n",
       "      <th>...</th>\n",
       "      <td>...</td>\n",
       "      <td>...</td>\n",
       "      <td>...</td>\n",
       "      <td>...</td>\n",
       "      <td>...</td>\n",
       "      <td>...</td>\n",
       "      <td>...</td>\n",
       "    </tr>\n",
       "    <tr>\n",
       "      <th>2259</th>\n",
       "      <td>716</td>\n",
       "      <td>Zimbabwe</td>\n",
       "      <td>2010</td>\n",
       "      <td>Emissions per capita (metric tons of carbon di...</td>\n",
       "      <td>0.7</td>\n",
       "      <td>NaN</td>\n",
       "      <td>International Energy Agency, IEA World Energy ...</td>\n",
       "    </tr>\n",
       "    <tr>\n",
       "      <th>2260</th>\n",
       "      <td>716</td>\n",
       "      <td>Zimbabwe</td>\n",
       "      <td>2015</td>\n",
       "      <td>Emissions per capita (metric tons of carbon di...</td>\n",
       "      <td>0.8</td>\n",
       "      <td>NaN</td>\n",
       "      <td>International Energy Agency, IEA World Energy ...</td>\n",
       "    </tr>\n",
       "    <tr>\n",
       "      <th>2261</th>\n",
       "      <td>716</td>\n",
       "      <td>Zimbabwe</td>\n",
       "      <td>2018</td>\n",
       "      <td>Emissions per capita (metric tons of carbon di...</td>\n",
       "      <td>0.7</td>\n",
       "      <td>NaN</td>\n",
       "      <td>International Energy Agency, IEA World Energy ...</td>\n",
       "    </tr>\n",
       "    <tr>\n",
       "      <th>2262</th>\n",
       "      <td>716</td>\n",
       "      <td>Zimbabwe</td>\n",
       "      <td>2019</td>\n",
       "      <td>Emissions per capita (metric tons of carbon di...</td>\n",
       "      <td>0.7</td>\n",
       "      <td>NaN</td>\n",
       "      <td>International Energy Agency, IEA World Energy ...</td>\n",
       "    </tr>\n",
       "    <tr>\n",
       "      <th>2263</th>\n",
       "      <td>716</td>\n",
       "      <td>Zimbabwe</td>\n",
       "      <td>2020</td>\n",
       "      <td>Emissions per capita (metric tons of carbon di...</td>\n",
       "      <td>0.5</td>\n",
       "      <td>NaN</td>\n",
       "      <td>International Energy Agency, IEA World Energy ...</td>\n",
       "    </tr>\n",
       "  </tbody>\n",
       "</table>\n",
       "<p>1132 rows × 7 columns</p>\n",
       "</div>"
      ],
      "text/plain": [
       "       N°   Country  Year                                             Series  \\\n",
       "8       8   Albania  1975  Emissions per capita (metric tons of carbon di...   \n",
       "9       8   Albania  1985  Emissions per capita (metric tons of carbon di...   \n",
       "10      8   Albania  2005  Emissions per capita (metric tons of carbon di...   \n",
       "11      8   Albania  2010  Emissions per capita (metric tons of carbon di...   \n",
       "12      8   Albania  2015  Emissions per capita (metric tons of carbon di...   \n",
       "...   ...       ...   ...                                                ...   \n",
       "2259  716  Zimbabwe  2010  Emissions per capita (metric tons of carbon di...   \n",
       "2260  716  Zimbabwe  2015  Emissions per capita (metric tons of carbon di...   \n",
       "2261  716  Zimbabwe  2018  Emissions per capita (metric tons of carbon di...   \n",
       "2262  716  Zimbabwe  2019  Emissions per capita (metric tons of carbon di...   \n",
       "2263  716  Zimbabwe  2020  Emissions per capita (metric tons of carbon di...   \n",
       "\n",
       "      Value Footnotes                                             Source  \n",
       "8       1.8       NaN  International Energy Agency, IEA World Energy ...  \n",
       "9       2.3       NaN  International Energy Agency, IEA World Energy ...  \n",
       "10      1.3       NaN  International Energy Agency, IEA World Energy ...  \n",
       "11      1.4       NaN  International Energy Agency, IEA World Energy ...  \n",
       "12      1.3       NaN  International Energy Agency, IEA World Energy ...  \n",
       "...     ...       ...                                                ...  \n",
       "2259    0.7       NaN  International Energy Agency, IEA World Energy ...  \n",
       "2260    0.8       NaN  International Energy Agency, IEA World Energy ...  \n",
       "2261    0.7       NaN  International Energy Agency, IEA World Energy ...  \n",
       "2262    0.7       NaN  International Energy Agency, IEA World Energy ...  \n",
       "2263    0.5       NaN  International Energy Agency, IEA World Energy ...  \n",
       "\n",
       "[1132 rows x 7 columns]"
      ]
     },
     "execution_count": 29,
     "metadata": {},
     "output_type": "execute_result"
    }
   ],
   "source": [
    "# Filter rows to have only \"Emissions per capita (metric tons of carbon dioxide)\n",
    "filtered_un_co2 = un_co2[un_co2['Series'] == 'Emissions per capita (metric tons of carbon dioxide)']\n",
    "filtered_un_co2"
   ]
  },
  {
   "cell_type": "code",
   "execution_count": 30,
   "id": "5dc3a490-adc7-4ae2-bd74-d2593aeb4e6c",
   "metadata": {},
   "outputs": [
    {
     "data": {
      "text/html": [
       "<div>\n",
       "<style scoped>\n",
       "    .dataframe tbody tr th:only-of-type {\n",
       "        vertical-align: middle;\n",
       "    }\n",
       "\n",
       "    .dataframe tbody tr th {\n",
       "        vertical-align: top;\n",
       "    }\n",
       "\n",
       "    .dataframe thead th {\n",
       "        text-align: right;\n",
       "    }\n",
       "</style>\n",
       "<table border=\"1\" class=\"dataframe\">\n",
       "  <thead>\n",
       "    <tr style=\"text-align: right;\">\n",
       "      <th></th>\n",
       "      <th>Indicator Name</th>\n",
       "      <th>Country</th>\n",
       "      <th>Year</th>\n",
       "      <th>Value_x</th>\n",
       "      <th>N°</th>\n",
       "      <th>Series</th>\n",
       "      <th>Value_y</th>\n",
       "      <th>Footnotes</th>\n",
       "      <th>Source</th>\n",
       "    </tr>\n",
       "  </thead>\n",
       "  <tbody>\n",
       "    <tr>\n",
       "      <th>0</th>\n",
       "      <td>Consumer price index, growth rate (%)</td>\n",
       "      <td>Albania</td>\n",
       "      <td>2005</td>\n",
       "      <td>2.4</td>\n",
       "      <td>8</td>\n",
       "      <td>Emissions per capita (metric tons of carbon di...</td>\n",
       "      <td>1.3</td>\n",
       "      <td>NaN</td>\n",
       "      <td>International Energy Agency, IEA World Energy ...</td>\n",
       "    </tr>\n",
       "    <tr>\n",
       "      <th>1</th>\n",
       "      <td>Consumer price index, growth rate (%)</td>\n",
       "      <td>Albania</td>\n",
       "      <td>2010</td>\n",
       "      <td>3.6</td>\n",
       "      <td>8</td>\n",
       "      <td>Emissions per capita (metric tons of carbon di...</td>\n",
       "      <td>1.4</td>\n",
       "      <td>NaN</td>\n",
       "      <td>International Energy Agency, IEA World Energy ...</td>\n",
       "    </tr>\n",
       "    <tr>\n",
       "      <th>2</th>\n",
       "      <td>Consumer price index, growth rate (%)</td>\n",
       "      <td>Albania</td>\n",
       "      <td>2015</td>\n",
       "      <td>1.9</td>\n",
       "      <td>8</td>\n",
       "      <td>Emissions per capita (metric tons of carbon di...</td>\n",
       "      <td>1.3</td>\n",
       "      <td>NaN</td>\n",
       "      <td>International Energy Agency, IEA World Energy ...</td>\n",
       "    </tr>\n",
       "    <tr>\n",
       "      <th>3</th>\n",
       "      <td>Consumer price index, growth rate (%)</td>\n",
       "      <td>Albania</td>\n",
       "      <td>2018</td>\n",
       "      <td>2.0</td>\n",
       "      <td>8</td>\n",
       "      <td>Emissions per capita (metric tons of carbon di...</td>\n",
       "      <td>1.5</td>\n",
       "      <td>NaN</td>\n",
       "      <td>International Energy Agency, IEA World Energy ...</td>\n",
       "    </tr>\n",
       "    <tr>\n",
       "      <th>4</th>\n",
       "      <td>Consumer price index, growth rate (%)</td>\n",
       "      <td>Albania</td>\n",
       "      <td>2019</td>\n",
       "      <td>1.4</td>\n",
       "      <td>8</td>\n",
       "      <td>Emissions per capita (metric tons of carbon di...</td>\n",
       "      <td>1.4</td>\n",
       "      <td>NaN</td>\n",
       "      <td>International Energy Agency, IEA World Energy ...</td>\n",
       "    </tr>\n",
       "  </tbody>\n",
       "</table>\n",
       "</div>"
      ],
      "text/plain": [
       "                          Indicator Name  Country  Year Value_x  N°  \\\n",
       "0  Consumer price index, growth rate (%)  Albania  2005     2.4   8   \n",
       "1  Consumer price index, growth rate (%)  Albania  2010     3.6   8   \n",
       "2  Consumer price index, growth rate (%)  Albania  2015     1.9   8   \n",
       "3  Consumer price index, growth rate (%)  Albania  2018     2.0   8   \n",
       "4  Consumer price index, growth rate (%)  Albania  2019     1.4   8   \n",
       "\n",
       "                                              Series  Value_y Footnotes  \\\n",
       "0  Emissions per capita (metric tons of carbon di...      1.3       NaN   \n",
       "1  Emissions per capita (metric tons of carbon di...      1.4       NaN   \n",
       "2  Emissions per capita (metric tons of carbon di...      1.3       NaN   \n",
       "3  Emissions per capita (metric tons of carbon di...      1.5       NaN   \n",
       "4  Emissions per capita (metric tons of carbon di...      1.4       NaN   \n",
       "\n",
       "                                              Source  \n",
       "0  International Energy Agency, IEA World Energy ...  \n",
       "1  International Energy Agency, IEA World Energy ...  \n",
       "2  International Energy Agency, IEA World Energy ...  \n",
       "3  International Energy Agency, IEA World Energy ...  \n",
       "4  International Energy Agency, IEA World Energy ...  "
      ]
     },
     "execution_count": 30,
     "metadata": {},
     "output_type": "execute_result"
    }
   ],
   "source": [
    "#Merge\n",
    "un_merged = pd.merge(countries, filtered_un_co2, on=['Country', 'Year'], how='inner')\n",
    "un_merged.head()"
   ]
  },
  {
   "cell_type": "code",
   "execution_count": 31,
   "id": "985ea9ea-0b83-4f42-b8e9-bad48ba4cbbc",
   "metadata": {},
   "outputs": [
    {
     "name": "stdout",
     "output_type": "stream",
     "text": [
      "['2005' '2010' '2015' '2018' '2019' '2020']\n"
     ]
    }
   ],
   "source": [
    "#Verifying the years\n",
    "unique_serie = un_merged['Year'].unique()\n",
    "print(unique_serie)"
   ]
  },
  {
   "cell_type": "code",
   "execution_count": 32,
   "id": "1b121388-5b99-4f51-86f8-b29541a7193a",
   "metadata": {},
   "outputs": [
    {
     "name": "stdout",
     "output_type": "stream",
     "text": [
      "The range of 'Value_x' is from -2.1 to 48.7.\n",
      "The range of 'Value_y' is from 0.3 to 24.7.\n"
     ]
    }
   ],
   "source": [
    "#Range\n",
    "un_merged['Value_x'] = pd.to_numeric(un_merged['Value_x'], errors='coerce')\n",
    "un_merged['Value_y'] = pd.to_numeric(un_merged['Value_y'], errors='coerce')\n",
    "\n",
    "#Dropping the NA\n",
    "un_merged = un_merged.dropna(subset=['Value_x', 'Value_y'])\n",
    "\n",
    "#Min and Max values\n",
    "min_x = un_merged['Value_x'].min()\n",
    "max_x = un_merged['Value_x'].max()\n",
    "\n",
    "min_y = un_merged['Value_y'].min()\n",
    "max_y = un_merged['Value_y'].max()\n",
    "\n",
    "print(f\"The range of 'Value_x' is from {min_x} to {max_x}.\")\n",
    "print(f\"The range of 'Value_y' is from {min_y} to {max_y}.\")"
   ]
  },
  {
   "cell_type": "code",
   "execution_count": 33,
   "id": "c5603570-ae99-4d5a-9220-5d7e6c5fe540",
   "metadata": {},
   "outputs": [
    {
     "name": "stdout",
     "output_type": "stream",
     "text": [
      "<class 'pandas.core.frame.DataFrame'>\n",
      "Index: 282 entries, 0 to 287\n",
      "Data columns (total 9 columns):\n",
      " #   Column          Non-Null Count  Dtype  \n",
      "---  ------          --------------  -----  \n",
      " 0   Indicator Name  282 non-null    object \n",
      " 1   Country         282 non-null    object \n",
      " 2   Year            282 non-null    object \n",
      " 3   Value_x         282 non-null    float64\n",
      " 4   N°              282 non-null    int64  \n",
      " 5   Series          282 non-null    object \n",
      " 6   Value_y         282 non-null    float64\n",
      " 7   Footnotes       38 non-null     object \n",
      " 8   Source          282 non-null    object \n",
      "dtypes: float64(2), int64(1), object(6)\n",
      "memory usage: 22.0+ KB\n"
     ]
    }
   ],
   "source": [
    "un_merged.info()"
   ]
  },
  {
   "cell_type": "code",
   "execution_count": 34,
   "id": "ce2ef166-ee22-4045-a87f-ef0646621055",
   "metadata": {},
   "outputs": [
    {
     "data": {
      "text/html": [
       "<div>\n",
       "<style scoped>\n",
       "    .dataframe tbody tr th:only-of-type {\n",
       "        vertical-align: middle;\n",
       "    }\n",
       "\n",
       "    .dataframe tbody tr th {\n",
       "        vertical-align: top;\n",
       "    }\n",
       "\n",
       "    .dataframe thead th {\n",
       "        text-align: right;\n",
       "    }\n",
       "</style>\n",
       "<table border=\"1\" class=\"dataframe\">\n",
       "  <thead>\n",
       "    <tr style=\"text-align: right;\">\n",
       "      <th></th>\n",
       "      <th>Indicator Name</th>\n",
       "      <th>Country</th>\n",
       "      <th>Year</th>\n",
       "      <th>Value_x</th>\n",
       "      <th>N°</th>\n",
       "      <th>Series</th>\n",
       "      <th>Value_y</th>\n",
       "      <th>Footnotes</th>\n",
       "      <th>Source</th>\n",
       "    </tr>\n",
       "  </thead>\n",
       "  <tbody>\n",
       "    <tr>\n",
       "      <th>4</th>\n",
       "      <td>Consumer price index, growth rate (%)</td>\n",
       "      <td>Albania</td>\n",
       "      <td>2019</td>\n",
       "      <td>1.4</td>\n",
       "      <td>8</td>\n",
       "      <td>Emissions per capita (metric tons of carbon di...</td>\n",
       "      <td>1.4</td>\n",
       "      <td>NaN</td>\n",
       "      <td>International Energy Agency, IEA World Energy ...</td>\n",
       "    </tr>\n",
       "    <tr>\n",
       "      <th>10</th>\n",
       "      <td>Consumer price index, growth rate (%)</td>\n",
       "      <td>Armenia</td>\n",
       "      <td>2019</td>\n",
       "      <td>1.4</td>\n",
       "      <td>51</td>\n",
       "      <td>Emissions per capita (metric tons of carbon di...</td>\n",
       "      <td>2.0</td>\n",
       "      <td>NaN</td>\n",
       "      <td>International Energy Agency, IEA World Energy ...</td>\n",
       "    </tr>\n",
       "    <tr>\n",
       "      <th>16</th>\n",
       "      <td>Consumer price index, growth rate (%)</td>\n",
       "      <td>Austria</td>\n",
       "      <td>2019</td>\n",
       "      <td>1.5</td>\n",
       "      <td>40</td>\n",
       "      <td>Emissions per capita (metric tons of carbon di...</td>\n",
       "      <td>7.1</td>\n",
       "      <td>NaN</td>\n",
       "      <td>International Energy Agency, IEA World Energy ...</td>\n",
       "    </tr>\n",
       "    <tr>\n",
       "      <th>22</th>\n",
       "      <td>Consumer price index, growth rate (%)</td>\n",
       "      <td>Azerbaijan</td>\n",
       "      <td>2019</td>\n",
       "      <td>2.6</td>\n",
       "      <td>31</td>\n",
       "      <td>Emissions per capita (metric tons of carbon di...</td>\n",
       "      <td>3.4</td>\n",
       "      <td>NaN</td>\n",
       "      <td>International Energy Agency, IEA World Energy ...</td>\n",
       "    </tr>\n",
       "    <tr>\n",
       "      <th>28</th>\n",
       "      <td>Consumer price index, growth rate (%)</td>\n",
       "      <td>Belarus</td>\n",
       "      <td>2019</td>\n",
       "      <td>5.6</td>\n",
       "      <td>112</td>\n",
       "      <td>Emissions per capita (metric tons of carbon di...</td>\n",
       "      <td>5.9</td>\n",
       "      <td>NaN</td>\n",
       "      <td>International Energy Agency, IEA World Energy ...</td>\n",
       "    </tr>\n",
       "    <tr>\n",
       "      <th>34</th>\n",
       "      <td>Consumer price index, growth rate (%)</td>\n",
       "      <td>Belgium</td>\n",
       "      <td>2019</td>\n",
       "      <td>1.4</td>\n",
       "      <td>56</td>\n",
       "      <td>Emissions per capita (metric tons of carbon di...</td>\n",
       "      <td>7.9</td>\n",
       "      <td>NaN</td>\n",
       "      <td>International Energy Agency, IEA World Energy ...</td>\n",
       "    </tr>\n",
       "    <tr>\n",
       "      <th>40</th>\n",
       "      <td>Consumer price index, growth rate (%)</td>\n",
       "      <td>Bosnia and Herzegovina</td>\n",
       "      <td>2019</td>\n",
       "      <td>0.8</td>\n",
       "      <td>70</td>\n",
       "      <td>Emissions per capita (metric tons of carbon di...</td>\n",
       "      <td>6.3</td>\n",
       "      <td>NaN</td>\n",
       "      <td>International Energy Agency, IEA World Energy ...</td>\n",
       "    </tr>\n",
       "    <tr>\n",
       "      <th>46</th>\n",
       "      <td>Consumer price index, growth rate (%)</td>\n",
       "      <td>Bulgaria</td>\n",
       "      <td>2019</td>\n",
       "      <td>3.1</td>\n",
       "      <td>100</td>\n",
       "      <td>Emissions per capita (metric tons of carbon di...</td>\n",
       "      <td>5.5</td>\n",
       "      <td>NaN</td>\n",
       "      <td>International Energy Agency, IEA World Energy ...</td>\n",
       "    </tr>\n",
       "    <tr>\n",
       "      <th>52</th>\n",
       "      <td>Consumer price index, growth rate (%)</td>\n",
       "      <td>Canada</td>\n",
       "      <td>2019</td>\n",
       "      <td>1.9</td>\n",
       "      <td>124</td>\n",
       "      <td>Emissions per capita (metric tons of carbon di...</td>\n",
       "      <td>14.8</td>\n",
       "      <td>NaN</td>\n",
       "      <td>International Energy Agency, IEA World Energy ...</td>\n",
       "    </tr>\n",
       "    <tr>\n",
       "      <th>58</th>\n",
       "      <td>Consumer price index, growth rate (%)</td>\n",
       "      <td>Croatia</td>\n",
       "      <td>2019</td>\n",
       "      <td>0.8</td>\n",
       "      <td>191</td>\n",
       "      <td>Emissions per capita (metric tons of carbon di...</td>\n",
       "      <td>3.8</td>\n",
       "      <td>NaN</td>\n",
       "      <td>International Energy Agency, IEA World Energy ...</td>\n",
       "    </tr>\n",
       "    <tr>\n",
       "      <th>64</th>\n",
       "      <td>Consumer price index, growth rate (%)</td>\n",
       "      <td>Cyprus</td>\n",
       "      <td>2019</td>\n",
       "      <td>0.2</td>\n",
       "      <td>196</td>\n",
       "      <td>Emissions per capita (metric tons of carbon di...</td>\n",
       "      <td>7.3</td>\n",
       "      <td>Excluding northern Cyprus.</td>\n",
       "      <td>International Energy Agency, IEA World Energy ...</td>\n",
       "    </tr>\n",
       "    <tr>\n",
       "      <th>70</th>\n",
       "      <td>Consumer price index, growth rate (%)</td>\n",
       "      <td>Czechia</td>\n",
       "      <td>2019</td>\n",
       "      <td>2.8</td>\n",
       "      <td>203</td>\n",
       "      <td>Emissions per capita (metric tons of carbon di...</td>\n",
       "      <td>9.0</td>\n",
       "      <td>Refers to Czechia and Slovakia.</td>\n",
       "      <td>International Energy Agency, IEA World Energy ...</td>\n",
       "    </tr>\n",
       "    <tr>\n",
       "      <th>76</th>\n",
       "      <td>Consumer price index, growth rate (%)</td>\n",
       "      <td>Denmark</td>\n",
       "      <td>2019</td>\n",
       "      <td>0.8</td>\n",
       "      <td>208</td>\n",
       "      <td>Emissions per capita (metric tons of carbon di...</td>\n",
       "      <td>4.9</td>\n",
       "      <td>Excluding the Faroe Islands and Greenland.</td>\n",
       "      <td>International Energy Agency, IEA World Energy ...</td>\n",
       "    </tr>\n",
       "    <tr>\n",
       "      <th>82</th>\n",
       "      <td>Consumer price index, growth rate (%)</td>\n",
       "      <td>Estonia</td>\n",
       "      <td>2019</td>\n",
       "      <td>2.3</td>\n",
       "      <td>233</td>\n",
       "      <td>Emissions per capita (metric tons of carbon di...</td>\n",
       "      <td>7.4</td>\n",
       "      <td>NaN</td>\n",
       "      <td>International Energy Agency, IEA World Energy ...</td>\n",
       "    </tr>\n",
       "    <tr>\n",
       "      <th>88</th>\n",
       "      <td>Consumer price index, growth rate (%)</td>\n",
       "      <td>Finland</td>\n",
       "      <td>2019</td>\n",
       "      <td>1.0</td>\n",
       "      <td>246</td>\n",
       "      <td>Emissions per capita (metric tons of carbon di...</td>\n",
       "      <td>7.3</td>\n",
       "      <td>NaN</td>\n",
       "      <td>International Energy Agency, IEA World Energy ...</td>\n",
       "    </tr>\n",
       "    <tr>\n",
       "      <th>94</th>\n",
       "      <td>Consumer price index, growth rate (%)</td>\n",
       "      <td>France</td>\n",
       "      <td>2019</td>\n",
       "      <td>1.1</td>\n",
       "      <td>250</td>\n",
       "      <td>Emissions per capita (metric tons of carbon di...</td>\n",
       "      <td>4.3</td>\n",
       "      <td>From 2011 onwards, data include Monaco, and th...</td>\n",
       "      <td>International Energy Agency, IEA World Energy ...</td>\n",
       "    </tr>\n",
       "    <tr>\n",
       "      <th>100</th>\n",
       "      <td>Consumer price index, growth rate (%)</td>\n",
       "      <td>Georgia</td>\n",
       "      <td>2019</td>\n",
       "      <td>4.9</td>\n",
       "      <td>268</td>\n",
       "      <td>Emissions per capita (metric tons of carbon di...</td>\n",
       "      <td>2.6</td>\n",
       "      <td>NaN</td>\n",
       "      <td>International Energy Agency, IEA World Energy ...</td>\n",
       "    </tr>\n",
       "    <tr>\n",
       "      <th>106</th>\n",
       "      <td>Consumer price index, growth rate (%)</td>\n",
       "      <td>Germany</td>\n",
       "      <td>2019</td>\n",
       "      <td>1.4</td>\n",
       "      <td>276</td>\n",
       "      <td>Emissions per capita (metric tons of carbon di...</td>\n",
       "      <td>7.8</td>\n",
       "      <td>NaN</td>\n",
       "      <td>International Energy Agency, IEA World Energy ...</td>\n",
       "    </tr>\n",
       "    <tr>\n",
       "      <th>112</th>\n",
       "      <td>Consumer price index, growth rate (%)</td>\n",
       "      <td>Greece</td>\n",
       "      <td>2019</td>\n",
       "      <td>0.3</td>\n",
       "      <td>300</td>\n",
       "      <td>Emissions per capita (metric tons of carbon di...</td>\n",
       "      <td>5.3</td>\n",
       "      <td>NaN</td>\n",
       "      <td>International Energy Agency, IEA World Energy ...</td>\n",
       "    </tr>\n",
       "    <tr>\n",
       "      <th>118</th>\n",
       "      <td>Consumer price index, growth rate (%)</td>\n",
       "      <td>Hungary</td>\n",
       "      <td>2019</td>\n",
       "      <td>3.3</td>\n",
       "      <td>348</td>\n",
       "      <td>Emissions per capita (metric tons of carbon di...</td>\n",
       "      <td>4.7</td>\n",
       "      <td>NaN</td>\n",
       "      <td>International Energy Agency, IEA World Energy ...</td>\n",
       "    </tr>\n",
       "    <tr>\n",
       "      <th>124</th>\n",
       "      <td>Consumer price index, growth rate (%)</td>\n",
       "      <td>Iceland</td>\n",
       "      <td>2019</td>\n",
       "      <td>3.0</td>\n",
       "      <td>352</td>\n",
       "      <td>Emissions per capita (metric tons of carbon di...</td>\n",
       "      <td>4.5</td>\n",
       "      <td>NaN</td>\n",
       "      <td>International Energy Agency, IEA World Energy ...</td>\n",
       "    </tr>\n",
       "    <tr>\n",
       "      <th>130</th>\n",
       "      <td>Consumer price index, growth rate (%)</td>\n",
       "      <td>Ireland</td>\n",
       "      <td>2019</td>\n",
       "      <td>0.9</td>\n",
       "      <td>372</td>\n",
       "      <td>Emissions per capita (metric tons of carbon di...</td>\n",
       "      <td>6.9</td>\n",
       "      <td>NaN</td>\n",
       "      <td>International Energy Agency, IEA World Energy ...</td>\n",
       "    </tr>\n",
       "    <tr>\n",
       "      <th>136</th>\n",
       "      <td>Consumer price index, growth rate (%)</td>\n",
       "      <td>Israel</td>\n",
       "      <td>2019</td>\n",
       "      <td>0.8</td>\n",
       "      <td>376</td>\n",
       "      <td>Emissions per capita (metric tons of carbon di...</td>\n",
       "      <td>6.8</td>\n",
       "      <td>NaN</td>\n",
       "      <td>International Energy Agency, IEA World Energy ...</td>\n",
       "    </tr>\n",
       "    <tr>\n",
       "      <th>142</th>\n",
       "      <td>Consumer price index, growth rate (%)</td>\n",
       "      <td>Italy</td>\n",
       "      <td>2019</td>\n",
       "      <td>0.6</td>\n",
       "      <td>380</td>\n",
       "      <td>Emissions per capita (metric tons of carbon di...</td>\n",
       "      <td>5.2</td>\n",
       "      <td>Data include San Marino and the Holy See.</td>\n",
       "      <td>International Energy Agency, IEA World Energy ...</td>\n",
       "    </tr>\n",
       "    <tr>\n",
       "      <th>148</th>\n",
       "      <td>Consumer price index, growth rate (%)</td>\n",
       "      <td>Kazakhstan</td>\n",
       "      <td>2019</td>\n",
       "      <td>5.2</td>\n",
       "      <td>398</td>\n",
       "      <td>Emissions per capita (metric tons of carbon di...</td>\n",
       "      <td>10.7</td>\n",
       "      <td>NaN</td>\n",
       "      <td>International Energy Agency, IEA World Energy ...</td>\n",
       "    </tr>\n",
       "    <tr>\n",
       "      <th>154</th>\n",
       "      <td>Consumer price index, growth rate (%)</td>\n",
       "      <td>Kyrgyzstan</td>\n",
       "      <td>2019</td>\n",
       "      <td>1.1</td>\n",
       "      <td>417</td>\n",
       "      <td>Emissions per capita (metric tons of carbon di...</td>\n",
       "      <td>1.4</td>\n",
       "      <td>NaN</td>\n",
       "      <td>International Energy Agency, IEA World Energy ...</td>\n",
       "    </tr>\n",
       "    <tr>\n",
       "      <th>160</th>\n",
       "      <td>Consumer price index, growth rate (%)</td>\n",
       "      <td>Latvia</td>\n",
       "      <td>2019</td>\n",
       "      <td>2.8</td>\n",
       "      <td>428</td>\n",
       "      <td>Emissions per capita (metric tons of carbon di...</td>\n",
       "      <td>3.7</td>\n",
       "      <td>NaN</td>\n",
       "      <td>International Energy Agency, IEA World Energy ...</td>\n",
       "    </tr>\n",
       "    <tr>\n",
       "      <th>166</th>\n",
       "      <td>Consumer price index, growth rate (%)</td>\n",
       "      <td>Lithuania</td>\n",
       "      <td>2019</td>\n",
       "      <td>2.3</td>\n",
       "      <td>440</td>\n",
       "      <td>Emissions per capita (metric tons of carbon di...</td>\n",
       "      <td>4.0</td>\n",
       "      <td>NaN</td>\n",
       "      <td>International Energy Agency, IEA World Energy ...</td>\n",
       "    </tr>\n",
       "    <tr>\n",
       "      <th>172</th>\n",
       "      <td>Consumer price index, growth rate (%)</td>\n",
       "      <td>Luxembourg</td>\n",
       "      <td>2019</td>\n",
       "      <td>1.7</td>\n",
       "      <td>442</td>\n",
       "      <td>Emissions per capita (metric tons of carbon di...</td>\n",
       "      <td>14.6</td>\n",
       "      <td>NaN</td>\n",
       "      <td>International Energy Agency, IEA World Energy ...</td>\n",
       "    </tr>\n",
       "    <tr>\n",
       "      <th>178</th>\n",
       "      <td>Consumer price index, growth rate (%)</td>\n",
       "      <td>Malta</td>\n",
       "      <td>2019</td>\n",
       "      <td>1.6</td>\n",
       "      <td>470</td>\n",
       "      <td>Emissions per capita (metric tons of carbon di...</td>\n",
       "      <td>3.3</td>\n",
       "      <td>NaN</td>\n",
       "      <td>International Energy Agency, IEA World Energy ...</td>\n",
       "    </tr>\n",
       "    <tr>\n",
       "      <th>184</th>\n",
       "      <td>Consumer price index, growth rate (%)</td>\n",
       "      <td>Montenegro</td>\n",
       "      <td>2019</td>\n",
       "      <td>0.4</td>\n",
       "      <td>499</td>\n",
       "      <td>Emissions per capita (metric tons of carbon di...</td>\n",
       "      <td>4.2</td>\n",
       "      <td>NaN</td>\n",
       "      <td>International Energy Agency, IEA World Energy ...</td>\n",
       "    </tr>\n",
       "    <tr>\n",
       "      <th>190</th>\n",
       "      <td>Consumer price index, growth rate (%)</td>\n",
       "      <td>North Macedonia</td>\n",
       "      <td>2019</td>\n",
       "      <td>0.8</td>\n",
       "      <td>807</td>\n",
       "      <td>Emissions per capita (metric tons of carbon di...</td>\n",
       "      <td>3.8</td>\n",
       "      <td>NaN</td>\n",
       "      <td>International Energy Agency, IEA World Energy ...</td>\n",
       "    </tr>\n",
       "    <tr>\n",
       "      <th>196</th>\n",
       "      <td>Consumer price index, growth rate (%)</td>\n",
       "      <td>Norway</td>\n",
       "      <td>2019</td>\n",
       "      <td>2.2</td>\n",
       "      <td>578</td>\n",
       "      <td>Emissions per capita (metric tons of carbon di...</td>\n",
       "      <td>6.8</td>\n",
       "      <td>NaN</td>\n",
       "      <td>International Energy Agency, IEA World Energy ...</td>\n",
       "    </tr>\n",
       "    <tr>\n",
       "      <th>202</th>\n",
       "      <td>Consumer price index, growth rate (%)</td>\n",
       "      <td>Poland</td>\n",
       "      <td>2019</td>\n",
       "      <td>2.2</td>\n",
       "      <td>616</td>\n",
       "      <td>Emissions per capita (metric tons of carbon di...</td>\n",
       "      <td>7.5</td>\n",
       "      <td>NaN</td>\n",
       "      <td>International Energy Agency, IEA World Energy ...</td>\n",
       "    </tr>\n",
       "    <tr>\n",
       "      <th>208</th>\n",
       "      <td>Consumer price index, growth rate (%)</td>\n",
       "      <td>Portugal</td>\n",
       "      <td>2019</td>\n",
       "      <td>0.3</td>\n",
       "      <td>620</td>\n",
       "      <td>Emissions per capita (metric tons of carbon di...</td>\n",
       "      <td>4.1</td>\n",
       "      <td>Data includes the Azores and Madeira.</td>\n",
       "      <td>International Energy Agency, IEA World Energy ...</td>\n",
       "    </tr>\n",
       "    <tr>\n",
       "      <th>214</th>\n",
       "      <td>Consumer price index, growth rate (%)</td>\n",
       "      <td>Republic of Moldova</td>\n",
       "      <td>2019</td>\n",
       "      <td>4.8</td>\n",
       "      <td>498</td>\n",
       "      <td>Emissions per capita (metric tons of carbon di...</td>\n",
       "      <td>3.1</td>\n",
       "      <td>NaN</td>\n",
       "      <td>International Energy Agency, IEA World Energy ...</td>\n",
       "    </tr>\n",
       "    <tr>\n",
       "      <th>220</th>\n",
       "      <td>Consumer price index, growth rate (%)</td>\n",
       "      <td>Romania</td>\n",
       "      <td>2019</td>\n",
       "      <td>3.8</td>\n",
       "      <td>642</td>\n",
       "      <td>Emissions per capita (metric tons of carbon di...</td>\n",
       "      <td>3.6</td>\n",
       "      <td>NaN</td>\n",
       "      <td>International Energy Agency, IEA World Energy ...</td>\n",
       "    </tr>\n",
       "    <tr>\n",
       "      <th>232</th>\n",
       "      <td>Consumer price index, growth rate (%)</td>\n",
       "      <td>Serbia</td>\n",
       "      <td>2019</td>\n",
       "      <td>1.8</td>\n",
       "      <td>688</td>\n",
       "      <td>Emissions per capita (metric tons of carbon di...</td>\n",
       "      <td>6.5</td>\n",
       "      <td>NaN</td>\n",
       "      <td>International Energy Agency, IEA World Energy ...</td>\n",
       "    </tr>\n",
       "    <tr>\n",
       "      <th>238</th>\n",
       "      <td>Consumer price index, growth rate (%)</td>\n",
       "      <td>Slovakia</td>\n",
       "      <td>2019</td>\n",
       "      <td>2.7</td>\n",
       "      <td>703</td>\n",
       "      <td>Emissions per capita (metric tons of carbon di...</td>\n",
       "      <td>5.4</td>\n",
       "      <td>NaN</td>\n",
       "      <td>International Energy Agency, IEA World Energy ...</td>\n",
       "    </tr>\n",
       "    <tr>\n",
       "      <th>244</th>\n",
       "      <td>Consumer price index, growth rate (%)</td>\n",
       "      <td>Slovenia</td>\n",
       "      <td>2019</td>\n",
       "      <td>1.6</td>\n",
       "      <td>705</td>\n",
       "      <td>Emissions per capita (metric tons of carbon di...</td>\n",
       "      <td>6.3</td>\n",
       "      <td>NaN</td>\n",
       "      <td>International Energy Agency, IEA World Energy ...</td>\n",
       "    </tr>\n",
       "    <tr>\n",
       "      <th>250</th>\n",
       "      <td>Consumer price index, growth rate (%)</td>\n",
       "      <td>Spain</td>\n",
       "      <td>2019</td>\n",
       "      <td>0.7</td>\n",
       "      <td>724</td>\n",
       "      <td>Emissions per capita (metric tons of carbon di...</td>\n",
       "      <td>4.9</td>\n",
       "      <td>NaN</td>\n",
       "      <td>International Energy Agency, IEA World Energy ...</td>\n",
       "    </tr>\n",
       "    <tr>\n",
       "      <th>256</th>\n",
       "      <td>Consumer price index, growth rate (%)</td>\n",
       "      <td>Sweden</td>\n",
       "      <td>2019</td>\n",
       "      <td>1.8</td>\n",
       "      <td>752</td>\n",
       "      <td>Emissions per capita (metric tons of carbon di...</td>\n",
       "      <td>3.3</td>\n",
       "      <td>NaN</td>\n",
       "      <td>International Energy Agency, IEA World Energy ...</td>\n",
       "    </tr>\n",
       "    <tr>\n",
       "      <th>262</th>\n",
       "      <td>Consumer price index, growth rate (%)</td>\n",
       "      <td>Switzerland</td>\n",
       "      <td>2019</td>\n",
       "      <td>0.4</td>\n",
       "      <td>756</td>\n",
       "      <td>Emissions per capita (metric tons of carbon di...</td>\n",
       "      <td>4.2</td>\n",
       "      <td>NaN</td>\n",
       "      <td>International Energy Agency, IEA World Energy ...</td>\n",
       "    </tr>\n",
       "    <tr>\n",
       "      <th>268</th>\n",
       "      <td>Consumer price index, growth rate (%)</td>\n",
       "      <td>Tajikistan</td>\n",
       "      <td>2019</td>\n",
       "      <td>7.8</td>\n",
       "      <td>762</td>\n",
       "      <td>Emissions per capita (metric tons of carbon di...</td>\n",
       "      <td>0.7</td>\n",
       "      <td>NaN</td>\n",
       "      <td>International Energy Agency, IEA World Energy ...</td>\n",
       "    </tr>\n",
       "    <tr>\n",
       "      <th>274</th>\n",
       "      <td>Consumer price index, growth rate (%)</td>\n",
       "      <td>Ukraine</td>\n",
       "      <td>2019</td>\n",
       "      <td>7.9</td>\n",
       "      <td>804</td>\n",
       "      <td>Emissions per capita (metric tons of carbon di...</td>\n",
       "      <td>3.8</td>\n",
       "      <td>The Government of Ukraine has informed the Uni...</td>\n",
       "      <td>International Energy Agency, IEA World Energy ...</td>\n",
       "    </tr>\n",
       "    <tr>\n",
       "      <th>280</th>\n",
       "      <td>Consumer price index, growth rate (%)</td>\n",
       "      <td>United Kingdom</td>\n",
       "      <td>2019</td>\n",
       "      <td>1.7</td>\n",
       "      <td>826</td>\n",
       "      <td>Emissions per capita (metric tons of carbon di...</td>\n",
       "      <td>5.1</td>\n",
       "      <td>NaN</td>\n",
       "      <td>International Energy Agency, IEA World Energy ...</td>\n",
       "    </tr>\n",
       "    <tr>\n",
       "      <th>286</th>\n",
       "      <td>Consumer price index, growth rate (%)</td>\n",
       "      <td>Uzbekistan</td>\n",
       "      <td>2019</td>\n",
       "      <td>14.5</td>\n",
       "      <td>860</td>\n",
       "      <td>Emissions per capita (metric tons of carbon di...</td>\n",
       "      <td>3.3</td>\n",
       "      <td>NaN</td>\n",
       "      <td>International Energy Agency, IEA World Energy ...</td>\n",
       "    </tr>\n",
       "  </tbody>\n",
       "</table>\n",
       "</div>"
      ],
      "text/plain": [
       "                            Indicator Name                 Country  Year  \\\n",
       "4    Consumer price index, growth rate (%)                 Albania  2019   \n",
       "10   Consumer price index, growth rate (%)                 Armenia  2019   \n",
       "16   Consumer price index, growth rate (%)                 Austria  2019   \n",
       "22   Consumer price index, growth rate (%)              Azerbaijan  2019   \n",
       "28   Consumer price index, growth rate (%)                 Belarus  2019   \n",
       "34   Consumer price index, growth rate (%)                 Belgium  2019   \n",
       "40   Consumer price index, growth rate (%)  Bosnia and Herzegovina  2019   \n",
       "46   Consumer price index, growth rate (%)                Bulgaria  2019   \n",
       "52   Consumer price index, growth rate (%)                  Canada  2019   \n",
       "58   Consumer price index, growth rate (%)                 Croatia  2019   \n",
       "64   Consumer price index, growth rate (%)                  Cyprus  2019   \n",
       "70   Consumer price index, growth rate (%)                 Czechia  2019   \n",
       "76   Consumer price index, growth rate (%)                 Denmark  2019   \n",
       "82   Consumer price index, growth rate (%)                 Estonia  2019   \n",
       "88   Consumer price index, growth rate (%)                 Finland  2019   \n",
       "94   Consumer price index, growth rate (%)                  France  2019   \n",
       "100  Consumer price index, growth rate (%)                 Georgia  2019   \n",
       "106  Consumer price index, growth rate (%)                 Germany  2019   \n",
       "112  Consumer price index, growth rate (%)                  Greece  2019   \n",
       "118  Consumer price index, growth rate (%)                 Hungary  2019   \n",
       "124  Consumer price index, growth rate (%)                 Iceland  2019   \n",
       "130  Consumer price index, growth rate (%)                 Ireland  2019   \n",
       "136  Consumer price index, growth rate (%)                  Israel  2019   \n",
       "142  Consumer price index, growth rate (%)                   Italy  2019   \n",
       "148  Consumer price index, growth rate (%)              Kazakhstan  2019   \n",
       "154  Consumer price index, growth rate (%)              Kyrgyzstan  2019   \n",
       "160  Consumer price index, growth rate (%)                  Latvia  2019   \n",
       "166  Consumer price index, growth rate (%)               Lithuania  2019   \n",
       "172  Consumer price index, growth rate (%)              Luxembourg  2019   \n",
       "178  Consumer price index, growth rate (%)                   Malta  2019   \n",
       "184  Consumer price index, growth rate (%)              Montenegro  2019   \n",
       "190  Consumer price index, growth rate (%)         North Macedonia  2019   \n",
       "196  Consumer price index, growth rate (%)                  Norway  2019   \n",
       "202  Consumer price index, growth rate (%)                  Poland  2019   \n",
       "208  Consumer price index, growth rate (%)                Portugal  2019   \n",
       "214  Consumer price index, growth rate (%)     Republic of Moldova  2019   \n",
       "220  Consumer price index, growth rate (%)                 Romania  2019   \n",
       "232  Consumer price index, growth rate (%)                  Serbia  2019   \n",
       "238  Consumer price index, growth rate (%)                Slovakia  2019   \n",
       "244  Consumer price index, growth rate (%)                Slovenia  2019   \n",
       "250  Consumer price index, growth rate (%)                   Spain  2019   \n",
       "256  Consumer price index, growth rate (%)                  Sweden  2019   \n",
       "262  Consumer price index, growth rate (%)             Switzerland  2019   \n",
       "268  Consumer price index, growth rate (%)              Tajikistan  2019   \n",
       "274  Consumer price index, growth rate (%)                 Ukraine  2019   \n",
       "280  Consumer price index, growth rate (%)          United Kingdom  2019   \n",
       "286  Consumer price index, growth rate (%)              Uzbekistan  2019   \n",
       "\n",
       "     Value_x   N°                                             Series  Value_y  \\\n",
       "4        1.4    8  Emissions per capita (metric tons of carbon di...      1.4   \n",
       "10       1.4   51  Emissions per capita (metric tons of carbon di...      2.0   \n",
       "16       1.5   40  Emissions per capita (metric tons of carbon di...      7.1   \n",
       "22       2.6   31  Emissions per capita (metric tons of carbon di...      3.4   \n",
       "28       5.6  112  Emissions per capita (metric tons of carbon di...      5.9   \n",
       "34       1.4   56  Emissions per capita (metric tons of carbon di...      7.9   \n",
       "40       0.8   70  Emissions per capita (metric tons of carbon di...      6.3   \n",
       "46       3.1  100  Emissions per capita (metric tons of carbon di...      5.5   \n",
       "52       1.9  124  Emissions per capita (metric tons of carbon di...     14.8   \n",
       "58       0.8  191  Emissions per capita (metric tons of carbon di...      3.8   \n",
       "64       0.2  196  Emissions per capita (metric tons of carbon di...      7.3   \n",
       "70       2.8  203  Emissions per capita (metric tons of carbon di...      9.0   \n",
       "76       0.8  208  Emissions per capita (metric tons of carbon di...      4.9   \n",
       "82       2.3  233  Emissions per capita (metric tons of carbon di...      7.4   \n",
       "88       1.0  246  Emissions per capita (metric tons of carbon di...      7.3   \n",
       "94       1.1  250  Emissions per capita (metric tons of carbon di...      4.3   \n",
       "100      4.9  268  Emissions per capita (metric tons of carbon di...      2.6   \n",
       "106      1.4  276  Emissions per capita (metric tons of carbon di...      7.8   \n",
       "112      0.3  300  Emissions per capita (metric tons of carbon di...      5.3   \n",
       "118      3.3  348  Emissions per capita (metric tons of carbon di...      4.7   \n",
       "124      3.0  352  Emissions per capita (metric tons of carbon di...      4.5   \n",
       "130      0.9  372  Emissions per capita (metric tons of carbon di...      6.9   \n",
       "136      0.8  376  Emissions per capita (metric tons of carbon di...      6.8   \n",
       "142      0.6  380  Emissions per capita (metric tons of carbon di...      5.2   \n",
       "148      5.2  398  Emissions per capita (metric tons of carbon di...     10.7   \n",
       "154      1.1  417  Emissions per capita (metric tons of carbon di...      1.4   \n",
       "160      2.8  428  Emissions per capita (metric tons of carbon di...      3.7   \n",
       "166      2.3  440  Emissions per capita (metric tons of carbon di...      4.0   \n",
       "172      1.7  442  Emissions per capita (metric tons of carbon di...     14.6   \n",
       "178      1.6  470  Emissions per capita (metric tons of carbon di...      3.3   \n",
       "184      0.4  499  Emissions per capita (metric tons of carbon di...      4.2   \n",
       "190      0.8  807  Emissions per capita (metric tons of carbon di...      3.8   \n",
       "196      2.2  578  Emissions per capita (metric tons of carbon di...      6.8   \n",
       "202      2.2  616  Emissions per capita (metric tons of carbon di...      7.5   \n",
       "208      0.3  620  Emissions per capita (metric tons of carbon di...      4.1   \n",
       "214      4.8  498  Emissions per capita (metric tons of carbon di...      3.1   \n",
       "220      3.8  642  Emissions per capita (metric tons of carbon di...      3.6   \n",
       "232      1.8  688  Emissions per capita (metric tons of carbon di...      6.5   \n",
       "238      2.7  703  Emissions per capita (metric tons of carbon di...      5.4   \n",
       "244      1.6  705  Emissions per capita (metric tons of carbon di...      6.3   \n",
       "250      0.7  724  Emissions per capita (metric tons of carbon di...      4.9   \n",
       "256      1.8  752  Emissions per capita (metric tons of carbon di...      3.3   \n",
       "262      0.4  756  Emissions per capita (metric tons of carbon di...      4.2   \n",
       "268      7.8  762  Emissions per capita (metric tons of carbon di...      0.7   \n",
       "274      7.9  804  Emissions per capita (metric tons of carbon di...      3.8   \n",
       "280      1.7  826  Emissions per capita (metric tons of carbon di...      5.1   \n",
       "286     14.5  860  Emissions per capita (metric tons of carbon di...      3.3   \n",
       "\n",
       "                                             Footnotes  \\\n",
       "4                                                  NaN   \n",
       "10                                                 NaN   \n",
       "16                                                 NaN   \n",
       "22                                                 NaN   \n",
       "28                                                 NaN   \n",
       "34                                                 NaN   \n",
       "40                                                 NaN   \n",
       "46                                                 NaN   \n",
       "52                                                 NaN   \n",
       "58                                                 NaN   \n",
       "64                          Excluding northern Cyprus.   \n",
       "70                     Refers to Czechia and Slovakia.   \n",
       "76          Excluding the Faroe Islands and Greenland.   \n",
       "82                                                 NaN   \n",
       "88                                                 NaN   \n",
       "94   From 2011 onwards, data include Monaco, and th...   \n",
       "100                                                NaN   \n",
       "106                                                NaN   \n",
       "112                                                NaN   \n",
       "118                                                NaN   \n",
       "124                                                NaN   \n",
       "130                                                NaN   \n",
       "136                                                NaN   \n",
       "142          Data include San Marino and the Holy See.   \n",
       "148                                                NaN   \n",
       "154                                                NaN   \n",
       "160                                                NaN   \n",
       "166                                                NaN   \n",
       "172                                                NaN   \n",
       "178                                                NaN   \n",
       "184                                                NaN   \n",
       "190                                                NaN   \n",
       "196                                                NaN   \n",
       "202                                                NaN   \n",
       "208              Data includes the Azores and Madeira.   \n",
       "214                                                NaN   \n",
       "220                                                NaN   \n",
       "232                                                NaN   \n",
       "238                                                NaN   \n",
       "244                                                NaN   \n",
       "250                                                NaN   \n",
       "256                                                NaN   \n",
       "262                                                NaN   \n",
       "268                                                NaN   \n",
       "274  The Government of Ukraine has informed the Uni...   \n",
       "280                                                NaN   \n",
       "286                                                NaN   \n",
       "\n",
       "                                                Source  \n",
       "4    International Energy Agency, IEA World Energy ...  \n",
       "10   International Energy Agency, IEA World Energy ...  \n",
       "16   International Energy Agency, IEA World Energy ...  \n",
       "22   International Energy Agency, IEA World Energy ...  \n",
       "28   International Energy Agency, IEA World Energy ...  \n",
       "34   International Energy Agency, IEA World Energy ...  \n",
       "40   International Energy Agency, IEA World Energy ...  \n",
       "46   International Energy Agency, IEA World Energy ...  \n",
       "52   International Energy Agency, IEA World Energy ...  \n",
       "58   International Energy Agency, IEA World Energy ...  \n",
       "64   International Energy Agency, IEA World Energy ...  \n",
       "70   International Energy Agency, IEA World Energy ...  \n",
       "76   International Energy Agency, IEA World Energy ...  \n",
       "82   International Energy Agency, IEA World Energy ...  \n",
       "88   International Energy Agency, IEA World Energy ...  \n",
       "94   International Energy Agency, IEA World Energy ...  \n",
       "100  International Energy Agency, IEA World Energy ...  \n",
       "106  International Energy Agency, IEA World Energy ...  \n",
       "112  International Energy Agency, IEA World Energy ...  \n",
       "118  International Energy Agency, IEA World Energy ...  \n",
       "124  International Energy Agency, IEA World Energy ...  \n",
       "130  International Energy Agency, IEA World Energy ...  \n",
       "136  International Energy Agency, IEA World Energy ...  \n",
       "142  International Energy Agency, IEA World Energy ...  \n",
       "148  International Energy Agency, IEA World Energy ...  \n",
       "154  International Energy Agency, IEA World Energy ...  \n",
       "160  International Energy Agency, IEA World Energy ...  \n",
       "166  International Energy Agency, IEA World Energy ...  \n",
       "172  International Energy Agency, IEA World Energy ...  \n",
       "178  International Energy Agency, IEA World Energy ...  \n",
       "184  International Energy Agency, IEA World Energy ...  \n",
       "190  International Energy Agency, IEA World Energy ...  \n",
       "196  International Energy Agency, IEA World Energy ...  \n",
       "202  International Energy Agency, IEA World Energy ...  \n",
       "208  International Energy Agency, IEA World Energy ...  \n",
       "214  International Energy Agency, IEA World Energy ...  \n",
       "220  International Energy Agency, IEA World Energy ...  \n",
       "232  International Energy Agency, IEA World Energy ...  \n",
       "238  International Energy Agency, IEA World Energy ...  \n",
       "244  International Energy Agency, IEA World Energy ...  \n",
       "250  International Energy Agency, IEA World Energy ...  \n",
       "256  International Energy Agency, IEA World Energy ...  \n",
       "262  International Energy Agency, IEA World Energy ...  \n",
       "268  International Energy Agency, IEA World Energy ...  \n",
       "274  International Energy Agency, IEA World Energy ...  \n",
       "280  International Energy Agency, IEA World Energy ...  \n",
       "286  International Energy Agency, IEA World Energy ...  "
      ]
     },
     "execution_count": 34,
     "metadata": {},
     "output_type": "execute_result"
    }
   ],
   "source": [
    "#I have chosen only 2019 because after the 2020, the CPI experienced significant \n",
    "#disruptions due to COVID and later because of the war in Ukraine\n",
    "filtered_un_merged = un_merged[un_merged['Year'] == '2019']\n",
    "filtered_un_merged"
   ]
  },
  {
   "cell_type": "code",
   "execution_count": 35,
   "id": "01d2481d-4efd-4f00-95d3-5062dbc1f5e7",
   "metadata": {},
   "outputs": [],
   "source": [
    "#Conceptual (Hypotesis Test)\n",
    "#The higher the Consumer Price Index (CPI), the lower the CO2 emissions per country\n",
    "#Justification: Economies with a higher CPI usually have stronger economies capable of investing \n",
    "#in cleaner technologies compared to other countries. This would substantially reduce CO2 emissions.\n",
    "#Additionally, higher CPI economies often implement green practices that can incentivize a lower \n",
    "#carbon footprint."
   ]
  },
  {
   "cell_type": "code",
   "execution_count": 36,
   "id": "1f0625f7-0c20-4f48-bab9-1ce75571783d",
   "metadata": {},
   "outputs": [
    {
     "data": {
      "text/html": [
       "        <script type=\"text/javascript\">\n",
       "        window.PlotlyConfig = {MathJaxConfig: 'local'};\n",
       "        if (window.MathJax && window.MathJax.Hub && window.MathJax.Hub.Config) {window.MathJax.Hub.Config({SVG: {font: \"STIX-Web\"}});}\n",
       "        if (typeof require !== 'undefined') {\n",
       "        require.undef(\"plotly\");\n",
       "        requirejs.config({\n",
       "            paths: {\n",
       "                'plotly': ['https://cdn.plot.ly/plotly-2.32.0.min']\n",
       "            }\n",
       "        });\n",
       "        require(['plotly'], function(Plotly) {\n",
       "            window._Plotly = Plotly;\n",
       "        });\n",
       "        }\n",
       "        </script>\n",
       "        "
      ]
     },
     "metadata": {},
     "output_type": "display_data"
    },
    {
     "data": {
      "application/vnd.plotly.v1+json": {
       "config": {
        "plotlyServerURL": "https://plot.ly"
       },
       "data": [
        {
         "hovertemplate": "Country=Albania<br>Consumer Price=%{x}<br>Emissions per Capita=%{y}<extra></extra>",
         "legendgroup": "Albania",
         "marker": {
          "color": "#636efa",
          "symbol": "circle"
         },
         "mode": "markers",
         "name": "Albania",
         "orientation": "v",
         "showlegend": true,
         "type": "scatter",
         "x": [
          1.4
         ],
         "xaxis": "x",
         "y": [
          1.4
         ],
         "yaxis": "y"
        },
        {
         "hovertemplate": "Country=Armenia<br>Consumer Price=%{x}<br>Emissions per Capita=%{y}<extra></extra>",
         "legendgroup": "Armenia",
         "marker": {
          "color": "#EF553B",
          "symbol": "circle"
         },
         "mode": "markers",
         "name": "Armenia",
         "orientation": "v",
         "showlegend": true,
         "type": "scatter",
         "x": [
          1.4
         ],
         "xaxis": "x",
         "y": [
          2
         ],
         "yaxis": "y"
        },
        {
         "hovertemplate": "Country=Austria<br>Consumer Price=%{x}<br>Emissions per Capita=%{y}<extra></extra>",
         "legendgroup": "Austria",
         "marker": {
          "color": "#00cc96",
          "symbol": "circle"
         },
         "mode": "markers",
         "name": "Austria",
         "orientation": "v",
         "showlegend": true,
         "type": "scatter",
         "x": [
          1.5
         ],
         "xaxis": "x",
         "y": [
          7.1
         ],
         "yaxis": "y"
        },
        {
         "hovertemplate": "Country=Azerbaijan<br>Consumer Price=%{x}<br>Emissions per Capita=%{y}<extra></extra>",
         "legendgroup": "Azerbaijan",
         "marker": {
          "color": "#ab63fa",
          "symbol": "circle"
         },
         "mode": "markers",
         "name": "Azerbaijan",
         "orientation": "v",
         "showlegend": true,
         "type": "scatter",
         "x": [
          2.6
         ],
         "xaxis": "x",
         "y": [
          3.4
         ],
         "yaxis": "y"
        },
        {
         "hovertemplate": "Country=Belarus<br>Consumer Price=%{x}<br>Emissions per Capita=%{y}<extra></extra>",
         "legendgroup": "Belarus",
         "marker": {
          "color": "#FFA15A",
          "symbol": "circle"
         },
         "mode": "markers",
         "name": "Belarus",
         "orientation": "v",
         "showlegend": true,
         "type": "scatter",
         "x": [
          5.6
         ],
         "xaxis": "x",
         "y": [
          5.9
         ],
         "yaxis": "y"
        },
        {
         "hovertemplate": "Country=Belgium<br>Consumer Price=%{x}<br>Emissions per Capita=%{y}<extra></extra>",
         "legendgroup": "Belgium",
         "marker": {
          "color": "#19d3f3",
          "symbol": "circle"
         },
         "mode": "markers",
         "name": "Belgium",
         "orientation": "v",
         "showlegend": true,
         "type": "scatter",
         "x": [
          1.4
         ],
         "xaxis": "x",
         "y": [
          7.9
         ],
         "yaxis": "y"
        },
        {
         "hovertemplate": "Country=Bosnia and Herzegovina<br>Consumer Price=%{x}<br>Emissions per Capita=%{y}<extra></extra>",
         "legendgroup": "Bosnia and Herzegovina",
         "marker": {
          "color": "#FF6692",
          "symbol": "circle"
         },
         "mode": "markers",
         "name": "Bosnia and Herzegovina",
         "orientation": "v",
         "showlegend": true,
         "type": "scatter",
         "x": [
          0.8
         ],
         "xaxis": "x",
         "y": [
          6.3
         ],
         "yaxis": "y"
        },
        {
         "hovertemplate": "Country=Bulgaria<br>Consumer Price=%{x}<br>Emissions per Capita=%{y}<extra></extra>",
         "legendgroup": "Bulgaria",
         "marker": {
          "color": "#B6E880",
          "symbol": "circle"
         },
         "mode": "markers",
         "name": "Bulgaria",
         "orientation": "v",
         "showlegend": true,
         "type": "scatter",
         "x": [
          3.1
         ],
         "xaxis": "x",
         "y": [
          5.5
         ],
         "yaxis": "y"
        },
        {
         "hovertemplate": "Country=Canada<br>Consumer Price=%{x}<br>Emissions per Capita=%{y}<extra></extra>",
         "legendgroup": "Canada",
         "marker": {
          "color": "#FF97FF",
          "symbol": "circle"
         },
         "mode": "markers",
         "name": "Canada",
         "orientation": "v",
         "showlegend": true,
         "type": "scatter",
         "x": [
          1.9
         ],
         "xaxis": "x",
         "y": [
          14.8
         ],
         "yaxis": "y"
        },
        {
         "hovertemplate": "Country=Croatia<br>Consumer Price=%{x}<br>Emissions per Capita=%{y}<extra></extra>",
         "legendgroup": "Croatia",
         "marker": {
          "color": "#FECB52",
          "symbol": "circle"
         },
         "mode": "markers",
         "name": "Croatia",
         "orientation": "v",
         "showlegend": true,
         "type": "scatter",
         "x": [
          0.8
         ],
         "xaxis": "x",
         "y": [
          3.8
         ],
         "yaxis": "y"
        },
        {
         "hovertemplate": "Country=Cyprus<br>Consumer Price=%{x}<br>Emissions per Capita=%{y}<extra></extra>",
         "legendgroup": "Cyprus",
         "marker": {
          "color": "#636efa",
          "symbol": "circle"
         },
         "mode": "markers",
         "name": "Cyprus",
         "orientation": "v",
         "showlegend": true,
         "type": "scatter",
         "x": [
          0.2
         ],
         "xaxis": "x",
         "y": [
          7.3
         ],
         "yaxis": "y"
        },
        {
         "hovertemplate": "Country=Czechia<br>Consumer Price=%{x}<br>Emissions per Capita=%{y}<extra></extra>",
         "legendgroup": "Czechia",
         "marker": {
          "color": "#EF553B",
          "symbol": "circle"
         },
         "mode": "markers",
         "name": "Czechia",
         "orientation": "v",
         "showlegend": true,
         "type": "scatter",
         "x": [
          2.8
         ],
         "xaxis": "x",
         "y": [
          9
         ],
         "yaxis": "y"
        },
        {
         "hovertemplate": "Country=Denmark<br>Consumer Price=%{x}<br>Emissions per Capita=%{y}<extra></extra>",
         "legendgroup": "Denmark",
         "marker": {
          "color": "#00cc96",
          "symbol": "circle"
         },
         "mode": "markers",
         "name": "Denmark",
         "orientation": "v",
         "showlegend": true,
         "type": "scatter",
         "x": [
          0.8
         ],
         "xaxis": "x",
         "y": [
          4.9
         ],
         "yaxis": "y"
        },
        {
         "hovertemplate": "Country=Estonia<br>Consumer Price=%{x}<br>Emissions per Capita=%{y}<extra></extra>",
         "legendgroup": "Estonia",
         "marker": {
          "color": "#ab63fa",
          "symbol": "circle"
         },
         "mode": "markers",
         "name": "Estonia",
         "orientation": "v",
         "showlegend": true,
         "type": "scatter",
         "x": [
          2.3
         ],
         "xaxis": "x",
         "y": [
          7.4
         ],
         "yaxis": "y"
        },
        {
         "hovertemplate": "Country=Finland<br>Consumer Price=%{x}<br>Emissions per Capita=%{y}<extra></extra>",
         "legendgroup": "Finland",
         "marker": {
          "color": "#FFA15A",
          "symbol": "circle"
         },
         "mode": "markers",
         "name": "Finland",
         "orientation": "v",
         "showlegend": true,
         "type": "scatter",
         "x": [
          1
         ],
         "xaxis": "x",
         "y": [
          7.3
         ],
         "yaxis": "y"
        },
        {
         "hovertemplate": "Country=France<br>Consumer Price=%{x}<br>Emissions per Capita=%{y}<extra></extra>",
         "legendgroup": "France",
         "marker": {
          "color": "#19d3f3",
          "symbol": "circle"
         },
         "mode": "markers",
         "name": "France",
         "orientation": "v",
         "showlegend": true,
         "type": "scatter",
         "x": [
          1.1
         ],
         "xaxis": "x",
         "y": [
          4.3
         ],
         "yaxis": "y"
        },
        {
         "hovertemplate": "Country=Georgia<br>Consumer Price=%{x}<br>Emissions per Capita=%{y}<extra></extra>",
         "legendgroup": "Georgia",
         "marker": {
          "color": "#FF6692",
          "symbol": "circle"
         },
         "mode": "markers",
         "name": "Georgia",
         "orientation": "v",
         "showlegend": true,
         "type": "scatter",
         "x": [
          4.9
         ],
         "xaxis": "x",
         "y": [
          2.6
         ],
         "yaxis": "y"
        },
        {
         "hovertemplate": "Country=Germany<br>Consumer Price=%{x}<br>Emissions per Capita=%{y}<extra></extra>",
         "legendgroup": "Germany",
         "marker": {
          "color": "#B6E880",
          "symbol": "circle"
         },
         "mode": "markers",
         "name": "Germany",
         "orientation": "v",
         "showlegend": true,
         "type": "scatter",
         "x": [
          1.4
         ],
         "xaxis": "x",
         "y": [
          7.8
         ],
         "yaxis": "y"
        },
        {
         "hovertemplate": "Country=Greece<br>Consumer Price=%{x}<br>Emissions per Capita=%{y}<extra></extra>",
         "legendgroup": "Greece",
         "marker": {
          "color": "#FF97FF",
          "symbol": "circle"
         },
         "mode": "markers",
         "name": "Greece",
         "orientation": "v",
         "showlegend": true,
         "type": "scatter",
         "x": [
          0.3
         ],
         "xaxis": "x",
         "y": [
          5.3
         ],
         "yaxis": "y"
        },
        {
         "hovertemplate": "Country=Hungary<br>Consumer Price=%{x}<br>Emissions per Capita=%{y}<extra></extra>",
         "legendgroup": "Hungary",
         "marker": {
          "color": "#FECB52",
          "symbol": "circle"
         },
         "mode": "markers",
         "name": "Hungary",
         "orientation": "v",
         "showlegend": true,
         "type": "scatter",
         "x": [
          3.3
         ],
         "xaxis": "x",
         "y": [
          4.7
         ],
         "yaxis": "y"
        },
        {
         "hovertemplate": "Country=Iceland<br>Consumer Price=%{x}<br>Emissions per Capita=%{y}<extra></extra>",
         "legendgroup": "Iceland",
         "marker": {
          "color": "#636efa",
          "symbol": "circle"
         },
         "mode": "markers",
         "name": "Iceland",
         "orientation": "v",
         "showlegend": true,
         "type": "scatter",
         "x": [
          3
         ],
         "xaxis": "x",
         "y": [
          4.5
         ],
         "yaxis": "y"
        },
        {
         "hovertemplate": "Country=Ireland<br>Consumer Price=%{x}<br>Emissions per Capita=%{y}<extra></extra>",
         "legendgroup": "Ireland",
         "marker": {
          "color": "#EF553B",
          "symbol": "circle"
         },
         "mode": "markers",
         "name": "Ireland",
         "orientation": "v",
         "showlegend": true,
         "type": "scatter",
         "x": [
          0.9
         ],
         "xaxis": "x",
         "y": [
          6.9
         ],
         "yaxis": "y"
        },
        {
         "hovertemplate": "Country=Israel<br>Consumer Price=%{x}<br>Emissions per Capita=%{y}<extra></extra>",
         "legendgroup": "Israel",
         "marker": {
          "color": "#00cc96",
          "symbol": "circle"
         },
         "mode": "markers",
         "name": "Israel",
         "orientation": "v",
         "showlegend": true,
         "type": "scatter",
         "x": [
          0.8
         ],
         "xaxis": "x",
         "y": [
          6.8
         ],
         "yaxis": "y"
        },
        {
         "hovertemplate": "Country=Italy<br>Consumer Price=%{x}<br>Emissions per Capita=%{y}<extra></extra>",
         "legendgroup": "Italy",
         "marker": {
          "color": "#ab63fa",
          "symbol": "circle"
         },
         "mode": "markers",
         "name": "Italy",
         "orientation": "v",
         "showlegend": true,
         "type": "scatter",
         "x": [
          0.6
         ],
         "xaxis": "x",
         "y": [
          5.2
         ],
         "yaxis": "y"
        },
        {
         "hovertemplate": "Country=Kazakhstan<br>Consumer Price=%{x}<br>Emissions per Capita=%{y}<extra></extra>",
         "legendgroup": "Kazakhstan",
         "marker": {
          "color": "#FFA15A",
          "symbol": "circle"
         },
         "mode": "markers",
         "name": "Kazakhstan",
         "orientation": "v",
         "showlegend": true,
         "type": "scatter",
         "x": [
          5.2
         ],
         "xaxis": "x",
         "y": [
          10.7
         ],
         "yaxis": "y"
        },
        {
         "hovertemplate": "Country=Kyrgyzstan<br>Consumer Price=%{x}<br>Emissions per Capita=%{y}<extra></extra>",
         "legendgroup": "Kyrgyzstan",
         "marker": {
          "color": "#19d3f3",
          "symbol": "circle"
         },
         "mode": "markers",
         "name": "Kyrgyzstan",
         "orientation": "v",
         "showlegend": true,
         "type": "scatter",
         "x": [
          1.1
         ],
         "xaxis": "x",
         "y": [
          1.4
         ],
         "yaxis": "y"
        },
        {
         "hovertemplate": "Country=Latvia<br>Consumer Price=%{x}<br>Emissions per Capita=%{y}<extra></extra>",
         "legendgroup": "Latvia",
         "marker": {
          "color": "#FF6692",
          "symbol": "circle"
         },
         "mode": "markers",
         "name": "Latvia",
         "orientation": "v",
         "showlegend": true,
         "type": "scatter",
         "x": [
          2.8
         ],
         "xaxis": "x",
         "y": [
          3.7
         ],
         "yaxis": "y"
        },
        {
         "hovertemplate": "Country=Lithuania<br>Consumer Price=%{x}<br>Emissions per Capita=%{y}<extra></extra>",
         "legendgroup": "Lithuania",
         "marker": {
          "color": "#B6E880",
          "symbol": "circle"
         },
         "mode": "markers",
         "name": "Lithuania",
         "orientation": "v",
         "showlegend": true,
         "type": "scatter",
         "x": [
          2.3
         ],
         "xaxis": "x",
         "y": [
          4
         ],
         "yaxis": "y"
        },
        {
         "hovertemplate": "Country=Luxembourg<br>Consumer Price=%{x}<br>Emissions per Capita=%{y}<extra></extra>",
         "legendgroup": "Luxembourg",
         "marker": {
          "color": "#FF97FF",
          "symbol": "circle"
         },
         "mode": "markers",
         "name": "Luxembourg",
         "orientation": "v",
         "showlegend": true,
         "type": "scatter",
         "x": [
          1.7
         ],
         "xaxis": "x",
         "y": [
          14.6
         ],
         "yaxis": "y"
        },
        {
         "hovertemplate": "Country=Malta<br>Consumer Price=%{x}<br>Emissions per Capita=%{y}<extra></extra>",
         "legendgroup": "Malta",
         "marker": {
          "color": "#FECB52",
          "symbol": "circle"
         },
         "mode": "markers",
         "name": "Malta",
         "orientation": "v",
         "showlegend": true,
         "type": "scatter",
         "x": [
          1.6
         ],
         "xaxis": "x",
         "y": [
          3.3
         ],
         "yaxis": "y"
        },
        {
         "hovertemplate": "Country=Montenegro<br>Consumer Price=%{x}<br>Emissions per Capita=%{y}<extra></extra>",
         "legendgroup": "Montenegro",
         "marker": {
          "color": "#636efa",
          "symbol": "circle"
         },
         "mode": "markers",
         "name": "Montenegro",
         "orientation": "v",
         "showlegend": true,
         "type": "scatter",
         "x": [
          0.4
         ],
         "xaxis": "x",
         "y": [
          4.2
         ],
         "yaxis": "y"
        },
        {
         "hovertemplate": "Country=North Macedonia<br>Consumer Price=%{x}<br>Emissions per Capita=%{y}<extra></extra>",
         "legendgroup": "North Macedonia",
         "marker": {
          "color": "#EF553B",
          "symbol": "circle"
         },
         "mode": "markers",
         "name": "North Macedonia",
         "orientation": "v",
         "showlegend": true,
         "type": "scatter",
         "x": [
          0.8
         ],
         "xaxis": "x",
         "y": [
          3.8
         ],
         "yaxis": "y"
        },
        {
         "hovertemplate": "Country=Norway<br>Consumer Price=%{x}<br>Emissions per Capita=%{y}<extra></extra>",
         "legendgroup": "Norway",
         "marker": {
          "color": "#00cc96",
          "symbol": "circle"
         },
         "mode": "markers",
         "name": "Norway",
         "orientation": "v",
         "showlegend": true,
         "type": "scatter",
         "x": [
          2.2
         ],
         "xaxis": "x",
         "y": [
          6.8
         ],
         "yaxis": "y"
        },
        {
         "hovertemplate": "Country=Poland<br>Consumer Price=%{x}<br>Emissions per Capita=%{y}<extra></extra>",
         "legendgroup": "Poland",
         "marker": {
          "color": "#ab63fa",
          "symbol": "circle"
         },
         "mode": "markers",
         "name": "Poland",
         "orientation": "v",
         "showlegend": true,
         "type": "scatter",
         "x": [
          2.2
         ],
         "xaxis": "x",
         "y": [
          7.5
         ],
         "yaxis": "y"
        },
        {
         "hovertemplate": "Country=Portugal<br>Consumer Price=%{x}<br>Emissions per Capita=%{y}<extra></extra>",
         "legendgroup": "Portugal",
         "marker": {
          "color": "#FFA15A",
          "symbol": "circle"
         },
         "mode": "markers",
         "name": "Portugal",
         "orientation": "v",
         "showlegend": true,
         "type": "scatter",
         "x": [
          0.3
         ],
         "xaxis": "x",
         "y": [
          4.1
         ],
         "yaxis": "y"
        },
        {
         "hovertemplate": "Country=Republic of Moldova<br>Consumer Price=%{x}<br>Emissions per Capita=%{y}<extra></extra>",
         "legendgroup": "Republic of Moldova",
         "marker": {
          "color": "#19d3f3",
          "symbol": "circle"
         },
         "mode": "markers",
         "name": "Republic of Moldova",
         "orientation": "v",
         "showlegend": true,
         "type": "scatter",
         "x": [
          4.8
         ],
         "xaxis": "x",
         "y": [
          3.1
         ],
         "yaxis": "y"
        },
        {
         "hovertemplate": "Country=Romania<br>Consumer Price=%{x}<br>Emissions per Capita=%{y}<extra></extra>",
         "legendgroup": "Romania",
         "marker": {
          "color": "#FF6692",
          "symbol": "circle"
         },
         "mode": "markers",
         "name": "Romania",
         "orientation": "v",
         "showlegend": true,
         "type": "scatter",
         "x": [
          3.8
         ],
         "xaxis": "x",
         "y": [
          3.6
         ],
         "yaxis": "y"
        },
        {
         "hovertemplate": "Country=Serbia<br>Consumer Price=%{x}<br>Emissions per Capita=%{y}<extra></extra>",
         "legendgroup": "Serbia",
         "marker": {
          "color": "#B6E880",
          "symbol": "circle"
         },
         "mode": "markers",
         "name": "Serbia",
         "orientation": "v",
         "showlegend": true,
         "type": "scatter",
         "x": [
          1.8
         ],
         "xaxis": "x",
         "y": [
          6.5
         ],
         "yaxis": "y"
        },
        {
         "hovertemplate": "Country=Slovakia<br>Consumer Price=%{x}<br>Emissions per Capita=%{y}<extra></extra>",
         "legendgroup": "Slovakia",
         "marker": {
          "color": "#FF97FF",
          "symbol": "circle"
         },
         "mode": "markers",
         "name": "Slovakia",
         "orientation": "v",
         "showlegend": true,
         "type": "scatter",
         "x": [
          2.7
         ],
         "xaxis": "x",
         "y": [
          5.4
         ],
         "yaxis": "y"
        },
        {
         "hovertemplate": "Country=Slovenia<br>Consumer Price=%{x}<br>Emissions per Capita=%{y}<extra></extra>",
         "legendgroup": "Slovenia",
         "marker": {
          "color": "#FECB52",
          "symbol": "circle"
         },
         "mode": "markers",
         "name": "Slovenia",
         "orientation": "v",
         "showlegend": true,
         "type": "scatter",
         "x": [
          1.6
         ],
         "xaxis": "x",
         "y": [
          6.3
         ],
         "yaxis": "y"
        },
        {
         "hovertemplate": "Country=Spain<br>Consumer Price=%{x}<br>Emissions per Capita=%{y}<extra></extra>",
         "legendgroup": "Spain",
         "marker": {
          "color": "#636efa",
          "symbol": "circle"
         },
         "mode": "markers",
         "name": "Spain",
         "orientation": "v",
         "showlegend": true,
         "type": "scatter",
         "x": [
          0.7
         ],
         "xaxis": "x",
         "y": [
          4.9
         ],
         "yaxis": "y"
        },
        {
         "hovertemplate": "Country=Sweden<br>Consumer Price=%{x}<br>Emissions per Capita=%{y}<extra></extra>",
         "legendgroup": "Sweden",
         "marker": {
          "color": "#EF553B",
          "symbol": "circle"
         },
         "mode": "markers",
         "name": "Sweden",
         "orientation": "v",
         "showlegend": true,
         "type": "scatter",
         "x": [
          1.8
         ],
         "xaxis": "x",
         "y": [
          3.3
         ],
         "yaxis": "y"
        },
        {
         "hovertemplate": "Country=Switzerland<br>Consumer Price=%{x}<br>Emissions per Capita=%{y}<extra></extra>",
         "legendgroup": "Switzerland",
         "marker": {
          "color": "#00cc96",
          "symbol": "circle"
         },
         "mode": "markers",
         "name": "Switzerland",
         "orientation": "v",
         "showlegend": true,
         "type": "scatter",
         "x": [
          0.4
         ],
         "xaxis": "x",
         "y": [
          4.2
         ],
         "yaxis": "y"
        },
        {
         "hovertemplate": "Country=Tajikistan<br>Consumer Price=%{x}<br>Emissions per Capita=%{y}<extra></extra>",
         "legendgroup": "Tajikistan",
         "marker": {
          "color": "#ab63fa",
          "symbol": "circle"
         },
         "mode": "markers",
         "name": "Tajikistan",
         "orientation": "v",
         "showlegend": true,
         "type": "scatter",
         "x": [
          7.8
         ],
         "xaxis": "x",
         "y": [
          0.7
         ],
         "yaxis": "y"
        },
        {
         "hovertemplate": "Country=Ukraine<br>Consumer Price=%{x}<br>Emissions per Capita=%{y}<extra></extra>",
         "legendgroup": "Ukraine",
         "marker": {
          "color": "#FFA15A",
          "symbol": "circle"
         },
         "mode": "markers",
         "name": "Ukraine",
         "orientation": "v",
         "showlegend": true,
         "type": "scatter",
         "x": [
          7.9
         ],
         "xaxis": "x",
         "y": [
          3.8
         ],
         "yaxis": "y"
        },
        {
         "hovertemplate": "Country=United Kingdom<br>Consumer Price=%{x}<br>Emissions per Capita=%{y}<extra></extra>",
         "legendgroup": "United Kingdom",
         "marker": {
          "color": "#19d3f3",
          "symbol": "circle"
         },
         "mode": "markers",
         "name": "United Kingdom",
         "orientation": "v",
         "showlegend": true,
         "type": "scatter",
         "x": [
          1.7
         ],
         "xaxis": "x",
         "y": [
          5.1
         ],
         "yaxis": "y"
        },
        {
         "hovertemplate": "Country=Uzbekistan<br>Consumer Price=%{x}<br>Emissions per Capita=%{y}<extra></extra>",
         "legendgroup": "Uzbekistan",
         "marker": {
          "color": "#FF6692",
          "symbol": "circle"
         },
         "mode": "markers",
         "name": "Uzbekistan",
         "orientation": "v",
         "showlegend": true,
         "type": "scatter",
         "x": [
          14.5
         ],
         "xaxis": "x",
         "y": [
          3.3
         ],
         "yaxis": "y"
        }
       ],
       "layout": {
        "legend": {
         "title": {
          "text": "Country"
         },
         "tracegroupgap": 0
        },
        "template": {
         "data": {
          "bar": [
           {
            "error_x": {
             "color": "#2a3f5f"
            },
            "error_y": {
             "color": "#2a3f5f"
            },
            "marker": {
             "line": {
              "color": "#E5ECF6",
              "width": 0.5
             },
             "pattern": {
              "fillmode": "overlay",
              "size": 10,
              "solidity": 0.2
             }
            },
            "type": "bar"
           }
          ],
          "barpolar": [
           {
            "marker": {
             "line": {
              "color": "#E5ECF6",
              "width": 0.5
             },
             "pattern": {
              "fillmode": "overlay",
              "size": 10,
              "solidity": 0.2
             }
            },
            "type": "barpolar"
           }
          ],
          "carpet": [
           {
            "aaxis": {
             "endlinecolor": "#2a3f5f",
             "gridcolor": "white",
             "linecolor": "white",
             "minorgridcolor": "white",
             "startlinecolor": "#2a3f5f"
            },
            "baxis": {
             "endlinecolor": "#2a3f5f",
             "gridcolor": "white",
             "linecolor": "white",
             "minorgridcolor": "white",
             "startlinecolor": "#2a3f5f"
            },
            "type": "carpet"
           }
          ],
          "choropleth": [
           {
            "colorbar": {
             "outlinewidth": 0,
             "ticks": ""
            },
            "type": "choropleth"
           }
          ],
          "contour": [
           {
            "colorbar": {
             "outlinewidth": 0,
             "ticks": ""
            },
            "colorscale": [
             [
              0,
              "#0d0887"
             ],
             [
              0.1111111111111111,
              "#46039f"
             ],
             [
              0.2222222222222222,
              "#7201a8"
             ],
             [
              0.3333333333333333,
              "#9c179e"
             ],
             [
              0.4444444444444444,
              "#bd3786"
             ],
             [
              0.5555555555555556,
              "#d8576b"
             ],
             [
              0.6666666666666666,
              "#ed7953"
             ],
             [
              0.7777777777777778,
              "#fb9f3a"
             ],
             [
              0.8888888888888888,
              "#fdca26"
             ],
             [
              1,
              "#f0f921"
             ]
            ],
            "type": "contour"
           }
          ],
          "contourcarpet": [
           {
            "colorbar": {
             "outlinewidth": 0,
             "ticks": ""
            },
            "type": "contourcarpet"
           }
          ],
          "heatmap": [
           {
            "colorbar": {
             "outlinewidth": 0,
             "ticks": ""
            },
            "colorscale": [
             [
              0,
              "#0d0887"
             ],
             [
              0.1111111111111111,
              "#46039f"
             ],
             [
              0.2222222222222222,
              "#7201a8"
             ],
             [
              0.3333333333333333,
              "#9c179e"
             ],
             [
              0.4444444444444444,
              "#bd3786"
             ],
             [
              0.5555555555555556,
              "#d8576b"
             ],
             [
              0.6666666666666666,
              "#ed7953"
             ],
             [
              0.7777777777777778,
              "#fb9f3a"
             ],
             [
              0.8888888888888888,
              "#fdca26"
             ],
             [
              1,
              "#f0f921"
             ]
            ],
            "type": "heatmap"
           }
          ],
          "heatmapgl": [
           {
            "colorbar": {
             "outlinewidth": 0,
             "ticks": ""
            },
            "colorscale": [
             [
              0,
              "#0d0887"
             ],
             [
              0.1111111111111111,
              "#46039f"
             ],
             [
              0.2222222222222222,
              "#7201a8"
             ],
             [
              0.3333333333333333,
              "#9c179e"
             ],
             [
              0.4444444444444444,
              "#bd3786"
             ],
             [
              0.5555555555555556,
              "#d8576b"
             ],
             [
              0.6666666666666666,
              "#ed7953"
             ],
             [
              0.7777777777777778,
              "#fb9f3a"
             ],
             [
              0.8888888888888888,
              "#fdca26"
             ],
             [
              1,
              "#f0f921"
             ]
            ],
            "type": "heatmapgl"
           }
          ],
          "histogram": [
           {
            "marker": {
             "pattern": {
              "fillmode": "overlay",
              "size": 10,
              "solidity": 0.2
             }
            },
            "type": "histogram"
           }
          ],
          "histogram2d": [
           {
            "colorbar": {
             "outlinewidth": 0,
             "ticks": ""
            },
            "colorscale": [
             [
              0,
              "#0d0887"
             ],
             [
              0.1111111111111111,
              "#46039f"
             ],
             [
              0.2222222222222222,
              "#7201a8"
             ],
             [
              0.3333333333333333,
              "#9c179e"
             ],
             [
              0.4444444444444444,
              "#bd3786"
             ],
             [
              0.5555555555555556,
              "#d8576b"
             ],
             [
              0.6666666666666666,
              "#ed7953"
             ],
             [
              0.7777777777777778,
              "#fb9f3a"
             ],
             [
              0.8888888888888888,
              "#fdca26"
             ],
             [
              1,
              "#f0f921"
             ]
            ],
            "type": "histogram2d"
           }
          ],
          "histogram2dcontour": [
           {
            "colorbar": {
             "outlinewidth": 0,
             "ticks": ""
            },
            "colorscale": [
             [
              0,
              "#0d0887"
             ],
             [
              0.1111111111111111,
              "#46039f"
             ],
             [
              0.2222222222222222,
              "#7201a8"
             ],
             [
              0.3333333333333333,
              "#9c179e"
             ],
             [
              0.4444444444444444,
              "#bd3786"
             ],
             [
              0.5555555555555556,
              "#d8576b"
             ],
             [
              0.6666666666666666,
              "#ed7953"
             ],
             [
              0.7777777777777778,
              "#fb9f3a"
             ],
             [
              0.8888888888888888,
              "#fdca26"
             ],
             [
              1,
              "#f0f921"
             ]
            ],
            "type": "histogram2dcontour"
           }
          ],
          "mesh3d": [
           {
            "colorbar": {
             "outlinewidth": 0,
             "ticks": ""
            },
            "type": "mesh3d"
           }
          ],
          "parcoords": [
           {
            "line": {
             "colorbar": {
              "outlinewidth": 0,
              "ticks": ""
             }
            },
            "type": "parcoords"
           }
          ],
          "pie": [
           {
            "automargin": true,
            "type": "pie"
           }
          ],
          "scatter": [
           {
            "fillpattern": {
             "fillmode": "overlay",
             "size": 10,
             "solidity": 0.2
            },
            "type": "scatter"
           }
          ],
          "scatter3d": [
           {
            "line": {
             "colorbar": {
              "outlinewidth": 0,
              "ticks": ""
             }
            },
            "marker": {
             "colorbar": {
              "outlinewidth": 0,
              "ticks": ""
             }
            },
            "type": "scatter3d"
           }
          ],
          "scattercarpet": [
           {
            "marker": {
             "colorbar": {
              "outlinewidth": 0,
              "ticks": ""
             }
            },
            "type": "scattercarpet"
           }
          ],
          "scattergeo": [
           {
            "marker": {
             "colorbar": {
              "outlinewidth": 0,
              "ticks": ""
             }
            },
            "type": "scattergeo"
           }
          ],
          "scattergl": [
           {
            "marker": {
             "colorbar": {
              "outlinewidth": 0,
              "ticks": ""
             }
            },
            "type": "scattergl"
           }
          ],
          "scattermapbox": [
           {
            "marker": {
             "colorbar": {
              "outlinewidth": 0,
              "ticks": ""
             }
            },
            "type": "scattermapbox"
           }
          ],
          "scatterpolar": [
           {
            "marker": {
             "colorbar": {
              "outlinewidth": 0,
              "ticks": ""
             }
            },
            "type": "scatterpolar"
           }
          ],
          "scatterpolargl": [
           {
            "marker": {
             "colorbar": {
              "outlinewidth": 0,
              "ticks": ""
             }
            },
            "type": "scatterpolargl"
           }
          ],
          "scatterternary": [
           {
            "marker": {
             "colorbar": {
              "outlinewidth": 0,
              "ticks": ""
             }
            },
            "type": "scatterternary"
           }
          ],
          "surface": [
           {
            "colorbar": {
             "outlinewidth": 0,
             "ticks": ""
            },
            "colorscale": [
             [
              0,
              "#0d0887"
             ],
             [
              0.1111111111111111,
              "#46039f"
             ],
             [
              0.2222222222222222,
              "#7201a8"
             ],
             [
              0.3333333333333333,
              "#9c179e"
             ],
             [
              0.4444444444444444,
              "#bd3786"
             ],
             [
              0.5555555555555556,
              "#d8576b"
             ],
             [
              0.6666666666666666,
              "#ed7953"
             ],
             [
              0.7777777777777778,
              "#fb9f3a"
             ],
             [
              0.8888888888888888,
              "#fdca26"
             ],
             [
              1,
              "#f0f921"
             ]
            ],
            "type": "surface"
           }
          ],
          "table": [
           {
            "cells": {
             "fill": {
              "color": "#EBF0F8"
             },
             "line": {
              "color": "white"
             }
            },
            "header": {
             "fill": {
              "color": "#C8D4E3"
             },
             "line": {
              "color": "white"
             }
            },
            "type": "table"
           }
          ]
         },
         "layout": {
          "annotationdefaults": {
           "arrowcolor": "#2a3f5f",
           "arrowhead": 0,
           "arrowwidth": 1
          },
          "autotypenumbers": "strict",
          "coloraxis": {
           "colorbar": {
            "outlinewidth": 0,
            "ticks": ""
           }
          },
          "colorscale": {
           "diverging": [
            [
             0,
             "#8e0152"
            ],
            [
             0.1,
             "#c51b7d"
            ],
            [
             0.2,
             "#de77ae"
            ],
            [
             0.3,
             "#f1b6da"
            ],
            [
             0.4,
             "#fde0ef"
            ],
            [
             0.5,
             "#f7f7f7"
            ],
            [
             0.6,
             "#e6f5d0"
            ],
            [
             0.7,
             "#b8e186"
            ],
            [
             0.8,
             "#7fbc41"
            ],
            [
             0.9,
             "#4d9221"
            ],
            [
             1,
             "#276419"
            ]
           ],
           "sequential": [
            [
             0,
             "#0d0887"
            ],
            [
             0.1111111111111111,
             "#46039f"
            ],
            [
             0.2222222222222222,
             "#7201a8"
            ],
            [
             0.3333333333333333,
             "#9c179e"
            ],
            [
             0.4444444444444444,
             "#bd3786"
            ],
            [
             0.5555555555555556,
             "#d8576b"
            ],
            [
             0.6666666666666666,
             "#ed7953"
            ],
            [
             0.7777777777777778,
             "#fb9f3a"
            ],
            [
             0.8888888888888888,
             "#fdca26"
            ],
            [
             1,
             "#f0f921"
            ]
           ],
           "sequentialminus": [
            [
             0,
             "#0d0887"
            ],
            [
             0.1111111111111111,
             "#46039f"
            ],
            [
             0.2222222222222222,
             "#7201a8"
            ],
            [
             0.3333333333333333,
             "#9c179e"
            ],
            [
             0.4444444444444444,
             "#bd3786"
            ],
            [
             0.5555555555555556,
             "#d8576b"
            ],
            [
             0.6666666666666666,
             "#ed7953"
            ],
            [
             0.7777777777777778,
             "#fb9f3a"
            ],
            [
             0.8888888888888888,
             "#fdca26"
            ],
            [
             1,
             "#f0f921"
            ]
           ]
          },
          "colorway": [
           "#636efa",
           "#EF553B",
           "#00cc96",
           "#ab63fa",
           "#FFA15A",
           "#19d3f3",
           "#FF6692",
           "#B6E880",
           "#FF97FF",
           "#FECB52"
          ],
          "font": {
           "color": "#2a3f5f"
          },
          "geo": {
           "bgcolor": "white",
           "lakecolor": "white",
           "landcolor": "#E5ECF6",
           "showlakes": true,
           "showland": true,
           "subunitcolor": "white"
          },
          "hoverlabel": {
           "align": "left"
          },
          "hovermode": "closest",
          "mapbox": {
           "style": "light"
          },
          "paper_bgcolor": "white",
          "plot_bgcolor": "#E5ECF6",
          "polar": {
           "angularaxis": {
            "gridcolor": "white",
            "linecolor": "white",
            "ticks": ""
           },
           "bgcolor": "#E5ECF6",
           "radialaxis": {
            "gridcolor": "white",
            "linecolor": "white",
            "ticks": ""
           }
          },
          "scene": {
           "xaxis": {
            "backgroundcolor": "#E5ECF6",
            "gridcolor": "white",
            "gridwidth": 2,
            "linecolor": "white",
            "showbackground": true,
            "ticks": "",
            "zerolinecolor": "white"
           },
           "yaxis": {
            "backgroundcolor": "#E5ECF6",
            "gridcolor": "white",
            "gridwidth": 2,
            "linecolor": "white",
            "showbackground": true,
            "ticks": "",
            "zerolinecolor": "white"
           },
           "zaxis": {
            "backgroundcolor": "#E5ECF6",
            "gridcolor": "white",
            "gridwidth": 2,
            "linecolor": "white",
            "showbackground": true,
            "ticks": "",
            "zerolinecolor": "white"
           }
          },
          "shapedefaults": {
           "line": {
            "color": "#2a3f5f"
           }
          },
          "ternary": {
           "aaxis": {
            "gridcolor": "white",
            "linecolor": "white",
            "ticks": ""
           },
           "baxis": {
            "gridcolor": "white",
            "linecolor": "white",
            "ticks": ""
           },
           "bgcolor": "#E5ECF6",
           "caxis": {
            "gridcolor": "white",
            "linecolor": "white",
            "ticks": ""
           }
          },
          "title": {
           "x": 0.05
          },
          "xaxis": {
           "automargin": true,
           "gridcolor": "white",
           "linecolor": "white",
           "ticks": "",
           "title": {
            "standoff": 15
           },
           "zerolinecolor": "white",
           "zerolinewidth": 2
          },
          "yaxis": {
           "automargin": true,
           "gridcolor": "white",
           "linecolor": "white",
           "ticks": "",
           "title": {
            "standoff": 15
           },
           "zerolinecolor": "white",
           "zerolinewidth": 2
          }
         }
        },
        "title": {
         "text": "Consume Price and Carbon Emissions per Capita (2019)"
        },
        "xaxis": {
         "anchor": "y",
         "domain": [
          0,
          1
         ],
         "title": {
          "text": "Consumer Price"
         }
        },
        "yaxis": {
         "anchor": "x",
         "domain": [
          0,
          1
         ],
         "title": {
          "text": "Emissions per Capita"
         }
        }
       }
      },
      "text/html": [
       "<div>                            <div id=\"50309488-ea82-4344-840f-fb6f05722ad1\" class=\"plotly-graph-div\" style=\"height:525px; width:100%;\"></div>            <script type=\"text/javascript\">                require([\"plotly\"], function(Plotly) {                    window.PLOTLYENV=window.PLOTLYENV || {};                                    if (document.getElementById(\"50309488-ea82-4344-840f-fb6f05722ad1\")) {                    Plotly.newPlot(                        \"50309488-ea82-4344-840f-fb6f05722ad1\",                        [{\"hovertemplate\":\"Country=Albania\\u003cbr\\u003eConsumer Price=%{x}\\u003cbr\\u003eEmissions per Capita=%{y}\\u003cextra\\u003e\\u003c\\u002fextra\\u003e\",\"legendgroup\":\"Albania\",\"marker\":{\"color\":\"#636efa\",\"symbol\":\"circle\"},\"mode\":\"markers\",\"name\":\"Albania\",\"orientation\":\"v\",\"showlegend\":true,\"x\":[1.4],\"xaxis\":\"x\",\"y\":[1.4],\"yaxis\":\"y\",\"type\":\"scatter\"},{\"hovertemplate\":\"Country=Armenia\\u003cbr\\u003eConsumer Price=%{x}\\u003cbr\\u003eEmissions per Capita=%{y}\\u003cextra\\u003e\\u003c\\u002fextra\\u003e\",\"legendgroup\":\"Armenia\",\"marker\":{\"color\":\"#EF553B\",\"symbol\":\"circle\"},\"mode\":\"markers\",\"name\":\"Armenia\",\"orientation\":\"v\",\"showlegend\":true,\"x\":[1.4],\"xaxis\":\"x\",\"y\":[2.0],\"yaxis\":\"y\",\"type\":\"scatter\"},{\"hovertemplate\":\"Country=Austria\\u003cbr\\u003eConsumer Price=%{x}\\u003cbr\\u003eEmissions per Capita=%{y}\\u003cextra\\u003e\\u003c\\u002fextra\\u003e\",\"legendgroup\":\"Austria\",\"marker\":{\"color\":\"#00cc96\",\"symbol\":\"circle\"},\"mode\":\"markers\",\"name\":\"Austria\",\"orientation\":\"v\",\"showlegend\":true,\"x\":[1.5],\"xaxis\":\"x\",\"y\":[7.1],\"yaxis\":\"y\",\"type\":\"scatter\"},{\"hovertemplate\":\"Country=Azerbaijan\\u003cbr\\u003eConsumer Price=%{x}\\u003cbr\\u003eEmissions per Capita=%{y}\\u003cextra\\u003e\\u003c\\u002fextra\\u003e\",\"legendgroup\":\"Azerbaijan\",\"marker\":{\"color\":\"#ab63fa\",\"symbol\":\"circle\"},\"mode\":\"markers\",\"name\":\"Azerbaijan\",\"orientation\":\"v\",\"showlegend\":true,\"x\":[2.6],\"xaxis\":\"x\",\"y\":[3.4],\"yaxis\":\"y\",\"type\":\"scatter\"},{\"hovertemplate\":\"Country=Belarus\\u003cbr\\u003eConsumer Price=%{x}\\u003cbr\\u003eEmissions per Capita=%{y}\\u003cextra\\u003e\\u003c\\u002fextra\\u003e\",\"legendgroup\":\"Belarus\",\"marker\":{\"color\":\"#FFA15A\",\"symbol\":\"circle\"},\"mode\":\"markers\",\"name\":\"Belarus\",\"orientation\":\"v\",\"showlegend\":true,\"x\":[5.6],\"xaxis\":\"x\",\"y\":[5.9],\"yaxis\":\"y\",\"type\":\"scatter\"},{\"hovertemplate\":\"Country=Belgium\\u003cbr\\u003eConsumer Price=%{x}\\u003cbr\\u003eEmissions per Capita=%{y}\\u003cextra\\u003e\\u003c\\u002fextra\\u003e\",\"legendgroup\":\"Belgium\",\"marker\":{\"color\":\"#19d3f3\",\"symbol\":\"circle\"},\"mode\":\"markers\",\"name\":\"Belgium\",\"orientation\":\"v\",\"showlegend\":true,\"x\":[1.4],\"xaxis\":\"x\",\"y\":[7.9],\"yaxis\":\"y\",\"type\":\"scatter\"},{\"hovertemplate\":\"Country=Bosnia and Herzegovina\\u003cbr\\u003eConsumer Price=%{x}\\u003cbr\\u003eEmissions per Capita=%{y}\\u003cextra\\u003e\\u003c\\u002fextra\\u003e\",\"legendgroup\":\"Bosnia and Herzegovina\",\"marker\":{\"color\":\"#FF6692\",\"symbol\":\"circle\"},\"mode\":\"markers\",\"name\":\"Bosnia and Herzegovina\",\"orientation\":\"v\",\"showlegend\":true,\"x\":[0.8],\"xaxis\":\"x\",\"y\":[6.3],\"yaxis\":\"y\",\"type\":\"scatter\"},{\"hovertemplate\":\"Country=Bulgaria\\u003cbr\\u003eConsumer Price=%{x}\\u003cbr\\u003eEmissions per Capita=%{y}\\u003cextra\\u003e\\u003c\\u002fextra\\u003e\",\"legendgroup\":\"Bulgaria\",\"marker\":{\"color\":\"#B6E880\",\"symbol\":\"circle\"},\"mode\":\"markers\",\"name\":\"Bulgaria\",\"orientation\":\"v\",\"showlegend\":true,\"x\":[3.1],\"xaxis\":\"x\",\"y\":[5.5],\"yaxis\":\"y\",\"type\":\"scatter\"},{\"hovertemplate\":\"Country=Canada\\u003cbr\\u003eConsumer Price=%{x}\\u003cbr\\u003eEmissions per Capita=%{y}\\u003cextra\\u003e\\u003c\\u002fextra\\u003e\",\"legendgroup\":\"Canada\",\"marker\":{\"color\":\"#FF97FF\",\"symbol\":\"circle\"},\"mode\":\"markers\",\"name\":\"Canada\",\"orientation\":\"v\",\"showlegend\":true,\"x\":[1.9],\"xaxis\":\"x\",\"y\":[14.8],\"yaxis\":\"y\",\"type\":\"scatter\"},{\"hovertemplate\":\"Country=Croatia\\u003cbr\\u003eConsumer Price=%{x}\\u003cbr\\u003eEmissions per Capita=%{y}\\u003cextra\\u003e\\u003c\\u002fextra\\u003e\",\"legendgroup\":\"Croatia\",\"marker\":{\"color\":\"#FECB52\",\"symbol\":\"circle\"},\"mode\":\"markers\",\"name\":\"Croatia\",\"orientation\":\"v\",\"showlegend\":true,\"x\":[0.8],\"xaxis\":\"x\",\"y\":[3.8],\"yaxis\":\"y\",\"type\":\"scatter\"},{\"hovertemplate\":\"Country=Cyprus\\u003cbr\\u003eConsumer Price=%{x}\\u003cbr\\u003eEmissions per Capita=%{y}\\u003cextra\\u003e\\u003c\\u002fextra\\u003e\",\"legendgroup\":\"Cyprus\",\"marker\":{\"color\":\"#636efa\",\"symbol\":\"circle\"},\"mode\":\"markers\",\"name\":\"Cyprus\",\"orientation\":\"v\",\"showlegend\":true,\"x\":[0.2],\"xaxis\":\"x\",\"y\":[7.3],\"yaxis\":\"y\",\"type\":\"scatter\"},{\"hovertemplate\":\"Country=Czechia\\u003cbr\\u003eConsumer Price=%{x}\\u003cbr\\u003eEmissions per Capita=%{y}\\u003cextra\\u003e\\u003c\\u002fextra\\u003e\",\"legendgroup\":\"Czechia\",\"marker\":{\"color\":\"#EF553B\",\"symbol\":\"circle\"},\"mode\":\"markers\",\"name\":\"Czechia\",\"orientation\":\"v\",\"showlegend\":true,\"x\":[2.8],\"xaxis\":\"x\",\"y\":[9.0],\"yaxis\":\"y\",\"type\":\"scatter\"},{\"hovertemplate\":\"Country=Denmark\\u003cbr\\u003eConsumer Price=%{x}\\u003cbr\\u003eEmissions per Capita=%{y}\\u003cextra\\u003e\\u003c\\u002fextra\\u003e\",\"legendgroup\":\"Denmark\",\"marker\":{\"color\":\"#00cc96\",\"symbol\":\"circle\"},\"mode\":\"markers\",\"name\":\"Denmark\",\"orientation\":\"v\",\"showlegend\":true,\"x\":[0.8],\"xaxis\":\"x\",\"y\":[4.9],\"yaxis\":\"y\",\"type\":\"scatter\"},{\"hovertemplate\":\"Country=Estonia\\u003cbr\\u003eConsumer Price=%{x}\\u003cbr\\u003eEmissions per Capita=%{y}\\u003cextra\\u003e\\u003c\\u002fextra\\u003e\",\"legendgroup\":\"Estonia\",\"marker\":{\"color\":\"#ab63fa\",\"symbol\":\"circle\"},\"mode\":\"markers\",\"name\":\"Estonia\",\"orientation\":\"v\",\"showlegend\":true,\"x\":[2.3],\"xaxis\":\"x\",\"y\":[7.4],\"yaxis\":\"y\",\"type\":\"scatter\"},{\"hovertemplate\":\"Country=Finland\\u003cbr\\u003eConsumer Price=%{x}\\u003cbr\\u003eEmissions per Capita=%{y}\\u003cextra\\u003e\\u003c\\u002fextra\\u003e\",\"legendgroup\":\"Finland\",\"marker\":{\"color\":\"#FFA15A\",\"symbol\":\"circle\"},\"mode\":\"markers\",\"name\":\"Finland\",\"orientation\":\"v\",\"showlegend\":true,\"x\":[1.0],\"xaxis\":\"x\",\"y\":[7.3],\"yaxis\":\"y\",\"type\":\"scatter\"},{\"hovertemplate\":\"Country=France\\u003cbr\\u003eConsumer Price=%{x}\\u003cbr\\u003eEmissions per Capita=%{y}\\u003cextra\\u003e\\u003c\\u002fextra\\u003e\",\"legendgroup\":\"France\",\"marker\":{\"color\":\"#19d3f3\",\"symbol\":\"circle\"},\"mode\":\"markers\",\"name\":\"France\",\"orientation\":\"v\",\"showlegend\":true,\"x\":[1.1],\"xaxis\":\"x\",\"y\":[4.3],\"yaxis\":\"y\",\"type\":\"scatter\"},{\"hovertemplate\":\"Country=Georgia\\u003cbr\\u003eConsumer Price=%{x}\\u003cbr\\u003eEmissions per Capita=%{y}\\u003cextra\\u003e\\u003c\\u002fextra\\u003e\",\"legendgroup\":\"Georgia\",\"marker\":{\"color\":\"#FF6692\",\"symbol\":\"circle\"},\"mode\":\"markers\",\"name\":\"Georgia\",\"orientation\":\"v\",\"showlegend\":true,\"x\":[4.9],\"xaxis\":\"x\",\"y\":[2.6],\"yaxis\":\"y\",\"type\":\"scatter\"},{\"hovertemplate\":\"Country=Germany\\u003cbr\\u003eConsumer Price=%{x}\\u003cbr\\u003eEmissions per Capita=%{y}\\u003cextra\\u003e\\u003c\\u002fextra\\u003e\",\"legendgroup\":\"Germany\",\"marker\":{\"color\":\"#B6E880\",\"symbol\":\"circle\"},\"mode\":\"markers\",\"name\":\"Germany\",\"orientation\":\"v\",\"showlegend\":true,\"x\":[1.4],\"xaxis\":\"x\",\"y\":[7.8],\"yaxis\":\"y\",\"type\":\"scatter\"},{\"hovertemplate\":\"Country=Greece\\u003cbr\\u003eConsumer Price=%{x}\\u003cbr\\u003eEmissions per Capita=%{y}\\u003cextra\\u003e\\u003c\\u002fextra\\u003e\",\"legendgroup\":\"Greece\",\"marker\":{\"color\":\"#FF97FF\",\"symbol\":\"circle\"},\"mode\":\"markers\",\"name\":\"Greece\",\"orientation\":\"v\",\"showlegend\":true,\"x\":[0.3],\"xaxis\":\"x\",\"y\":[5.3],\"yaxis\":\"y\",\"type\":\"scatter\"},{\"hovertemplate\":\"Country=Hungary\\u003cbr\\u003eConsumer Price=%{x}\\u003cbr\\u003eEmissions per Capita=%{y}\\u003cextra\\u003e\\u003c\\u002fextra\\u003e\",\"legendgroup\":\"Hungary\",\"marker\":{\"color\":\"#FECB52\",\"symbol\":\"circle\"},\"mode\":\"markers\",\"name\":\"Hungary\",\"orientation\":\"v\",\"showlegend\":true,\"x\":[3.3],\"xaxis\":\"x\",\"y\":[4.7],\"yaxis\":\"y\",\"type\":\"scatter\"},{\"hovertemplate\":\"Country=Iceland\\u003cbr\\u003eConsumer Price=%{x}\\u003cbr\\u003eEmissions per Capita=%{y}\\u003cextra\\u003e\\u003c\\u002fextra\\u003e\",\"legendgroup\":\"Iceland\",\"marker\":{\"color\":\"#636efa\",\"symbol\":\"circle\"},\"mode\":\"markers\",\"name\":\"Iceland\",\"orientation\":\"v\",\"showlegend\":true,\"x\":[3.0],\"xaxis\":\"x\",\"y\":[4.5],\"yaxis\":\"y\",\"type\":\"scatter\"},{\"hovertemplate\":\"Country=Ireland\\u003cbr\\u003eConsumer Price=%{x}\\u003cbr\\u003eEmissions per Capita=%{y}\\u003cextra\\u003e\\u003c\\u002fextra\\u003e\",\"legendgroup\":\"Ireland\",\"marker\":{\"color\":\"#EF553B\",\"symbol\":\"circle\"},\"mode\":\"markers\",\"name\":\"Ireland\",\"orientation\":\"v\",\"showlegend\":true,\"x\":[0.9],\"xaxis\":\"x\",\"y\":[6.9],\"yaxis\":\"y\",\"type\":\"scatter\"},{\"hovertemplate\":\"Country=Israel\\u003cbr\\u003eConsumer Price=%{x}\\u003cbr\\u003eEmissions per Capita=%{y}\\u003cextra\\u003e\\u003c\\u002fextra\\u003e\",\"legendgroup\":\"Israel\",\"marker\":{\"color\":\"#00cc96\",\"symbol\":\"circle\"},\"mode\":\"markers\",\"name\":\"Israel\",\"orientation\":\"v\",\"showlegend\":true,\"x\":[0.8],\"xaxis\":\"x\",\"y\":[6.8],\"yaxis\":\"y\",\"type\":\"scatter\"},{\"hovertemplate\":\"Country=Italy\\u003cbr\\u003eConsumer Price=%{x}\\u003cbr\\u003eEmissions per Capita=%{y}\\u003cextra\\u003e\\u003c\\u002fextra\\u003e\",\"legendgroup\":\"Italy\",\"marker\":{\"color\":\"#ab63fa\",\"symbol\":\"circle\"},\"mode\":\"markers\",\"name\":\"Italy\",\"orientation\":\"v\",\"showlegend\":true,\"x\":[0.6],\"xaxis\":\"x\",\"y\":[5.2],\"yaxis\":\"y\",\"type\":\"scatter\"},{\"hovertemplate\":\"Country=Kazakhstan\\u003cbr\\u003eConsumer Price=%{x}\\u003cbr\\u003eEmissions per Capita=%{y}\\u003cextra\\u003e\\u003c\\u002fextra\\u003e\",\"legendgroup\":\"Kazakhstan\",\"marker\":{\"color\":\"#FFA15A\",\"symbol\":\"circle\"},\"mode\":\"markers\",\"name\":\"Kazakhstan\",\"orientation\":\"v\",\"showlegend\":true,\"x\":[5.2],\"xaxis\":\"x\",\"y\":[10.7],\"yaxis\":\"y\",\"type\":\"scatter\"},{\"hovertemplate\":\"Country=Kyrgyzstan\\u003cbr\\u003eConsumer Price=%{x}\\u003cbr\\u003eEmissions per Capita=%{y}\\u003cextra\\u003e\\u003c\\u002fextra\\u003e\",\"legendgroup\":\"Kyrgyzstan\",\"marker\":{\"color\":\"#19d3f3\",\"symbol\":\"circle\"},\"mode\":\"markers\",\"name\":\"Kyrgyzstan\",\"orientation\":\"v\",\"showlegend\":true,\"x\":[1.1],\"xaxis\":\"x\",\"y\":[1.4],\"yaxis\":\"y\",\"type\":\"scatter\"},{\"hovertemplate\":\"Country=Latvia\\u003cbr\\u003eConsumer Price=%{x}\\u003cbr\\u003eEmissions per Capita=%{y}\\u003cextra\\u003e\\u003c\\u002fextra\\u003e\",\"legendgroup\":\"Latvia\",\"marker\":{\"color\":\"#FF6692\",\"symbol\":\"circle\"},\"mode\":\"markers\",\"name\":\"Latvia\",\"orientation\":\"v\",\"showlegend\":true,\"x\":[2.8],\"xaxis\":\"x\",\"y\":[3.7],\"yaxis\":\"y\",\"type\":\"scatter\"},{\"hovertemplate\":\"Country=Lithuania\\u003cbr\\u003eConsumer Price=%{x}\\u003cbr\\u003eEmissions per Capita=%{y}\\u003cextra\\u003e\\u003c\\u002fextra\\u003e\",\"legendgroup\":\"Lithuania\",\"marker\":{\"color\":\"#B6E880\",\"symbol\":\"circle\"},\"mode\":\"markers\",\"name\":\"Lithuania\",\"orientation\":\"v\",\"showlegend\":true,\"x\":[2.3],\"xaxis\":\"x\",\"y\":[4.0],\"yaxis\":\"y\",\"type\":\"scatter\"},{\"hovertemplate\":\"Country=Luxembourg\\u003cbr\\u003eConsumer Price=%{x}\\u003cbr\\u003eEmissions per Capita=%{y}\\u003cextra\\u003e\\u003c\\u002fextra\\u003e\",\"legendgroup\":\"Luxembourg\",\"marker\":{\"color\":\"#FF97FF\",\"symbol\":\"circle\"},\"mode\":\"markers\",\"name\":\"Luxembourg\",\"orientation\":\"v\",\"showlegend\":true,\"x\":[1.7],\"xaxis\":\"x\",\"y\":[14.6],\"yaxis\":\"y\",\"type\":\"scatter\"},{\"hovertemplate\":\"Country=Malta\\u003cbr\\u003eConsumer Price=%{x}\\u003cbr\\u003eEmissions per Capita=%{y}\\u003cextra\\u003e\\u003c\\u002fextra\\u003e\",\"legendgroup\":\"Malta\",\"marker\":{\"color\":\"#FECB52\",\"symbol\":\"circle\"},\"mode\":\"markers\",\"name\":\"Malta\",\"orientation\":\"v\",\"showlegend\":true,\"x\":[1.6],\"xaxis\":\"x\",\"y\":[3.3],\"yaxis\":\"y\",\"type\":\"scatter\"},{\"hovertemplate\":\"Country=Montenegro\\u003cbr\\u003eConsumer Price=%{x}\\u003cbr\\u003eEmissions per Capita=%{y}\\u003cextra\\u003e\\u003c\\u002fextra\\u003e\",\"legendgroup\":\"Montenegro\",\"marker\":{\"color\":\"#636efa\",\"symbol\":\"circle\"},\"mode\":\"markers\",\"name\":\"Montenegro\",\"orientation\":\"v\",\"showlegend\":true,\"x\":[0.4],\"xaxis\":\"x\",\"y\":[4.2],\"yaxis\":\"y\",\"type\":\"scatter\"},{\"hovertemplate\":\"Country=North Macedonia\\u003cbr\\u003eConsumer Price=%{x}\\u003cbr\\u003eEmissions per Capita=%{y}\\u003cextra\\u003e\\u003c\\u002fextra\\u003e\",\"legendgroup\":\"North Macedonia\",\"marker\":{\"color\":\"#EF553B\",\"symbol\":\"circle\"},\"mode\":\"markers\",\"name\":\"North Macedonia\",\"orientation\":\"v\",\"showlegend\":true,\"x\":[0.8],\"xaxis\":\"x\",\"y\":[3.8],\"yaxis\":\"y\",\"type\":\"scatter\"},{\"hovertemplate\":\"Country=Norway\\u003cbr\\u003eConsumer Price=%{x}\\u003cbr\\u003eEmissions per Capita=%{y}\\u003cextra\\u003e\\u003c\\u002fextra\\u003e\",\"legendgroup\":\"Norway\",\"marker\":{\"color\":\"#00cc96\",\"symbol\":\"circle\"},\"mode\":\"markers\",\"name\":\"Norway\",\"orientation\":\"v\",\"showlegend\":true,\"x\":[2.2],\"xaxis\":\"x\",\"y\":[6.8],\"yaxis\":\"y\",\"type\":\"scatter\"},{\"hovertemplate\":\"Country=Poland\\u003cbr\\u003eConsumer Price=%{x}\\u003cbr\\u003eEmissions per Capita=%{y}\\u003cextra\\u003e\\u003c\\u002fextra\\u003e\",\"legendgroup\":\"Poland\",\"marker\":{\"color\":\"#ab63fa\",\"symbol\":\"circle\"},\"mode\":\"markers\",\"name\":\"Poland\",\"orientation\":\"v\",\"showlegend\":true,\"x\":[2.2],\"xaxis\":\"x\",\"y\":[7.5],\"yaxis\":\"y\",\"type\":\"scatter\"},{\"hovertemplate\":\"Country=Portugal\\u003cbr\\u003eConsumer Price=%{x}\\u003cbr\\u003eEmissions per Capita=%{y}\\u003cextra\\u003e\\u003c\\u002fextra\\u003e\",\"legendgroup\":\"Portugal\",\"marker\":{\"color\":\"#FFA15A\",\"symbol\":\"circle\"},\"mode\":\"markers\",\"name\":\"Portugal\",\"orientation\":\"v\",\"showlegend\":true,\"x\":[0.3],\"xaxis\":\"x\",\"y\":[4.1],\"yaxis\":\"y\",\"type\":\"scatter\"},{\"hovertemplate\":\"Country=Republic of Moldova\\u003cbr\\u003eConsumer Price=%{x}\\u003cbr\\u003eEmissions per Capita=%{y}\\u003cextra\\u003e\\u003c\\u002fextra\\u003e\",\"legendgroup\":\"Republic of Moldova\",\"marker\":{\"color\":\"#19d3f3\",\"symbol\":\"circle\"},\"mode\":\"markers\",\"name\":\"Republic of Moldova\",\"orientation\":\"v\",\"showlegend\":true,\"x\":[4.8],\"xaxis\":\"x\",\"y\":[3.1],\"yaxis\":\"y\",\"type\":\"scatter\"},{\"hovertemplate\":\"Country=Romania\\u003cbr\\u003eConsumer Price=%{x}\\u003cbr\\u003eEmissions per Capita=%{y}\\u003cextra\\u003e\\u003c\\u002fextra\\u003e\",\"legendgroup\":\"Romania\",\"marker\":{\"color\":\"#FF6692\",\"symbol\":\"circle\"},\"mode\":\"markers\",\"name\":\"Romania\",\"orientation\":\"v\",\"showlegend\":true,\"x\":[3.8],\"xaxis\":\"x\",\"y\":[3.6],\"yaxis\":\"y\",\"type\":\"scatter\"},{\"hovertemplate\":\"Country=Serbia\\u003cbr\\u003eConsumer Price=%{x}\\u003cbr\\u003eEmissions per Capita=%{y}\\u003cextra\\u003e\\u003c\\u002fextra\\u003e\",\"legendgroup\":\"Serbia\",\"marker\":{\"color\":\"#B6E880\",\"symbol\":\"circle\"},\"mode\":\"markers\",\"name\":\"Serbia\",\"orientation\":\"v\",\"showlegend\":true,\"x\":[1.8],\"xaxis\":\"x\",\"y\":[6.5],\"yaxis\":\"y\",\"type\":\"scatter\"},{\"hovertemplate\":\"Country=Slovakia\\u003cbr\\u003eConsumer Price=%{x}\\u003cbr\\u003eEmissions per Capita=%{y}\\u003cextra\\u003e\\u003c\\u002fextra\\u003e\",\"legendgroup\":\"Slovakia\",\"marker\":{\"color\":\"#FF97FF\",\"symbol\":\"circle\"},\"mode\":\"markers\",\"name\":\"Slovakia\",\"orientation\":\"v\",\"showlegend\":true,\"x\":[2.7],\"xaxis\":\"x\",\"y\":[5.4],\"yaxis\":\"y\",\"type\":\"scatter\"},{\"hovertemplate\":\"Country=Slovenia\\u003cbr\\u003eConsumer Price=%{x}\\u003cbr\\u003eEmissions per Capita=%{y}\\u003cextra\\u003e\\u003c\\u002fextra\\u003e\",\"legendgroup\":\"Slovenia\",\"marker\":{\"color\":\"#FECB52\",\"symbol\":\"circle\"},\"mode\":\"markers\",\"name\":\"Slovenia\",\"orientation\":\"v\",\"showlegend\":true,\"x\":[1.6],\"xaxis\":\"x\",\"y\":[6.3],\"yaxis\":\"y\",\"type\":\"scatter\"},{\"hovertemplate\":\"Country=Spain\\u003cbr\\u003eConsumer Price=%{x}\\u003cbr\\u003eEmissions per Capita=%{y}\\u003cextra\\u003e\\u003c\\u002fextra\\u003e\",\"legendgroup\":\"Spain\",\"marker\":{\"color\":\"#636efa\",\"symbol\":\"circle\"},\"mode\":\"markers\",\"name\":\"Spain\",\"orientation\":\"v\",\"showlegend\":true,\"x\":[0.7],\"xaxis\":\"x\",\"y\":[4.9],\"yaxis\":\"y\",\"type\":\"scatter\"},{\"hovertemplate\":\"Country=Sweden\\u003cbr\\u003eConsumer Price=%{x}\\u003cbr\\u003eEmissions per Capita=%{y}\\u003cextra\\u003e\\u003c\\u002fextra\\u003e\",\"legendgroup\":\"Sweden\",\"marker\":{\"color\":\"#EF553B\",\"symbol\":\"circle\"},\"mode\":\"markers\",\"name\":\"Sweden\",\"orientation\":\"v\",\"showlegend\":true,\"x\":[1.8],\"xaxis\":\"x\",\"y\":[3.3],\"yaxis\":\"y\",\"type\":\"scatter\"},{\"hovertemplate\":\"Country=Switzerland\\u003cbr\\u003eConsumer Price=%{x}\\u003cbr\\u003eEmissions per Capita=%{y}\\u003cextra\\u003e\\u003c\\u002fextra\\u003e\",\"legendgroup\":\"Switzerland\",\"marker\":{\"color\":\"#00cc96\",\"symbol\":\"circle\"},\"mode\":\"markers\",\"name\":\"Switzerland\",\"orientation\":\"v\",\"showlegend\":true,\"x\":[0.4],\"xaxis\":\"x\",\"y\":[4.2],\"yaxis\":\"y\",\"type\":\"scatter\"},{\"hovertemplate\":\"Country=Tajikistan\\u003cbr\\u003eConsumer Price=%{x}\\u003cbr\\u003eEmissions per Capita=%{y}\\u003cextra\\u003e\\u003c\\u002fextra\\u003e\",\"legendgroup\":\"Tajikistan\",\"marker\":{\"color\":\"#ab63fa\",\"symbol\":\"circle\"},\"mode\":\"markers\",\"name\":\"Tajikistan\",\"orientation\":\"v\",\"showlegend\":true,\"x\":[7.8],\"xaxis\":\"x\",\"y\":[0.7],\"yaxis\":\"y\",\"type\":\"scatter\"},{\"hovertemplate\":\"Country=Ukraine\\u003cbr\\u003eConsumer Price=%{x}\\u003cbr\\u003eEmissions per Capita=%{y}\\u003cextra\\u003e\\u003c\\u002fextra\\u003e\",\"legendgroup\":\"Ukraine\",\"marker\":{\"color\":\"#FFA15A\",\"symbol\":\"circle\"},\"mode\":\"markers\",\"name\":\"Ukraine\",\"orientation\":\"v\",\"showlegend\":true,\"x\":[7.9],\"xaxis\":\"x\",\"y\":[3.8],\"yaxis\":\"y\",\"type\":\"scatter\"},{\"hovertemplate\":\"Country=United Kingdom\\u003cbr\\u003eConsumer Price=%{x}\\u003cbr\\u003eEmissions per Capita=%{y}\\u003cextra\\u003e\\u003c\\u002fextra\\u003e\",\"legendgroup\":\"United Kingdom\",\"marker\":{\"color\":\"#19d3f3\",\"symbol\":\"circle\"},\"mode\":\"markers\",\"name\":\"United Kingdom\",\"orientation\":\"v\",\"showlegend\":true,\"x\":[1.7],\"xaxis\":\"x\",\"y\":[5.1],\"yaxis\":\"y\",\"type\":\"scatter\"},{\"hovertemplate\":\"Country=Uzbekistan\\u003cbr\\u003eConsumer Price=%{x}\\u003cbr\\u003eEmissions per Capita=%{y}\\u003cextra\\u003e\\u003c\\u002fextra\\u003e\",\"legendgroup\":\"Uzbekistan\",\"marker\":{\"color\":\"#FF6692\",\"symbol\":\"circle\"},\"mode\":\"markers\",\"name\":\"Uzbekistan\",\"orientation\":\"v\",\"showlegend\":true,\"x\":[14.5],\"xaxis\":\"x\",\"y\":[3.3],\"yaxis\":\"y\",\"type\":\"scatter\"}],                        {\"template\":{\"data\":{\"histogram2dcontour\":[{\"type\":\"histogram2dcontour\",\"colorbar\":{\"outlinewidth\":0,\"ticks\":\"\"},\"colorscale\":[[0.0,\"#0d0887\"],[0.1111111111111111,\"#46039f\"],[0.2222222222222222,\"#7201a8\"],[0.3333333333333333,\"#9c179e\"],[0.4444444444444444,\"#bd3786\"],[0.5555555555555556,\"#d8576b\"],[0.6666666666666666,\"#ed7953\"],[0.7777777777777778,\"#fb9f3a\"],[0.8888888888888888,\"#fdca26\"],[1.0,\"#f0f921\"]]}],\"choropleth\":[{\"type\":\"choropleth\",\"colorbar\":{\"outlinewidth\":0,\"ticks\":\"\"}}],\"histogram2d\":[{\"type\":\"histogram2d\",\"colorbar\":{\"outlinewidth\":0,\"ticks\":\"\"},\"colorscale\":[[0.0,\"#0d0887\"],[0.1111111111111111,\"#46039f\"],[0.2222222222222222,\"#7201a8\"],[0.3333333333333333,\"#9c179e\"],[0.4444444444444444,\"#bd3786\"],[0.5555555555555556,\"#d8576b\"],[0.6666666666666666,\"#ed7953\"],[0.7777777777777778,\"#fb9f3a\"],[0.8888888888888888,\"#fdca26\"],[1.0,\"#f0f921\"]]}],\"heatmap\":[{\"type\":\"heatmap\",\"colorbar\":{\"outlinewidth\":0,\"ticks\":\"\"},\"colorscale\":[[0.0,\"#0d0887\"],[0.1111111111111111,\"#46039f\"],[0.2222222222222222,\"#7201a8\"],[0.3333333333333333,\"#9c179e\"],[0.4444444444444444,\"#bd3786\"],[0.5555555555555556,\"#d8576b\"],[0.6666666666666666,\"#ed7953\"],[0.7777777777777778,\"#fb9f3a\"],[0.8888888888888888,\"#fdca26\"],[1.0,\"#f0f921\"]]}],\"heatmapgl\":[{\"type\":\"heatmapgl\",\"colorbar\":{\"outlinewidth\":0,\"ticks\":\"\"},\"colorscale\":[[0.0,\"#0d0887\"],[0.1111111111111111,\"#46039f\"],[0.2222222222222222,\"#7201a8\"],[0.3333333333333333,\"#9c179e\"],[0.4444444444444444,\"#bd3786\"],[0.5555555555555556,\"#d8576b\"],[0.6666666666666666,\"#ed7953\"],[0.7777777777777778,\"#fb9f3a\"],[0.8888888888888888,\"#fdca26\"],[1.0,\"#f0f921\"]]}],\"contourcarpet\":[{\"type\":\"contourcarpet\",\"colorbar\":{\"outlinewidth\":0,\"ticks\":\"\"}}],\"contour\":[{\"type\":\"contour\",\"colorbar\":{\"outlinewidth\":0,\"ticks\":\"\"},\"colorscale\":[[0.0,\"#0d0887\"],[0.1111111111111111,\"#46039f\"],[0.2222222222222222,\"#7201a8\"],[0.3333333333333333,\"#9c179e\"],[0.4444444444444444,\"#bd3786\"],[0.5555555555555556,\"#d8576b\"],[0.6666666666666666,\"#ed7953\"],[0.7777777777777778,\"#fb9f3a\"],[0.8888888888888888,\"#fdca26\"],[1.0,\"#f0f921\"]]}],\"surface\":[{\"type\":\"surface\",\"colorbar\":{\"outlinewidth\":0,\"ticks\":\"\"},\"colorscale\":[[0.0,\"#0d0887\"],[0.1111111111111111,\"#46039f\"],[0.2222222222222222,\"#7201a8\"],[0.3333333333333333,\"#9c179e\"],[0.4444444444444444,\"#bd3786\"],[0.5555555555555556,\"#d8576b\"],[0.6666666666666666,\"#ed7953\"],[0.7777777777777778,\"#fb9f3a\"],[0.8888888888888888,\"#fdca26\"],[1.0,\"#f0f921\"]]}],\"mesh3d\":[{\"type\":\"mesh3d\",\"colorbar\":{\"outlinewidth\":0,\"ticks\":\"\"}}],\"scatter\":[{\"fillpattern\":{\"fillmode\":\"overlay\",\"size\":10,\"solidity\":0.2},\"type\":\"scatter\"}],\"parcoords\":[{\"type\":\"parcoords\",\"line\":{\"colorbar\":{\"outlinewidth\":0,\"ticks\":\"\"}}}],\"scatterpolargl\":[{\"type\":\"scatterpolargl\",\"marker\":{\"colorbar\":{\"outlinewidth\":0,\"ticks\":\"\"}}}],\"bar\":[{\"error_x\":{\"color\":\"#2a3f5f\"},\"error_y\":{\"color\":\"#2a3f5f\"},\"marker\":{\"line\":{\"color\":\"#E5ECF6\",\"width\":0.5},\"pattern\":{\"fillmode\":\"overlay\",\"size\":10,\"solidity\":0.2}},\"type\":\"bar\"}],\"scattergeo\":[{\"type\":\"scattergeo\",\"marker\":{\"colorbar\":{\"outlinewidth\":0,\"ticks\":\"\"}}}],\"scatterpolar\":[{\"type\":\"scatterpolar\",\"marker\":{\"colorbar\":{\"outlinewidth\":0,\"ticks\":\"\"}}}],\"histogram\":[{\"marker\":{\"pattern\":{\"fillmode\":\"overlay\",\"size\":10,\"solidity\":0.2}},\"type\":\"histogram\"}],\"scattergl\":[{\"type\":\"scattergl\",\"marker\":{\"colorbar\":{\"outlinewidth\":0,\"ticks\":\"\"}}}],\"scatter3d\":[{\"type\":\"scatter3d\",\"line\":{\"colorbar\":{\"outlinewidth\":0,\"ticks\":\"\"}},\"marker\":{\"colorbar\":{\"outlinewidth\":0,\"ticks\":\"\"}}}],\"scattermapbox\":[{\"type\":\"scattermapbox\",\"marker\":{\"colorbar\":{\"outlinewidth\":0,\"ticks\":\"\"}}}],\"scatterternary\":[{\"type\":\"scatterternary\",\"marker\":{\"colorbar\":{\"outlinewidth\":0,\"ticks\":\"\"}}}],\"scattercarpet\":[{\"type\":\"scattercarpet\",\"marker\":{\"colorbar\":{\"outlinewidth\":0,\"ticks\":\"\"}}}],\"carpet\":[{\"aaxis\":{\"endlinecolor\":\"#2a3f5f\",\"gridcolor\":\"white\",\"linecolor\":\"white\",\"minorgridcolor\":\"white\",\"startlinecolor\":\"#2a3f5f\"},\"baxis\":{\"endlinecolor\":\"#2a3f5f\",\"gridcolor\":\"white\",\"linecolor\":\"white\",\"minorgridcolor\":\"white\",\"startlinecolor\":\"#2a3f5f\"},\"type\":\"carpet\"}],\"table\":[{\"cells\":{\"fill\":{\"color\":\"#EBF0F8\"},\"line\":{\"color\":\"white\"}},\"header\":{\"fill\":{\"color\":\"#C8D4E3\"},\"line\":{\"color\":\"white\"}},\"type\":\"table\"}],\"barpolar\":[{\"marker\":{\"line\":{\"color\":\"#E5ECF6\",\"width\":0.5},\"pattern\":{\"fillmode\":\"overlay\",\"size\":10,\"solidity\":0.2}},\"type\":\"barpolar\"}],\"pie\":[{\"automargin\":true,\"type\":\"pie\"}]},\"layout\":{\"autotypenumbers\":\"strict\",\"colorway\":[\"#636efa\",\"#EF553B\",\"#00cc96\",\"#ab63fa\",\"#FFA15A\",\"#19d3f3\",\"#FF6692\",\"#B6E880\",\"#FF97FF\",\"#FECB52\"],\"font\":{\"color\":\"#2a3f5f\"},\"hovermode\":\"closest\",\"hoverlabel\":{\"align\":\"left\"},\"paper_bgcolor\":\"white\",\"plot_bgcolor\":\"#E5ECF6\",\"polar\":{\"bgcolor\":\"#E5ECF6\",\"angularaxis\":{\"gridcolor\":\"white\",\"linecolor\":\"white\",\"ticks\":\"\"},\"radialaxis\":{\"gridcolor\":\"white\",\"linecolor\":\"white\",\"ticks\":\"\"}},\"ternary\":{\"bgcolor\":\"#E5ECF6\",\"aaxis\":{\"gridcolor\":\"white\",\"linecolor\":\"white\",\"ticks\":\"\"},\"baxis\":{\"gridcolor\":\"white\",\"linecolor\":\"white\",\"ticks\":\"\"},\"caxis\":{\"gridcolor\":\"white\",\"linecolor\":\"white\",\"ticks\":\"\"}},\"coloraxis\":{\"colorbar\":{\"outlinewidth\":0,\"ticks\":\"\"}},\"colorscale\":{\"sequential\":[[0.0,\"#0d0887\"],[0.1111111111111111,\"#46039f\"],[0.2222222222222222,\"#7201a8\"],[0.3333333333333333,\"#9c179e\"],[0.4444444444444444,\"#bd3786\"],[0.5555555555555556,\"#d8576b\"],[0.6666666666666666,\"#ed7953\"],[0.7777777777777778,\"#fb9f3a\"],[0.8888888888888888,\"#fdca26\"],[1.0,\"#f0f921\"]],\"sequentialminus\":[[0.0,\"#0d0887\"],[0.1111111111111111,\"#46039f\"],[0.2222222222222222,\"#7201a8\"],[0.3333333333333333,\"#9c179e\"],[0.4444444444444444,\"#bd3786\"],[0.5555555555555556,\"#d8576b\"],[0.6666666666666666,\"#ed7953\"],[0.7777777777777778,\"#fb9f3a\"],[0.8888888888888888,\"#fdca26\"],[1.0,\"#f0f921\"]],\"diverging\":[[0,\"#8e0152\"],[0.1,\"#c51b7d\"],[0.2,\"#de77ae\"],[0.3,\"#f1b6da\"],[0.4,\"#fde0ef\"],[0.5,\"#f7f7f7\"],[0.6,\"#e6f5d0\"],[0.7,\"#b8e186\"],[0.8,\"#7fbc41\"],[0.9,\"#4d9221\"],[1,\"#276419\"]]},\"xaxis\":{\"gridcolor\":\"white\",\"linecolor\":\"white\",\"ticks\":\"\",\"title\":{\"standoff\":15},\"zerolinecolor\":\"white\",\"automargin\":true,\"zerolinewidth\":2},\"yaxis\":{\"gridcolor\":\"white\",\"linecolor\":\"white\",\"ticks\":\"\",\"title\":{\"standoff\":15},\"zerolinecolor\":\"white\",\"automargin\":true,\"zerolinewidth\":2},\"scene\":{\"xaxis\":{\"backgroundcolor\":\"#E5ECF6\",\"gridcolor\":\"white\",\"linecolor\":\"white\",\"showbackground\":true,\"ticks\":\"\",\"zerolinecolor\":\"white\",\"gridwidth\":2},\"yaxis\":{\"backgroundcolor\":\"#E5ECF6\",\"gridcolor\":\"white\",\"linecolor\":\"white\",\"showbackground\":true,\"ticks\":\"\",\"zerolinecolor\":\"white\",\"gridwidth\":2},\"zaxis\":{\"backgroundcolor\":\"#E5ECF6\",\"gridcolor\":\"white\",\"linecolor\":\"white\",\"showbackground\":true,\"ticks\":\"\",\"zerolinecolor\":\"white\",\"gridwidth\":2}},\"shapedefaults\":{\"line\":{\"color\":\"#2a3f5f\"}},\"annotationdefaults\":{\"arrowcolor\":\"#2a3f5f\",\"arrowhead\":0,\"arrowwidth\":1},\"geo\":{\"bgcolor\":\"white\",\"landcolor\":\"#E5ECF6\",\"subunitcolor\":\"white\",\"showland\":true,\"showlakes\":true,\"lakecolor\":\"white\"},\"title\":{\"x\":0.05},\"mapbox\":{\"style\":\"light\"}}},\"xaxis\":{\"anchor\":\"y\",\"domain\":[0.0,1.0],\"title\":{\"text\":\"Consumer Price\"}},\"yaxis\":{\"anchor\":\"x\",\"domain\":[0.0,1.0],\"title\":{\"text\":\"Emissions per Capita\"}},\"legend\":{\"title\":{\"text\":\"Country\"},\"tracegroupgap\":0},\"title\":{\"text\":\"Consume Price and Carbon Emissions per Capita (2019)\"}},                        {\"responsive\": true}                    ).then(function(){\n",
       "                            \n",
       "var gd = document.getElementById('50309488-ea82-4344-840f-fb6f05722ad1');\n",
       "var x = new MutationObserver(function (mutations, observer) {{\n",
       "        var display = window.getComputedStyle(gd).display;\n",
       "        if (!display || display === 'none') {{\n",
       "            console.log([gd, 'removed!']);\n",
       "            Plotly.purge(gd);\n",
       "            observer.disconnect();\n",
       "        }}\n",
       "}});\n",
       "\n",
       "// Listen for the removal of the full notebook cells\n",
       "var notebookContainer = gd.closest('#notebook-container');\n",
       "if (notebookContainer) {{\n",
       "    x.observe(notebookContainer, {childList: true});\n",
       "}}\n",
       "\n",
       "// Listen for the clearing of the current output cell\n",
       "var outputEl = gd.closest('.output');\n",
       "if (outputEl) {{\n",
       "    x.observe(outputEl, {childList: true});\n",
       "}}\n",
       "\n",
       "                        })                };                });            </script>        </div>"
      ]
     },
     "metadata": {},
     "output_type": "display_data"
    }
   ],
   "source": [
    "#Graph\n",
    "import plotly.express as px\n",
    "fig = px.scatter(\n",
    "    filtered_un_merged,\n",
    "    x=\"Value_x\",  # x-axis (Consumer Price)\n",
    "    y=\"Value_y\",  # y-axis (Emissions per Capita)\n",
    "    color=\"Country\",\n",
    "    title=\"Consume Price and Carbon Emissions per Capita (2019)\",\n",
    "    labels={\"Value_x\": \"Consumer Price\", \"Value_y\": \"Emissions per Capita\"},\n",
    ")\n",
    "\n",
    "# Show the plot\n",
    "fig.show()"
   ]
  },
  {
   "cell_type": "code",
   "execution_count": 37,
   "id": "869b93da-5f68-4756-8cd5-ebeee297d433",
   "metadata": {},
   "outputs": [
    {
     "data": {
      "application/vnd.plotly.v1+json": {
       "config": {
        "plotlyServerURL": "https://plot.ly"
       },
       "data": [
        {
         "hovertemplate": "Country=Albania<br>Consumer Price=%{x}<br>Emissions per Capita=%{y}<extra></extra>",
         "legendgroup": "Albania",
         "marker": {
          "color": "#636efa",
          "symbol": "circle"
         },
         "mode": "markers",
         "name": "Albania",
         "orientation": "v",
         "showlegend": true,
         "type": "scatter",
         "x": [
          1.4
         ],
         "xaxis": "x",
         "y": [
          1.4
         ],
         "yaxis": "y"
        },
        {
         "hovertemplate": "Country=Armenia<br>Consumer Price=%{x}<br>Emissions per Capita=%{y}<extra></extra>",
         "legendgroup": "Armenia",
         "marker": {
          "color": "#EF553B",
          "symbol": "circle"
         },
         "mode": "markers",
         "name": "Armenia",
         "orientation": "v",
         "showlegend": true,
         "type": "scatter",
         "x": [
          1.4
         ],
         "xaxis": "x",
         "y": [
          2
         ],
         "yaxis": "y"
        },
        {
         "hovertemplate": "Country=Austria<br>Consumer Price=%{x}<br>Emissions per Capita=%{y}<extra></extra>",
         "legendgroup": "Austria",
         "marker": {
          "color": "#00cc96",
          "symbol": "circle"
         },
         "mode": "markers",
         "name": "Austria",
         "orientation": "v",
         "showlegend": true,
         "type": "scatter",
         "x": [
          1.5
         ],
         "xaxis": "x",
         "y": [
          7.1
         ],
         "yaxis": "y"
        },
        {
         "hovertemplate": "Country=Azerbaijan<br>Consumer Price=%{x}<br>Emissions per Capita=%{y}<extra></extra>",
         "legendgroup": "Azerbaijan",
         "marker": {
          "color": "#ab63fa",
          "symbol": "circle"
         },
         "mode": "markers",
         "name": "Azerbaijan",
         "orientation": "v",
         "showlegend": true,
         "type": "scatter",
         "x": [
          2.6
         ],
         "xaxis": "x",
         "y": [
          3.4
         ],
         "yaxis": "y"
        },
        {
         "hovertemplate": "Country=Belarus<br>Consumer Price=%{x}<br>Emissions per Capita=%{y}<extra></extra>",
         "legendgroup": "Belarus",
         "marker": {
          "color": "#FFA15A",
          "symbol": "circle"
         },
         "mode": "markers",
         "name": "Belarus",
         "orientation": "v",
         "showlegend": true,
         "type": "scatter",
         "x": [
          5.6
         ],
         "xaxis": "x",
         "y": [
          5.9
         ],
         "yaxis": "y"
        },
        {
         "hovertemplate": "Country=Belgium<br>Consumer Price=%{x}<br>Emissions per Capita=%{y}<extra></extra>",
         "legendgroup": "Belgium",
         "marker": {
          "color": "#19d3f3",
          "symbol": "circle"
         },
         "mode": "markers",
         "name": "Belgium",
         "orientation": "v",
         "showlegend": true,
         "type": "scatter",
         "x": [
          1.4
         ],
         "xaxis": "x",
         "y": [
          7.9
         ],
         "yaxis": "y"
        },
        {
         "hovertemplate": "Country=Bosnia and Herzegovina<br>Consumer Price=%{x}<br>Emissions per Capita=%{y}<extra></extra>",
         "legendgroup": "Bosnia and Herzegovina",
         "marker": {
          "color": "#FF6692",
          "symbol": "circle"
         },
         "mode": "markers",
         "name": "Bosnia and Herzegovina",
         "orientation": "v",
         "showlegend": true,
         "type": "scatter",
         "x": [
          0.8
         ],
         "xaxis": "x",
         "y": [
          6.3
         ],
         "yaxis": "y"
        },
        {
         "hovertemplate": "Country=Bulgaria<br>Consumer Price=%{x}<br>Emissions per Capita=%{y}<extra></extra>",
         "legendgroup": "Bulgaria",
         "marker": {
          "color": "#B6E880",
          "symbol": "circle"
         },
         "mode": "markers",
         "name": "Bulgaria",
         "orientation": "v",
         "showlegend": true,
         "type": "scatter",
         "x": [
          3.1
         ],
         "xaxis": "x",
         "y": [
          5.5
         ],
         "yaxis": "y"
        },
        {
         "hovertemplate": "Country=Canada<br>Consumer Price=%{x}<br>Emissions per Capita=%{y}<extra></extra>",
         "legendgroup": "Canada",
         "marker": {
          "color": "#FF97FF",
          "symbol": "circle"
         },
         "mode": "markers",
         "name": "Canada",
         "orientation": "v",
         "showlegend": true,
         "type": "scatter",
         "x": [
          1.9
         ],
         "xaxis": "x",
         "y": [
          14.8
         ],
         "yaxis": "y"
        },
        {
         "hovertemplate": "Country=Croatia<br>Consumer Price=%{x}<br>Emissions per Capita=%{y}<extra></extra>",
         "legendgroup": "Croatia",
         "marker": {
          "color": "#FECB52",
          "symbol": "circle"
         },
         "mode": "markers",
         "name": "Croatia",
         "orientation": "v",
         "showlegend": true,
         "type": "scatter",
         "x": [
          0.8
         ],
         "xaxis": "x",
         "y": [
          3.8
         ],
         "yaxis": "y"
        },
        {
         "hovertemplate": "Country=Cyprus<br>Consumer Price=%{x}<br>Emissions per Capita=%{y}<extra></extra>",
         "legendgroup": "Cyprus",
         "marker": {
          "color": "#636efa",
          "symbol": "circle"
         },
         "mode": "markers",
         "name": "Cyprus",
         "orientation": "v",
         "showlegend": true,
         "type": "scatter",
         "x": [
          0.2
         ],
         "xaxis": "x",
         "y": [
          7.3
         ],
         "yaxis": "y"
        },
        {
         "hovertemplate": "Country=Czechia<br>Consumer Price=%{x}<br>Emissions per Capita=%{y}<extra></extra>",
         "legendgroup": "Czechia",
         "marker": {
          "color": "#EF553B",
          "symbol": "circle"
         },
         "mode": "markers",
         "name": "Czechia",
         "orientation": "v",
         "showlegend": true,
         "type": "scatter",
         "x": [
          2.8
         ],
         "xaxis": "x",
         "y": [
          9
         ],
         "yaxis": "y"
        },
        {
         "hovertemplate": "Country=Denmark<br>Consumer Price=%{x}<br>Emissions per Capita=%{y}<extra></extra>",
         "legendgroup": "Denmark",
         "marker": {
          "color": "#00cc96",
          "symbol": "circle"
         },
         "mode": "markers",
         "name": "Denmark",
         "orientation": "v",
         "showlegend": true,
         "type": "scatter",
         "x": [
          0.8
         ],
         "xaxis": "x",
         "y": [
          4.9
         ],
         "yaxis": "y"
        },
        {
         "hovertemplate": "Country=Estonia<br>Consumer Price=%{x}<br>Emissions per Capita=%{y}<extra></extra>",
         "legendgroup": "Estonia",
         "marker": {
          "color": "#ab63fa",
          "symbol": "circle"
         },
         "mode": "markers",
         "name": "Estonia",
         "orientation": "v",
         "showlegend": true,
         "type": "scatter",
         "x": [
          2.3
         ],
         "xaxis": "x",
         "y": [
          7.4
         ],
         "yaxis": "y"
        },
        {
         "hovertemplate": "Country=Finland<br>Consumer Price=%{x}<br>Emissions per Capita=%{y}<extra></extra>",
         "legendgroup": "Finland",
         "marker": {
          "color": "#FFA15A",
          "symbol": "circle"
         },
         "mode": "markers",
         "name": "Finland",
         "orientation": "v",
         "showlegend": true,
         "type": "scatter",
         "x": [
          1
         ],
         "xaxis": "x",
         "y": [
          7.3
         ],
         "yaxis": "y"
        },
        {
         "hovertemplate": "Country=France<br>Consumer Price=%{x}<br>Emissions per Capita=%{y}<extra></extra>",
         "legendgroup": "France",
         "marker": {
          "color": "#19d3f3",
          "symbol": "circle"
         },
         "mode": "markers",
         "name": "France",
         "orientation": "v",
         "showlegend": true,
         "type": "scatter",
         "x": [
          1.1
         ],
         "xaxis": "x",
         "y": [
          4.3
         ],
         "yaxis": "y"
        },
        {
         "hovertemplate": "Country=Georgia<br>Consumer Price=%{x}<br>Emissions per Capita=%{y}<extra></extra>",
         "legendgroup": "Georgia",
         "marker": {
          "color": "#FF6692",
          "symbol": "circle"
         },
         "mode": "markers",
         "name": "Georgia",
         "orientation": "v",
         "showlegend": true,
         "type": "scatter",
         "x": [
          4.9
         ],
         "xaxis": "x",
         "y": [
          2.6
         ],
         "yaxis": "y"
        },
        {
         "hovertemplate": "Country=Germany<br>Consumer Price=%{x}<br>Emissions per Capita=%{y}<extra></extra>",
         "legendgroup": "Germany",
         "marker": {
          "color": "#B6E880",
          "symbol": "circle"
         },
         "mode": "markers",
         "name": "Germany",
         "orientation": "v",
         "showlegend": true,
         "type": "scatter",
         "x": [
          1.4
         ],
         "xaxis": "x",
         "y": [
          7.8
         ],
         "yaxis": "y"
        },
        {
         "hovertemplate": "Country=Greece<br>Consumer Price=%{x}<br>Emissions per Capita=%{y}<extra></extra>",
         "legendgroup": "Greece",
         "marker": {
          "color": "#FF97FF",
          "symbol": "circle"
         },
         "mode": "markers",
         "name": "Greece",
         "orientation": "v",
         "showlegend": true,
         "type": "scatter",
         "x": [
          0.3
         ],
         "xaxis": "x",
         "y": [
          5.3
         ],
         "yaxis": "y"
        },
        {
         "hovertemplate": "Country=Hungary<br>Consumer Price=%{x}<br>Emissions per Capita=%{y}<extra></extra>",
         "legendgroup": "Hungary",
         "marker": {
          "color": "#FECB52",
          "symbol": "circle"
         },
         "mode": "markers",
         "name": "Hungary",
         "orientation": "v",
         "showlegend": true,
         "type": "scatter",
         "x": [
          3.3
         ],
         "xaxis": "x",
         "y": [
          4.7
         ],
         "yaxis": "y"
        },
        {
         "hovertemplate": "Country=Iceland<br>Consumer Price=%{x}<br>Emissions per Capita=%{y}<extra></extra>",
         "legendgroup": "Iceland",
         "marker": {
          "color": "#636efa",
          "symbol": "circle"
         },
         "mode": "markers",
         "name": "Iceland",
         "orientation": "v",
         "showlegend": true,
         "type": "scatter",
         "x": [
          3
         ],
         "xaxis": "x",
         "y": [
          4.5
         ],
         "yaxis": "y"
        },
        {
         "hovertemplate": "Country=Ireland<br>Consumer Price=%{x}<br>Emissions per Capita=%{y}<extra></extra>",
         "legendgroup": "Ireland",
         "marker": {
          "color": "#EF553B",
          "symbol": "circle"
         },
         "mode": "markers",
         "name": "Ireland",
         "orientation": "v",
         "showlegend": true,
         "type": "scatter",
         "x": [
          0.9
         ],
         "xaxis": "x",
         "y": [
          6.9
         ],
         "yaxis": "y"
        },
        {
         "hovertemplate": "Country=Israel<br>Consumer Price=%{x}<br>Emissions per Capita=%{y}<extra></extra>",
         "legendgroup": "Israel",
         "marker": {
          "color": "#00cc96",
          "symbol": "circle"
         },
         "mode": "markers",
         "name": "Israel",
         "orientation": "v",
         "showlegend": true,
         "type": "scatter",
         "x": [
          0.8
         ],
         "xaxis": "x",
         "y": [
          6.8
         ],
         "yaxis": "y"
        },
        {
         "hovertemplate": "Country=Italy<br>Consumer Price=%{x}<br>Emissions per Capita=%{y}<extra></extra>",
         "legendgroup": "Italy",
         "marker": {
          "color": "#ab63fa",
          "symbol": "circle"
         },
         "mode": "markers",
         "name": "Italy",
         "orientation": "v",
         "showlegend": true,
         "type": "scatter",
         "x": [
          0.6
         ],
         "xaxis": "x",
         "y": [
          5.2
         ],
         "yaxis": "y"
        },
        {
         "hovertemplate": "Country=Kazakhstan<br>Consumer Price=%{x}<br>Emissions per Capita=%{y}<extra></extra>",
         "legendgroup": "Kazakhstan",
         "marker": {
          "color": "#FFA15A",
          "symbol": "circle"
         },
         "mode": "markers",
         "name": "Kazakhstan",
         "orientation": "v",
         "showlegend": true,
         "type": "scatter",
         "x": [
          5.2
         ],
         "xaxis": "x",
         "y": [
          10.7
         ],
         "yaxis": "y"
        },
        {
         "hovertemplate": "Country=Kyrgyzstan<br>Consumer Price=%{x}<br>Emissions per Capita=%{y}<extra></extra>",
         "legendgroup": "Kyrgyzstan",
         "marker": {
          "color": "#19d3f3",
          "symbol": "circle"
         },
         "mode": "markers",
         "name": "Kyrgyzstan",
         "orientation": "v",
         "showlegend": true,
         "type": "scatter",
         "x": [
          1.1
         ],
         "xaxis": "x",
         "y": [
          1.4
         ],
         "yaxis": "y"
        },
        {
         "hovertemplate": "Country=Latvia<br>Consumer Price=%{x}<br>Emissions per Capita=%{y}<extra></extra>",
         "legendgroup": "Latvia",
         "marker": {
          "color": "#FF6692",
          "symbol": "circle"
         },
         "mode": "markers",
         "name": "Latvia",
         "orientation": "v",
         "showlegend": true,
         "type": "scatter",
         "x": [
          2.8
         ],
         "xaxis": "x",
         "y": [
          3.7
         ],
         "yaxis": "y"
        },
        {
         "hovertemplate": "Country=Lithuania<br>Consumer Price=%{x}<br>Emissions per Capita=%{y}<extra></extra>",
         "legendgroup": "Lithuania",
         "marker": {
          "color": "#B6E880",
          "symbol": "circle"
         },
         "mode": "markers",
         "name": "Lithuania",
         "orientation": "v",
         "showlegend": true,
         "type": "scatter",
         "x": [
          2.3
         ],
         "xaxis": "x",
         "y": [
          4
         ],
         "yaxis": "y"
        },
        {
         "hovertemplate": "Country=Luxembourg<br>Consumer Price=%{x}<br>Emissions per Capita=%{y}<extra></extra>",
         "legendgroup": "Luxembourg",
         "marker": {
          "color": "#FF97FF",
          "symbol": "circle"
         },
         "mode": "markers",
         "name": "Luxembourg",
         "orientation": "v",
         "showlegend": true,
         "type": "scatter",
         "x": [
          1.7
         ],
         "xaxis": "x",
         "y": [
          14.6
         ],
         "yaxis": "y"
        },
        {
         "hovertemplate": "Country=Malta<br>Consumer Price=%{x}<br>Emissions per Capita=%{y}<extra></extra>",
         "legendgroup": "Malta",
         "marker": {
          "color": "#FECB52",
          "symbol": "circle"
         },
         "mode": "markers",
         "name": "Malta",
         "orientation": "v",
         "showlegend": true,
         "type": "scatter",
         "x": [
          1.6
         ],
         "xaxis": "x",
         "y": [
          3.3
         ],
         "yaxis": "y"
        },
        {
         "hovertemplate": "Country=Montenegro<br>Consumer Price=%{x}<br>Emissions per Capita=%{y}<extra></extra>",
         "legendgroup": "Montenegro",
         "marker": {
          "color": "#636efa",
          "symbol": "circle"
         },
         "mode": "markers",
         "name": "Montenegro",
         "orientation": "v",
         "showlegend": true,
         "type": "scatter",
         "x": [
          0.4
         ],
         "xaxis": "x",
         "y": [
          4.2
         ],
         "yaxis": "y"
        },
        {
         "hovertemplate": "Country=North Macedonia<br>Consumer Price=%{x}<br>Emissions per Capita=%{y}<extra></extra>",
         "legendgroup": "North Macedonia",
         "marker": {
          "color": "#EF553B",
          "symbol": "circle"
         },
         "mode": "markers",
         "name": "North Macedonia",
         "orientation": "v",
         "showlegend": true,
         "type": "scatter",
         "x": [
          0.8
         ],
         "xaxis": "x",
         "y": [
          3.8
         ],
         "yaxis": "y"
        },
        {
         "hovertemplate": "Country=Norway<br>Consumer Price=%{x}<br>Emissions per Capita=%{y}<extra></extra>",
         "legendgroup": "Norway",
         "marker": {
          "color": "#00cc96",
          "symbol": "circle"
         },
         "mode": "markers",
         "name": "Norway",
         "orientation": "v",
         "showlegend": true,
         "type": "scatter",
         "x": [
          2.2
         ],
         "xaxis": "x",
         "y": [
          6.8
         ],
         "yaxis": "y"
        },
        {
         "hovertemplate": "Country=Poland<br>Consumer Price=%{x}<br>Emissions per Capita=%{y}<extra></extra>",
         "legendgroup": "Poland",
         "marker": {
          "color": "#ab63fa",
          "symbol": "circle"
         },
         "mode": "markers",
         "name": "Poland",
         "orientation": "v",
         "showlegend": true,
         "type": "scatter",
         "x": [
          2.2
         ],
         "xaxis": "x",
         "y": [
          7.5
         ],
         "yaxis": "y"
        },
        {
         "hovertemplate": "Country=Portugal<br>Consumer Price=%{x}<br>Emissions per Capita=%{y}<extra></extra>",
         "legendgroup": "Portugal",
         "marker": {
          "color": "#FFA15A",
          "symbol": "circle"
         },
         "mode": "markers",
         "name": "Portugal",
         "orientation": "v",
         "showlegend": true,
         "type": "scatter",
         "x": [
          0.3
         ],
         "xaxis": "x",
         "y": [
          4.1
         ],
         "yaxis": "y"
        },
        {
         "hovertemplate": "Country=Republic of Moldova<br>Consumer Price=%{x}<br>Emissions per Capita=%{y}<extra></extra>",
         "legendgroup": "Republic of Moldova",
         "marker": {
          "color": "#19d3f3",
          "symbol": "circle"
         },
         "mode": "markers",
         "name": "Republic of Moldova",
         "orientation": "v",
         "showlegend": true,
         "type": "scatter",
         "x": [
          4.8
         ],
         "xaxis": "x",
         "y": [
          3.1
         ],
         "yaxis": "y"
        },
        {
         "hovertemplate": "Country=Romania<br>Consumer Price=%{x}<br>Emissions per Capita=%{y}<extra></extra>",
         "legendgroup": "Romania",
         "marker": {
          "color": "#FF6692",
          "symbol": "circle"
         },
         "mode": "markers",
         "name": "Romania",
         "orientation": "v",
         "showlegend": true,
         "type": "scatter",
         "x": [
          3.8
         ],
         "xaxis": "x",
         "y": [
          3.6
         ],
         "yaxis": "y"
        },
        {
         "hovertemplate": "Country=Serbia<br>Consumer Price=%{x}<br>Emissions per Capita=%{y}<extra></extra>",
         "legendgroup": "Serbia",
         "marker": {
          "color": "#B6E880",
          "symbol": "circle"
         },
         "mode": "markers",
         "name": "Serbia",
         "orientation": "v",
         "showlegend": true,
         "type": "scatter",
         "x": [
          1.8
         ],
         "xaxis": "x",
         "y": [
          6.5
         ],
         "yaxis": "y"
        },
        {
         "hovertemplate": "Country=Slovakia<br>Consumer Price=%{x}<br>Emissions per Capita=%{y}<extra></extra>",
         "legendgroup": "Slovakia",
         "marker": {
          "color": "#FF97FF",
          "symbol": "circle"
         },
         "mode": "markers",
         "name": "Slovakia",
         "orientation": "v",
         "showlegend": true,
         "type": "scatter",
         "x": [
          2.7
         ],
         "xaxis": "x",
         "y": [
          5.4
         ],
         "yaxis": "y"
        },
        {
         "hovertemplate": "Country=Slovenia<br>Consumer Price=%{x}<br>Emissions per Capita=%{y}<extra></extra>",
         "legendgroup": "Slovenia",
         "marker": {
          "color": "#FECB52",
          "symbol": "circle"
         },
         "mode": "markers",
         "name": "Slovenia",
         "orientation": "v",
         "showlegend": true,
         "type": "scatter",
         "x": [
          1.6
         ],
         "xaxis": "x",
         "y": [
          6.3
         ],
         "yaxis": "y"
        },
        {
         "hovertemplate": "Country=Spain<br>Consumer Price=%{x}<br>Emissions per Capita=%{y}<extra></extra>",
         "legendgroup": "Spain",
         "marker": {
          "color": "#636efa",
          "symbol": "circle"
         },
         "mode": "markers",
         "name": "Spain",
         "orientation": "v",
         "showlegend": true,
         "type": "scatter",
         "x": [
          0.7
         ],
         "xaxis": "x",
         "y": [
          4.9
         ],
         "yaxis": "y"
        },
        {
         "hovertemplate": "Country=Sweden<br>Consumer Price=%{x}<br>Emissions per Capita=%{y}<extra></extra>",
         "legendgroup": "Sweden",
         "marker": {
          "color": "#EF553B",
          "symbol": "circle"
         },
         "mode": "markers",
         "name": "Sweden",
         "orientation": "v",
         "showlegend": true,
         "type": "scatter",
         "x": [
          1.8
         ],
         "xaxis": "x",
         "y": [
          3.3
         ],
         "yaxis": "y"
        },
        {
         "hovertemplate": "Country=Switzerland<br>Consumer Price=%{x}<br>Emissions per Capita=%{y}<extra></extra>",
         "legendgroup": "Switzerland",
         "marker": {
          "color": "#00cc96",
          "symbol": "circle"
         },
         "mode": "markers",
         "name": "Switzerland",
         "orientation": "v",
         "showlegend": true,
         "type": "scatter",
         "x": [
          0.4
         ],
         "xaxis": "x",
         "y": [
          4.2
         ],
         "yaxis": "y"
        },
        {
         "hovertemplate": "Country=Tajikistan<br>Consumer Price=%{x}<br>Emissions per Capita=%{y}<extra></extra>",
         "legendgroup": "Tajikistan",
         "marker": {
          "color": "#ab63fa",
          "symbol": "circle"
         },
         "mode": "markers",
         "name": "Tajikistan",
         "orientation": "v",
         "showlegend": true,
         "type": "scatter",
         "x": [
          7.8
         ],
         "xaxis": "x",
         "y": [
          0.7
         ],
         "yaxis": "y"
        },
        {
         "hovertemplate": "Country=Ukraine<br>Consumer Price=%{x}<br>Emissions per Capita=%{y}<extra></extra>",
         "legendgroup": "Ukraine",
         "marker": {
          "color": "#FFA15A",
          "symbol": "circle"
         },
         "mode": "markers",
         "name": "Ukraine",
         "orientation": "v",
         "showlegend": true,
         "type": "scatter",
         "x": [
          7.9
         ],
         "xaxis": "x",
         "y": [
          3.8
         ],
         "yaxis": "y"
        },
        {
         "hovertemplate": "Country=United Kingdom<br>Consumer Price=%{x}<br>Emissions per Capita=%{y}<extra></extra>",
         "legendgroup": "United Kingdom",
         "marker": {
          "color": "#19d3f3",
          "symbol": "circle"
         },
         "mode": "markers",
         "name": "United Kingdom",
         "orientation": "v",
         "showlegend": true,
         "type": "scatter",
         "x": [
          1.7
         ],
         "xaxis": "x",
         "y": [
          5.1
         ],
         "yaxis": "y"
        }
       ],
       "layout": {
        "legend": {
         "title": {
          "text": "Country"
         },
         "tracegroupgap": 0
        },
        "template": {
         "data": {
          "bar": [
           {
            "error_x": {
             "color": "#2a3f5f"
            },
            "error_y": {
             "color": "#2a3f5f"
            },
            "marker": {
             "line": {
              "color": "#E5ECF6",
              "width": 0.5
             },
             "pattern": {
              "fillmode": "overlay",
              "size": 10,
              "solidity": 0.2
             }
            },
            "type": "bar"
           }
          ],
          "barpolar": [
           {
            "marker": {
             "line": {
              "color": "#E5ECF6",
              "width": 0.5
             },
             "pattern": {
              "fillmode": "overlay",
              "size": 10,
              "solidity": 0.2
             }
            },
            "type": "barpolar"
           }
          ],
          "carpet": [
           {
            "aaxis": {
             "endlinecolor": "#2a3f5f",
             "gridcolor": "white",
             "linecolor": "white",
             "minorgridcolor": "white",
             "startlinecolor": "#2a3f5f"
            },
            "baxis": {
             "endlinecolor": "#2a3f5f",
             "gridcolor": "white",
             "linecolor": "white",
             "minorgridcolor": "white",
             "startlinecolor": "#2a3f5f"
            },
            "type": "carpet"
           }
          ],
          "choropleth": [
           {
            "colorbar": {
             "outlinewidth": 0,
             "ticks": ""
            },
            "type": "choropleth"
           }
          ],
          "contour": [
           {
            "colorbar": {
             "outlinewidth": 0,
             "ticks": ""
            },
            "colorscale": [
             [
              0,
              "#0d0887"
             ],
             [
              0.1111111111111111,
              "#46039f"
             ],
             [
              0.2222222222222222,
              "#7201a8"
             ],
             [
              0.3333333333333333,
              "#9c179e"
             ],
             [
              0.4444444444444444,
              "#bd3786"
             ],
             [
              0.5555555555555556,
              "#d8576b"
             ],
             [
              0.6666666666666666,
              "#ed7953"
             ],
             [
              0.7777777777777778,
              "#fb9f3a"
             ],
             [
              0.8888888888888888,
              "#fdca26"
             ],
             [
              1,
              "#f0f921"
             ]
            ],
            "type": "contour"
           }
          ],
          "contourcarpet": [
           {
            "colorbar": {
             "outlinewidth": 0,
             "ticks": ""
            },
            "type": "contourcarpet"
           }
          ],
          "heatmap": [
           {
            "colorbar": {
             "outlinewidth": 0,
             "ticks": ""
            },
            "colorscale": [
             [
              0,
              "#0d0887"
             ],
             [
              0.1111111111111111,
              "#46039f"
             ],
             [
              0.2222222222222222,
              "#7201a8"
             ],
             [
              0.3333333333333333,
              "#9c179e"
             ],
             [
              0.4444444444444444,
              "#bd3786"
             ],
             [
              0.5555555555555556,
              "#d8576b"
             ],
             [
              0.6666666666666666,
              "#ed7953"
             ],
             [
              0.7777777777777778,
              "#fb9f3a"
             ],
             [
              0.8888888888888888,
              "#fdca26"
             ],
             [
              1,
              "#f0f921"
             ]
            ],
            "type": "heatmap"
           }
          ],
          "heatmapgl": [
           {
            "colorbar": {
             "outlinewidth": 0,
             "ticks": ""
            },
            "colorscale": [
             [
              0,
              "#0d0887"
             ],
             [
              0.1111111111111111,
              "#46039f"
             ],
             [
              0.2222222222222222,
              "#7201a8"
             ],
             [
              0.3333333333333333,
              "#9c179e"
             ],
             [
              0.4444444444444444,
              "#bd3786"
             ],
             [
              0.5555555555555556,
              "#d8576b"
             ],
             [
              0.6666666666666666,
              "#ed7953"
             ],
             [
              0.7777777777777778,
              "#fb9f3a"
             ],
             [
              0.8888888888888888,
              "#fdca26"
             ],
             [
              1,
              "#f0f921"
             ]
            ],
            "type": "heatmapgl"
           }
          ],
          "histogram": [
           {
            "marker": {
             "pattern": {
              "fillmode": "overlay",
              "size": 10,
              "solidity": 0.2
             }
            },
            "type": "histogram"
           }
          ],
          "histogram2d": [
           {
            "colorbar": {
             "outlinewidth": 0,
             "ticks": ""
            },
            "colorscale": [
             [
              0,
              "#0d0887"
             ],
             [
              0.1111111111111111,
              "#46039f"
             ],
             [
              0.2222222222222222,
              "#7201a8"
             ],
             [
              0.3333333333333333,
              "#9c179e"
             ],
             [
              0.4444444444444444,
              "#bd3786"
             ],
             [
              0.5555555555555556,
              "#d8576b"
             ],
             [
              0.6666666666666666,
              "#ed7953"
             ],
             [
              0.7777777777777778,
              "#fb9f3a"
             ],
             [
              0.8888888888888888,
              "#fdca26"
             ],
             [
              1,
              "#f0f921"
             ]
            ],
            "type": "histogram2d"
           }
          ],
          "histogram2dcontour": [
           {
            "colorbar": {
             "outlinewidth": 0,
             "ticks": ""
            },
            "colorscale": [
             [
              0,
              "#0d0887"
             ],
             [
              0.1111111111111111,
              "#46039f"
             ],
             [
              0.2222222222222222,
              "#7201a8"
             ],
             [
              0.3333333333333333,
              "#9c179e"
             ],
             [
              0.4444444444444444,
              "#bd3786"
             ],
             [
              0.5555555555555556,
              "#d8576b"
             ],
             [
              0.6666666666666666,
              "#ed7953"
             ],
             [
              0.7777777777777778,
              "#fb9f3a"
             ],
             [
              0.8888888888888888,
              "#fdca26"
             ],
             [
              1,
              "#f0f921"
             ]
            ],
            "type": "histogram2dcontour"
           }
          ],
          "mesh3d": [
           {
            "colorbar": {
             "outlinewidth": 0,
             "ticks": ""
            },
            "type": "mesh3d"
           }
          ],
          "parcoords": [
           {
            "line": {
             "colorbar": {
              "outlinewidth": 0,
              "ticks": ""
             }
            },
            "type": "parcoords"
           }
          ],
          "pie": [
           {
            "automargin": true,
            "type": "pie"
           }
          ],
          "scatter": [
           {
            "fillpattern": {
             "fillmode": "overlay",
             "size": 10,
             "solidity": 0.2
            },
            "type": "scatter"
           }
          ],
          "scatter3d": [
           {
            "line": {
             "colorbar": {
              "outlinewidth": 0,
              "ticks": ""
             }
            },
            "marker": {
             "colorbar": {
              "outlinewidth": 0,
              "ticks": ""
             }
            },
            "type": "scatter3d"
           }
          ],
          "scattercarpet": [
           {
            "marker": {
             "colorbar": {
              "outlinewidth": 0,
              "ticks": ""
             }
            },
            "type": "scattercarpet"
           }
          ],
          "scattergeo": [
           {
            "marker": {
             "colorbar": {
              "outlinewidth": 0,
              "ticks": ""
             }
            },
            "type": "scattergeo"
           }
          ],
          "scattergl": [
           {
            "marker": {
             "colorbar": {
              "outlinewidth": 0,
              "ticks": ""
             }
            },
            "type": "scattergl"
           }
          ],
          "scattermapbox": [
           {
            "marker": {
             "colorbar": {
              "outlinewidth": 0,
              "ticks": ""
             }
            },
            "type": "scattermapbox"
           }
          ],
          "scatterpolar": [
           {
            "marker": {
             "colorbar": {
              "outlinewidth": 0,
              "ticks": ""
             }
            },
            "type": "scatterpolar"
           }
          ],
          "scatterpolargl": [
           {
            "marker": {
             "colorbar": {
              "outlinewidth": 0,
              "ticks": ""
             }
            },
            "type": "scatterpolargl"
           }
          ],
          "scatterternary": [
           {
            "marker": {
             "colorbar": {
              "outlinewidth": 0,
              "ticks": ""
             }
            },
            "type": "scatterternary"
           }
          ],
          "surface": [
           {
            "colorbar": {
             "outlinewidth": 0,
             "ticks": ""
            },
            "colorscale": [
             [
              0,
              "#0d0887"
             ],
             [
              0.1111111111111111,
              "#46039f"
             ],
             [
              0.2222222222222222,
              "#7201a8"
             ],
             [
              0.3333333333333333,
              "#9c179e"
             ],
             [
              0.4444444444444444,
              "#bd3786"
             ],
             [
              0.5555555555555556,
              "#d8576b"
             ],
             [
              0.6666666666666666,
              "#ed7953"
             ],
             [
              0.7777777777777778,
              "#fb9f3a"
             ],
             [
              0.8888888888888888,
              "#fdca26"
             ],
             [
              1,
              "#f0f921"
             ]
            ],
            "type": "surface"
           }
          ],
          "table": [
           {
            "cells": {
             "fill": {
              "color": "#EBF0F8"
             },
             "line": {
              "color": "white"
             }
            },
            "header": {
             "fill": {
              "color": "#C8D4E3"
             },
             "line": {
              "color": "white"
             }
            },
            "type": "table"
           }
          ]
         },
         "layout": {
          "annotationdefaults": {
           "arrowcolor": "#2a3f5f",
           "arrowhead": 0,
           "arrowwidth": 1
          },
          "autotypenumbers": "strict",
          "coloraxis": {
           "colorbar": {
            "outlinewidth": 0,
            "ticks": ""
           }
          },
          "colorscale": {
           "diverging": [
            [
             0,
             "#8e0152"
            ],
            [
             0.1,
             "#c51b7d"
            ],
            [
             0.2,
             "#de77ae"
            ],
            [
             0.3,
             "#f1b6da"
            ],
            [
             0.4,
             "#fde0ef"
            ],
            [
             0.5,
             "#f7f7f7"
            ],
            [
             0.6,
             "#e6f5d0"
            ],
            [
             0.7,
             "#b8e186"
            ],
            [
             0.8,
             "#7fbc41"
            ],
            [
             0.9,
             "#4d9221"
            ],
            [
             1,
             "#276419"
            ]
           ],
           "sequential": [
            [
             0,
             "#0d0887"
            ],
            [
             0.1111111111111111,
             "#46039f"
            ],
            [
             0.2222222222222222,
             "#7201a8"
            ],
            [
             0.3333333333333333,
             "#9c179e"
            ],
            [
             0.4444444444444444,
             "#bd3786"
            ],
            [
             0.5555555555555556,
             "#d8576b"
            ],
            [
             0.6666666666666666,
             "#ed7953"
            ],
            [
             0.7777777777777778,
             "#fb9f3a"
            ],
            [
             0.8888888888888888,
             "#fdca26"
            ],
            [
             1,
             "#f0f921"
            ]
           ],
           "sequentialminus": [
            [
             0,
             "#0d0887"
            ],
            [
             0.1111111111111111,
             "#46039f"
            ],
            [
             0.2222222222222222,
             "#7201a8"
            ],
            [
             0.3333333333333333,
             "#9c179e"
            ],
            [
             0.4444444444444444,
             "#bd3786"
            ],
            [
             0.5555555555555556,
             "#d8576b"
            ],
            [
             0.6666666666666666,
             "#ed7953"
            ],
            [
             0.7777777777777778,
             "#fb9f3a"
            ],
            [
             0.8888888888888888,
             "#fdca26"
            ],
            [
             1,
             "#f0f921"
            ]
           ]
          },
          "colorway": [
           "#636efa",
           "#EF553B",
           "#00cc96",
           "#ab63fa",
           "#FFA15A",
           "#19d3f3",
           "#FF6692",
           "#B6E880",
           "#FF97FF",
           "#FECB52"
          ],
          "font": {
           "color": "#2a3f5f"
          },
          "geo": {
           "bgcolor": "white",
           "lakecolor": "white",
           "landcolor": "#E5ECF6",
           "showlakes": true,
           "showland": true,
           "subunitcolor": "white"
          },
          "hoverlabel": {
           "align": "left"
          },
          "hovermode": "closest",
          "mapbox": {
           "style": "light"
          },
          "paper_bgcolor": "white",
          "plot_bgcolor": "#E5ECF6",
          "polar": {
           "angularaxis": {
            "gridcolor": "white",
            "linecolor": "white",
            "ticks": ""
           },
           "bgcolor": "#E5ECF6",
           "radialaxis": {
            "gridcolor": "white",
            "linecolor": "white",
            "ticks": ""
           }
          },
          "scene": {
           "xaxis": {
            "backgroundcolor": "#E5ECF6",
            "gridcolor": "white",
            "gridwidth": 2,
            "linecolor": "white",
            "showbackground": true,
            "ticks": "",
            "zerolinecolor": "white"
           },
           "yaxis": {
            "backgroundcolor": "#E5ECF6",
            "gridcolor": "white",
            "gridwidth": 2,
            "linecolor": "white",
            "showbackground": true,
            "ticks": "",
            "zerolinecolor": "white"
           },
           "zaxis": {
            "backgroundcolor": "#E5ECF6",
            "gridcolor": "white",
            "gridwidth": 2,
            "linecolor": "white",
            "showbackground": true,
            "ticks": "",
            "zerolinecolor": "white"
           }
          },
          "shapedefaults": {
           "line": {
            "color": "#2a3f5f"
           }
          },
          "ternary": {
           "aaxis": {
            "gridcolor": "white",
            "linecolor": "white",
            "ticks": ""
           },
           "baxis": {
            "gridcolor": "white",
            "linecolor": "white",
            "ticks": ""
           },
           "bgcolor": "#E5ECF6",
           "caxis": {
            "gridcolor": "white",
            "linecolor": "white",
            "ticks": ""
           }
          },
          "title": {
           "x": 0.05
          },
          "xaxis": {
           "automargin": true,
           "gridcolor": "white",
           "linecolor": "white",
           "ticks": "",
           "title": {
            "standoff": 15
           },
           "zerolinecolor": "white",
           "zerolinewidth": 2
          },
          "yaxis": {
           "automargin": true,
           "gridcolor": "white",
           "linecolor": "white",
           "ticks": "",
           "title": {
            "standoff": 15
           },
           "zerolinecolor": "white",
           "zerolinewidth": 2
          }
         }
        },
        "title": {
         "text": "Consumer Price and Carbon Emissions per Capita (2019)"
        },
        "xaxis": {
         "anchor": "y",
         "domain": [
          0,
          1
         ],
         "title": {
          "text": "Consumer Price"
         }
        },
        "yaxis": {
         "anchor": "x",
         "domain": [
          0,
          1
         ],
         "title": {
          "text": "Emissions per Capita"
         }
        }
       }
      },
      "text/html": [
       "<div>                            <div id=\"1de62a3c-46bf-4984-bc0a-2edd8c6f7dd0\" class=\"plotly-graph-div\" style=\"height:525px; width:100%;\"></div>            <script type=\"text/javascript\">                require([\"plotly\"], function(Plotly) {                    window.PLOTLYENV=window.PLOTLYENV || {};                                    if (document.getElementById(\"1de62a3c-46bf-4984-bc0a-2edd8c6f7dd0\")) {                    Plotly.newPlot(                        \"1de62a3c-46bf-4984-bc0a-2edd8c6f7dd0\",                        [{\"hovertemplate\":\"Country=Albania\\u003cbr\\u003eConsumer Price=%{x}\\u003cbr\\u003eEmissions per Capita=%{y}\\u003cextra\\u003e\\u003c\\u002fextra\\u003e\",\"legendgroup\":\"Albania\",\"marker\":{\"color\":\"#636efa\",\"symbol\":\"circle\"},\"mode\":\"markers\",\"name\":\"Albania\",\"orientation\":\"v\",\"showlegend\":true,\"x\":[1.4],\"xaxis\":\"x\",\"y\":[1.4],\"yaxis\":\"y\",\"type\":\"scatter\"},{\"hovertemplate\":\"Country=Armenia\\u003cbr\\u003eConsumer Price=%{x}\\u003cbr\\u003eEmissions per Capita=%{y}\\u003cextra\\u003e\\u003c\\u002fextra\\u003e\",\"legendgroup\":\"Armenia\",\"marker\":{\"color\":\"#EF553B\",\"symbol\":\"circle\"},\"mode\":\"markers\",\"name\":\"Armenia\",\"orientation\":\"v\",\"showlegend\":true,\"x\":[1.4],\"xaxis\":\"x\",\"y\":[2.0],\"yaxis\":\"y\",\"type\":\"scatter\"},{\"hovertemplate\":\"Country=Austria\\u003cbr\\u003eConsumer Price=%{x}\\u003cbr\\u003eEmissions per Capita=%{y}\\u003cextra\\u003e\\u003c\\u002fextra\\u003e\",\"legendgroup\":\"Austria\",\"marker\":{\"color\":\"#00cc96\",\"symbol\":\"circle\"},\"mode\":\"markers\",\"name\":\"Austria\",\"orientation\":\"v\",\"showlegend\":true,\"x\":[1.5],\"xaxis\":\"x\",\"y\":[7.1],\"yaxis\":\"y\",\"type\":\"scatter\"},{\"hovertemplate\":\"Country=Azerbaijan\\u003cbr\\u003eConsumer Price=%{x}\\u003cbr\\u003eEmissions per Capita=%{y}\\u003cextra\\u003e\\u003c\\u002fextra\\u003e\",\"legendgroup\":\"Azerbaijan\",\"marker\":{\"color\":\"#ab63fa\",\"symbol\":\"circle\"},\"mode\":\"markers\",\"name\":\"Azerbaijan\",\"orientation\":\"v\",\"showlegend\":true,\"x\":[2.6],\"xaxis\":\"x\",\"y\":[3.4],\"yaxis\":\"y\",\"type\":\"scatter\"},{\"hovertemplate\":\"Country=Belarus\\u003cbr\\u003eConsumer Price=%{x}\\u003cbr\\u003eEmissions per Capita=%{y}\\u003cextra\\u003e\\u003c\\u002fextra\\u003e\",\"legendgroup\":\"Belarus\",\"marker\":{\"color\":\"#FFA15A\",\"symbol\":\"circle\"},\"mode\":\"markers\",\"name\":\"Belarus\",\"orientation\":\"v\",\"showlegend\":true,\"x\":[5.6],\"xaxis\":\"x\",\"y\":[5.9],\"yaxis\":\"y\",\"type\":\"scatter\"},{\"hovertemplate\":\"Country=Belgium\\u003cbr\\u003eConsumer Price=%{x}\\u003cbr\\u003eEmissions per Capita=%{y}\\u003cextra\\u003e\\u003c\\u002fextra\\u003e\",\"legendgroup\":\"Belgium\",\"marker\":{\"color\":\"#19d3f3\",\"symbol\":\"circle\"},\"mode\":\"markers\",\"name\":\"Belgium\",\"orientation\":\"v\",\"showlegend\":true,\"x\":[1.4],\"xaxis\":\"x\",\"y\":[7.9],\"yaxis\":\"y\",\"type\":\"scatter\"},{\"hovertemplate\":\"Country=Bosnia and Herzegovina\\u003cbr\\u003eConsumer Price=%{x}\\u003cbr\\u003eEmissions per Capita=%{y}\\u003cextra\\u003e\\u003c\\u002fextra\\u003e\",\"legendgroup\":\"Bosnia and Herzegovina\",\"marker\":{\"color\":\"#FF6692\",\"symbol\":\"circle\"},\"mode\":\"markers\",\"name\":\"Bosnia and Herzegovina\",\"orientation\":\"v\",\"showlegend\":true,\"x\":[0.8],\"xaxis\":\"x\",\"y\":[6.3],\"yaxis\":\"y\",\"type\":\"scatter\"},{\"hovertemplate\":\"Country=Bulgaria\\u003cbr\\u003eConsumer Price=%{x}\\u003cbr\\u003eEmissions per Capita=%{y}\\u003cextra\\u003e\\u003c\\u002fextra\\u003e\",\"legendgroup\":\"Bulgaria\",\"marker\":{\"color\":\"#B6E880\",\"symbol\":\"circle\"},\"mode\":\"markers\",\"name\":\"Bulgaria\",\"orientation\":\"v\",\"showlegend\":true,\"x\":[3.1],\"xaxis\":\"x\",\"y\":[5.5],\"yaxis\":\"y\",\"type\":\"scatter\"},{\"hovertemplate\":\"Country=Canada\\u003cbr\\u003eConsumer Price=%{x}\\u003cbr\\u003eEmissions per Capita=%{y}\\u003cextra\\u003e\\u003c\\u002fextra\\u003e\",\"legendgroup\":\"Canada\",\"marker\":{\"color\":\"#FF97FF\",\"symbol\":\"circle\"},\"mode\":\"markers\",\"name\":\"Canada\",\"orientation\":\"v\",\"showlegend\":true,\"x\":[1.9],\"xaxis\":\"x\",\"y\":[14.8],\"yaxis\":\"y\",\"type\":\"scatter\"},{\"hovertemplate\":\"Country=Croatia\\u003cbr\\u003eConsumer Price=%{x}\\u003cbr\\u003eEmissions per Capita=%{y}\\u003cextra\\u003e\\u003c\\u002fextra\\u003e\",\"legendgroup\":\"Croatia\",\"marker\":{\"color\":\"#FECB52\",\"symbol\":\"circle\"},\"mode\":\"markers\",\"name\":\"Croatia\",\"orientation\":\"v\",\"showlegend\":true,\"x\":[0.8],\"xaxis\":\"x\",\"y\":[3.8],\"yaxis\":\"y\",\"type\":\"scatter\"},{\"hovertemplate\":\"Country=Cyprus\\u003cbr\\u003eConsumer Price=%{x}\\u003cbr\\u003eEmissions per Capita=%{y}\\u003cextra\\u003e\\u003c\\u002fextra\\u003e\",\"legendgroup\":\"Cyprus\",\"marker\":{\"color\":\"#636efa\",\"symbol\":\"circle\"},\"mode\":\"markers\",\"name\":\"Cyprus\",\"orientation\":\"v\",\"showlegend\":true,\"x\":[0.2],\"xaxis\":\"x\",\"y\":[7.3],\"yaxis\":\"y\",\"type\":\"scatter\"},{\"hovertemplate\":\"Country=Czechia\\u003cbr\\u003eConsumer Price=%{x}\\u003cbr\\u003eEmissions per Capita=%{y}\\u003cextra\\u003e\\u003c\\u002fextra\\u003e\",\"legendgroup\":\"Czechia\",\"marker\":{\"color\":\"#EF553B\",\"symbol\":\"circle\"},\"mode\":\"markers\",\"name\":\"Czechia\",\"orientation\":\"v\",\"showlegend\":true,\"x\":[2.8],\"xaxis\":\"x\",\"y\":[9.0],\"yaxis\":\"y\",\"type\":\"scatter\"},{\"hovertemplate\":\"Country=Denmark\\u003cbr\\u003eConsumer Price=%{x}\\u003cbr\\u003eEmissions per Capita=%{y}\\u003cextra\\u003e\\u003c\\u002fextra\\u003e\",\"legendgroup\":\"Denmark\",\"marker\":{\"color\":\"#00cc96\",\"symbol\":\"circle\"},\"mode\":\"markers\",\"name\":\"Denmark\",\"orientation\":\"v\",\"showlegend\":true,\"x\":[0.8],\"xaxis\":\"x\",\"y\":[4.9],\"yaxis\":\"y\",\"type\":\"scatter\"},{\"hovertemplate\":\"Country=Estonia\\u003cbr\\u003eConsumer Price=%{x}\\u003cbr\\u003eEmissions per Capita=%{y}\\u003cextra\\u003e\\u003c\\u002fextra\\u003e\",\"legendgroup\":\"Estonia\",\"marker\":{\"color\":\"#ab63fa\",\"symbol\":\"circle\"},\"mode\":\"markers\",\"name\":\"Estonia\",\"orientation\":\"v\",\"showlegend\":true,\"x\":[2.3],\"xaxis\":\"x\",\"y\":[7.4],\"yaxis\":\"y\",\"type\":\"scatter\"},{\"hovertemplate\":\"Country=Finland\\u003cbr\\u003eConsumer Price=%{x}\\u003cbr\\u003eEmissions per Capita=%{y}\\u003cextra\\u003e\\u003c\\u002fextra\\u003e\",\"legendgroup\":\"Finland\",\"marker\":{\"color\":\"#FFA15A\",\"symbol\":\"circle\"},\"mode\":\"markers\",\"name\":\"Finland\",\"orientation\":\"v\",\"showlegend\":true,\"x\":[1.0],\"xaxis\":\"x\",\"y\":[7.3],\"yaxis\":\"y\",\"type\":\"scatter\"},{\"hovertemplate\":\"Country=France\\u003cbr\\u003eConsumer Price=%{x}\\u003cbr\\u003eEmissions per Capita=%{y}\\u003cextra\\u003e\\u003c\\u002fextra\\u003e\",\"legendgroup\":\"France\",\"marker\":{\"color\":\"#19d3f3\",\"symbol\":\"circle\"},\"mode\":\"markers\",\"name\":\"France\",\"orientation\":\"v\",\"showlegend\":true,\"x\":[1.1],\"xaxis\":\"x\",\"y\":[4.3],\"yaxis\":\"y\",\"type\":\"scatter\"},{\"hovertemplate\":\"Country=Georgia\\u003cbr\\u003eConsumer Price=%{x}\\u003cbr\\u003eEmissions per Capita=%{y}\\u003cextra\\u003e\\u003c\\u002fextra\\u003e\",\"legendgroup\":\"Georgia\",\"marker\":{\"color\":\"#FF6692\",\"symbol\":\"circle\"},\"mode\":\"markers\",\"name\":\"Georgia\",\"orientation\":\"v\",\"showlegend\":true,\"x\":[4.9],\"xaxis\":\"x\",\"y\":[2.6],\"yaxis\":\"y\",\"type\":\"scatter\"},{\"hovertemplate\":\"Country=Germany\\u003cbr\\u003eConsumer Price=%{x}\\u003cbr\\u003eEmissions per Capita=%{y}\\u003cextra\\u003e\\u003c\\u002fextra\\u003e\",\"legendgroup\":\"Germany\",\"marker\":{\"color\":\"#B6E880\",\"symbol\":\"circle\"},\"mode\":\"markers\",\"name\":\"Germany\",\"orientation\":\"v\",\"showlegend\":true,\"x\":[1.4],\"xaxis\":\"x\",\"y\":[7.8],\"yaxis\":\"y\",\"type\":\"scatter\"},{\"hovertemplate\":\"Country=Greece\\u003cbr\\u003eConsumer Price=%{x}\\u003cbr\\u003eEmissions per Capita=%{y}\\u003cextra\\u003e\\u003c\\u002fextra\\u003e\",\"legendgroup\":\"Greece\",\"marker\":{\"color\":\"#FF97FF\",\"symbol\":\"circle\"},\"mode\":\"markers\",\"name\":\"Greece\",\"orientation\":\"v\",\"showlegend\":true,\"x\":[0.3],\"xaxis\":\"x\",\"y\":[5.3],\"yaxis\":\"y\",\"type\":\"scatter\"},{\"hovertemplate\":\"Country=Hungary\\u003cbr\\u003eConsumer Price=%{x}\\u003cbr\\u003eEmissions per Capita=%{y}\\u003cextra\\u003e\\u003c\\u002fextra\\u003e\",\"legendgroup\":\"Hungary\",\"marker\":{\"color\":\"#FECB52\",\"symbol\":\"circle\"},\"mode\":\"markers\",\"name\":\"Hungary\",\"orientation\":\"v\",\"showlegend\":true,\"x\":[3.3],\"xaxis\":\"x\",\"y\":[4.7],\"yaxis\":\"y\",\"type\":\"scatter\"},{\"hovertemplate\":\"Country=Iceland\\u003cbr\\u003eConsumer Price=%{x}\\u003cbr\\u003eEmissions per Capita=%{y}\\u003cextra\\u003e\\u003c\\u002fextra\\u003e\",\"legendgroup\":\"Iceland\",\"marker\":{\"color\":\"#636efa\",\"symbol\":\"circle\"},\"mode\":\"markers\",\"name\":\"Iceland\",\"orientation\":\"v\",\"showlegend\":true,\"x\":[3.0],\"xaxis\":\"x\",\"y\":[4.5],\"yaxis\":\"y\",\"type\":\"scatter\"},{\"hovertemplate\":\"Country=Ireland\\u003cbr\\u003eConsumer Price=%{x}\\u003cbr\\u003eEmissions per Capita=%{y}\\u003cextra\\u003e\\u003c\\u002fextra\\u003e\",\"legendgroup\":\"Ireland\",\"marker\":{\"color\":\"#EF553B\",\"symbol\":\"circle\"},\"mode\":\"markers\",\"name\":\"Ireland\",\"orientation\":\"v\",\"showlegend\":true,\"x\":[0.9],\"xaxis\":\"x\",\"y\":[6.9],\"yaxis\":\"y\",\"type\":\"scatter\"},{\"hovertemplate\":\"Country=Israel\\u003cbr\\u003eConsumer Price=%{x}\\u003cbr\\u003eEmissions per Capita=%{y}\\u003cextra\\u003e\\u003c\\u002fextra\\u003e\",\"legendgroup\":\"Israel\",\"marker\":{\"color\":\"#00cc96\",\"symbol\":\"circle\"},\"mode\":\"markers\",\"name\":\"Israel\",\"orientation\":\"v\",\"showlegend\":true,\"x\":[0.8],\"xaxis\":\"x\",\"y\":[6.8],\"yaxis\":\"y\",\"type\":\"scatter\"},{\"hovertemplate\":\"Country=Italy\\u003cbr\\u003eConsumer Price=%{x}\\u003cbr\\u003eEmissions per Capita=%{y}\\u003cextra\\u003e\\u003c\\u002fextra\\u003e\",\"legendgroup\":\"Italy\",\"marker\":{\"color\":\"#ab63fa\",\"symbol\":\"circle\"},\"mode\":\"markers\",\"name\":\"Italy\",\"orientation\":\"v\",\"showlegend\":true,\"x\":[0.6],\"xaxis\":\"x\",\"y\":[5.2],\"yaxis\":\"y\",\"type\":\"scatter\"},{\"hovertemplate\":\"Country=Kazakhstan\\u003cbr\\u003eConsumer Price=%{x}\\u003cbr\\u003eEmissions per Capita=%{y}\\u003cextra\\u003e\\u003c\\u002fextra\\u003e\",\"legendgroup\":\"Kazakhstan\",\"marker\":{\"color\":\"#FFA15A\",\"symbol\":\"circle\"},\"mode\":\"markers\",\"name\":\"Kazakhstan\",\"orientation\":\"v\",\"showlegend\":true,\"x\":[5.2],\"xaxis\":\"x\",\"y\":[10.7],\"yaxis\":\"y\",\"type\":\"scatter\"},{\"hovertemplate\":\"Country=Kyrgyzstan\\u003cbr\\u003eConsumer Price=%{x}\\u003cbr\\u003eEmissions per Capita=%{y}\\u003cextra\\u003e\\u003c\\u002fextra\\u003e\",\"legendgroup\":\"Kyrgyzstan\",\"marker\":{\"color\":\"#19d3f3\",\"symbol\":\"circle\"},\"mode\":\"markers\",\"name\":\"Kyrgyzstan\",\"orientation\":\"v\",\"showlegend\":true,\"x\":[1.1],\"xaxis\":\"x\",\"y\":[1.4],\"yaxis\":\"y\",\"type\":\"scatter\"},{\"hovertemplate\":\"Country=Latvia\\u003cbr\\u003eConsumer Price=%{x}\\u003cbr\\u003eEmissions per Capita=%{y}\\u003cextra\\u003e\\u003c\\u002fextra\\u003e\",\"legendgroup\":\"Latvia\",\"marker\":{\"color\":\"#FF6692\",\"symbol\":\"circle\"},\"mode\":\"markers\",\"name\":\"Latvia\",\"orientation\":\"v\",\"showlegend\":true,\"x\":[2.8],\"xaxis\":\"x\",\"y\":[3.7],\"yaxis\":\"y\",\"type\":\"scatter\"},{\"hovertemplate\":\"Country=Lithuania\\u003cbr\\u003eConsumer Price=%{x}\\u003cbr\\u003eEmissions per Capita=%{y}\\u003cextra\\u003e\\u003c\\u002fextra\\u003e\",\"legendgroup\":\"Lithuania\",\"marker\":{\"color\":\"#B6E880\",\"symbol\":\"circle\"},\"mode\":\"markers\",\"name\":\"Lithuania\",\"orientation\":\"v\",\"showlegend\":true,\"x\":[2.3],\"xaxis\":\"x\",\"y\":[4.0],\"yaxis\":\"y\",\"type\":\"scatter\"},{\"hovertemplate\":\"Country=Luxembourg\\u003cbr\\u003eConsumer Price=%{x}\\u003cbr\\u003eEmissions per Capita=%{y}\\u003cextra\\u003e\\u003c\\u002fextra\\u003e\",\"legendgroup\":\"Luxembourg\",\"marker\":{\"color\":\"#FF97FF\",\"symbol\":\"circle\"},\"mode\":\"markers\",\"name\":\"Luxembourg\",\"orientation\":\"v\",\"showlegend\":true,\"x\":[1.7],\"xaxis\":\"x\",\"y\":[14.6],\"yaxis\":\"y\",\"type\":\"scatter\"},{\"hovertemplate\":\"Country=Malta\\u003cbr\\u003eConsumer Price=%{x}\\u003cbr\\u003eEmissions per Capita=%{y}\\u003cextra\\u003e\\u003c\\u002fextra\\u003e\",\"legendgroup\":\"Malta\",\"marker\":{\"color\":\"#FECB52\",\"symbol\":\"circle\"},\"mode\":\"markers\",\"name\":\"Malta\",\"orientation\":\"v\",\"showlegend\":true,\"x\":[1.6],\"xaxis\":\"x\",\"y\":[3.3],\"yaxis\":\"y\",\"type\":\"scatter\"},{\"hovertemplate\":\"Country=Montenegro\\u003cbr\\u003eConsumer Price=%{x}\\u003cbr\\u003eEmissions per Capita=%{y}\\u003cextra\\u003e\\u003c\\u002fextra\\u003e\",\"legendgroup\":\"Montenegro\",\"marker\":{\"color\":\"#636efa\",\"symbol\":\"circle\"},\"mode\":\"markers\",\"name\":\"Montenegro\",\"orientation\":\"v\",\"showlegend\":true,\"x\":[0.4],\"xaxis\":\"x\",\"y\":[4.2],\"yaxis\":\"y\",\"type\":\"scatter\"},{\"hovertemplate\":\"Country=North Macedonia\\u003cbr\\u003eConsumer Price=%{x}\\u003cbr\\u003eEmissions per Capita=%{y}\\u003cextra\\u003e\\u003c\\u002fextra\\u003e\",\"legendgroup\":\"North Macedonia\",\"marker\":{\"color\":\"#EF553B\",\"symbol\":\"circle\"},\"mode\":\"markers\",\"name\":\"North Macedonia\",\"orientation\":\"v\",\"showlegend\":true,\"x\":[0.8],\"xaxis\":\"x\",\"y\":[3.8],\"yaxis\":\"y\",\"type\":\"scatter\"},{\"hovertemplate\":\"Country=Norway\\u003cbr\\u003eConsumer Price=%{x}\\u003cbr\\u003eEmissions per Capita=%{y}\\u003cextra\\u003e\\u003c\\u002fextra\\u003e\",\"legendgroup\":\"Norway\",\"marker\":{\"color\":\"#00cc96\",\"symbol\":\"circle\"},\"mode\":\"markers\",\"name\":\"Norway\",\"orientation\":\"v\",\"showlegend\":true,\"x\":[2.2],\"xaxis\":\"x\",\"y\":[6.8],\"yaxis\":\"y\",\"type\":\"scatter\"},{\"hovertemplate\":\"Country=Poland\\u003cbr\\u003eConsumer Price=%{x}\\u003cbr\\u003eEmissions per Capita=%{y}\\u003cextra\\u003e\\u003c\\u002fextra\\u003e\",\"legendgroup\":\"Poland\",\"marker\":{\"color\":\"#ab63fa\",\"symbol\":\"circle\"},\"mode\":\"markers\",\"name\":\"Poland\",\"orientation\":\"v\",\"showlegend\":true,\"x\":[2.2],\"xaxis\":\"x\",\"y\":[7.5],\"yaxis\":\"y\",\"type\":\"scatter\"},{\"hovertemplate\":\"Country=Portugal\\u003cbr\\u003eConsumer Price=%{x}\\u003cbr\\u003eEmissions per Capita=%{y}\\u003cextra\\u003e\\u003c\\u002fextra\\u003e\",\"legendgroup\":\"Portugal\",\"marker\":{\"color\":\"#FFA15A\",\"symbol\":\"circle\"},\"mode\":\"markers\",\"name\":\"Portugal\",\"orientation\":\"v\",\"showlegend\":true,\"x\":[0.3],\"xaxis\":\"x\",\"y\":[4.1],\"yaxis\":\"y\",\"type\":\"scatter\"},{\"hovertemplate\":\"Country=Republic of Moldova\\u003cbr\\u003eConsumer Price=%{x}\\u003cbr\\u003eEmissions per Capita=%{y}\\u003cextra\\u003e\\u003c\\u002fextra\\u003e\",\"legendgroup\":\"Republic of Moldova\",\"marker\":{\"color\":\"#19d3f3\",\"symbol\":\"circle\"},\"mode\":\"markers\",\"name\":\"Republic of Moldova\",\"orientation\":\"v\",\"showlegend\":true,\"x\":[4.8],\"xaxis\":\"x\",\"y\":[3.1],\"yaxis\":\"y\",\"type\":\"scatter\"},{\"hovertemplate\":\"Country=Romania\\u003cbr\\u003eConsumer Price=%{x}\\u003cbr\\u003eEmissions per Capita=%{y}\\u003cextra\\u003e\\u003c\\u002fextra\\u003e\",\"legendgroup\":\"Romania\",\"marker\":{\"color\":\"#FF6692\",\"symbol\":\"circle\"},\"mode\":\"markers\",\"name\":\"Romania\",\"orientation\":\"v\",\"showlegend\":true,\"x\":[3.8],\"xaxis\":\"x\",\"y\":[3.6],\"yaxis\":\"y\",\"type\":\"scatter\"},{\"hovertemplate\":\"Country=Serbia\\u003cbr\\u003eConsumer Price=%{x}\\u003cbr\\u003eEmissions per Capita=%{y}\\u003cextra\\u003e\\u003c\\u002fextra\\u003e\",\"legendgroup\":\"Serbia\",\"marker\":{\"color\":\"#B6E880\",\"symbol\":\"circle\"},\"mode\":\"markers\",\"name\":\"Serbia\",\"orientation\":\"v\",\"showlegend\":true,\"x\":[1.8],\"xaxis\":\"x\",\"y\":[6.5],\"yaxis\":\"y\",\"type\":\"scatter\"},{\"hovertemplate\":\"Country=Slovakia\\u003cbr\\u003eConsumer Price=%{x}\\u003cbr\\u003eEmissions per Capita=%{y}\\u003cextra\\u003e\\u003c\\u002fextra\\u003e\",\"legendgroup\":\"Slovakia\",\"marker\":{\"color\":\"#FF97FF\",\"symbol\":\"circle\"},\"mode\":\"markers\",\"name\":\"Slovakia\",\"orientation\":\"v\",\"showlegend\":true,\"x\":[2.7],\"xaxis\":\"x\",\"y\":[5.4],\"yaxis\":\"y\",\"type\":\"scatter\"},{\"hovertemplate\":\"Country=Slovenia\\u003cbr\\u003eConsumer Price=%{x}\\u003cbr\\u003eEmissions per Capita=%{y}\\u003cextra\\u003e\\u003c\\u002fextra\\u003e\",\"legendgroup\":\"Slovenia\",\"marker\":{\"color\":\"#FECB52\",\"symbol\":\"circle\"},\"mode\":\"markers\",\"name\":\"Slovenia\",\"orientation\":\"v\",\"showlegend\":true,\"x\":[1.6],\"xaxis\":\"x\",\"y\":[6.3],\"yaxis\":\"y\",\"type\":\"scatter\"},{\"hovertemplate\":\"Country=Spain\\u003cbr\\u003eConsumer Price=%{x}\\u003cbr\\u003eEmissions per Capita=%{y}\\u003cextra\\u003e\\u003c\\u002fextra\\u003e\",\"legendgroup\":\"Spain\",\"marker\":{\"color\":\"#636efa\",\"symbol\":\"circle\"},\"mode\":\"markers\",\"name\":\"Spain\",\"orientation\":\"v\",\"showlegend\":true,\"x\":[0.7],\"xaxis\":\"x\",\"y\":[4.9],\"yaxis\":\"y\",\"type\":\"scatter\"},{\"hovertemplate\":\"Country=Sweden\\u003cbr\\u003eConsumer Price=%{x}\\u003cbr\\u003eEmissions per Capita=%{y}\\u003cextra\\u003e\\u003c\\u002fextra\\u003e\",\"legendgroup\":\"Sweden\",\"marker\":{\"color\":\"#EF553B\",\"symbol\":\"circle\"},\"mode\":\"markers\",\"name\":\"Sweden\",\"orientation\":\"v\",\"showlegend\":true,\"x\":[1.8],\"xaxis\":\"x\",\"y\":[3.3],\"yaxis\":\"y\",\"type\":\"scatter\"},{\"hovertemplate\":\"Country=Switzerland\\u003cbr\\u003eConsumer Price=%{x}\\u003cbr\\u003eEmissions per Capita=%{y}\\u003cextra\\u003e\\u003c\\u002fextra\\u003e\",\"legendgroup\":\"Switzerland\",\"marker\":{\"color\":\"#00cc96\",\"symbol\":\"circle\"},\"mode\":\"markers\",\"name\":\"Switzerland\",\"orientation\":\"v\",\"showlegend\":true,\"x\":[0.4],\"xaxis\":\"x\",\"y\":[4.2],\"yaxis\":\"y\",\"type\":\"scatter\"},{\"hovertemplate\":\"Country=Tajikistan\\u003cbr\\u003eConsumer Price=%{x}\\u003cbr\\u003eEmissions per Capita=%{y}\\u003cextra\\u003e\\u003c\\u002fextra\\u003e\",\"legendgroup\":\"Tajikistan\",\"marker\":{\"color\":\"#ab63fa\",\"symbol\":\"circle\"},\"mode\":\"markers\",\"name\":\"Tajikistan\",\"orientation\":\"v\",\"showlegend\":true,\"x\":[7.8],\"xaxis\":\"x\",\"y\":[0.7],\"yaxis\":\"y\",\"type\":\"scatter\"},{\"hovertemplate\":\"Country=Ukraine\\u003cbr\\u003eConsumer Price=%{x}\\u003cbr\\u003eEmissions per Capita=%{y}\\u003cextra\\u003e\\u003c\\u002fextra\\u003e\",\"legendgroup\":\"Ukraine\",\"marker\":{\"color\":\"#FFA15A\",\"symbol\":\"circle\"},\"mode\":\"markers\",\"name\":\"Ukraine\",\"orientation\":\"v\",\"showlegend\":true,\"x\":[7.9],\"xaxis\":\"x\",\"y\":[3.8],\"yaxis\":\"y\",\"type\":\"scatter\"},{\"hovertemplate\":\"Country=United Kingdom\\u003cbr\\u003eConsumer Price=%{x}\\u003cbr\\u003eEmissions per Capita=%{y}\\u003cextra\\u003e\\u003c\\u002fextra\\u003e\",\"legendgroup\":\"United Kingdom\",\"marker\":{\"color\":\"#19d3f3\",\"symbol\":\"circle\"},\"mode\":\"markers\",\"name\":\"United Kingdom\",\"orientation\":\"v\",\"showlegend\":true,\"x\":[1.7],\"xaxis\":\"x\",\"y\":[5.1],\"yaxis\":\"y\",\"type\":\"scatter\"}],                        {\"template\":{\"data\":{\"histogram2dcontour\":[{\"type\":\"histogram2dcontour\",\"colorbar\":{\"outlinewidth\":0,\"ticks\":\"\"},\"colorscale\":[[0.0,\"#0d0887\"],[0.1111111111111111,\"#46039f\"],[0.2222222222222222,\"#7201a8\"],[0.3333333333333333,\"#9c179e\"],[0.4444444444444444,\"#bd3786\"],[0.5555555555555556,\"#d8576b\"],[0.6666666666666666,\"#ed7953\"],[0.7777777777777778,\"#fb9f3a\"],[0.8888888888888888,\"#fdca26\"],[1.0,\"#f0f921\"]]}],\"choropleth\":[{\"type\":\"choropleth\",\"colorbar\":{\"outlinewidth\":0,\"ticks\":\"\"}}],\"histogram2d\":[{\"type\":\"histogram2d\",\"colorbar\":{\"outlinewidth\":0,\"ticks\":\"\"},\"colorscale\":[[0.0,\"#0d0887\"],[0.1111111111111111,\"#46039f\"],[0.2222222222222222,\"#7201a8\"],[0.3333333333333333,\"#9c179e\"],[0.4444444444444444,\"#bd3786\"],[0.5555555555555556,\"#d8576b\"],[0.6666666666666666,\"#ed7953\"],[0.7777777777777778,\"#fb9f3a\"],[0.8888888888888888,\"#fdca26\"],[1.0,\"#f0f921\"]]}],\"heatmap\":[{\"type\":\"heatmap\",\"colorbar\":{\"outlinewidth\":0,\"ticks\":\"\"},\"colorscale\":[[0.0,\"#0d0887\"],[0.1111111111111111,\"#46039f\"],[0.2222222222222222,\"#7201a8\"],[0.3333333333333333,\"#9c179e\"],[0.4444444444444444,\"#bd3786\"],[0.5555555555555556,\"#d8576b\"],[0.6666666666666666,\"#ed7953\"],[0.7777777777777778,\"#fb9f3a\"],[0.8888888888888888,\"#fdca26\"],[1.0,\"#f0f921\"]]}],\"heatmapgl\":[{\"type\":\"heatmapgl\",\"colorbar\":{\"outlinewidth\":0,\"ticks\":\"\"},\"colorscale\":[[0.0,\"#0d0887\"],[0.1111111111111111,\"#46039f\"],[0.2222222222222222,\"#7201a8\"],[0.3333333333333333,\"#9c179e\"],[0.4444444444444444,\"#bd3786\"],[0.5555555555555556,\"#d8576b\"],[0.6666666666666666,\"#ed7953\"],[0.7777777777777778,\"#fb9f3a\"],[0.8888888888888888,\"#fdca26\"],[1.0,\"#f0f921\"]]}],\"contourcarpet\":[{\"type\":\"contourcarpet\",\"colorbar\":{\"outlinewidth\":0,\"ticks\":\"\"}}],\"contour\":[{\"type\":\"contour\",\"colorbar\":{\"outlinewidth\":0,\"ticks\":\"\"},\"colorscale\":[[0.0,\"#0d0887\"],[0.1111111111111111,\"#46039f\"],[0.2222222222222222,\"#7201a8\"],[0.3333333333333333,\"#9c179e\"],[0.4444444444444444,\"#bd3786\"],[0.5555555555555556,\"#d8576b\"],[0.6666666666666666,\"#ed7953\"],[0.7777777777777778,\"#fb9f3a\"],[0.8888888888888888,\"#fdca26\"],[1.0,\"#f0f921\"]]}],\"surface\":[{\"type\":\"surface\",\"colorbar\":{\"outlinewidth\":0,\"ticks\":\"\"},\"colorscale\":[[0.0,\"#0d0887\"],[0.1111111111111111,\"#46039f\"],[0.2222222222222222,\"#7201a8\"],[0.3333333333333333,\"#9c179e\"],[0.4444444444444444,\"#bd3786\"],[0.5555555555555556,\"#d8576b\"],[0.6666666666666666,\"#ed7953\"],[0.7777777777777778,\"#fb9f3a\"],[0.8888888888888888,\"#fdca26\"],[1.0,\"#f0f921\"]]}],\"mesh3d\":[{\"type\":\"mesh3d\",\"colorbar\":{\"outlinewidth\":0,\"ticks\":\"\"}}],\"scatter\":[{\"fillpattern\":{\"fillmode\":\"overlay\",\"size\":10,\"solidity\":0.2},\"type\":\"scatter\"}],\"parcoords\":[{\"type\":\"parcoords\",\"line\":{\"colorbar\":{\"outlinewidth\":0,\"ticks\":\"\"}}}],\"scatterpolargl\":[{\"type\":\"scatterpolargl\",\"marker\":{\"colorbar\":{\"outlinewidth\":0,\"ticks\":\"\"}}}],\"bar\":[{\"error_x\":{\"color\":\"#2a3f5f\"},\"error_y\":{\"color\":\"#2a3f5f\"},\"marker\":{\"line\":{\"color\":\"#E5ECF6\",\"width\":0.5},\"pattern\":{\"fillmode\":\"overlay\",\"size\":10,\"solidity\":0.2}},\"type\":\"bar\"}],\"scattergeo\":[{\"type\":\"scattergeo\",\"marker\":{\"colorbar\":{\"outlinewidth\":0,\"ticks\":\"\"}}}],\"scatterpolar\":[{\"type\":\"scatterpolar\",\"marker\":{\"colorbar\":{\"outlinewidth\":0,\"ticks\":\"\"}}}],\"histogram\":[{\"marker\":{\"pattern\":{\"fillmode\":\"overlay\",\"size\":10,\"solidity\":0.2}},\"type\":\"histogram\"}],\"scattergl\":[{\"type\":\"scattergl\",\"marker\":{\"colorbar\":{\"outlinewidth\":0,\"ticks\":\"\"}}}],\"scatter3d\":[{\"type\":\"scatter3d\",\"line\":{\"colorbar\":{\"outlinewidth\":0,\"ticks\":\"\"}},\"marker\":{\"colorbar\":{\"outlinewidth\":0,\"ticks\":\"\"}}}],\"scattermapbox\":[{\"type\":\"scattermapbox\",\"marker\":{\"colorbar\":{\"outlinewidth\":0,\"ticks\":\"\"}}}],\"scatterternary\":[{\"type\":\"scatterternary\",\"marker\":{\"colorbar\":{\"outlinewidth\":0,\"ticks\":\"\"}}}],\"scattercarpet\":[{\"type\":\"scattercarpet\",\"marker\":{\"colorbar\":{\"outlinewidth\":0,\"ticks\":\"\"}}}],\"carpet\":[{\"aaxis\":{\"endlinecolor\":\"#2a3f5f\",\"gridcolor\":\"white\",\"linecolor\":\"white\",\"minorgridcolor\":\"white\",\"startlinecolor\":\"#2a3f5f\"},\"baxis\":{\"endlinecolor\":\"#2a3f5f\",\"gridcolor\":\"white\",\"linecolor\":\"white\",\"minorgridcolor\":\"white\",\"startlinecolor\":\"#2a3f5f\"},\"type\":\"carpet\"}],\"table\":[{\"cells\":{\"fill\":{\"color\":\"#EBF0F8\"},\"line\":{\"color\":\"white\"}},\"header\":{\"fill\":{\"color\":\"#C8D4E3\"},\"line\":{\"color\":\"white\"}},\"type\":\"table\"}],\"barpolar\":[{\"marker\":{\"line\":{\"color\":\"#E5ECF6\",\"width\":0.5},\"pattern\":{\"fillmode\":\"overlay\",\"size\":10,\"solidity\":0.2}},\"type\":\"barpolar\"}],\"pie\":[{\"automargin\":true,\"type\":\"pie\"}]},\"layout\":{\"autotypenumbers\":\"strict\",\"colorway\":[\"#636efa\",\"#EF553B\",\"#00cc96\",\"#ab63fa\",\"#FFA15A\",\"#19d3f3\",\"#FF6692\",\"#B6E880\",\"#FF97FF\",\"#FECB52\"],\"font\":{\"color\":\"#2a3f5f\"},\"hovermode\":\"closest\",\"hoverlabel\":{\"align\":\"left\"},\"paper_bgcolor\":\"white\",\"plot_bgcolor\":\"#E5ECF6\",\"polar\":{\"bgcolor\":\"#E5ECF6\",\"angularaxis\":{\"gridcolor\":\"white\",\"linecolor\":\"white\",\"ticks\":\"\"},\"radialaxis\":{\"gridcolor\":\"white\",\"linecolor\":\"white\",\"ticks\":\"\"}},\"ternary\":{\"bgcolor\":\"#E5ECF6\",\"aaxis\":{\"gridcolor\":\"white\",\"linecolor\":\"white\",\"ticks\":\"\"},\"baxis\":{\"gridcolor\":\"white\",\"linecolor\":\"white\",\"ticks\":\"\"},\"caxis\":{\"gridcolor\":\"white\",\"linecolor\":\"white\",\"ticks\":\"\"}},\"coloraxis\":{\"colorbar\":{\"outlinewidth\":0,\"ticks\":\"\"}},\"colorscale\":{\"sequential\":[[0.0,\"#0d0887\"],[0.1111111111111111,\"#46039f\"],[0.2222222222222222,\"#7201a8\"],[0.3333333333333333,\"#9c179e\"],[0.4444444444444444,\"#bd3786\"],[0.5555555555555556,\"#d8576b\"],[0.6666666666666666,\"#ed7953\"],[0.7777777777777778,\"#fb9f3a\"],[0.8888888888888888,\"#fdca26\"],[1.0,\"#f0f921\"]],\"sequentialminus\":[[0.0,\"#0d0887\"],[0.1111111111111111,\"#46039f\"],[0.2222222222222222,\"#7201a8\"],[0.3333333333333333,\"#9c179e\"],[0.4444444444444444,\"#bd3786\"],[0.5555555555555556,\"#d8576b\"],[0.6666666666666666,\"#ed7953\"],[0.7777777777777778,\"#fb9f3a\"],[0.8888888888888888,\"#fdca26\"],[1.0,\"#f0f921\"]],\"diverging\":[[0,\"#8e0152\"],[0.1,\"#c51b7d\"],[0.2,\"#de77ae\"],[0.3,\"#f1b6da\"],[0.4,\"#fde0ef\"],[0.5,\"#f7f7f7\"],[0.6,\"#e6f5d0\"],[0.7,\"#b8e186\"],[0.8,\"#7fbc41\"],[0.9,\"#4d9221\"],[1,\"#276419\"]]},\"xaxis\":{\"gridcolor\":\"white\",\"linecolor\":\"white\",\"ticks\":\"\",\"title\":{\"standoff\":15},\"zerolinecolor\":\"white\",\"automargin\":true,\"zerolinewidth\":2},\"yaxis\":{\"gridcolor\":\"white\",\"linecolor\":\"white\",\"ticks\":\"\",\"title\":{\"standoff\":15},\"zerolinecolor\":\"white\",\"automargin\":true,\"zerolinewidth\":2},\"scene\":{\"xaxis\":{\"backgroundcolor\":\"#E5ECF6\",\"gridcolor\":\"white\",\"linecolor\":\"white\",\"showbackground\":true,\"ticks\":\"\",\"zerolinecolor\":\"white\",\"gridwidth\":2},\"yaxis\":{\"backgroundcolor\":\"#E5ECF6\",\"gridcolor\":\"white\",\"linecolor\":\"white\",\"showbackground\":true,\"ticks\":\"\",\"zerolinecolor\":\"white\",\"gridwidth\":2},\"zaxis\":{\"backgroundcolor\":\"#E5ECF6\",\"gridcolor\":\"white\",\"linecolor\":\"white\",\"showbackground\":true,\"ticks\":\"\",\"zerolinecolor\":\"white\",\"gridwidth\":2}},\"shapedefaults\":{\"line\":{\"color\":\"#2a3f5f\"}},\"annotationdefaults\":{\"arrowcolor\":\"#2a3f5f\",\"arrowhead\":0,\"arrowwidth\":1},\"geo\":{\"bgcolor\":\"white\",\"landcolor\":\"#E5ECF6\",\"subunitcolor\":\"white\",\"showland\":true,\"showlakes\":true,\"lakecolor\":\"white\"},\"title\":{\"x\":0.05},\"mapbox\":{\"style\":\"light\"}}},\"xaxis\":{\"anchor\":\"y\",\"domain\":[0.0,1.0],\"title\":{\"text\":\"Consumer Price\"}},\"yaxis\":{\"anchor\":\"x\",\"domain\":[0.0,1.0],\"title\":{\"text\":\"Emissions per Capita\"}},\"legend\":{\"title\":{\"text\":\"Country\"},\"tracegroupgap\":0},\"title\":{\"text\":\"Consumer Price and Carbon Emissions per Capita (2019)\"}},                        {\"responsive\": true}                    ).then(function(){\n",
       "                            \n",
       "var gd = document.getElementById('1de62a3c-46bf-4984-bc0a-2edd8c6f7dd0');\n",
       "var x = new MutationObserver(function (mutations, observer) {{\n",
       "        var display = window.getComputedStyle(gd).display;\n",
       "        if (!display || display === 'none') {{\n",
       "            console.log([gd, 'removed!']);\n",
       "            Plotly.purge(gd);\n",
       "            observer.disconnect();\n",
       "        }}\n",
       "}});\n",
       "\n",
       "// Listen for the removal of the full notebook cells\n",
       "var notebookContainer = gd.closest('#notebook-container');\n",
       "if (notebookContainer) {{\n",
       "    x.observe(notebookContainer, {childList: true});\n",
       "}}\n",
       "\n",
       "// Listen for the clearing of the current output cell\n",
       "var outputEl = gd.closest('.output');\n",
       "if (outputEl) {{\n",
       "    x.observe(outputEl, {childList: true});\n",
       "}}\n",
       "\n",
       "                        })                };                });            </script>        </div>"
      ]
     },
     "metadata": {},
     "output_type": "display_data"
    }
   ],
   "source": [
    "# Filter out the outlier (Uzbekistan)\n",
    "filtered_un_merged = filtered_un_merged[filtered_un_merged['Country'] != 'Uzbekistan']\n",
    "\n",
    "# Create the scatter plot\n",
    "fig = px.scatter(\n",
    "    filtered_un_merged,\n",
    "    x=\"Value_x\",  # Column for x-axis (Consumer Price)\n",
    "    y=\"Value_y\",  # Column for y-axis (Emissions per Capita)\n",
    "    color=\"Country\",\n",
    "    title=\"Consumer Price and Carbon Emissions per Capita (2019)\",\n",
    "    labels={\"Value_x\": \"Consumer Price\", \"Value_y\": \"Emissions per Capita\"},\n",
    ")\n",
    "\n",
    "# Show the plot\n",
    "fig.show()"
   ]
  },
  {
   "cell_type": "code",
   "execution_count": 38,
   "id": "94f8a854-5a89-4ed7-8614-e2277621574b",
   "metadata": {},
   "outputs": [],
   "source": [
    "#As shown in the graphs, no correlation was found, even after removing the single outlier (Uzbekistan)."
   ]
  },
  {
   "cell_type": "code",
   "execution_count": 39,
   "id": "6f093181-4ca8-4909-8c7a-e7fa27e5ccf2",
   "metadata": {},
   "outputs": [
    {
     "name": "stdout",
     "output_type": "stream",
     "text": [
      "The Pearson Correlation is: -0.14094613498992617\n"
     ]
    }
   ],
   "source": [
    "#Calculate Pearson Correlation: \n",
    "correlation_pearson = filtered_un_merged['Value_x'].corr(filtered_un_merged['Value_y'])\n",
    "print(f\"The Pearson Correlation is: {correlation_pearson}\")"
   ]
  },
  {
   "cell_type": "code",
   "execution_count": 40,
   "id": "3f431a14-d7de-4f13-9ffe-d96bd3bd3a50",
   "metadata": {},
   "outputs": [],
   "source": [
    "#The Pearson correlation result (-0.14) indicates a very weak negative correlation between the \n",
    "#two variables, and, if we take a stricter approach, we could conclude that due to the \n",
    "#lack of a significant effect, there is no linear relationship between the two variables."
   ]
  }
 ],
 "metadata": {
  "kernelspec": {
   "display_name": "base",
   "language": "python",
   "name": "python3"
  },
  "language_info": {
   "codemirror_mode": {
    "name": "ipython",
    "version": 3
   },
   "file_extension": ".py",
   "mimetype": "text/x-python",
   "name": "python",
   "nbconvert_exporter": "python",
   "pygments_lexer": "ipython3",
   "version": "3.12.2"
  }
 },
 "nbformat": 4,
 "nbformat_minor": 5
}
