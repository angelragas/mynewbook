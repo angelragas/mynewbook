{
 "cells": [
  {
   "cell_type": "code",
   "execution_count": 5,
   "id": "941382d2",
   "metadata": {},
   "outputs": [],
   "source": [
    "import plotly.io as pio\n",
    "\n",
    "pio.renderers.default = \"vscode+jupyterlab+notebook_connected\""
   ]
  },
  {
   "cell_type": "markdown",
   "id": "16c3a692",
   "metadata": {},
   "source": [
    "- **Dataset(s) to be used:**\n",
    "[https://data.un.org]\n",
    "[https://databank.worldbank.org/source/sustainable-development-goals-(sdgs)]\n",
    "- **Analysis question:**\n",
    "[What is the relationship between progress in access to affordable and clean energy (SDG 7) and CO2 emissions per capita in different countries?]\n",
    "- **Columns that will (likely) be used:**\n",
    "- [Country]\n",
    "- [Value]\n",
    "- [Series]\n",
    "- [Series Name]\n",
    "- [Year]\n",
    "- (If you're using multiple datasets) **Columns to be used to merge/join them:*\n",
    "- [UN Data] [Country]\n",
    "- [WB Data] [Country]\n",
    "- **Hypothesis**:\n",
    "[Countries with greater progress in affordable and sustainable access to clean energy (Goal 7) tend to have lower CO2 emissions per capita, due to the transition to renewable energy sources and improvements in energy efficiency.]\n",
    "- **Site URL:** [https://angelragas.readthedocs.io/en/latest/intro.html]"
   ]
  },
  {
   "cell_type": "markdown",
   "id": "8ad74727-15d8-4a78-89ed-4cfb7017e15d",
   "metadata": {},
   "source": [
    "# Project 3"
   ]
  },
  {
   "cell_type": "markdown",
   "id": "c668cc4c-f653-408e-af6f-b027362c38c8",
   "metadata": {},
   "source": [
    "## Start: Importing Pandas\n",
    "The project should start by importing the pandas package."
   ]
  },
  {
   "cell_type": "code",
   "execution_count": 6,
   "id": "707a36f1-14da-4df0-9920-2e755ebc49df",
   "metadata": {},
   "outputs": [],
   "source": [
    "import pandas as pd"
   ]
  },
  {
   "cell_type": "markdown",
   "id": "70ebd757-cd17-4699-abe7-f5f4d55c6363",
   "metadata": {},
   "source": [
    "## Project Description\n",
    "### Data Selection\n",
    "For the purposes of this project, two datasets from different reputable sources have been selected:\n",
    "\n",
    "1. **CO2 Emissions Estimates** (Source: [data.un.org](https://data.un.org))\n",
    "2. **Sustainable Development Goal 7 Indicators** (Source: [World Bank](https://databank.worldbank.org/source/sustainable-development-goals-(sdgs)))\n",
    "\n",
    "### Variables\n",
    "We have chosen specific variables from each dataset to use in our analysis:\n",
    "\n",
    "1. **CO2 Emissions per Capita (UN):** Measures the average amount of carbon dioxide emitted by each person in a country or region.\n",
    "2. **Goal 7: Affordable and Clean Energy (5-year moving average) (WB):** Measures progress toward affordable and sustainable access to clean energy, allowing for the assessment of sustained advancements toward Sustainable Development Goal (SDG) 7, which relates to affordable and clean energy.\n",
    "\n",
    "### Research Question\n",
    "**What is the relationship between progress in access to affordable and clean energy (SDG 7) and CO2 emissions per capita in different countries?**\n",
    "\n",
    "### Hypothesis\n",
    "**Countries with greater progress in affordable and sustainable access to clean energy (Goal 7) tend to have lower CO2 emissions per capita, due to the transition to renewable energy sources and improvements in energy efficiency.**"
   ]
  },
  {
   "cell_type": "markdown",
   "id": "ee5fd878-9806-4687-97a1-ed759b284b92",
   "metadata": {},
   "source": [
    "## Step 1: Importing the Datasets\n",
    "We will proceed to import both datasets in their CSV formats."
   ]
  },
  {
   "cell_type": "code",
   "execution_count": 7,
   "id": "b9419f13-95d8-4dd1-8257-fe64175de0d5",
   "metadata": {},
   "outputs": [],
   "source": [
    "un_co2 = pd.read_csv(\"/Users/angelragasr/Desktop/project3/SYB66_310_202310_Carbon Dioxide Emission Estimates.csv\", \n",
    "                       encoding=\"ISO-8859-1\", skiprows=1, header=0)\n",
    "wb_goal7 = pd.read_csv(\"/Users/angelragasr/Desktop/project3/a1e0af5c-dac1-4c14-86fd-f570f33e6848_Data.csv\", \n",
    "                       encoding=\"ISO-8859-1\")"
   ]
  },
  {
   "cell_type": "markdown",
   "id": "38268642-c229-44ab-9ffa-3d9e64c2d9da",
   "metadata": {},
   "source": [
    "## Step 2: Visualizing the Datasets (Preliminary)\n",
    "To verify the column names and visualize the structure of the datasets, we will conduct an initial inspection. This step ensures that the headers have been loaded correctly and helps evaluate whether any column names need to be modified."
   ]
  },
  {
   "cell_type": "code",
   "execution_count": 8,
   "id": "96b79b6a-d80a-4f4b-bd27-7299a8983e22",
   "metadata": {},
   "outputs": [
    {
     "data": {
      "text/html": [
       "<div>\n",
       "<style scoped>\n",
       "    .dataframe tbody tr th:only-of-type {\n",
       "        vertical-align: middle;\n",
       "    }\n",
       "\n",
       "    .dataframe tbody tr th {\n",
       "        vertical-align: top;\n",
       "    }\n",
       "\n",
       "    .dataframe thead th {\n",
       "        text-align: right;\n",
       "    }\n",
       "</style>\n",
       "<table border=\"1\" class=\"dataframe\">\n",
       "  <thead>\n",
       "    <tr style=\"text-align: right;\">\n",
       "      <th></th>\n",
       "      <th>Region/Country/Area</th>\n",
       "      <th>Unnamed: 1</th>\n",
       "      <th>Year</th>\n",
       "      <th>Series</th>\n",
       "      <th>Value</th>\n",
       "      <th>Footnotes</th>\n",
       "      <th>Source</th>\n",
       "    </tr>\n",
       "  </thead>\n",
       "  <tbody>\n",
       "    <tr>\n",
       "      <th>0</th>\n",
       "      <td>8</td>\n",
       "      <td>Albania</td>\n",
       "      <td>1975</td>\n",
       "      <td>Emissions (thousand metric tons of carbon diox...</td>\n",
       "      <td>4,524</td>\n",
       "      <td>NaN</td>\n",
       "      <td>International Energy Agency, IEA World Energy ...</td>\n",
       "    </tr>\n",
       "    <tr>\n",
       "      <th>1</th>\n",
       "      <td>8</td>\n",
       "      <td>Albania</td>\n",
       "      <td>1985</td>\n",
       "      <td>Emissions (thousand metric tons of carbon diox...</td>\n",
       "      <td>7,145</td>\n",
       "      <td>NaN</td>\n",
       "      <td>International Energy Agency, IEA World Energy ...</td>\n",
       "    </tr>\n",
       "    <tr>\n",
       "      <th>2</th>\n",
       "      <td>8</td>\n",
       "      <td>Albania</td>\n",
       "      <td>2005</td>\n",
       "      <td>Emissions (thousand metric tons of carbon diox...</td>\n",
       "      <td>3,980</td>\n",
       "      <td>NaN</td>\n",
       "      <td>International Energy Agency, IEA World Energy ...</td>\n",
       "    </tr>\n",
       "    <tr>\n",
       "      <th>3</th>\n",
       "      <td>8</td>\n",
       "      <td>Albania</td>\n",
       "      <td>2010</td>\n",
       "      <td>Emissions (thousand metric tons of carbon diox...</td>\n",
       "      <td>4,074</td>\n",
       "      <td>NaN</td>\n",
       "      <td>International Energy Agency, IEA World Energy ...</td>\n",
       "    </tr>\n",
       "    <tr>\n",
       "      <th>4</th>\n",
       "      <td>8</td>\n",
       "      <td>Albania</td>\n",
       "      <td>2015</td>\n",
       "      <td>Emissions (thousand metric tons of carbon diox...</td>\n",
       "      <td>3,975</td>\n",
       "      <td>NaN</td>\n",
       "      <td>International Energy Agency, IEA World Energy ...</td>\n",
       "    </tr>\n",
       "    <tr>\n",
       "      <th>...</th>\n",
       "      <td>...</td>\n",
       "      <td>...</td>\n",
       "      <td>...</td>\n",
       "      <td>...</td>\n",
       "      <td>...</td>\n",
       "      <td>...</td>\n",
       "      <td>...</td>\n",
       "    </tr>\n",
       "    <tr>\n",
       "      <th>2259</th>\n",
       "      <td>716</td>\n",
       "      <td>Zimbabwe</td>\n",
       "      <td>2010</td>\n",
       "      <td>Emissions per capita (metric tons of carbon di...</td>\n",
       "      <td>0.7</td>\n",
       "      <td>NaN</td>\n",
       "      <td>International Energy Agency, IEA World Energy ...</td>\n",
       "    </tr>\n",
       "    <tr>\n",
       "      <th>2260</th>\n",
       "      <td>716</td>\n",
       "      <td>Zimbabwe</td>\n",
       "      <td>2015</td>\n",
       "      <td>Emissions per capita (metric tons of carbon di...</td>\n",
       "      <td>0.8</td>\n",
       "      <td>NaN</td>\n",
       "      <td>International Energy Agency, IEA World Energy ...</td>\n",
       "    </tr>\n",
       "    <tr>\n",
       "      <th>2261</th>\n",
       "      <td>716</td>\n",
       "      <td>Zimbabwe</td>\n",
       "      <td>2018</td>\n",
       "      <td>Emissions per capita (metric tons of carbon di...</td>\n",
       "      <td>0.7</td>\n",
       "      <td>NaN</td>\n",
       "      <td>International Energy Agency, IEA World Energy ...</td>\n",
       "    </tr>\n",
       "    <tr>\n",
       "      <th>2262</th>\n",
       "      <td>716</td>\n",
       "      <td>Zimbabwe</td>\n",
       "      <td>2019</td>\n",
       "      <td>Emissions per capita (metric tons of carbon di...</td>\n",
       "      <td>0.7</td>\n",
       "      <td>NaN</td>\n",
       "      <td>International Energy Agency, IEA World Energy ...</td>\n",
       "    </tr>\n",
       "    <tr>\n",
       "      <th>2263</th>\n",
       "      <td>716</td>\n",
       "      <td>Zimbabwe</td>\n",
       "      <td>2020</td>\n",
       "      <td>Emissions per capita (metric tons of carbon di...</td>\n",
       "      <td>0.5</td>\n",
       "      <td>NaN</td>\n",
       "      <td>International Energy Agency, IEA World Energy ...</td>\n",
       "    </tr>\n",
       "  </tbody>\n",
       "</table>\n",
       "<p>2264 rows × 7 columns</p>\n",
       "</div>"
      ],
      "text/plain": [
       "      Region/Country/Area Unnamed: 1  Year  \\\n",
       "0                       8    Albania  1975   \n",
       "1                       8    Albania  1985   \n",
       "2                       8    Albania  2005   \n",
       "3                       8    Albania  2010   \n",
       "4                       8    Albania  2015   \n",
       "...                   ...        ...   ...   \n",
       "2259                  716   Zimbabwe  2010   \n",
       "2260                  716   Zimbabwe  2015   \n",
       "2261                  716   Zimbabwe  2018   \n",
       "2262                  716   Zimbabwe  2019   \n",
       "2263                  716   Zimbabwe  2020   \n",
       "\n",
       "                                                 Series  Value Footnotes  \\\n",
       "0     Emissions (thousand metric tons of carbon diox...  4,524       NaN   \n",
       "1     Emissions (thousand metric tons of carbon diox...  7,145       NaN   \n",
       "2     Emissions (thousand metric tons of carbon diox...  3,980       NaN   \n",
       "3     Emissions (thousand metric tons of carbon diox...  4,074       NaN   \n",
       "4     Emissions (thousand metric tons of carbon diox...  3,975       NaN   \n",
       "...                                                 ...    ...       ...   \n",
       "2259  Emissions per capita (metric tons of carbon di...    0.7       NaN   \n",
       "2260  Emissions per capita (metric tons of carbon di...    0.8       NaN   \n",
       "2261  Emissions per capita (metric tons of carbon di...    0.7       NaN   \n",
       "2262  Emissions per capita (metric tons of carbon di...    0.7       NaN   \n",
       "2263  Emissions per capita (metric tons of carbon di...    0.5       NaN   \n",
       "\n",
       "                                                 Source  \n",
       "0     International Energy Agency, IEA World Energy ...  \n",
       "1     International Energy Agency, IEA World Energy ...  \n",
       "2     International Energy Agency, IEA World Energy ...  \n",
       "3     International Energy Agency, IEA World Energy ...  \n",
       "4     International Energy Agency, IEA World Energy ...  \n",
       "...                                                 ...  \n",
       "2259  International Energy Agency, IEA World Energy ...  \n",
       "2260  International Energy Agency, IEA World Energy ...  \n",
       "2261  International Energy Agency, IEA World Energy ...  \n",
       "2262  International Energy Agency, IEA World Energy ...  \n",
       "2263  International Energy Agency, IEA World Energy ...  \n",
       "\n",
       "[2264 rows x 7 columns]"
      ]
     },
     "execution_count": 8,
     "metadata": {},
     "output_type": "execute_result"
    }
   ],
   "source": [
    "un_co2"
   ]
  },
  {
   "cell_type": "code",
   "execution_count": 9,
   "id": "38984fcb-aa4b-44ef-9d8e-9d0a82a95529",
   "metadata": {},
   "outputs": [
    {
     "data": {
      "text/html": [
       "<div>\n",
       "<style scoped>\n",
       "    .dataframe tbody tr th:only-of-type {\n",
       "        vertical-align: middle;\n",
       "    }\n",
       "\n",
       "    .dataframe tbody tr th {\n",
       "        vertical-align: top;\n",
       "    }\n",
       "\n",
       "    .dataframe thead th {\n",
       "        text-align: right;\n",
       "    }\n",
       "</style>\n",
       "<table border=\"1\" class=\"dataframe\">\n",
       "  <thead>\n",
       "    <tr style=\"text-align: right;\">\n",
       "      <th></th>\n",
       "      <th>Country Name</th>\n",
       "      <th>Country Code</th>\n",
       "      <th>Series Name</th>\n",
       "      <th>Series Code</th>\n",
       "      <th>2019 [YR2019]</th>\n",
       "    </tr>\n",
       "  </thead>\n",
       "  <tbody>\n",
       "    <tr>\n",
       "      <th>0</th>\n",
       "      <td>Afghanistan</td>\n",
       "      <td>AFG</td>\n",
       "      <td>Agriculture census (Availability score over 20...</td>\n",
       "      <td>SPI.D4.1.2.AGRI</td>\n",
       "      <td>0.5</td>\n",
       "    </tr>\n",
       "    <tr>\n",
       "      <th>1</th>\n",
       "      <td>Afghanistan</td>\n",
       "      <td>AFG</td>\n",
       "      <td>Agriculture survey (Availability score over 10...</td>\n",
       "      <td>SPI.D4.1.5.AGSVY</td>\n",
       "      <td>0</td>\n",
       "    </tr>\n",
       "    <tr>\n",
       "      <th>2</th>\n",
       "      <td>Afghanistan</td>\n",
       "      <td>AFG</td>\n",
       "      <td>Availability of Comparable Poverty headcount r...</td>\n",
       "      <td>SPI.D1.5.POV</td>\n",
       "      <td>0</td>\n",
       "    </tr>\n",
       "    <tr>\n",
       "      <th>3</th>\n",
       "      <td>Afghanistan</td>\n",
       "      <td>AFG</td>\n",
       "      <td>Availability of Mortality rate, under-5 (per 1...</td>\n",
       "      <td>SPI.D1.5.CHLD.MORT</td>\n",
       "      <td>1</td>\n",
       "    </tr>\n",
       "    <tr>\n",
       "      <th>4</th>\n",
       "      <td>Afghanistan</td>\n",
       "      <td>AFG</td>\n",
       "      <td>Business process</td>\n",
       "      <td>SPI.D5.2.10.GSBP</td>\n",
       "      <td>0</td>\n",
       "    </tr>\n",
       "    <tr>\n",
       "      <th>...</th>\n",
       "      <td>...</td>\n",
       "      <td>...</td>\n",
       "      <td>...</td>\n",
       "      <td>...</td>\n",
       "      <td>...</td>\n",
       "    </tr>\n",
       "    <tr>\n",
       "      <th>15624</th>\n",
       "      <td>NaN</td>\n",
       "      <td>NaN</td>\n",
       "      <td>NaN</td>\n",
       "      <td>NaN</td>\n",
       "      <td>NaN</td>\n",
       "    </tr>\n",
       "    <tr>\n",
       "      <th>15625</th>\n",
       "      <td>NaN</td>\n",
       "      <td>NaN</td>\n",
       "      <td>NaN</td>\n",
       "      <td>NaN</td>\n",
       "      <td>NaN</td>\n",
       "    </tr>\n",
       "    <tr>\n",
       "      <th>15626</th>\n",
       "      <td>NaN</td>\n",
       "      <td>NaN</td>\n",
       "      <td>NaN</td>\n",
       "      <td>NaN</td>\n",
       "      <td>NaN</td>\n",
       "    </tr>\n",
       "    <tr>\n",
       "      <th>15627</th>\n",
       "      <td>Data from database: Statistical Performance In...</td>\n",
       "      <td>NaN</td>\n",
       "      <td>NaN</td>\n",
       "      <td>NaN</td>\n",
       "      <td>NaN</td>\n",
       "    </tr>\n",
       "    <tr>\n",
       "      <th>15628</th>\n",
       "      <td>Last Updated: 11/11/2024</td>\n",
       "      <td>NaN</td>\n",
       "      <td>NaN</td>\n",
       "      <td>NaN</td>\n",
       "      <td>NaN</td>\n",
       "    </tr>\n",
       "  </tbody>\n",
       "</table>\n",
       "<p>15629 rows × 5 columns</p>\n",
       "</div>"
      ],
      "text/plain": [
       "                                            Country Name Country Code  \\\n",
       "0                                            Afghanistan          AFG   \n",
       "1                                            Afghanistan          AFG   \n",
       "2                                            Afghanistan          AFG   \n",
       "3                                            Afghanistan          AFG   \n",
       "4                                            Afghanistan          AFG   \n",
       "...                                                  ...          ...   \n",
       "15624                                                NaN          NaN   \n",
       "15625                                                NaN          NaN   \n",
       "15626                                                NaN          NaN   \n",
       "15627  Data from database: Statistical Performance In...          NaN   \n",
       "15628                           Last Updated: 11/11/2024          NaN   \n",
       "\n",
       "                                             Series Name         Series Code  \\\n",
       "0      Agriculture census (Availability score over 20...     SPI.D4.1.2.AGRI   \n",
       "1      Agriculture survey (Availability score over 10...    SPI.D4.1.5.AGSVY   \n",
       "2      Availability of Comparable Poverty headcount r...        SPI.D1.5.POV   \n",
       "3      Availability of Mortality rate, under-5 (per 1...  SPI.D1.5.CHLD.MORT   \n",
       "4                                       Business process    SPI.D5.2.10.GSBP   \n",
       "...                                                  ...                 ...   \n",
       "15624                                                NaN                 NaN   \n",
       "15625                                                NaN                 NaN   \n",
       "15626                                                NaN                 NaN   \n",
       "15627                                                NaN                 NaN   \n",
       "15628                                                NaN                 NaN   \n",
       "\n",
       "      2019 [YR2019]  \n",
       "0               0.5  \n",
       "1                 0  \n",
       "2                 0  \n",
       "3                 1  \n",
       "4                 0  \n",
       "...             ...  \n",
       "15624           NaN  \n",
       "15625           NaN  \n",
       "15626           NaN  \n",
       "15627           NaN  \n",
       "15628           NaN  \n",
       "\n",
       "[15629 rows x 5 columns]"
      ]
     },
     "execution_count": 9,
     "metadata": {},
     "output_type": "execute_result"
    }
   ],
   "source": [
    "wb_goal7"
   ]
  },
  {
   "cell_type": "markdown",
   "id": "f722d612-7b49-4b40-9a9b-5e82c17b8f9c",
   "metadata": {},
   "source": [
    "### Step 2.1: Renaming Columns\n",
    "We will rename the columns to provide more intuitive and descriptive names, replacing the original ones assigned by international organizations."
   ]
  },
  {
   "cell_type": "code",
   "execution_count": 10,
   "id": "8490b6cd-1fcc-4bcb-b998-536b0783eeff",
   "metadata": {},
   "outputs": [],
   "source": [
    "un_co2.columns=['N°', 'Country', 'Year', 'Series', 'Value', 'Footnotes', 'Source']\n",
    "wb_goal7.columns=['Country', 'Country Code', 'Series Name', 'Series Code', 'Value']"
   ]
  },
  {
   "cell_type": "markdown",
   "id": "8de47376-a2e4-4fe4-92fb-d1961d162a79",
   "metadata": {},
   "source": [
    "### Step 2.2: Selecting Relevant Columns\n",
    "We will identify the columns of interest in both datasets; specifically, those that will be used for merging and are relevant for the analysis of the results.\n",
    "\n",
    "### Identification\n",
    "The following columns of interest were identified in both datasets:\n",
    "\n",
    "1. **Country**\n",
    "2. **Series / Series Name**\n",
    "3. **Value**\n",
    "4. **Year**\n",
    "\n",
    "For the UN dataset, the column **Year** will be additionally selected to filter the data for the year 2019. However, for the WB dataset, this is not necessary as only 2019 data was downloaded.\n",
    "\n",
    "#### Why 2019?\n",
    "The year 2019 was chosen because, prior to the COVID-19 pandemic (i.e., up until 2019), climate and institutional variables, among others, experienced less variation compared to the post-COVID period, when the pandemic disproportionately affected the most vulnerable countries."
   ]
  },
  {
   "cell_type": "code",
   "execution_count": 11,
   "id": "8bda30fd-5839-4a1f-9af3-77613992f387",
   "metadata": {},
   "outputs": [],
   "source": [
    "un_co2 = un_co2[['Country', 'Value', 'Series', 'Year']]\n",
    "wb_goal7 = wb_goal7[['Country', 'Value', 'Series Name']]"
   ]
  },
  {
   "cell_type": "markdown",
   "id": "d1827731-f8a6-49ab-bddf-76d1720424ad",
   "metadata": {},
   "source": [
    "## Step 2.3: Verifying the Datasets (Again)\n",
    "We will recheck the datasets to ensure that the selected columns are correctly loaded and that the data is ready for the next steps of the analysis."
   ]
  },
  {
   "cell_type": "code",
   "execution_count": 12,
   "id": "af6bd08e-6d3e-42f2-bcc1-fd5470d1afb5",
   "metadata": {},
   "outputs": [
    {
     "data": {
      "text/html": [
       "<div>\n",
       "<style scoped>\n",
       "    .dataframe tbody tr th:only-of-type {\n",
       "        vertical-align: middle;\n",
       "    }\n",
       "\n",
       "    .dataframe tbody tr th {\n",
       "        vertical-align: top;\n",
       "    }\n",
       "\n",
       "    .dataframe thead th {\n",
       "        text-align: right;\n",
       "    }\n",
       "</style>\n",
       "<table border=\"1\" class=\"dataframe\">\n",
       "  <thead>\n",
       "    <tr style=\"text-align: right;\">\n",
       "      <th></th>\n",
       "      <th>Country</th>\n",
       "      <th>Value</th>\n",
       "      <th>Series</th>\n",
       "      <th>Year</th>\n",
       "    </tr>\n",
       "  </thead>\n",
       "  <tbody>\n",
       "    <tr>\n",
       "      <th>0</th>\n",
       "      <td>Albania</td>\n",
       "      <td>4,524</td>\n",
       "      <td>Emissions (thousand metric tons of carbon diox...</td>\n",
       "      <td>1975</td>\n",
       "    </tr>\n",
       "    <tr>\n",
       "      <th>1</th>\n",
       "      <td>Albania</td>\n",
       "      <td>7,145</td>\n",
       "      <td>Emissions (thousand metric tons of carbon diox...</td>\n",
       "      <td>1985</td>\n",
       "    </tr>\n",
       "    <tr>\n",
       "      <th>2</th>\n",
       "      <td>Albania</td>\n",
       "      <td>3,980</td>\n",
       "      <td>Emissions (thousand metric tons of carbon diox...</td>\n",
       "      <td>2005</td>\n",
       "    </tr>\n",
       "    <tr>\n",
       "      <th>3</th>\n",
       "      <td>Albania</td>\n",
       "      <td>4,074</td>\n",
       "      <td>Emissions (thousand metric tons of carbon diox...</td>\n",
       "      <td>2010</td>\n",
       "    </tr>\n",
       "    <tr>\n",
       "      <th>4</th>\n",
       "      <td>Albania</td>\n",
       "      <td>3,975</td>\n",
       "      <td>Emissions (thousand metric tons of carbon diox...</td>\n",
       "      <td>2015</td>\n",
       "    </tr>\n",
       "  </tbody>\n",
       "</table>\n",
       "</div>"
      ],
      "text/plain": [
       "   Country  Value                                             Series  Year\n",
       "0  Albania  4,524  Emissions (thousand metric tons of carbon diox...  1975\n",
       "1  Albania  7,145  Emissions (thousand metric tons of carbon diox...  1985\n",
       "2  Albania  3,980  Emissions (thousand metric tons of carbon diox...  2005\n",
       "3  Albania  4,074  Emissions (thousand metric tons of carbon diox...  2010\n",
       "4  Albania  3,975  Emissions (thousand metric tons of carbon diox...  2015"
      ]
     },
     "execution_count": 12,
     "metadata": {},
     "output_type": "execute_result"
    }
   ],
   "source": [
    "un_co2.head()"
   ]
  },
  {
   "cell_type": "code",
   "execution_count": 13,
   "id": "f15c21b4-30f8-402f-8f46-aaa2f2a21c8a",
   "metadata": {},
   "outputs": [
    {
     "data": {
      "text/html": [
       "<div>\n",
       "<style scoped>\n",
       "    .dataframe tbody tr th:only-of-type {\n",
       "        vertical-align: middle;\n",
       "    }\n",
       "\n",
       "    .dataframe tbody tr th {\n",
       "        vertical-align: top;\n",
       "    }\n",
       "\n",
       "    .dataframe thead th {\n",
       "        text-align: right;\n",
       "    }\n",
       "</style>\n",
       "<table border=\"1\" class=\"dataframe\">\n",
       "  <thead>\n",
       "    <tr style=\"text-align: right;\">\n",
       "      <th></th>\n",
       "      <th>Country</th>\n",
       "      <th>Value</th>\n",
       "      <th>Series Name</th>\n",
       "    </tr>\n",
       "  </thead>\n",
       "  <tbody>\n",
       "    <tr>\n",
       "      <th>0</th>\n",
       "      <td>Afghanistan</td>\n",
       "      <td>0.5</td>\n",
       "      <td>Agriculture census (Availability score over 20...</td>\n",
       "    </tr>\n",
       "    <tr>\n",
       "      <th>1</th>\n",
       "      <td>Afghanistan</td>\n",
       "      <td>0</td>\n",
       "      <td>Agriculture survey (Availability score over 10...</td>\n",
       "    </tr>\n",
       "    <tr>\n",
       "      <th>2</th>\n",
       "      <td>Afghanistan</td>\n",
       "      <td>0</td>\n",
       "      <td>Availability of Comparable Poverty headcount r...</td>\n",
       "    </tr>\n",
       "    <tr>\n",
       "      <th>3</th>\n",
       "      <td>Afghanistan</td>\n",
       "      <td>1</td>\n",
       "      <td>Availability of Mortality rate, under-5 (per 1...</td>\n",
       "    </tr>\n",
       "    <tr>\n",
       "      <th>4</th>\n",
       "      <td>Afghanistan</td>\n",
       "      <td>0</td>\n",
       "      <td>Business process</td>\n",
       "    </tr>\n",
       "  </tbody>\n",
       "</table>\n",
       "</div>"
      ],
      "text/plain": [
       "       Country Value                                        Series Name\n",
       "0  Afghanistan   0.5  Agriculture census (Availability score over 20...\n",
       "1  Afghanistan     0  Agriculture survey (Availability score over 10...\n",
       "2  Afghanistan     0  Availability of Comparable Poverty headcount r...\n",
       "3  Afghanistan     1  Availability of Mortality rate, under-5 (per 1...\n",
       "4  Afghanistan     0                                   Business process"
      ]
     },
     "execution_count": 13,
     "metadata": {},
     "output_type": "execute_result"
    }
   ],
   "source": [
    "wb_goal7.head()"
   ]
  },
  {
   "cell_type": "markdown",
   "id": "6dc1a10a-e164-471f-bdbb-0c77c2272804",
   "metadata": {},
   "source": [
    "## Step 3: Further Cleaning the Data\n",
    "Datasets of this nature often contain errors, typos, or specific characteristics that need to be cleaned (and, in many cases, removed) to ensure the data is coherent and suitable for analyzing the variables of interest. Thus, we will proceed with the respective cleaning process for each dataset."
   ]
  },
  {
   "cell_type": "markdown",
   "id": "ea3b0bac-0ac5-42f4-9a78-9678d3eb0e09",
   "metadata": {},
   "source": [
    "### Step 3.1: Cleaning the UN Data\n",
    "For the UN dataset, it is necessary to select only official countries and exclude all non-country entries (regions, special areas, unrecognized nations). This is because we will work exclusively with country-level (official) information, which is the first requirement for merging the data with the WB dataset, which is also at the official country level."
   ]
  },
  {
   "cell_type": "markdown",
   "id": "76f0158e-6d6c-4e31-9028-88377c7ce6b2",
   "metadata": {},
   "source": [
    "#### Step 3.1.1: Identifying Non-Country Entries\n",
    "We will identify entries that do not correspond to official countries, such as regions, special areas, or unrecognized nations, to ensure they are excluded from the dataset."
   ]
  },
  {
   "cell_type": "code",
   "execution_count": 14,
   "id": "67d19fc9-96a6-4784-b1ce-1f088c86bb5e",
   "metadata": {},
   "outputs": [],
   "source": [
    "excluded_countries = [\n",
    "    \"Total, all countries or areas\", \"Africa\", \"Northern Africa\", \"Sub-Saharan Africa\", \"Eastern Africa\", \n",
    "    \"Middle Africa\", \"Southern Africa\", \"Western Africa\", \"Americas\", \n",
    "    \"Northern America\", \"Latin America & the Caribbean\", \"Caribbean\", \n",
    "    \"Central America\", \"South America\", \"Asia\", \"Central Asia\", \n",
    "    \"Eastern Asia\", \"South-central Asia\", \"South-eastern Asia\", \"Southern Asia\", \n",
    "    \"Western Asia\", \"Europe\", \"European Union (EU)\",\"Eastern Europe\", \"Northern Europe\", \n",
    "    \"Southern Europe\", \"Western Europe\", \"Oceania\", \"Australia and New Zealand\", \n",
    "    \"Melanesia\", \"Micronesia\", \"Polynesia\", \"British Virgin Islands\", \n",
    "    \"Falkland Islands (Malvinas)\", \"Faroe Islands\", \"French Guiana\", \n",
    "    \"Guam\", \"New Caledonia\", \"Puerto Rico\", \"Saint Martin (French part)\", \n",
    "    \"Sint Maarten (Dutch part)\", \"Turks and Caicos Islands\", \n",
    "    \"United States Virgin Islands\", \"Other non-specified areas\", \n",
    "    \"LLDCs\", \"LDCs\", \"SIDS\", \"LDC§\", \"LLDC§\", \"SID§\", \"American Samoa\", \"Aruba\", \"Bermuda\", \"Bonaire, St. Eustatius & Saba\", \n",
    "    \"British Virgin Islands\", \"Cayman Islands\", \"Cook Islands\", \n",
    "    \"Falkland Islands (Malvinas)\", \"French Guiana\", \"French Polynesia\", \n",
    "    \"Guam\", \"Isle of Man\", \"Montserrat\", \"New Caledonia\", \"Niue\", \n",
    "    \"Northern Mariana Islands\", \"Puerto Rico\", \"Réunion\", \n",
    "    \"Saint Barthélemy\", \"Saint Helena\", \"Saint Martin (French part)\", \n",
    "    \"Sint Maarten (Dutch part)\", \"Tokelau\", \"Turks and Caicos Islands\", \n",
    "    \"United States Virgin Islands\", \"Wallis and Futuna Islands\", \n",
    "    \"Western Sahara\", \"Anguilla\", \"Aruba\", \"Bermuda\", \"Bonaire, St. Eustatius & Saba\", \n",
    "    \"British Virgin Islands\", \"Cayman Islands\", \"Cook Islands\", \n",
    "    \"Falkland Islands (Malvinas)\", \"French Guiana\", \"French Polynesia\", \n",
    "    \"Guam\", \"Isle of Man\", \"Montserrat\", \"New Caledonia\", \"Niue\", \n",
    "    \"Northern Mariana Islands\", \"Puerto Rico\", \"Réunion\", \n",
    "    \"Saint Barthélemy\", \"Saint Helena\", \"Saint Martin (French part)\", \n",
    "    \"Sint Maarten (Dutch part)\", \"Tokelau\", \"Turks and Caicos Islands\", \n",
    "    \"United States Virgin Islands\", \"Wallis and Futuna Islands\", \n",
    "    \"Western Sahara\"\n",
    "]"
   ]
  },
  {
   "cell_type": "markdown",
   "id": "e99a5efd-2fa9-4457-9aa2-52a0703db964",
   "metadata": {},
   "source": [
    "#### Step 3.1.2: Filtering Official Countries Only"
   ]
  },
  {
   "cell_type": "code",
   "execution_count": 15,
   "id": "8a51ffa5-ac3e-4e12-a265-44f3f59c3592",
   "metadata": {},
   "outputs": [
    {
     "data": {
      "text/html": [
       "<div>\n",
       "<style scoped>\n",
       "    .dataframe tbody tr th:only-of-type {\n",
       "        vertical-align: middle;\n",
       "    }\n",
       "\n",
       "    .dataframe tbody tr th {\n",
       "        vertical-align: top;\n",
       "    }\n",
       "\n",
       "    .dataframe thead th {\n",
       "        text-align: right;\n",
       "    }\n",
       "</style>\n",
       "<table border=\"1\" class=\"dataframe\">\n",
       "  <thead>\n",
       "    <tr style=\"text-align: right;\">\n",
       "      <th></th>\n",
       "      <th>Country</th>\n",
       "      <th>Value</th>\n",
       "      <th>Series</th>\n",
       "      <th>Year</th>\n",
       "    </tr>\n",
       "  </thead>\n",
       "  <tbody>\n",
       "    <tr>\n",
       "      <th>0</th>\n",
       "      <td>Albania</td>\n",
       "      <td>4,524</td>\n",
       "      <td>Emissions (thousand metric tons of carbon diox...</td>\n",
       "      <td>1975</td>\n",
       "    </tr>\n",
       "    <tr>\n",
       "      <th>1</th>\n",
       "      <td>Albania</td>\n",
       "      <td>7,145</td>\n",
       "      <td>Emissions (thousand metric tons of carbon diox...</td>\n",
       "      <td>1985</td>\n",
       "    </tr>\n",
       "    <tr>\n",
       "      <th>2</th>\n",
       "      <td>Albania</td>\n",
       "      <td>3,980</td>\n",
       "      <td>Emissions (thousand metric tons of carbon diox...</td>\n",
       "      <td>2005</td>\n",
       "    </tr>\n",
       "    <tr>\n",
       "      <th>3</th>\n",
       "      <td>Albania</td>\n",
       "      <td>4,074</td>\n",
       "      <td>Emissions (thousand metric tons of carbon diox...</td>\n",
       "      <td>2010</td>\n",
       "    </tr>\n",
       "    <tr>\n",
       "      <th>4</th>\n",
       "      <td>Albania</td>\n",
       "      <td>3,975</td>\n",
       "      <td>Emissions (thousand metric tons of carbon diox...</td>\n",
       "      <td>2015</td>\n",
       "    </tr>\n",
       "  </tbody>\n",
       "</table>\n",
       "</div>"
      ],
      "text/plain": [
       "   Country  Value                                             Series  Year\n",
       "0  Albania  4,524  Emissions (thousand metric tons of carbon diox...  1975\n",
       "1  Albania  7,145  Emissions (thousand metric tons of carbon diox...  1985\n",
       "2  Albania  3,980  Emissions (thousand metric tons of carbon diox...  2005\n",
       "3  Albania  4,074  Emissions (thousand metric tons of carbon diox...  2010\n",
       "4  Albania  3,975  Emissions (thousand metric tons of carbon diox...  2015"
      ]
     },
     "execution_count": 15,
     "metadata": {},
     "output_type": "execute_result"
    }
   ],
   "source": [
    "un_co2_new = un_co2[un_co2[\"Country\"].isin(excluded_countries) == False]\n",
    "un_co2_new.head()"
   ]
  },
  {
   "cell_type": "markdown",
   "id": "5d28d8fa-47d7-43b4-91c0-cc90eff850c1",
   "metadata": {},
   "source": [
    "## Step 3.2: Selecting the Relevant Year\n",
    "We will inspect the unique year values in the dataset and drop those that are not of interest, retaining only the data for the year 2019."
   ]
  },
  {
   "cell_type": "code",
   "execution_count": 16,
   "id": "3decd5e0-cb63-455d-a049-8dcb9919efbb",
   "metadata": {},
   "outputs": [
    {
     "data": {
      "text/plain": [
       "array([1975, 1985, 2005, 2010, 2015, 2018, 2019, 2020])"
      ]
     },
     "execution_count": 16,
     "metadata": {},
     "output_type": "execute_result"
    }
   ],
   "source": [
    "un_co2_new['Year'].unique()"
   ]
  },
  {
   "cell_type": "code",
   "execution_count": 17,
   "id": "5e4d22e7-6157-4095-94fb-6385cfc6871a",
   "metadata": {},
   "outputs": [],
   "source": [
    "filtered_un_co2 = un_co2_new[un_co2_new['Year'] == 2019]"
   ]
  },
  {
   "cell_type": "code",
   "execution_count": 18,
   "id": "70e3fe87-e811-4be2-895c-71d01e4f528f",
   "metadata": {},
   "outputs": [
    {
     "data": {
      "text/plain": [
       "array([2019])"
      ]
     },
     "execution_count": 18,
     "metadata": {},
     "output_type": "execute_result"
    }
   ],
   "source": [
    "filtered_un_co2['Year'].unique()"
   ]
  },
  {
   "cell_type": "markdown",
   "id": "4b3db37c-8043-4596-a9b0-a5078d3592a9",
   "metadata": {},
   "source": [
    "## Step 3.3: Standardizing the Values\n",
    "As the final cleaning step, we will standardize the values in the \"Value\" column to ensure consistency and prevent potential data issues or biases in the analysis."
   ]
  },
  {
   "cell_type": "markdown",
   "id": "fa038474-79f8-4643-8fe3-7b6df8aed24a",
   "metadata": {},
   "source": [
    "### Step 3.3.1: Text Transformation and Removal of Commas\n",
    "We will convert the values in the \"Value\" column to text format and remove commas used as separators."
   ]
  },
  {
   "cell_type": "code",
   "execution_count": 19,
   "id": "d4f0ef52-4805-4273-8a8b-a4a465933700",
   "metadata": {},
   "outputs": [],
   "source": [
    "wb_goal7.loc[:, 'Value'] = wb_goal7['Value'].astype(str).str.replace(',', '', regex=False)\n",
    "filtered_un_co2.loc[:, 'Value'] = filtered_un_co2['Value'].astype(str).str.replace(',', '', regex=False)"
   ]
  },
  {
   "cell_type": "markdown",
   "id": "369fb798-223e-4654-9743-66495c6158b6",
   "metadata": {},
   "source": [
    "### Step 3.3.2: Transforming to Numbers and Replacing with NaN\n",
    "We will convert the values to numeric format, replacing non-numeric entries with NaN."
   ]
  },
  {
   "cell_type": "code",
   "execution_count": 20,
   "id": "728cf25b-4181-4581-b16c-2480a578ea3d",
   "metadata": {},
   "outputs": [],
   "source": [
    "wb_goal7.loc[:, 'Value'] = pd.to_numeric(wb_goal7['Value'], errors='coerce')\n",
    "filtered_un_co2.loc[:, 'Value'] = pd.to_numeric(filtered_un_co2['Value'], errors='coerce')"
   ]
  },
  {
   "cell_type": "markdown",
   "id": "2f83e489-68f2-4c68-8919-b01730c28104",
   "metadata": {},
   "source": [
    "### Step 3.3.3: Dropping NA Values\n",
    "We will drop NA values to ensure they are not included in the analysis."
   ]
  },
  {
   "cell_type": "code",
   "execution_count": 21,
   "id": "03abdb7b-ebed-4bc4-bea1-d2c6e696b73e",
   "metadata": {},
   "outputs": [],
   "source": [
    "wb_goal7 = wb_goal7.dropna(subset=['Value']).copy()\n",
    "filtered_un_co2 = filtered_un_co2.dropna(subset=['Value']).copy()"
   ]
  },
  {
   "cell_type": "markdown",
   "id": "d5889c8e-4880-437b-b073-b780931aab04",
   "metadata": {},
   "source": [
    "### Step 3.3.4: Converting Year to String"
   ]
  },
  {
   "cell_type": "code",
   "execution_count": 22,
   "id": "c81a39fc-af27-455e-b4d8-64c23a9bd90a",
   "metadata": {},
   "outputs": [],
   "source": [
    "filtered_un_co2['Year'] = filtered_un_co2['Year'].astype(str)"
   ]
  },
  {
   "cell_type": "code",
   "execution_count": 23,
   "id": "4e99fe60-247f-4fa3-aeaa-a5d5aeddbb33",
   "metadata": {},
   "outputs": [
    {
     "data": {
      "text/html": [
       "<div>\n",
       "<style scoped>\n",
       "    .dataframe tbody tr th:only-of-type {\n",
       "        vertical-align: middle;\n",
       "    }\n",
       "\n",
       "    .dataframe tbody tr th {\n",
       "        vertical-align: top;\n",
       "    }\n",
       "\n",
       "    .dataframe thead th {\n",
       "        text-align: right;\n",
       "    }\n",
       "</style>\n",
       "<table border=\"1\" class=\"dataframe\">\n",
       "  <thead>\n",
       "    <tr style=\"text-align: right;\">\n",
       "      <th></th>\n",
       "      <th>Country</th>\n",
       "      <th>Value</th>\n",
       "      <th>Series Name</th>\n",
       "    </tr>\n",
       "  </thead>\n",
       "  <tbody>\n",
       "    <tr>\n",
       "      <th>0</th>\n",
       "      <td>Afghanistan</td>\n",
       "      <td>0.5</td>\n",
       "      <td>Agriculture census (Availability score over 20...</td>\n",
       "    </tr>\n",
       "    <tr>\n",
       "      <th>1</th>\n",
       "      <td>Afghanistan</td>\n",
       "      <td>0.0</td>\n",
       "      <td>Agriculture survey (Availability score over 10...</td>\n",
       "    </tr>\n",
       "    <tr>\n",
       "      <th>2</th>\n",
       "      <td>Afghanistan</td>\n",
       "      <td>0.0</td>\n",
       "      <td>Availability of Comparable Poverty headcount r...</td>\n",
       "    </tr>\n",
       "    <tr>\n",
       "      <th>3</th>\n",
       "      <td>Afghanistan</td>\n",
       "      <td>1.0</td>\n",
       "      <td>Availability of Mortality rate, under-5 (per 1...</td>\n",
       "    </tr>\n",
       "    <tr>\n",
       "      <th>4</th>\n",
       "      <td>Afghanistan</td>\n",
       "      <td>0.0</td>\n",
       "      <td>Business process</td>\n",
       "    </tr>\n",
       "  </tbody>\n",
       "</table>\n",
       "</div>"
      ],
      "text/plain": [
       "       Country Value                                        Series Name\n",
       "0  Afghanistan   0.5  Agriculture census (Availability score over 20...\n",
       "1  Afghanistan   0.0  Agriculture survey (Availability score over 10...\n",
       "2  Afghanistan   0.0  Availability of Comparable Poverty headcount r...\n",
       "3  Afghanistan   1.0  Availability of Mortality rate, under-5 (per 1...\n",
       "4  Afghanistan   0.0                                   Business process"
      ]
     },
     "execution_count": 23,
     "metadata": {},
     "output_type": "execute_result"
    }
   ],
   "source": [
    "wb_goal7.head()"
   ]
  },
  {
   "cell_type": "code",
   "execution_count": 24,
   "id": "314f10ac-d0c0-4c72-bf6f-67d7a8c94928",
   "metadata": {},
   "outputs": [
    {
     "data": {
      "text/html": [
       "<div>\n",
       "<style scoped>\n",
       "    .dataframe tbody tr th:only-of-type {\n",
       "        vertical-align: middle;\n",
       "    }\n",
       "\n",
       "    .dataframe tbody tr th {\n",
       "        vertical-align: top;\n",
       "    }\n",
       "\n",
       "    .dataframe thead th {\n",
       "        text-align: right;\n",
       "    }\n",
       "</style>\n",
       "<table border=\"1\" class=\"dataframe\">\n",
       "  <thead>\n",
       "    <tr style=\"text-align: right;\">\n",
       "      <th></th>\n",
       "      <th>Country</th>\n",
       "      <th>Value</th>\n",
       "      <th>Series</th>\n",
       "      <th>Year</th>\n",
       "    </tr>\n",
       "  </thead>\n",
       "  <tbody>\n",
       "    <tr>\n",
       "      <th>6</th>\n",
       "      <td>Albania</td>\n",
       "      <td>4200.0</td>\n",
       "      <td>Emissions (thousand metric tons of carbon diox...</td>\n",
       "      <td>2019</td>\n",
       "    </tr>\n",
       "    <tr>\n",
       "      <th>14</th>\n",
       "      <td>Albania</td>\n",
       "      <td>1.4</td>\n",
       "      <td>Emissions per capita (metric tons of carbon di...</td>\n",
       "      <td>2019</td>\n",
       "    </tr>\n",
       "    <tr>\n",
       "      <th>22</th>\n",
       "      <td>Algeria</td>\n",
       "      <td>143569.0</td>\n",
       "      <td>Emissions (thousand metric tons of carbon diox...</td>\n",
       "      <td>2019</td>\n",
       "    </tr>\n",
       "    <tr>\n",
       "      <th>30</th>\n",
       "      <td>Algeria</td>\n",
       "      <td>3.3</td>\n",
       "      <td>Emissions per capita (metric tons of carbon di...</td>\n",
       "      <td>2019</td>\n",
       "    </tr>\n",
       "    <tr>\n",
       "      <th>38</th>\n",
       "      <td>Angola</td>\n",
       "      <td>20748.0</td>\n",
       "      <td>Emissions (thousand metric tons of carbon diox...</td>\n",
       "      <td>2019</td>\n",
       "    </tr>\n",
       "  </tbody>\n",
       "</table>\n",
       "</div>"
      ],
      "text/plain": [
       "    Country     Value                                             Series  Year\n",
       "6   Albania    4200.0  Emissions (thousand metric tons of carbon diox...  2019\n",
       "14  Albania       1.4  Emissions per capita (metric tons of carbon di...  2019\n",
       "22  Algeria  143569.0  Emissions (thousand metric tons of carbon diox...  2019\n",
       "30  Algeria       3.3  Emissions per capita (metric tons of carbon di...  2019\n",
       "38   Angola   20748.0  Emissions (thousand metric tons of carbon diox...  2019"
      ]
     },
     "execution_count": 24,
     "metadata": {},
     "output_type": "execute_result"
    }
   ],
   "source": [
    "filtered_un_co2.head()"
   ]
  },
  {
   "cell_type": "markdown",
   "id": "860252e1-7e46-4051-b8fe-635b0612fdd7",
   "metadata": {},
   "source": [
    "# Step 4: Selecting Variables of Interest\n",
    "We will select the variables described at the beginning of the project:\n",
    "\n",
    "1. **CO2 Emissions per Capita (UN)**\n",
    "2. **Goal 7: Affordable and Clean Energy (5-year Moving Average) (WB)**"
   ]
  },
  {
   "cell_type": "markdown",
   "id": "db21d75d-ef8b-4383-9d76-f28815826e70",
   "metadata": {},
   "source": [
    "## Step 4.1: Selecting CO2 Emissions"
   ]
  },
  {
   "cell_type": "code",
   "execution_count": 25,
   "id": "2e31c7d1-ced0-4c27-96e4-5ad05f11ca6c",
   "metadata": {},
   "outputs": [
    {
     "data": {
      "text/plain": [
       "array(['Emissions (thousand metric tons of carbon dioxide)',\n",
       "       'Emissions per capita (metric tons of carbon dioxide)'],\n",
       "      dtype=object)"
      ]
     },
     "execution_count": 25,
     "metadata": {},
     "output_type": "execute_result"
    }
   ],
   "source": [
    "filtered_un_co2['Series'].unique()"
   ]
  },
  {
   "cell_type": "code",
   "execution_count": 26,
   "id": "881534a2-db31-4dbb-bb01-d766611257af",
   "metadata": {},
   "outputs": [
    {
     "data": {
      "text/html": [
       "<div>\n",
       "<style scoped>\n",
       "    .dataframe tbody tr th:only-of-type {\n",
       "        vertical-align: middle;\n",
       "    }\n",
       "\n",
       "    .dataframe tbody tr th {\n",
       "        vertical-align: top;\n",
       "    }\n",
       "\n",
       "    .dataframe thead th {\n",
       "        text-align: right;\n",
       "    }\n",
       "</style>\n",
       "<table border=\"1\" class=\"dataframe\">\n",
       "  <thead>\n",
       "    <tr style=\"text-align: right;\">\n",
       "      <th></th>\n",
       "      <th>Country</th>\n",
       "      <th>Value</th>\n",
       "      <th>Series</th>\n",
       "      <th>Year</th>\n",
       "    </tr>\n",
       "  </thead>\n",
       "  <tbody>\n",
       "    <tr>\n",
       "      <th>14</th>\n",
       "      <td>Albania</td>\n",
       "      <td>1.4</td>\n",
       "      <td>Emissions per capita (metric tons of carbon di...</td>\n",
       "      <td>2019</td>\n",
       "    </tr>\n",
       "    <tr>\n",
       "      <th>30</th>\n",
       "      <td>Algeria</td>\n",
       "      <td>3.3</td>\n",
       "      <td>Emissions per capita (metric tons of carbon di...</td>\n",
       "      <td>2019</td>\n",
       "    </tr>\n",
       "    <tr>\n",
       "      <th>46</th>\n",
       "      <td>Angola</td>\n",
       "      <td>0.6</td>\n",
       "      <td>Emissions per capita (metric tons of carbon di...</td>\n",
       "      <td>2019</td>\n",
       "    </tr>\n",
       "    <tr>\n",
       "      <th>62</th>\n",
       "      <td>Argentina</td>\n",
       "      <td>3.6</td>\n",
       "      <td>Emissions per capita (metric tons of carbon di...</td>\n",
       "      <td>2019</td>\n",
       "    </tr>\n",
       "    <tr>\n",
       "      <th>74</th>\n",
       "      <td>Armenia</td>\n",
       "      <td>2.0</td>\n",
       "      <td>Emissions per capita (metric tons of carbon di...</td>\n",
       "      <td>2019</td>\n",
       "    </tr>\n",
       "  </tbody>\n",
       "</table>\n",
       "</div>"
      ],
      "text/plain": [
       "      Country Value                                             Series  Year\n",
       "14    Albania   1.4  Emissions per capita (metric tons of carbon di...  2019\n",
       "30    Algeria   3.3  Emissions per capita (metric tons of carbon di...  2019\n",
       "46     Angola   0.6  Emissions per capita (metric tons of carbon di...  2019\n",
       "62  Argentina   3.6  Emissions per capita (metric tons of carbon di...  2019\n",
       "74    Armenia   2.0  Emissions per capita (metric tons of carbon di...  2019"
      ]
     },
     "execution_count": 26,
     "metadata": {},
     "output_type": "execute_result"
    }
   ],
   "source": [
    "final_filtered_un_co2 = filtered_un_co2[filtered_un_co2['Series'] == 'Emissions per capita (metric tons of carbon dioxide)']\n",
    "final_filtered_un_co2.head()"
   ]
  },
  {
   "cell_type": "markdown",
   "id": "df9f4e07-3a87-4e70-9783-a4a57b7d95a4",
   "metadata": {},
   "source": [
    "## Step 4.2: Selecting GOAL 7"
   ]
  },
  {
   "cell_type": "code",
   "execution_count": 27,
   "id": "3ac25ad0-0099-4016-a612-348344708c05",
   "metadata": {},
   "outputs": [
    {
     "data": {
      "text/plain": [
       "array(['Agriculture census (Availability score over 20 years)',\n",
       "       'Agriculture survey (Availability score over 10 years)',\n",
       "       'Availability of Comparable Poverty headcount ratio at $2.15 a day (5 year moving average)',\n",
       "       'Availability of Mortality rate, under-5 (per 1,000 live births) data meeting quality standards according to UN IGME  (5 year moving average)',\n",
       "       'Business process',\n",
       "       'Business/establishment census (Availability score over 20 years)',\n",
       "       'Business/establishment survey (Availability score over 10 years)',\n",
       "       'Central government accounting status',\n",
       "       'Classification of household consumption',\n",
       "       'Classification of national industry',\n",
       "       'Classification of status of employment',\n",
       "       'Compilation of government finance statistics',\n",
       "       'Compilation of monetary and financial statistics',\n",
       "       'CPI base year', 'CRVS (WDI)',\n",
       "       'Dimension 1.5: Data use by international organizations',\n",
       "       'Dimension 2.1: Data Releases', 'Dimension 2.2: Online access',\n",
       "       'Dimension 2.2: Online access - Download Options Score',\n",
       "       'Dimension 2.2: Online access - Machine Readability Score',\n",
       "       'Dimension 2.2: Online access - Metadata Available Score',\n",
       "       'Dimension 2.2: Online access - Non-Proprietary format Score',\n",
       "       'Dimension 2.2: Online access - Terms of Use Score',\n",
       "       'Dimension 2.4: Data services', 'Dimension 3.1: Social Statistics',\n",
       "       'Dimension 3.2: Economic Statistics',\n",
       "       'Dimension 3.3: Environmental Statistics',\n",
       "       'Dimension 3.4: Institutional Statistics',\n",
       "       'Dimension 4.1: Censuses and Surveys - Censuses only',\n",
       "       'Dimension 4.1: Censuses and Surveys - Surveys only',\n",
       "       'Dimension 4.2: Administrative Data',\n",
       "       'Dimension 4.3: Geospatial Data',\n",
       "       'Dimension 5.2: Standards and Methods',\n",
       "       'Geospatial data available at 1st Admin Level',\n",
       "       'GOAL 1: No Poverty (5 year moving average)',\n",
       "       'GOAL 10: Reduced Inequality (5 year moving average)',\n",
       "       'GOAL 11: Sustainable Cities and Communities (5 year moving average)',\n",
       "       'GOAL 12: Responsible Consumption and Production (5 year moving average)',\n",
       "       'GOAL 13: Climate Action (5 year moving average)',\n",
       "       'GOAL 15: Life on Land (5 year moving average)',\n",
       "       'GOAL 16: Peace and Justice Strong Institutions (5 year moving average)',\n",
       "       'GOAL 17: Partnerships to achieve the Goal (5 year moving average)',\n",
       "       'GOAL 2: Zero Hunger (5 year moving average)',\n",
       "       'GOAL 3: Good Health and Well-being (5 year moving average)',\n",
       "       'GOAL 4: Quality Education (5 year moving average)',\n",
       "       'GOAL 5: Gender Equality (5 year moving average)',\n",
       "       'GOAL 6: Clean Water and Sanitation (5 year moving average)',\n",
       "       'GOAL 7: Affordable and Clean Energy (5 year moving average)',\n",
       "       'GOAL 8: Decent Work and Economic Growth (5 year moving average)',\n",
       "       'GOAL 9: Industry, Innovation and Infrastructure (5 year moving average)',\n",
       "       'Health/Demographic survey (Availability score over 10 years)',\n",
       "       'Household Survey on income, etc  (Availability score over 10 years)',\n",
       "       'Labor force participation rate by sex and age (%)',\n",
       "       'Labor Force Survey (Availability score over 10 years)',\n",
       "       'NADA metadata', 'National Accounts base year',\n",
       "       'ODIN Open Data Openness score', 'Pillar 1 - Data Use - Score',\n",
       "       'Pillar 2 - Data Services - Score',\n",
       "       'Pillar 3 - Data Products - Score',\n",
       "       'Pillar 4 - Data Sources - Score',\n",
       "       'Pillar 5 - Data Infrastructure - Score',\n",
       "       'Population & Housing census (Availability score over 20 years)',\n",
       "       'Quality of Debt service data according to World Bank',\n",
       "       'Safely Managed Drinking Water', 'SDDS/e-GDDS subscription',\n",
       "       'SPI Overall Score', 'System of national accounts in use',\n",
       "       'Dimension 5.1: Legislation and governance',\n",
       "       'Dimension 5.5: Finance',\n",
       "       'Finance Indicator based on PARIS21 indicators on SDG 17.18.3 & SDG 17.19.1',\n",
       "       'Legislation Indicator based on PARIS21 indicators on SDG 17.18.2'],\n",
       "      dtype=object)"
      ]
     },
     "execution_count": 27,
     "metadata": {},
     "output_type": "execute_result"
    }
   ],
   "source": [
    "wb_goal7['Series Name'].unique()"
   ]
  },
  {
   "cell_type": "code",
   "execution_count": 28,
   "id": "c948d8db-48d0-45be-b7b6-62be4deda71b",
   "metadata": {},
   "outputs": [
    {
     "data": {
      "text/html": [
       "<div>\n",
       "<style scoped>\n",
       "    .dataframe tbody tr th:only-of-type {\n",
       "        vertical-align: middle;\n",
       "    }\n",
       "\n",
       "    .dataframe tbody tr th {\n",
       "        vertical-align: top;\n",
       "    }\n",
       "\n",
       "    .dataframe thead th {\n",
       "        text-align: right;\n",
       "    }\n",
       "</style>\n",
       "<table border=\"1\" class=\"dataframe\">\n",
       "  <thead>\n",
       "    <tr style=\"text-align: right;\">\n",
       "      <th></th>\n",
       "      <th>Country</th>\n",
       "      <th>Value</th>\n",
       "      <th>Series Name</th>\n",
       "    </tr>\n",
       "  </thead>\n",
       "  <tbody>\n",
       "    <tr>\n",
       "      <th>50</th>\n",
       "      <td>Afghanistan</td>\n",
       "      <td>0.933</td>\n",
       "      <td>GOAL 7: Affordable and Clean Energy (5 year mo...</td>\n",
       "    </tr>\n",
       "    <tr>\n",
       "      <th>122</th>\n",
       "      <td>Albania</td>\n",
       "      <td>0.8</td>\n",
       "      <td>GOAL 7: Affordable and Clean Energy (5 year mo...</td>\n",
       "    </tr>\n",
       "    <tr>\n",
       "      <th>194</th>\n",
       "      <td>Algeria</td>\n",
       "      <td>0.8</td>\n",
       "      <td>GOAL 7: Affordable and Clean Energy (5 year mo...</td>\n",
       "    </tr>\n",
       "    <tr>\n",
       "      <th>266</th>\n",
       "      <td>American Samoa</td>\n",
       "      <td>0.4</td>\n",
       "      <td>GOAL 7: Affordable and Clean Energy (5 year mo...</td>\n",
       "    </tr>\n",
       "    <tr>\n",
       "      <th>338</th>\n",
       "      <td>Andorra</td>\n",
       "      <td>0.6</td>\n",
       "      <td>GOAL 7: Affordable and Clean Energy (5 year mo...</td>\n",
       "    </tr>\n",
       "  </tbody>\n",
       "</table>\n",
       "</div>"
      ],
      "text/plain": [
       "            Country  Value                                        Series Name\n",
       "50      Afghanistan  0.933  GOAL 7: Affordable and Clean Energy (5 year mo...\n",
       "122         Albania    0.8  GOAL 7: Affordable and Clean Energy (5 year mo...\n",
       "194         Algeria    0.8  GOAL 7: Affordable and Clean Energy (5 year mo...\n",
       "266  American Samoa    0.4  GOAL 7: Affordable and Clean Energy (5 year mo...\n",
       "338         Andorra    0.6  GOAL 7: Affordable and Clean Energy (5 year mo..."
      ]
     },
     "execution_count": 28,
     "metadata": {},
     "output_type": "execute_result"
    }
   ],
   "source": [
    "final_wb_goal7 = wb_goal7[wb_goal7['Series Name'] == 'GOAL 7: Affordable and Clean Energy (5 year moving average)']\n",
    "final_wb_goal7.head()"
   ]
  },
  {
   "cell_type": "markdown",
   "id": "b6b84d06-4875-4ba5-97c7-246dcb01d8b3",
   "metadata": {},
   "source": [
    "# Step 5: Let's Merge!\n",
    "Now that the datasets are cleaned, the next step is to perform the merge. Using the key value (common column between both dataframes), we will unify the information into a single dataset."
   ]
  },
  {
   "cell_type": "code",
   "execution_count": 29,
   "id": "be0e53e4-5b14-4d6e-b406-ca3fe558c7fe",
   "metadata": {},
   "outputs": [
    {
     "data": {
      "text/html": [
       "<div>\n",
       "<style scoped>\n",
       "    .dataframe tbody tr th:only-of-type {\n",
       "        vertical-align: middle;\n",
       "    }\n",
       "\n",
       "    .dataframe tbody tr th {\n",
       "        vertical-align: top;\n",
       "    }\n",
       "\n",
       "    .dataframe thead th {\n",
       "        text-align: right;\n",
       "    }\n",
       "</style>\n",
       "<table border=\"1\" class=\"dataframe\">\n",
       "  <thead>\n",
       "    <tr style=\"text-align: right;\">\n",
       "      <th></th>\n",
       "      <th>Country</th>\n",
       "      <th>Value_x</th>\n",
       "      <th>Series Name</th>\n",
       "      <th>Value_y</th>\n",
       "      <th>Series</th>\n",
       "      <th>Year</th>\n",
       "    </tr>\n",
       "  </thead>\n",
       "  <tbody>\n",
       "    <tr>\n",
       "      <th>0</th>\n",
       "      <td>Albania</td>\n",
       "      <td>0.8</td>\n",
       "      <td>GOAL 7: Affordable and Clean Energy (5 year mo...</td>\n",
       "      <td>1.4</td>\n",
       "      <td>Emissions per capita (metric tons of carbon di...</td>\n",
       "      <td>2019</td>\n",
       "    </tr>\n",
       "    <tr>\n",
       "      <th>1</th>\n",
       "      <td>Algeria</td>\n",
       "      <td>0.8</td>\n",
       "      <td>GOAL 7: Affordable and Clean Energy (5 year mo...</td>\n",
       "      <td>3.3</td>\n",
       "      <td>Emissions per capita (metric tons of carbon di...</td>\n",
       "      <td>2019</td>\n",
       "    </tr>\n",
       "    <tr>\n",
       "      <th>2</th>\n",
       "      <td>Angola</td>\n",
       "      <td>0.933</td>\n",
       "      <td>GOAL 7: Affordable and Clean Energy (5 year mo...</td>\n",
       "      <td>0.6</td>\n",
       "      <td>Emissions per capita (metric tons of carbon di...</td>\n",
       "      <td>2019</td>\n",
       "    </tr>\n",
       "    <tr>\n",
       "      <th>3</th>\n",
       "      <td>Argentina</td>\n",
       "      <td>1.0</td>\n",
       "      <td>GOAL 7: Affordable and Clean Energy (5 year mo...</td>\n",
       "      <td>3.6</td>\n",
       "      <td>Emissions per capita (metric tons of carbon di...</td>\n",
       "      <td>2019</td>\n",
       "    </tr>\n",
       "    <tr>\n",
       "      <th>4</th>\n",
       "      <td>Armenia</td>\n",
       "      <td>0.933</td>\n",
       "      <td>GOAL 7: Affordable and Clean Energy (5 year mo...</td>\n",
       "      <td>2.0</td>\n",
       "      <td>Emissions per capita (metric tons of carbon di...</td>\n",
       "      <td>2019</td>\n",
       "    </tr>\n",
       "  </tbody>\n",
       "</table>\n",
       "</div>"
      ],
      "text/plain": [
       "     Country Value_x                                        Series Name  \\\n",
       "0    Albania     0.8  GOAL 7: Affordable and Clean Energy (5 year mo...   \n",
       "1    Algeria     0.8  GOAL 7: Affordable and Clean Energy (5 year mo...   \n",
       "2     Angola   0.933  GOAL 7: Affordable and Clean Energy (5 year mo...   \n",
       "3  Argentina     1.0  GOAL 7: Affordable and Clean Energy (5 year mo...   \n",
       "4    Armenia   0.933  GOAL 7: Affordable and Clean Energy (5 year mo...   \n",
       "\n",
       "  Value_y                                             Series  Year  \n",
       "0     1.4  Emissions per capita (metric tons of carbon di...  2019  \n",
       "1     3.3  Emissions per capita (metric tons of carbon di...  2019  \n",
       "2     0.6  Emissions per capita (metric tons of carbon di...  2019  \n",
       "3     3.6  Emissions per capita (metric tons of carbon di...  2019  \n",
       "4     2.0  Emissions per capita (metric tons of carbon di...  2019  "
      ]
     },
     "execution_count": 29,
     "metadata": {},
     "output_type": "execute_result"
    }
   ],
   "source": [
    "file_merged = pd.merge(final_wb_goal7, final_filtered_un_co2, on=['Country'], how='inner')\n",
    "file_merged.head()"
   ]
  },
  {
   "cell_type": "markdown",
   "id": "948f30b8-7cab-421a-b179-b1961575ac8d",
   "metadata": {},
   "source": [
    "## Step 5.1: Double-Checking the Data\n",
    "Although we have already removed NA values and standardized the format, we will perform this step again as a safety measure. Immediately after, we will inspect the minimum and maximum values of our variables of interest:  \n",
    "- **X:** CO2 Emissions per Capita (UN)  \n",
    "- **Y:** Goal 7: Affordable and Clean Energy (5-year Moving Average) (WB)."
   ]
  },
  {
   "cell_type": "code",
   "execution_count": 30,
   "id": "2a7f25d9-1999-4bec-b011-ac644b942e07",
   "metadata": {},
   "outputs": [
    {
     "name": "stdout",
     "output_type": "stream",
     "text": [
      "The range of 'Value_x' is from 0.4 to 1.0.\n",
      "The range of 'Value_y' is from 0.1 to 30.1.\n"
     ]
    }
   ],
   "source": [
    "file_merged['Value_x'] = pd.to_numeric(file_merged['Value_x'], errors='coerce')\n",
    "file_merged['Value_y'] = pd.to_numeric(file_merged['Value_y'], errors='coerce')\n",
    "file_merged = file_merged.dropna(subset=['Value_x', 'Value_y'])\n",
    "\n",
    "min_x = file_merged['Value_x'].min()\n",
    "max_x = file_merged['Value_x'].max()\n",
    "\n",
    "min_y = file_merged['Value_y'].min()\n",
    "max_y = file_merged['Value_y'].max()\n",
    "\n",
    "print(f\"The range of 'Value_x' is from {min_x} to {max_x}.\")\n",
    "print(f\"The range of 'Value_y' is from {min_y} to {max_y}.\")"
   ]
  },
  {
   "cell_type": "markdown",
   "id": "d4f4173a-153f-48e7-aad1-55f1499a2bcc",
   "metadata": {},
   "source": [
    "## We have verified that these ranges make sense."
   ]
  },
  {
   "cell_type": "code",
   "execution_count": 31,
   "id": "77ebd3a9-08ba-424f-b19e-3e759b62ec6c",
   "metadata": {},
   "outputs": [
    {
     "name": "stdout",
     "output_type": "stream",
     "text": [
      "<class 'pandas.core.frame.DataFrame'>\n",
      "RangeIndex: 128 entries, 0 to 127\n",
      "Data columns (total 6 columns):\n",
      " #   Column       Non-Null Count  Dtype  \n",
      "---  ------       --------------  -----  \n",
      " 0   Country      128 non-null    object \n",
      " 1   Value_x      128 non-null    float64\n",
      " 2   Series Name  128 non-null    object \n",
      " 3   Value_y      128 non-null    float64\n",
      " 4   Series       128 non-null    object \n",
      " 5   Year         128 non-null    object \n",
      "dtypes: float64(2), object(4)\n",
      "memory usage: 6.1+ KB\n"
     ]
    }
   ],
   "source": [
    "file_merged.info()"
   ]
  },
  {
   "cell_type": "markdown",
   "id": "38c082de-c964-487d-8214-578c87e53054",
   "metadata": {},
   "source": [
    "# Step 6: Testing the hypothesis!"
   ]
  },
  {
   "cell_type": "code",
   "execution_count": 32,
   "id": "d2b4d172-4bd2-49ee-8f6a-05c3bb1c86dc",
   "metadata": {},
   "outputs": [
    {
     "data": {
      "text/html": [
       "        <script type=\"text/javascript\">\n",
       "        window.PlotlyConfig = {MathJaxConfig: 'local'};\n",
       "        if (window.MathJax && window.MathJax.Hub && window.MathJax.Hub.Config) {window.MathJax.Hub.Config({SVG: {font: \"STIX-Web\"}});}\n",
       "        if (typeof require !== 'undefined') {\n",
       "        require.undef(\"plotly\");\n",
       "        requirejs.config({\n",
       "            paths: {\n",
       "                'plotly': ['https://cdn.plot.ly/plotly-2.32.0.min']\n",
       "            }\n",
       "        });\n",
       "        require(['plotly'], function(Plotly) {\n",
       "            window._Plotly = Plotly;\n",
       "        });\n",
       "        }\n",
       "        </script>\n",
       "        "
      ]
     },
     "metadata": {},
     "output_type": "display_data"
    },
    {
     "data": {
      "application/vnd.plotly.v1+json": {
       "config": {
        "plotlyServerURL": "https://plot.ly"
       },
       "data": [
        {
         "hovertemplate": "Country=Albania<br>Energy Access=%{x}<br>Emissions per Capita=%{y}<extra></extra>",
         "legendgroup": "Albania",
         "marker": {
          "color": "#636efa",
          "symbol": "circle"
         },
         "mode": "markers",
         "name": "Albania",
         "orientation": "v",
         "showlegend": true,
         "type": "scatter",
         "x": [
          0.8
         ],
         "xaxis": "x",
         "y": [
          1.4
         ],
         "yaxis": "y"
        },
        {
         "hovertemplate": "Country=Algeria<br>Energy Access=%{x}<br>Emissions per Capita=%{y}<extra></extra>",
         "legendgroup": "Algeria",
         "marker": {
          "color": "#EF553B",
          "symbol": "circle"
         },
         "mode": "markers",
         "name": "Algeria",
         "orientation": "v",
         "showlegend": true,
         "type": "scatter",
         "x": [
          0.8
         ],
         "xaxis": "x",
         "y": [
          3.3
         ],
         "yaxis": "y"
        },
        {
         "hovertemplate": "Country=Angola<br>Energy Access=%{x}<br>Emissions per Capita=%{y}<extra></extra>",
         "legendgroup": "Angola",
         "marker": {
          "color": "#00cc96",
          "symbol": "circle"
         },
         "mode": "markers",
         "name": "Angola",
         "orientation": "v",
         "showlegend": true,
         "type": "scatter",
         "x": [
          0.933
         ],
         "xaxis": "x",
         "y": [
          0.6
         ],
         "yaxis": "y"
        },
        {
         "hovertemplate": "Country=Argentina<br>Energy Access=%{x}<br>Emissions per Capita=%{y}<extra></extra>",
         "legendgroup": "Argentina",
         "marker": {
          "color": "#ab63fa",
          "symbol": "circle"
         },
         "mode": "markers",
         "name": "Argentina",
         "orientation": "v",
         "showlegend": true,
         "type": "scatter",
         "x": [
          1
         ],
         "xaxis": "x",
         "y": [
          3.6
         ],
         "yaxis": "y"
        },
        {
         "hovertemplate": "Country=Armenia<br>Energy Access=%{x}<br>Emissions per Capita=%{y}<extra></extra>",
         "legendgroup": "Armenia",
         "marker": {
          "color": "#FFA15A",
          "symbol": "circle"
         },
         "mode": "markers",
         "name": "Armenia",
         "orientation": "v",
         "showlegend": true,
         "type": "scatter",
         "x": [
          0.933
         ],
         "xaxis": "x",
         "y": [
          2
         ],
         "yaxis": "y"
        },
        {
         "hovertemplate": "Country=Australia<br>Energy Access=%{x}<br>Emissions per Capita=%{y}<extra></extra>",
         "legendgroup": "Australia",
         "marker": {
          "color": "#19d3f3",
          "symbol": "circle"
         },
         "mode": "markers",
         "name": "Australia",
         "orientation": "v",
         "showlegend": true,
         "type": "scatter",
         "x": [
          0.8
         ],
         "xaxis": "x",
         "y": [
          15.4
         ],
         "yaxis": "y"
        },
        {
         "hovertemplate": "Country=Austria<br>Energy Access=%{x}<br>Emissions per Capita=%{y}<extra></extra>",
         "legendgroup": "Austria",
         "marker": {
          "color": "#FF6692",
          "symbol": "circle"
         },
         "mode": "markers",
         "name": "Austria",
         "orientation": "v",
         "showlegend": true,
         "type": "scatter",
         "x": [
          0.8
         ],
         "xaxis": "x",
         "y": [
          7.1
         ],
         "yaxis": "y"
        },
        {
         "hovertemplate": "Country=Azerbaijan<br>Energy Access=%{x}<br>Emissions per Capita=%{y}<extra></extra>",
         "legendgroup": "Azerbaijan",
         "marker": {
          "color": "#B6E880",
          "symbol": "circle"
         },
         "mode": "markers",
         "name": "Azerbaijan",
         "orientation": "v",
         "showlegend": true,
         "type": "scatter",
         "x": [
          0.8
         ],
         "xaxis": "x",
         "y": [
          3.4
         ],
         "yaxis": "y"
        },
        {
         "hovertemplate": "Country=Bahrain<br>Energy Access=%{x}<br>Emissions per Capita=%{y}<extra></extra>",
         "legendgroup": "Bahrain",
         "marker": {
          "color": "#FF97FF",
          "symbol": "circle"
         },
         "mode": "markers",
         "name": "Bahrain",
         "orientation": "v",
         "showlegend": true,
         "type": "scatter",
         "x": [
          1
         ],
         "xaxis": "x",
         "y": [
          19.9
         ],
         "yaxis": "y"
        },
        {
         "hovertemplate": "Country=Bangladesh<br>Energy Access=%{x}<br>Emissions per Capita=%{y}<extra></extra>",
         "legendgroup": "Bangladesh",
         "marker": {
          "color": "#FECB52",
          "symbol": "circle"
         },
         "mode": "markers",
         "name": "Bangladesh",
         "orientation": "v",
         "showlegend": true,
         "type": "scatter",
         "x": [
          0.933
         ],
         "xaxis": "x",
         "y": [
          0.6
         ],
         "yaxis": "y"
        },
        {
         "hovertemplate": "Country=Belarus<br>Energy Access=%{x}<br>Emissions per Capita=%{y}<extra></extra>",
         "legendgroup": "Belarus",
         "marker": {
          "color": "#636efa",
          "symbol": "circle"
         },
         "mode": "markers",
         "name": "Belarus",
         "orientation": "v",
         "showlegend": true,
         "type": "scatter",
         "x": [
          0.8
         ],
         "xaxis": "x",
         "y": [
          5.9
         ],
         "yaxis": "y"
        },
        {
         "hovertemplate": "Country=Belgium<br>Energy Access=%{x}<br>Emissions per Capita=%{y}<extra></extra>",
         "legendgroup": "Belgium",
         "marker": {
          "color": "#EF553B",
          "symbol": "circle"
         },
         "mode": "markers",
         "name": "Belgium",
         "orientation": "v",
         "showlegend": true,
         "type": "scatter",
         "x": [
          0.8
         ],
         "xaxis": "x",
         "y": [
          7.9
         ],
         "yaxis": "y"
        },
        {
         "hovertemplate": "Country=Benin<br>Energy Access=%{x}<br>Emissions per Capita=%{y}<extra></extra>",
         "legendgroup": "Benin",
         "marker": {
          "color": "#00cc96",
          "symbol": "circle"
         },
         "mode": "markers",
         "name": "Benin",
         "orientation": "v",
         "showlegend": true,
         "type": "scatter",
         "x": [
          0.8
         ],
         "xaxis": "x",
         "y": [
          0.6
         ],
         "yaxis": "y"
        },
        {
         "hovertemplate": "Country=Bosnia and Herzegovina<br>Energy Access=%{x}<br>Emissions per Capita=%{y}<extra></extra>",
         "legendgroup": "Bosnia and Herzegovina",
         "marker": {
          "color": "#ab63fa",
          "symbol": "circle"
         },
         "mode": "markers",
         "name": "Bosnia and Herzegovina",
         "orientation": "v",
         "showlegend": true,
         "type": "scatter",
         "x": [
          0.8
         ],
         "xaxis": "x",
         "y": [
          6.3
         ],
         "yaxis": "y"
        },
        {
         "hovertemplate": "Country=Botswana<br>Energy Access=%{x}<br>Emissions per Capita=%{y}<extra></extra>",
         "legendgroup": "Botswana",
         "marker": {
          "color": "#FFA15A",
          "symbol": "circle"
         },
         "mode": "markers",
         "name": "Botswana",
         "orientation": "v",
         "showlegend": true,
         "type": "scatter",
         "x": [
          0.8
         ],
         "xaxis": "x",
         "y": [
          3.1
         ],
         "yaxis": "y"
        },
        {
         "hovertemplate": "Country=Brazil<br>Energy Access=%{x}<br>Emissions per Capita=%{y}<extra></extra>",
         "legendgroup": "Brazil",
         "marker": {
          "color": "#19d3f3",
          "symbol": "circle"
         },
         "mode": "markers",
         "name": "Brazil",
         "orientation": "v",
         "showlegend": true,
         "type": "scatter",
         "x": [
          0.933
         ],
         "xaxis": "x",
         "y": [
          2
         ],
         "yaxis": "y"
        },
        {
         "hovertemplate": "Country=Brunei Darussalam<br>Energy Access=%{x}<br>Emissions per Capita=%{y}<extra></extra>",
         "legendgroup": "Brunei Darussalam",
         "marker": {
          "color": "#FF6692",
          "symbol": "circle"
         },
         "mode": "markers",
         "name": "Brunei Darussalam",
         "orientation": "v",
         "showlegend": true,
         "type": "scatter",
         "x": [
          1
         ],
         "xaxis": "x",
         "y": [
          15.4
         ],
         "yaxis": "y"
        },
        {
         "hovertemplate": "Country=Bulgaria<br>Energy Access=%{x}<br>Emissions per Capita=%{y}<extra></extra>",
         "legendgroup": "Bulgaria",
         "marker": {
          "color": "#B6E880",
          "symbol": "circle"
         },
         "mode": "markers",
         "name": "Bulgaria",
         "orientation": "v",
         "showlegend": true,
         "type": "scatter",
         "x": [
          0.6
         ],
         "xaxis": "x",
         "y": [
          5.5
         ],
         "yaxis": "y"
        },
        {
         "hovertemplate": "Country=Cambodia<br>Energy Access=%{x}<br>Emissions per Capita=%{y}<extra></extra>",
         "legendgroup": "Cambodia",
         "marker": {
          "color": "#FF97FF",
          "symbol": "circle"
         },
         "mode": "markers",
         "name": "Cambodia",
         "orientation": "v",
         "showlegend": true,
         "type": "scatter",
         "x": [
          0.933
         ],
         "xaxis": "x",
         "y": [
          0.8
         ],
         "yaxis": "y"
        },
        {
         "hovertemplate": "Country=Cameroon<br>Energy Access=%{x}<br>Emissions per Capita=%{y}<extra></extra>",
         "legendgroup": "Cameroon",
         "marker": {
          "color": "#FECB52",
          "symbol": "circle"
         },
         "mode": "markers",
         "name": "Cameroon",
         "orientation": "v",
         "showlegend": true,
         "type": "scatter",
         "x": [
          0.8
         ],
         "xaxis": "x",
         "y": [
          0.3
         ],
         "yaxis": "y"
        },
        {
         "hovertemplate": "Country=Canada<br>Energy Access=%{x}<br>Emissions per Capita=%{y}<extra></extra>",
         "legendgroup": "Canada",
         "marker": {
          "color": "#636efa",
          "symbol": "circle"
         },
         "mode": "markers",
         "name": "Canada",
         "orientation": "v",
         "showlegend": true,
         "type": "scatter",
         "x": [
          0.8
         ],
         "xaxis": "x",
         "y": [
          14.8
         ],
         "yaxis": "y"
        },
        {
         "hovertemplate": "Country=Chile<br>Energy Access=%{x}<br>Emissions per Capita=%{y}<extra></extra>",
         "legendgroup": "Chile",
         "marker": {
          "color": "#EF553B",
          "symbol": "circle"
         },
         "mode": "markers",
         "name": "Chile",
         "orientation": "v",
         "showlegend": true,
         "type": "scatter",
         "x": [
          1
         ],
         "xaxis": "x",
         "y": [
          4.8
         ],
         "yaxis": "y"
        },
        {
         "hovertemplate": "Country=China<br>Energy Access=%{x}<br>Emissions per Capita=%{y}<extra></extra>",
         "legendgroup": "China",
         "marker": {
          "color": "#00cc96",
          "symbol": "circle"
         },
         "mode": "markers",
         "name": "China",
         "orientation": "v",
         "showlegend": true,
         "type": "scatter",
         "x": [
          0.8
         ],
         "xaxis": "x",
         "y": [
          7.1
         ],
         "yaxis": "y"
        },
        {
         "hovertemplate": "Country=Colombia<br>Energy Access=%{x}<br>Emissions per Capita=%{y}<extra></extra>",
         "legendgroup": "Colombia",
         "marker": {
          "color": "#ab63fa",
          "symbol": "circle"
         },
         "mode": "markers",
         "name": "Colombia",
         "orientation": "v",
         "showlegend": true,
         "type": "scatter",
         "x": [
          0.933
         ],
         "xaxis": "x",
         "y": [
          1.5
         ],
         "yaxis": "y"
        },
        {
         "hovertemplate": "Country=Costa Rica<br>Energy Access=%{x}<br>Emissions per Capita=%{y}<extra></extra>",
         "legendgroup": "Costa Rica",
         "marker": {
          "color": "#FFA15A",
          "symbol": "circle"
         },
         "mode": "markers",
         "name": "Costa Rica",
         "orientation": "v",
         "showlegend": true,
         "type": "scatter",
         "x": [
          0.933
         ],
         "xaxis": "x",
         "y": [
          1.5
         ],
         "yaxis": "y"
        },
        {
         "hovertemplate": "Country=Croatia<br>Energy Access=%{x}<br>Emissions per Capita=%{y}<extra></extra>",
         "legendgroup": "Croatia",
         "marker": {
          "color": "#19d3f3",
          "symbol": "circle"
         },
         "mode": "markers",
         "name": "Croatia",
         "orientation": "v",
         "showlegend": true,
         "type": "scatter",
         "x": [
          0.8
         ],
         "xaxis": "x",
         "y": [
          3.8
         ],
         "yaxis": "y"
        },
        {
         "hovertemplate": "Country=Cuba<br>Energy Access=%{x}<br>Emissions per Capita=%{y}<extra></extra>",
         "legendgroup": "Cuba",
         "marker": {
          "color": "#FF6692",
          "symbol": "circle"
         },
         "mode": "markers",
         "name": "Cuba",
         "orientation": "v",
         "showlegend": true,
         "type": "scatter",
         "x": [
          0.6
         ],
         "xaxis": "x",
         "y": [
          2.1
         ],
         "yaxis": "y"
        },
        {
         "hovertemplate": "Country=Cyprus<br>Energy Access=%{x}<br>Emissions per Capita=%{y}<extra></extra>",
         "legendgroup": "Cyprus",
         "marker": {
          "color": "#B6E880",
          "symbol": "circle"
         },
         "mode": "markers",
         "name": "Cyprus",
         "orientation": "v",
         "showlegend": true,
         "type": "scatter",
         "x": [
          0.8
         ],
         "xaxis": "x",
         "y": [
          7.3
         ],
         "yaxis": "y"
        },
        {
         "hovertemplate": "Country=Czechia<br>Energy Access=%{x}<br>Emissions per Capita=%{y}<extra></extra>",
         "legendgroup": "Czechia",
         "marker": {
          "color": "#FF97FF",
          "symbol": "circle"
         },
         "mode": "markers",
         "name": "Czechia",
         "orientation": "v",
         "showlegend": true,
         "type": "scatter",
         "x": [
          0.8
         ],
         "xaxis": "x",
         "y": [
          9
         ],
         "yaxis": "y"
        },
        {
         "hovertemplate": "Country=Denmark<br>Energy Access=%{x}<br>Emissions per Capita=%{y}<extra></extra>",
         "legendgroup": "Denmark",
         "marker": {
          "color": "#FECB52",
          "symbol": "circle"
         },
         "mode": "markers",
         "name": "Denmark",
         "orientation": "v",
         "showlegend": true,
         "type": "scatter",
         "x": [
          0.8
         ],
         "xaxis": "x",
         "y": [
          4.9
         ],
         "yaxis": "y"
        },
        {
         "hovertemplate": "Country=Dominican Republic<br>Energy Access=%{x}<br>Emissions per Capita=%{y}<extra></extra>",
         "legendgroup": "Dominican Republic",
         "marker": {
          "color": "#636efa",
          "symbol": "circle"
         },
         "mode": "markers",
         "name": "Dominican Republic",
         "orientation": "v",
         "showlegend": true,
         "type": "scatter",
         "x": [
          0.933
         ],
         "xaxis": "x",
         "y": [
          2.2
         ],
         "yaxis": "y"
        },
        {
         "hovertemplate": "Country=Ecuador<br>Energy Access=%{x}<br>Emissions per Capita=%{y}<extra></extra>",
         "legendgroup": "Ecuador",
         "marker": {
          "color": "#EF553B",
          "symbol": "circle"
         },
         "mode": "markers",
         "name": "Ecuador",
         "orientation": "v",
         "showlegend": true,
         "type": "scatter",
         "x": [
          0.933
         ],
         "xaxis": "x",
         "y": [
          2.1
         ],
         "yaxis": "y"
        },
        {
         "hovertemplate": "Country=El Salvador<br>Energy Access=%{x}<br>Emissions per Capita=%{y}<extra></extra>",
         "legendgroup": "El Salvador",
         "marker": {
          "color": "#00cc96",
          "symbol": "circle"
         },
         "mode": "markers",
         "name": "El Salvador",
         "orientation": "v",
         "showlegend": true,
         "type": "scatter",
         "x": [
          0.933
         ],
         "xaxis": "x",
         "y": [
          1.2
         ],
         "yaxis": "y"
        },
        {
         "hovertemplate": "Country=Equatorial Guinea<br>Energy Access=%{x}<br>Emissions per Capita=%{y}<extra></extra>",
         "legendgroup": "Equatorial Guinea",
         "marker": {
          "color": "#ab63fa",
          "symbol": "circle"
         },
         "mode": "markers",
         "name": "Equatorial Guinea",
         "orientation": "v",
         "showlegend": true,
         "type": "scatter",
         "x": [
          0.8
         ],
         "xaxis": "x",
         "y": [
          3.2
         ],
         "yaxis": "y"
        },
        {
         "hovertemplate": "Country=Eritrea<br>Energy Access=%{x}<br>Emissions per Capita=%{y}<extra></extra>",
         "legendgroup": "Eritrea",
         "marker": {
          "color": "#FFA15A",
          "symbol": "circle"
         },
         "mode": "markers",
         "name": "Eritrea",
         "orientation": "v",
         "showlegend": true,
         "type": "scatter",
         "x": [
          0.8
         ],
         "xaxis": "x",
         "y": [
          0.2
         ],
         "yaxis": "y"
        },
        {
         "hovertemplate": "Country=Estonia<br>Energy Access=%{x}<br>Emissions per Capita=%{y}<extra></extra>",
         "legendgroup": "Estonia",
         "marker": {
          "color": "#19d3f3",
          "symbol": "circle"
         },
         "mode": "markers",
         "name": "Estonia",
         "orientation": "v",
         "showlegend": true,
         "type": "scatter",
         "x": [
          0.8
         ],
         "xaxis": "x",
         "y": [
          7.4
         ],
         "yaxis": "y"
        },
        {
         "hovertemplate": "Country=Eswatini<br>Energy Access=%{x}<br>Emissions per Capita=%{y}<extra></extra>",
         "legendgroup": "Eswatini",
         "marker": {
          "color": "#FF6692",
          "symbol": "circle"
         },
         "mode": "markers",
         "name": "Eswatini",
         "orientation": "v",
         "showlegend": true,
         "type": "scatter",
         "x": [
          0.8
         ],
         "xaxis": "x",
         "y": [
          1
         ],
         "yaxis": "y"
        },
        {
         "hovertemplate": "Country=Ethiopia<br>Energy Access=%{x}<br>Emissions per Capita=%{y}<extra></extra>",
         "legendgroup": "Ethiopia",
         "marker": {
          "color": "#B6E880",
          "symbol": "circle"
         },
         "mode": "markers",
         "name": "Ethiopia",
         "orientation": "v",
         "showlegend": true,
         "type": "scatter",
         "x": [
          0.933
         ],
         "xaxis": "x",
         "y": [
          0.1
         ],
         "yaxis": "y"
        },
        {
         "hovertemplate": "Country=Finland<br>Energy Access=%{x}<br>Emissions per Capita=%{y}<extra></extra>",
         "legendgroup": "Finland",
         "marker": {
          "color": "#FF97FF",
          "symbol": "circle"
         },
         "mode": "markers",
         "name": "Finland",
         "orientation": "v",
         "showlegend": true,
         "type": "scatter",
         "x": [
          0.8
         ],
         "xaxis": "x",
         "y": [
          7.3
         ],
         "yaxis": "y"
        },
        {
         "hovertemplate": "Country=France<br>Energy Access=%{x}<br>Emissions per Capita=%{y}<extra></extra>",
         "legendgroup": "France",
         "marker": {
          "color": "#FECB52",
          "symbol": "circle"
         },
         "mode": "markers",
         "name": "France",
         "orientation": "v",
         "showlegend": true,
         "type": "scatter",
         "x": [
          0.8
         ],
         "xaxis": "x",
         "y": [
          4.3
         ],
         "yaxis": "y"
        },
        {
         "hovertemplate": "Country=Gabon<br>Energy Access=%{x}<br>Emissions per Capita=%{y}<extra></extra>",
         "legendgroup": "Gabon",
         "marker": {
          "color": "#636efa",
          "symbol": "circle"
         },
         "mode": "markers",
         "name": "Gabon",
         "orientation": "v",
         "showlegend": true,
         "type": "scatter",
         "x": [
          0.8
         ],
         "xaxis": "x",
         "y": [
          1.1
         ],
         "yaxis": "y"
        },
        {
         "hovertemplate": "Country=Georgia<br>Energy Access=%{x}<br>Emissions per Capita=%{y}<extra></extra>",
         "legendgroup": "Georgia",
         "marker": {
          "color": "#EF553B",
          "symbol": "circle"
         },
         "mode": "markers",
         "name": "Georgia",
         "orientation": "v",
         "showlegend": true,
         "type": "scatter",
         "x": [
          0.8
         ],
         "xaxis": "x",
         "y": [
          2.6
         ],
         "yaxis": "y"
        },
        {
         "hovertemplate": "Country=Germany<br>Energy Access=%{x}<br>Emissions per Capita=%{y}<extra></extra>",
         "legendgroup": "Germany",
         "marker": {
          "color": "#00cc96",
          "symbol": "circle"
         },
         "mode": "markers",
         "name": "Germany",
         "orientation": "v",
         "showlegend": true,
         "type": "scatter",
         "x": [
          0.8
         ],
         "xaxis": "x",
         "y": [
          7.8
         ],
         "yaxis": "y"
        },
        {
         "hovertemplate": "Country=Ghana<br>Energy Access=%{x}<br>Emissions per Capita=%{y}<extra></extra>",
         "legendgroup": "Ghana",
         "marker": {
          "color": "#ab63fa",
          "symbol": "circle"
         },
         "mode": "markers",
         "name": "Ghana",
         "orientation": "v",
         "showlegend": true,
         "type": "scatter",
         "x": [
          0.933
         ],
         "xaxis": "x",
         "y": [
          0.6
         ],
         "yaxis": "y"
        },
        {
         "hovertemplate": "Country=Gibraltar<br>Energy Access=%{x}<br>Emissions per Capita=%{y}<extra></extra>",
         "legendgroup": "Gibraltar",
         "marker": {
          "color": "#FFA15A",
          "symbol": "circle"
         },
         "mode": "markers",
         "name": "Gibraltar",
         "orientation": "v",
         "showlegend": true,
         "type": "scatter",
         "x": [
          0.4
         ],
         "xaxis": "x",
         "y": [
          21.1
         ],
         "yaxis": "y"
        },
        {
         "hovertemplate": "Country=Greece<br>Energy Access=%{x}<br>Emissions per Capita=%{y}<extra></extra>",
         "legendgroup": "Greece",
         "marker": {
          "color": "#19d3f3",
          "symbol": "circle"
         },
         "mode": "markers",
         "name": "Greece",
         "orientation": "v",
         "showlegend": true,
         "type": "scatter",
         "x": [
          0.8
         ],
         "xaxis": "x",
         "y": [
          5.3
         ],
         "yaxis": "y"
        },
        {
         "hovertemplate": "Country=Guatemala<br>Energy Access=%{x}<br>Emissions per Capita=%{y}<extra></extra>",
         "legendgroup": "Guatemala",
         "marker": {
          "color": "#FF6692",
          "symbol": "circle"
         },
         "mode": "markers",
         "name": "Guatemala",
         "orientation": "v",
         "showlegend": true,
         "type": "scatter",
         "x": [
          0.8
         ],
         "xaxis": "x",
         "y": [
          1.1
         ],
         "yaxis": "y"
        },
        {
         "hovertemplate": "Country=Guyana<br>Energy Access=%{x}<br>Emissions per Capita=%{y}<extra></extra>",
         "legendgroup": "Guyana",
         "marker": {
          "color": "#B6E880",
          "symbol": "circle"
         },
         "mode": "markers",
         "name": "Guyana",
         "orientation": "v",
         "showlegend": true,
         "type": "scatter",
         "x": [
          0.8
         ],
         "xaxis": "x",
         "y": [
          3.4
         ],
         "yaxis": "y"
        },
        {
         "hovertemplate": "Country=Haiti<br>Energy Access=%{x}<br>Emissions per Capita=%{y}<extra></extra>",
         "legendgroup": "Haiti",
         "marker": {
          "color": "#FF97FF",
          "symbol": "circle"
         },
         "mode": "markers",
         "name": "Haiti",
         "orientation": "v",
         "showlegend": true,
         "type": "scatter",
         "x": [
          0.933
         ],
         "xaxis": "x",
         "y": [
          0.3
         ],
         "yaxis": "y"
        },
        {
         "hovertemplate": "Country=Honduras<br>Energy Access=%{x}<br>Emissions per Capita=%{y}<extra></extra>",
         "legendgroup": "Honduras",
         "marker": {
          "color": "#FECB52",
          "symbol": "circle"
         },
         "mode": "markers",
         "name": "Honduras",
         "orientation": "v",
         "showlegend": true,
         "type": "scatter",
         "x": [
          0.933
         ],
         "xaxis": "x",
         "y": [
          1
         ],
         "yaxis": "y"
        },
        {
         "hovertemplate": "Country=Hungary<br>Energy Access=%{x}<br>Emissions per Capita=%{y}<extra></extra>",
         "legendgroup": "Hungary",
         "marker": {
          "color": "#636efa",
          "symbol": "circle"
         },
         "mode": "markers",
         "name": "Hungary",
         "orientation": "v",
         "showlegend": true,
         "type": "scatter",
         "x": [
          0.8
         ],
         "xaxis": "x",
         "y": [
          4.7
         ],
         "yaxis": "y"
        },
        {
         "hovertemplate": "Country=Iceland<br>Energy Access=%{x}<br>Emissions per Capita=%{y}<extra></extra>",
         "legendgroup": "Iceland",
         "marker": {
          "color": "#EF553B",
          "symbol": "circle"
         },
         "mode": "markers",
         "name": "Iceland",
         "orientation": "v",
         "showlegend": true,
         "type": "scatter",
         "x": [
          0.8
         ],
         "xaxis": "x",
         "y": [
          4.5
         ],
         "yaxis": "y"
        },
        {
         "hovertemplate": "Country=India<br>Energy Access=%{x}<br>Emissions per Capita=%{y}<extra></extra>",
         "legendgroup": "India",
         "marker": {
          "color": "#00cc96",
          "symbol": "circle"
         },
         "mode": "markers",
         "name": "India",
         "orientation": "v",
         "showlegend": true,
         "type": "scatter",
         "x": [
          0.933
         ],
         "xaxis": "x",
         "y": [
          1.7
         ],
         "yaxis": "y"
        },
        {
         "hovertemplate": "Country=Indonesia<br>Energy Access=%{x}<br>Emissions per Capita=%{y}<extra></extra>",
         "legendgroup": "Indonesia",
         "marker": {
          "color": "#ab63fa",
          "symbol": "circle"
         },
         "mode": "markers",
         "name": "Indonesia",
         "orientation": "v",
         "showlegend": true,
         "type": "scatter",
         "x": [
          0.933
         ],
         "xaxis": "x",
         "y": [
          2.1
         ],
         "yaxis": "y"
        },
        {
         "hovertemplate": "Country=Iraq<br>Energy Access=%{x}<br>Emissions per Capita=%{y}<extra></extra>",
         "legendgroup": "Iraq",
         "marker": {
          "color": "#FFA15A",
          "symbol": "circle"
         },
         "mode": "markers",
         "name": "Iraq",
         "orientation": "v",
         "showlegend": true,
         "type": "scatter",
         "x": [
          0.8
         ],
         "xaxis": "x",
         "y": [
          3.5
         ],
         "yaxis": "y"
        },
        {
         "hovertemplate": "Country=Ireland<br>Energy Access=%{x}<br>Emissions per Capita=%{y}<extra></extra>",
         "legendgroup": "Ireland",
         "marker": {
          "color": "#19d3f3",
          "symbol": "circle"
         },
         "mode": "markers",
         "name": "Ireland",
         "orientation": "v",
         "showlegend": true,
         "type": "scatter",
         "x": [
          0.8
         ],
         "xaxis": "x",
         "y": [
          6.9
         ],
         "yaxis": "y"
        },
        {
         "hovertemplate": "Country=Israel<br>Energy Access=%{x}<br>Emissions per Capita=%{y}<extra></extra>",
         "legendgroup": "Israel",
         "marker": {
          "color": "#FF6692",
          "symbol": "circle"
         },
         "mode": "markers",
         "name": "Israel",
         "orientation": "v",
         "showlegend": true,
         "type": "scatter",
         "x": [
          0.8
         ],
         "xaxis": "x",
         "y": [
          6.8
         ],
         "yaxis": "y"
        },
        {
         "hovertemplate": "Country=Italy<br>Energy Access=%{x}<br>Emissions per Capita=%{y}<extra></extra>",
         "legendgroup": "Italy",
         "marker": {
          "color": "#B6E880",
          "symbol": "circle"
         },
         "mode": "markers",
         "name": "Italy",
         "orientation": "v",
         "showlegend": true,
         "type": "scatter",
         "x": [
          0.8
         ],
         "xaxis": "x",
         "y": [
          5.2
         ],
         "yaxis": "y"
        },
        {
         "hovertemplate": "Country=Jamaica<br>Energy Access=%{x}<br>Emissions per Capita=%{y}<extra></extra>",
         "legendgroup": "Jamaica",
         "marker": {
          "color": "#FF97FF",
          "symbol": "circle"
         },
         "mode": "markers",
         "name": "Jamaica",
         "orientation": "v",
         "showlegend": true,
         "type": "scatter",
         "x": [
          0.8
         ],
         "xaxis": "x",
         "y": [
          2.7
         ],
         "yaxis": "y"
        },
        {
         "hovertemplate": "Country=Japan<br>Energy Access=%{x}<br>Emissions per Capita=%{y}<extra></extra>",
         "legendgroup": "Japan",
         "marker": {
          "color": "#FECB52",
          "symbol": "circle"
         },
         "mode": "markers",
         "name": "Japan",
         "orientation": "v",
         "showlegend": true,
         "type": "scatter",
         "x": [
          0.8
         ],
         "xaxis": "x",
         "y": [
          8.3
         ],
         "yaxis": "y"
        },
        {
         "hovertemplate": "Country=Jordan<br>Energy Access=%{x}<br>Emissions per Capita=%{y}<extra></extra>",
         "legendgroup": "Jordan",
         "marker": {
          "color": "#636efa",
          "symbol": "circle"
         },
         "mode": "markers",
         "name": "Jordan",
         "orientation": "v",
         "showlegend": true,
         "type": "scatter",
         "x": [
          0.8
         ],
         "xaxis": "x",
         "y": [
          2.2
         ],
         "yaxis": "y"
        },
        {
         "hovertemplate": "Country=Kazakhstan<br>Energy Access=%{x}<br>Emissions per Capita=%{y}<extra></extra>",
         "legendgroup": "Kazakhstan",
         "marker": {
          "color": "#EF553B",
          "symbol": "circle"
         },
         "mode": "markers",
         "name": "Kazakhstan",
         "orientation": "v",
         "showlegend": true,
         "type": "scatter",
         "x": [
          0.933
         ],
         "xaxis": "x",
         "y": [
          10.7
         ],
         "yaxis": "y"
        },
        {
         "hovertemplate": "Country=Kenya<br>Energy Access=%{x}<br>Emissions per Capita=%{y}<extra></extra>",
         "legendgroup": "Kenya",
         "marker": {
          "color": "#00cc96",
          "symbol": "circle"
         },
         "mode": "markers",
         "name": "Kenya",
         "orientation": "v",
         "showlegend": true,
         "type": "scatter",
         "x": [
          0.933
         ],
         "xaxis": "x",
         "y": [
          0.3
         ],
         "yaxis": "y"
        },
        {
         "hovertemplate": "Country=Kuwait<br>Energy Access=%{x}<br>Emissions per Capita=%{y}<extra></extra>",
         "legendgroup": "Kuwait",
         "marker": {
          "color": "#ab63fa",
          "symbol": "circle"
         },
         "mode": "markers",
         "name": "Kuwait",
         "orientation": "v",
         "showlegend": true,
         "type": "scatter",
         "x": [
          1
         ],
         "xaxis": "x",
         "y": [
          21.6
         ],
         "yaxis": "y"
        },
        {
         "hovertemplate": "Country=Latvia<br>Energy Access=%{x}<br>Emissions per Capita=%{y}<extra></extra>",
         "legendgroup": "Latvia",
         "marker": {
          "color": "#FFA15A",
          "symbol": "circle"
         },
         "mode": "markers",
         "name": "Latvia",
         "orientation": "v",
         "showlegend": true,
         "type": "scatter",
         "x": [
          0.8
         ],
         "xaxis": "x",
         "y": [
          3.7
         ],
         "yaxis": "y"
        },
        {
         "hovertemplate": "Country=Lebanon<br>Energy Access=%{x}<br>Emissions per Capita=%{y}<extra></extra>",
         "legendgroup": "Lebanon",
         "marker": {
          "color": "#19d3f3",
          "symbol": "circle"
         },
         "mode": "markers",
         "name": "Lebanon",
         "orientation": "v",
         "showlegend": true,
         "type": "scatter",
         "x": [
          0.6
         ],
         "xaxis": "x",
         "y": [
          3.7
         ],
         "yaxis": "y"
        },
        {
         "hovertemplate": "Country=Libya<br>Energy Access=%{x}<br>Emissions per Capita=%{y}<extra></extra>",
         "legendgroup": "Libya",
         "marker": {
          "color": "#FF6692",
          "symbol": "circle"
         },
         "mode": "markers",
         "name": "Libya",
         "orientation": "v",
         "showlegend": true,
         "type": "scatter",
         "x": [
          0.6
         ],
         "xaxis": "x",
         "y": [
          6.6
         ],
         "yaxis": "y"
        },
        {
         "hovertemplate": "Country=Lithuania<br>Energy Access=%{x}<br>Emissions per Capita=%{y}<extra></extra>",
         "legendgroup": "Lithuania",
         "marker": {
          "color": "#B6E880",
          "symbol": "circle"
         },
         "mode": "markers",
         "name": "Lithuania",
         "orientation": "v",
         "showlegend": true,
         "type": "scatter",
         "x": [
          0.8
         ],
         "xaxis": "x",
         "y": [
          4
         ],
         "yaxis": "y"
        },
        {
         "hovertemplate": "Country=Luxembourg<br>Energy Access=%{x}<br>Emissions per Capita=%{y}<extra></extra>",
         "legendgroup": "Luxembourg",
         "marker": {
          "color": "#FF97FF",
          "symbol": "circle"
         },
         "mode": "markers",
         "name": "Luxembourg",
         "orientation": "v",
         "showlegend": true,
         "type": "scatter",
         "x": [
          0.8
         ],
         "xaxis": "x",
         "y": [
          14.6
         ],
         "yaxis": "y"
        },
        {
         "hovertemplate": "Country=Madagascar<br>Energy Access=%{x}<br>Emissions per Capita=%{y}<extra></extra>",
         "legendgroup": "Madagascar",
         "marker": {
          "color": "#FECB52",
          "symbol": "circle"
         },
         "mode": "markers",
         "name": "Madagascar",
         "orientation": "v",
         "showlegend": true,
         "type": "scatter",
         "x": [
          0.933
         ],
         "xaxis": "x",
         "y": [
          0.1
         ],
         "yaxis": "y"
        },
        {
         "hovertemplate": "Country=Malaysia<br>Energy Access=%{x}<br>Emissions per Capita=%{y}<extra></extra>",
         "legendgroup": "Malaysia",
         "marker": {
          "color": "#636efa",
          "symbol": "circle"
         },
         "mode": "markers",
         "name": "Malaysia",
         "orientation": "v",
         "showlegend": true,
         "type": "scatter",
         "x": [
          0.8
         ],
         "xaxis": "x",
         "y": [
          7.2
         ],
         "yaxis": "y"
        },
        {
         "hovertemplate": "Country=Malta<br>Energy Access=%{x}<br>Emissions per Capita=%{y}<extra></extra>",
         "legendgroup": "Malta",
         "marker": {
          "color": "#EF553B",
          "symbol": "circle"
         },
         "mode": "markers",
         "name": "Malta",
         "orientation": "v",
         "showlegend": true,
         "type": "scatter",
         "x": [
          0.6
         ],
         "xaxis": "x",
         "y": [
          3.3
         ],
         "yaxis": "y"
        },
        {
         "hovertemplate": "Country=Mauritius<br>Energy Access=%{x}<br>Emissions per Capita=%{y}<extra></extra>",
         "legendgroup": "Mauritius",
         "marker": {
          "color": "#00cc96",
          "symbol": "circle"
         },
         "mode": "markers",
         "name": "Mauritius",
         "orientation": "v",
         "showlegend": true,
         "type": "scatter",
         "x": [
          0.8
         ],
         "xaxis": "x",
         "y": [
          3.3
         ],
         "yaxis": "y"
        },
        {
         "hovertemplate": "Country=Mexico<br>Energy Access=%{x}<br>Emissions per Capita=%{y}<extra></extra>",
         "legendgroup": "Mexico",
         "marker": {
          "color": "#ab63fa",
          "symbol": "circle"
         },
         "mode": "markers",
         "name": "Mexico",
         "orientation": "v",
         "showlegend": true,
         "type": "scatter",
         "x": [
          1
         ],
         "xaxis": "x",
         "y": [
          3.4
         ],
         "yaxis": "y"
        },
        {
         "hovertemplate": "Country=Mongolia<br>Energy Access=%{x}<br>Emissions per Capita=%{y}<extra></extra>",
         "legendgroup": "Mongolia",
         "marker": {
          "color": "#FFA15A",
          "symbol": "circle"
         },
         "mode": "markers",
         "name": "Mongolia",
         "orientation": "v",
         "showlegend": true,
         "type": "scatter",
         "x": [
          0.8
         ],
         "xaxis": "x",
         "y": [
          7
         ],
         "yaxis": "y"
        },
        {
         "hovertemplate": "Country=Montenegro<br>Energy Access=%{x}<br>Emissions per Capita=%{y}<extra></extra>",
         "legendgroup": "Montenegro",
         "marker": {
          "color": "#19d3f3",
          "symbol": "circle"
         },
         "mode": "markers",
         "name": "Montenegro",
         "orientation": "v",
         "showlegend": true,
         "type": "scatter",
         "x": [
          0.6
         ],
         "xaxis": "x",
         "y": [
          4.2
         ],
         "yaxis": "y"
        },
        {
         "hovertemplate": "Country=Morocco<br>Energy Access=%{x}<br>Emissions per Capita=%{y}<extra></extra>",
         "legendgroup": "Morocco",
         "marker": {
          "color": "#FF6692",
          "symbol": "circle"
         },
         "mode": "markers",
         "name": "Morocco",
         "orientation": "v",
         "showlegend": true,
         "type": "scatter",
         "x": [
          0.8
         ],
         "xaxis": "x",
         "y": [
          1.8
         ],
         "yaxis": "y"
        },
        {
         "hovertemplate": "Country=Mozambique<br>Energy Access=%{x}<br>Emissions per Capita=%{y}<extra></extra>",
         "legendgroup": "Mozambique",
         "marker": {
          "color": "#B6E880",
          "symbol": "circle"
         },
         "mode": "markers",
         "name": "Mozambique",
         "orientation": "v",
         "showlegend": true,
         "type": "scatter",
         "x": [
          0.8
         ],
         "xaxis": "x",
         "y": [
          0.2
         ],
         "yaxis": "y"
        },
        {
         "hovertemplate": "Country=Myanmar<br>Energy Access=%{x}<br>Emissions per Capita=%{y}<extra></extra>",
         "legendgroup": "Myanmar",
         "marker": {
          "color": "#FF97FF",
          "symbol": "circle"
         },
         "mode": "markers",
         "name": "Myanmar",
         "orientation": "v",
         "showlegend": true,
         "type": "scatter",
         "x": [
          0.8
         ],
         "xaxis": "x",
         "y": [
          0.6
         ],
         "yaxis": "y"
        },
        {
         "hovertemplate": "Country=Namibia<br>Energy Access=%{x}<br>Emissions per Capita=%{y}<extra></extra>",
         "legendgroup": "Namibia",
         "marker": {
          "color": "#FECB52",
          "symbol": "circle"
         },
         "mode": "markers",
         "name": "Namibia",
         "orientation": "v",
         "showlegend": true,
         "type": "scatter",
         "x": [
          0.8
         ],
         "xaxis": "x",
         "y": [
          1.5
         ],
         "yaxis": "y"
        },
        {
         "hovertemplate": "Country=Nepal<br>Energy Access=%{x}<br>Emissions per Capita=%{y}<extra></extra>",
         "legendgroup": "Nepal",
         "marker": {
          "color": "#636efa",
          "symbol": "circle"
         },
         "mode": "markers",
         "name": "Nepal",
         "orientation": "v",
         "showlegend": true,
         "type": "scatter",
         "x": [
          0.8
         ],
         "xaxis": "x",
         "y": [
          0.4
         ],
         "yaxis": "y"
        },
        {
         "hovertemplate": "Country=New Zealand<br>Energy Access=%{x}<br>Emissions per Capita=%{y}<extra></extra>",
         "legendgroup": "New Zealand",
         "marker": {
          "color": "#EF553B",
          "symbol": "circle"
         },
         "mode": "markers",
         "name": "New Zealand",
         "orientation": "v",
         "showlegend": true,
         "type": "scatter",
         "x": [
          0.8
         ],
         "xaxis": "x",
         "y": [
          6.7
         ],
         "yaxis": "y"
        },
        {
         "hovertemplate": "Country=Nicaragua<br>Energy Access=%{x}<br>Emissions per Capita=%{y}<extra></extra>",
         "legendgroup": "Nicaragua",
         "marker": {
          "color": "#00cc96",
          "symbol": "circle"
         },
         "mode": "markers",
         "name": "Nicaragua",
         "orientation": "v",
         "showlegend": true,
         "type": "scatter",
         "x": [
          0.8
         ],
         "xaxis": "x",
         "y": [
          0.8
         ],
         "yaxis": "y"
        },
        {
         "hovertemplate": "Country=Niger<br>Energy Access=%{x}<br>Emissions per Capita=%{y}<extra></extra>",
         "legendgroup": "Niger",
         "marker": {
          "color": "#ab63fa",
          "symbol": "circle"
         },
         "mode": "markers",
         "name": "Niger",
         "orientation": "v",
         "showlegend": true,
         "type": "scatter",
         "x": [
          0.8
         ],
         "xaxis": "x",
         "y": [
          0.1
         ],
         "yaxis": "y"
        },
        {
         "hovertemplate": "Country=Nigeria<br>Energy Access=%{x}<br>Emissions per Capita=%{y}<extra></extra>",
         "legendgroup": "Nigeria",
         "marker": {
          "color": "#FFA15A",
          "symbol": "circle"
         },
         "mode": "markers",
         "name": "Nigeria",
         "orientation": "v",
         "showlegend": true,
         "type": "scatter",
         "x": [
          0.8
         ],
         "xaxis": "x",
         "y": [
          0.5
         ],
         "yaxis": "y"
        },
        {
         "hovertemplate": "Country=North Macedonia<br>Energy Access=%{x}<br>Emissions per Capita=%{y}<extra></extra>",
         "legendgroup": "North Macedonia",
         "marker": {
          "color": "#19d3f3",
          "symbol": "circle"
         },
         "mode": "markers",
         "name": "North Macedonia",
         "orientation": "v",
         "showlegend": true,
         "type": "scatter",
         "x": [
          0.6
         ],
         "xaxis": "x",
         "y": [
          3.8
         ],
         "yaxis": "y"
        },
        {
         "hovertemplate": "Country=Norway<br>Energy Access=%{x}<br>Emissions per Capita=%{y}<extra></extra>",
         "legendgroup": "Norway",
         "marker": {
          "color": "#FF6692",
          "symbol": "circle"
         },
         "mode": "markers",
         "name": "Norway",
         "orientation": "v",
         "showlegend": true,
         "type": "scatter",
         "x": [
          0.8
         ],
         "xaxis": "x",
         "y": [
          6.8
         ],
         "yaxis": "y"
        },
        {
         "hovertemplate": "Country=Oman<br>Energy Access=%{x}<br>Emissions per Capita=%{y}<extra></extra>",
         "legendgroup": "Oman",
         "marker": {
          "color": "#B6E880",
          "symbol": "circle"
         },
         "mode": "markers",
         "name": "Oman",
         "orientation": "v",
         "showlegend": true,
         "type": "scatter",
         "x": [
          0.8
         ],
         "xaxis": "x",
         "y": [
          13.8
         ],
         "yaxis": "y"
        },
        {
         "hovertemplate": "Country=Pakistan<br>Energy Access=%{x}<br>Emissions per Capita=%{y}<extra></extra>",
         "legendgroup": "Pakistan",
         "marker": {
          "color": "#FF97FF",
          "symbol": "circle"
         },
         "mode": "markers",
         "name": "Pakistan",
         "orientation": "v",
         "showlegend": true,
         "type": "scatter",
         "x": [
          0.8
         ],
         "xaxis": "x",
         "y": [
          0.8
         ],
         "yaxis": "y"
        },
        {
         "hovertemplate": "Country=Panama<br>Energy Access=%{x}<br>Emissions per Capita=%{y}<extra></extra>",
         "legendgroup": "Panama",
         "marker": {
          "color": "#FECB52",
          "symbol": "circle"
         },
         "mode": "markers",
         "name": "Panama",
         "orientation": "v",
         "showlegend": true,
         "type": "scatter",
         "x": [
          0.8
         ],
         "xaxis": "x",
         "y": [
          3
         ],
         "yaxis": "y"
        },
        {
         "hovertemplate": "Country=Paraguay<br>Energy Access=%{x}<br>Emissions per Capita=%{y}<extra></extra>",
         "legendgroup": "Paraguay",
         "marker": {
          "color": "#636efa",
          "symbol": "circle"
         },
         "mode": "markers",
         "name": "Paraguay",
         "orientation": "v",
         "showlegend": true,
         "type": "scatter",
         "x": [
          0.8
         ],
         "xaxis": "x",
         "y": [
          1.1
         ],
         "yaxis": "y"
        },
        {
         "hovertemplate": "Country=Peru<br>Energy Access=%{x}<br>Emissions per Capita=%{y}<extra></extra>",
         "legendgroup": "Peru",
         "marker": {
          "color": "#EF553B",
          "symbol": "circle"
         },
         "mode": "markers",
         "name": "Peru",
         "orientation": "v",
         "showlegend": true,
         "type": "scatter",
         "x": [
          0.8
         ],
         "xaxis": "x",
         "y": [
          1.6
         ],
         "yaxis": "y"
        },
        {
         "hovertemplate": "Country=Philippines<br>Energy Access=%{x}<br>Emissions per Capita=%{y}<extra></extra>",
         "legendgroup": "Philippines",
         "marker": {
          "color": "#00cc96",
          "symbol": "circle"
         },
         "mode": "markers",
         "name": "Philippines",
         "orientation": "v",
         "showlegend": true,
         "type": "scatter",
         "x": [
          0.8
         ],
         "xaxis": "x",
         "y": [
          1.3
         ],
         "yaxis": "y"
        },
        {
         "hovertemplate": "Country=Poland<br>Energy Access=%{x}<br>Emissions per Capita=%{y}<extra></extra>",
         "legendgroup": "Poland",
         "marker": {
          "color": "#ab63fa",
          "symbol": "circle"
         },
         "mode": "markers",
         "name": "Poland",
         "orientation": "v",
         "showlegend": true,
         "type": "scatter",
         "x": [
          0.8
         ],
         "xaxis": "x",
         "y": [
          7.5
         ],
         "yaxis": "y"
        },
        {
         "hovertemplate": "Country=Portugal<br>Energy Access=%{x}<br>Emissions per Capita=%{y}<extra></extra>",
         "legendgroup": "Portugal",
         "marker": {
          "color": "#FFA15A",
          "symbol": "circle"
         },
         "mode": "markers",
         "name": "Portugal",
         "orientation": "v",
         "showlegend": true,
         "type": "scatter",
         "x": [
          0.8
         ],
         "xaxis": "x",
         "y": [
          4.1
         ],
         "yaxis": "y"
        },
        {
         "hovertemplate": "Country=Qatar<br>Energy Access=%{x}<br>Emissions per Capita=%{y}<extra></extra>",
         "legendgroup": "Qatar",
         "marker": {
          "color": "#19d3f3",
          "symbol": "circle"
         },
         "mode": "markers",
         "name": "Qatar",
         "orientation": "v",
         "showlegend": true,
         "type": "scatter",
         "x": [
          0.8
         ],
         "xaxis": "x",
         "y": [
          30.1
         ],
         "yaxis": "y"
        },
        {
         "hovertemplate": "Country=Romania<br>Energy Access=%{x}<br>Emissions per Capita=%{y}<extra></extra>",
         "legendgroup": "Romania",
         "marker": {
          "color": "#FF6692",
          "symbol": "circle"
         },
         "mode": "markers",
         "name": "Romania",
         "orientation": "v",
         "showlegend": true,
         "type": "scatter",
         "x": [
          0.6
         ],
         "xaxis": "x",
         "y": [
          3.6
         ],
         "yaxis": "y"
        },
        {
         "hovertemplate": "Country=Russian Federation<br>Energy Access=%{x}<br>Emissions per Capita=%{y}<extra></extra>",
         "legendgroup": "Russian Federation",
         "marker": {
          "color": "#B6E880",
          "symbol": "circle"
         },
         "mode": "markers",
         "name": "Russian Federation",
         "orientation": "v",
         "showlegend": true,
         "type": "scatter",
         "x": [
          0.6
         ],
         "xaxis": "x",
         "y": [
          11.4
         ],
         "yaxis": "y"
        },
        {
         "hovertemplate": "Country=Rwanda<br>Energy Access=%{x}<br>Emissions per Capita=%{y}<extra></extra>",
         "legendgroup": "Rwanda",
         "marker": {
          "color": "#FF97FF",
          "symbol": "circle"
         },
         "mode": "markers",
         "name": "Rwanda",
         "orientation": "v",
         "showlegend": true,
         "type": "scatter",
         "x": [
          0.8
         ],
         "xaxis": "x",
         "y": [
          0.1
         ],
         "yaxis": "y"
        },
        {
         "hovertemplate": "Country=Saudi Arabia<br>Energy Access=%{x}<br>Emissions per Capita=%{y}<extra></extra>",
         "legendgroup": "Saudi Arabia",
         "marker": {
          "color": "#FECB52",
          "symbol": "circle"
         },
         "mode": "markers",
         "name": "Saudi Arabia",
         "orientation": "v",
         "showlegend": true,
         "type": "scatter",
         "x": [
          0.8
         ],
         "xaxis": "x",
         "y": [
          14.5
         ],
         "yaxis": "y"
        },
        {
         "hovertemplate": "Country=Senegal<br>Energy Access=%{x}<br>Emissions per Capita=%{y}<extra></extra>",
         "legendgroup": "Senegal",
         "marker": {
          "color": "#636efa",
          "symbol": "circle"
         },
         "mode": "markers",
         "name": "Senegal",
         "orientation": "v",
         "showlegend": true,
         "type": "scatter",
         "x": [
          0.8
         ],
         "xaxis": "x",
         "y": [
          0.6
         ],
         "yaxis": "y"
        },
        {
         "hovertemplate": "Country=Serbia<br>Energy Access=%{x}<br>Emissions per Capita=%{y}<extra></extra>",
         "legendgroup": "Serbia",
         "marker": {
          "color": "#EF553B",
          "symbol": "circle"
         },
         "mode": "markers",
         "name": "Serbia",
         "orientation": "v",
         "showlegend": true,
         "type": "scatter",
         "x": [
          0.6
         ],
         "xaxis": "x",
         "y": [
          6.5
         ],
         "yaxis": "y"
        },
        {
         "hovertemplate": "Country=Singapore<br>Energy Access=%{x}<br>Emissions per Capita=%{y}<extra></extra>",
         "legendgroup": "Singapore",
         "marker": {
          "color": "#00cc96",
          "symbol": "circle"
         },
         "mode": "markers",
         "name": "Singapore",
         "orientation": "v",
         "showlegend": true,
         "type": "scatter",
         "x": [
          0.8
         ],
         "xaxis": "x",
         "y": [
          7.9
         ],
         "yaxis": "y"
        },
        {
         "hovertemplate": "Country=Slovenia<br>Energy Access=%{x}<br>Emissions per Capita=%{y}<extra></extra>",
         "legendgroup": "Slovenia",
         "marker": {
          "color": "#ab63fa",
          "symbol": "circle"
         },
         "mode": "markers",
         "name": "Slovenia",
         "orientation": "v",
         "showlegend": true,
         "type": "scatter",
         "x": [
          0.8
         ],
         "xaxis": "x",
         "y": [
          6.3
         ],
         "yaxis": "y"
        },
        {
         "hovertemplate": "Country=South Africa<br>Energy Access=%{x}<br>Emissions per Capita=%{y}<extra></extra>",
         "legendgroup": "South Africa",
         "marker": {
          "color": "#FFA15A",
          "symbol": "circle"
         },
         "mode": "markers",
         "name": "South Africa",
         "orientation": "v",
         "showlegend": true,
         "type": "scatter",
         "x": [
          0.8
         ],
         "xaxis": "x",
         "y": [
          7.5
         ],
         "yaxis": "y"
        },
        {
         "hovertemplate": "Country=South Sudan<br>Energy Access=%{x}<br>Emissions per Capita=%{y}<extra></extra>",
         "legendgroup": "South Sudan",
         "marker": {
          "color": "#19d3f3",
          "symbol": "circle"
         },
         "mode": "markers",
         "name": "South Sudan",
         "orientation": "v",
         "showlegend": true,
         "type": "scatter",
         "x": [
          0.8
         ],
         "xaxis": "x",
         "y": [
          0.2
         ],
         "yaxis": "y"
        },
        {
         "hovertemplate": "Country=Spain<br>Energy Access=%{x}<br>Emissions per Capita=%{y}<extra></extra>",
         "legendgroup": "Spain",
         "marker": {
          "color": "#FF6692",
          "symbol": "circle"
         },
         "mode": "markers",
         "name": "Spain",
         "orientation": "v",
         "showlegend": true,
         "type": "scatter",
         "x": [
          0.8
         ],
         "xaxis": "x",
         "y": [
          4.9
         ],
         "yaxis": "y"
        },
        {
         "hovertemplate": "Country=Sri Lanka<br>Energy Access=%{x}<br>Emissions per Capita=%{y}<extra></extra>",
         "legendgroup": "Sri Lanka",
         "marker": {
          "color": "#B6E880",
          "symbol": "circle"
         },
         "mode": "markers",
         "name": "Sri Lanka",
         "orientation": "v",
         "showlegend": true,
         "type": "scatter",
         "x": [
          0.8
         ],
         "xaxis": "x",
         "y": [
          1
         ],
         "yaxis": "y"
        },
        {
         "hovertemplate": "Country=Sudan<br>Energy Access=%{x}<br>Emissions per Capita=%{y}<extra></extra>",
         "legendgroup": "Sudan",
         "marker": {
          "color": "#FF97FF",
          "symbol": "circle"
         },
         "mode": "markers",
         "name": "Sudan",
         "orientation": "v",
         "showlegend": true,
         "type": "scatter",
         "x": [
          0.8
         ],
         "xaxis": "x",
         "y": [
          0.5
         ],
         "yaxis": "y"
        },
        {
         "hovertemplate": "Country=Suriname<br>Energy Access=%{x}<br>Emissions per Capita=%{y}<extra></extra>",
         "legendgroup": "Suriname",
         "marker": {
          "color": "#FECB52",
          "symbol": "circle"
         },
         "mode": "markers",
         "name": "Suriname",
         "orientation": "v",
         "showlegend": true,
         "type": "scatter",
         "x": [
          0.8
         ],
         "xaxis": "x",
         "y": [
          4.5
         ],
         "yaxis": "y"
        },
        {
         "hovertemplate": "Country=Sweden<br>Energy Access=%{x}<br>Emissions per Capita=%{y}<extra></extra>",
         "legendgroup": "Sweden",
         "marker": {
          "color": "#636efa",
          "symbol": "circle"
         },
         "mode": "markers",
         "name": "Sweden",
         "orientation": "v",
         "showlegend": true,
         "type": "scatter",
         "x": [
          0.8
         ],
         "xaxis": "x",
         "y": [
          3.3
         ],
         "yaxis": "y"
        },
        {
         "hovertemplate": "Country=Switzerland<br>Energy Access=%{x}<br>Emissions per Capita=%{y}<extra></extra>",
         "legendgroup": "Switzerland",
         "marker": {
          "color": "#EF553B",
          "symbol": "circle"
         },
         "mode": "markers",
         "name": "Switzerland",
         "orientation": "v",
         "showlegend": true,
         "type": "scatter",
         "x": [
          0.8
         ],
         "xaxis": "x",
         "y": [
          4.2
         ],
         "yaxis": "y"
        },
        {
         "hovertemplate": "Country=Syrian Arab Republic<br>Energy Access=%{x}<br>Emissions per Capita=%{y}<extra></extra>",
         "legendgroup": "Syrian Arab Republic",
         "marker": {
          "color": "#00cc96",
          "symbol": "circle"
         },
         "mode": "markers",
         "name": "Syrian Arab Republic",
         "orientation": "v",
         "showlegend": true,
         "type": "scatter",
         "x": [
          0.8
         ],
         "xaxis": "x",
         "y": [
          1.4
         ],
         "yaxis": "y"
        },
        {
         "hovertemplate": "Country=Tajikistan<br>Energy Access=%{x}<br>Emissions per Capita=%{y}<extra></extra>",
         "legendgroup": "Tajikistan",
         "marker": {
          "color": "#ab63fa",
          "symbol": "circle"
         },
         "mode": "markers",
         "name": "Tajikistan",
         "orientation": "v",
         "showlegend": true,
         "type": "scatter",
         "x": [
          0.8
         ],
         "xaxis": "x",
         "y": [
          0.7
         ],
         "yaxis": "y"
        },
        {
         "hovertemplate": "Country=Thailand<br>Energy Access=%{x}<br>Emissions per Capita=%{y}<extra></extra>",
         "legendgroup": "Thailand",
         "marker": {
          "color": "#FFA15A",
          "symbol": "circle"
         },
         "mode": "markers",
         "name": "Thailand",
         "orientation": "v",
         "showlegend": true,
         "type": "scatter",
         "x": [
          0.8
         ],
         "xaxis": "x",
         "y": [
          3.6
         ],
         "yaxis": "y"
        },
        {
         "hovertemplate": "Country=Togo<br>Energy Access=%{x}<br>Emissions per Capita=%{y}<extra></extra>",
         "legendgroup": "Togo",
         "marker": {
          "color": "#19d3f3",
          "symbol": "circle"
         },
         "mode": "markers",
         "name": "Togo",
         "orientation": "v",
         "showlegend": true,
         "type": "scatter",
         "x": [
          0.8
         ],
         "xaxis": "x",
         "y": [
          0.2
         ],
         "yaxis": "y"
        },
        {
         "hovertemplate": "Country=Trinidad and Tobago<br>Energy Access=%{x}<br>Emissions per Capita=%{y}<extra></extra>",
         "legendgroup": "Trinidad and Tobago",
         "marker": {
          "color": "#FF6692",
          "symbol": "circle"
         },
         "mode": "markers",
         "name": "Trinidad and Tobago",
         "orientation": "v",
         "showlegend": true,
         "type": "scatter",
         "x": [
          0.8
         ],
         "xaxis": "x",
         "y": [
          11.9
         ],
         "yaxis": "y"
        },
        {
         "hovertemplate": "Country=Tunisia<br>Energy Access=%{x}<br>Emissions per Capita=%{y}<extra></extra>",
         "legendgroup": "Tunisia",
         "marker": {
          "color": "#B6E880",
          "symbol": "circle"
         },
         "mode": "markers",
         "name": "Tunisia",
         "orientation": "v",
         "showlegend": true,
         "type": "scatter",
         "x": [
          0.8
         ],
         "xaxis": "x",
         "y": [
          2.3
         ],
         "yaxis": "y"
        },
        {
         "hovertemplate": "Country=Turkmenistan<br>Energy Access=%{x}<br>Emissions per Capita=%{y}<extra></extra>",
         "legendgroup": "Turkmenistan",
         "marker": {
          "color": "#FF97FF",
          "symbol": "circle"
         },
         "mode": "markers",
         "name": "Turkmenistan",
         "orientation": "v",
         "showlegend": true,
         "type": "scatter",
         "x": [
          0.8
         ],
         "xaxis": "x",
         "y": [
          10.1
         ],
         "yaxis": "y"
        },
        {
         "hovertemplate": "Country=Uganda<br>Energy Access=%{x}<br>Emissions per Capita=%{y}<extra></extra>",
         "legendgroup": "Uganda",
         "marker": {
          "color": "#FECB52",
          "symbol": "circle"
         },
         "mode": "markers",
         "name": "Uganda",
         "orientation": "v",
         "showlegend": true,
         "type": "scatter",
         "x": [
          0.8
         ],
         "xaxis": "x",
         "y": [
          0.1
         ],
         "yaxis": "y"
        },
        {
         "hovertemplate": "Country=Ukraine<br>Energy Access=%{x}<br>Emissions per Capita=%{y}<extra></extra>",
         "legendgroup": "Ukraine",
         "marker": {
          "color": "#636efa",
          "symbol": "circle"
         },
         "mode": "markers",
         "name": "Ukraine",
         "orientation": "v",
         "showlegend": true,
         "type": "scatter",
         "x": [
          0.6
         ],
         "xaxis": "x",
         "y": [
          3.8
         ],
         "yaxis": "y"
        },
        {
         "hovertemplate": "Country=United Arab Emirates<br>Energy Access=%{x}<br>Emissions per Capita=%{y}<extra></extra>",
         "legendgroup": "United Arab Emirates",
         "marker": {
          "color": "#EF553B",
          "symbol": "circle"
         },
         "mode": "markers",
         "name": "United Arab Emirates",
         "orientation": "v",
         "showlegend": true,
         "type": "scatter",
         "x": [
          0.8
         ],
         "xaxis": "x",
         "y": [
          18.2
         ],
         "yaxis": "y"
        },
        {
         "hovertemplate": "Country=United Kingdom<br>Energy Access=%{x}<br>Emissions per Capita=%{y}<extra></extra>",
         "legendgroup": "United Kingdom",
         "marker": {
          "color": "#00cc96",
          "symbol": "circle"
         },
         "mode": "markers",
         "name": "United Kingdom",
         "orientation": "v",
         "showlegend": true,
         "type": "scatter",
         "x": [
          0.8
         ],
         "xaxis": "x",
         "y": [
          5.1
         ],
         "yaxis": "y"
        },
        {
         "hovertemplate": "Country=Uruguay<br>Energy Access=%{x}<br>Emissions per Capita=%{y}<extra></extra>",
         "legendgroup": "Uruguay",
         "marker": {
          "color": "#ab63fa",
          "symbol": "circle"
         },
         "mode": "markers",
         "name": "Uruguay",
         "orientation": "v",
         "showlegend": true,
         "type": "scatter",
         "x": [
          0.8
         ],
         "xaxis": "x",
         "y": [
          1.9
         ],
         "yaxis": "y"
        },
        {
         "hovertemplate": "Country=Uzbekistan<br>Energy Access=%{x}<br>Emissions per Capita=%{y}<extra></extra>",
         "legendgroup": "Uzbekistan",
         "marker": {
          "color": "#FFA15A",
          "symbol": "circle"
         },
         "mode": "markers",
         "name": "Uzbekistan",
         "orientation": "v",
         "showlegend": true,
         "type": "scatter",
         "x": [
          0.8
         ],
         "xaxis": "x",
         "y": [
          3.3
         ],
         "yaxis": "y"
        },
        {
         "hovertemplate": "Country=Viet Nam<br>Energy Access=%{x}<br>Emissions per Capita=%{y}<extra></extra>",
         "legendgroup": "Viet Nam",
         "marker": {
          "color": "#19d3f3",
          "symbol": "circle"
         },
         "mode": "markers",
         "name": "Viet Nam",
         "orientation": "v",
         "showlegend": true,
         "type": "scatter",
         "x": [
          0.8
         ],
         "xaxis": "x",
         "y": [
          2.9
         ],
         "yaxis": "y"
        },
        {
         "hovertemplate": "Country=Zambia<br>Energy Access=%{x}<br>Emissions per Capita=%{y}<extra></extra>",
         "legendgroup": "Zambia",
         "marker": {
          "color": "#FF6692",
          "symbol": "circle"
         },
         "mode": "markers",
         "name": "Zambia",
         "orientation": "v",
         "showlegend": true,
         "type": "scatter",
         "x": [
          0.8
         ],
         "xaxis": "x",
         "y": [
          0.4
         ],
         "yaxis": "y"
        },
        {
         "hovertemplate": "Country=Zimbabwe<br>Energy Access=%{x}<br>Emissions per Capita=%{y}<extra></extra>",
         "legendgroup": "Zimbabwe",
         "marker": {
          "color": "#B6E880",
          "symbol": "circle"
         },
         "mode": "markers",
         "name": "Zimbabwe",
         "orientation": "v",
         "showlegend": true,
         "type": "scatter",
         "x": [
          0.8
         ],
         "xaxis": "x",
         "y": [
          0.7
         ],
         "yaxis": "y"
        }
       ],
       "layout": {
        "legend": {
         "title": {
          "text": "Country"
         },
         "tracegroupgap": 0
        },
        "template": {
         "data": {
          "bar": [
           {
            "error_x": {
             "color": "#2a3f5f"
            },
            "error_y": {
             "color": "#2a3f5f"
            },
            "marker": {
             "line": {
              "color": "#E5ECF6",
              "width": 0.5
             },
             "pattern": {
              "fillmode": "overlay",
              "size": 10,
              "solidity": 0.2
             }
            },
            "type": "bar"
           }
          ],
          "barpolar": [
           {
            "marker": {
             "line": {
              "color": "#E5ECF6",
              "width": 0.5
             },
             "pattern": {
              "fillmode": "overlay",
              "size": 10,
              "solidity": 0.2
             }
            },
            "type": "barpolar"
           }
          ],
          "carpet": [
           {
            "aaxis": {
             "endlinecolor": "#2a3f5f",
             "gridcolor": "white",
             "linecolor": "white",
             "minorgridcolor": "white",
             "startlinecolor": "#2a3f5f"
            },
            "baxis": {
             "endlinecolor": "#2a3f5f",
             "gridcolor": "white",
             "linecolor": "white",
             "minorgridcolor": "white",
             "startlinecolor": "#2a3f5f"
            },
            "type": "carpet"
           }
          ],
          "choropleth": [
           {
            "colorbar": {
             "outlinewidth": 0,
             "ticks": ""
            },
            "type": "choropleth"
           }
          ],
          "contour": [
           {
            "colorbar": {
             "outlinewidth": 0,
             "ticks": ""
            },
            "colorscale": [
             [
              0,
              "#0d0887"
             ],
             [
              0.1111111111111111,
              "#46039f"
             ],
             [
              0.2222222222222222,
              "#7201a8"
             ],
             [
              0.3333333333333333,
              "#9c179e"
             ],
             [
              0.4444444444444444,
              "#bd3786"
             ],
             [
              0.5555555555555556,
              "#d8576b"
             ],
             [
              0.6666666666666666,
              "#ed7953"
             ],
             [
              0.7777777777777778,
              "#fb9f3a"
             ],
             [
              0.8888888888888888,
              "#fdca26"
             ],
             [
              1,
              "#f0f921"
             ]
            ],
            "type": "contour"
           }
          ],
          "contourcarpet": [
           {
            "colorbar": {
             "outlinewidth": 0,
             "ticks": ""
            },
            "type": "contourcarpet"
           }
          ],
          "heatmap": [
           {
            "colorbar": {
             "outlinewidth": 0,
             "ticks": ""
            },
            "colorscale": [
             [
              0,
              "#0d0887"
             ],
             [
              0.1111111111111111,
              "#46039f"
             ],
             [
              0.2222222222222222,
              "#7201a8"
             ],
             [
              0.3333333333333333,
              "#9c179e"
             ],
             [
              0.4444444444444444,
              "#bd3786"
             ],
             [
              0.5555555555555556,
              "#d8576b"
             ],
             [
              0.6666666666666666,
              "#ed7953"
             ],
             [
              0.7777777777777778,
              "#fb9f3a"
             ],
             [
              0.8888888888888888,
              "#fdca26"
             ],
             [
              1,
              "#f0f921"
             ]
            ],
            "type": "heatmap"
           }
          ],
          "heatmapgl": [
           {
            "colorbar": {
             "outlinewidth": 0,
             "ticks": ""
            },
            "colorscale": [
             [
              0,
              "#0d0887"
             ],
             [
              0.1111111111111111,
              "#46039f"
             ],
             [
              0.2222222222222222,
              "#7201a8"
             ],
             [
              0.3333333333333333,
              "#9c179e"
             ],
             [
              0.4444444444444444,
              "#bd3786"
             ],
             [
              0.5555555555555556,
              "#d8576b"
             ],
             [
              0.6666666666666666,
              "#ed7953"
             ],
             [
              0.7777777777777778,
              "#fb9f3a"
             ],
             [
              0.8888888888888888,
              "#fdca26"
             ],
             [
              1,
              "#f0f921"
             ]
            ],
            "type": "heatmapgl"
           }
          ],
          "histogram": [
           {
            "marker": {
             "pattern": {
              "fillmode": "overlay",
              "size": 10,
              "solidity": 0.2
             }
            },
            "type": "histogram"
           }
          ],
          "histogram2d": [
           {
            "colorbar": {
             "outlinewidth": 0,
             "ticks": ""
            },
            "colorscale": [
             [
              0,
              "#0d0887"
             ],
             [
              0.1111111111111111,
              "#46039f"
             ],
             [
              0.2222222222222222,
              "#7201a8"
             ],
             [
              0.3333333333333333,
              "#9c179e"
             ],
             [
              0.4444444444444444,
              "#bd3786"
             ],
             [
              0.5555555555555556,
              "#d8576b"
             ],
             [
              0.6666666666666666,
              "#ed7953"
             ],
             [
              0.7777777777777778,
              "#fb9f3a"
             ],
             [
              0.8888888888888888,
              "#fdca26"
             ],
             [
              1,
              "#f0f921"
             ]
            ],
            "type": "histogram2d"
           }
          ],
          "histogram2dcontour": [
           {
            "colorbar": {
             "outlinewidth": 0,
             "ticks": ""
            },
            "colorscale": [
             [
              0,
              "#0d0887"
             ],
             [
              0.1111111111111111,
              "#46039f"
             ],
             [
              0.2222222222222222,
              "#7201a8"
             ],
             [
              0.3333333333333333,
              "#9c179e"
             ],
             [
              0.4444444444444444,
              "#bd3786"
             ],
             [
              0.5555555555555556,
              "#d8576b"
             ],
             [
              0.6666666666666666,
              "#ed7953"
             ],
             [
              0.7777777777777778,
              "#fb9f3a"
             ],
             [
              0.8888888888888888,
              "#fdca26"
             ],
             [
              1,
              "#f0f921"
             ]
            ],
            "type": "histogram2dcontour"
           }
          ],
          "mesh3d": [
           {
            "colorbar": {
             "outlinewidth": 0,
             "ticks": ""
            },
            "type": "mesh3d"
           }
          ],
          "parcoords": [
           {
            "line": {
             "colorbar": {
              "outlinewidth": 0,
              "ticks": ""
             }
            },
            "type": "parcoords"
           }
          ],
          "pie": [
           {
            "automargin": true,
            "type": "pie"
           }
          ],
          "scatter": [
           {
            "fillpattern": {
             "fillmode": "overlay",
             "size": 10,
             "solidity": 0.2
            },
            "type": "scatter"
           }
          ],
          "scatter3d": [
           {
            "line": {
             "colorbar": {
              "outlinewidth": 0,
              "ticks": ""
             }
            },
            "marker": {
             "colorbar": {
              "outlinewidth": 0,
              "ticks": ""
             }
            },
            "type": "scatter3d"
           }
          ],
          "scattercarpet": [
           {
            "marker": {
             "colorbar": {
              "outlinewidth": 0,
              "ticks": ""
             }
            },
            "type": "scattercarpet"
           }
          ],
          "scattergeo": [
           {
            "marker": {
             "colorbar": {
              "outlinewidth": 0,
              "ticks": ""
             }
            },
            "type": "scattergeo"
           }
          ],
          "scattergl": [
           {
            "marker": {
             "colorbar": {
              "outlinewidth": 0,
              "ticks": ""
             }
            },
            "type": "scattergl"
           }
          ],
          "scattermapbox": [
           {
            "marker": {
             "colorbar": {
              "outlinewidth": 0,
              "ticks": ""
             }
            },
            "type": "scattermapbox"
           }
          ],
          "scatterpolar": [
           {
            "marker": {
             "colorbar": {
              "outlinewidth": 0,
              "ticks": ""
             }
            },
            "type": "scatterpolar"
           }
          ],
          "scatterpolargl": [
           {
            "marker": {
             "colorbar": {
              "outlinewidth": 0,
              "ticks": ""
             }
            },
            "type": "scatterpolargl"
           }
          ],
          "scatterternary": [
           {
            "marker": {
             "colorbar": {
              "outlinewidth": 0,
              "ticks": ""
             }
            },
            "type": "scatterternary"
           }
          ],
          "surface": [
           {
            "colorbar": {
             "outlinewidth": 0,
             "ticks": ""
            },
            "colorscale": [
             [
              0,
              "#0d0887"
             ],
             [
              0.1111111111111111,
              "#46039f"
             ],
             [
              0.2222222222222222,
              "#7201a8"
             ],
             [
              0.3333333333333333,
              "#9c179e"
             ],
             [
              0.4444444444444444,
              "#bd3786"
             ],
             [
              0.5555555555555556,
              "#d8576b"
             ],
             [
              0.6666666666666666,
              "#ed7953"
             ],
             [
              0.7777777777777778,
              "#fb9f3a"
             ],
             [
              0.8888888888888888,
              "#fdca26"
             ],
             [
              1,
              "#f0f921"
             ]
            ],
            "type": "surface"
           }
          ],
          "table": [
           {
            "cells": {
             "fill": {
              "color": "#EBF0F8"
             },
             "line": {
              "color": "white"
             }
            },
            "header": {
             "fill": {
              "color": "#C8D4E3"
             },
             "line": {
              "color": "white"
             }
            },
            "type": "table"
           }
          ]
         },
         "layout": {
          "annotationdefaults": {
           "arrowcolor": "#2a3f5f",
           "arrowhead": 0,
           "arrowwidth": 1
          },
          "autotypenumbers": "strict",
          "coloraxis": {
           "colorbar": {
            "outlinewidth": 0,
            "ticks": ""
           }
          },
          "colorscale": {
           "diverging": [
            [
             0,
             "#8e0152"
            ],
            [
             0.1,
             "#c51b7d"
            ],
            [
             0.2,
             "#de77ae"
            ],
            [
             0.3,
             "#f1b6da"
            ],
            [
             0.4,
             "#fde0ef"
            ],
            [
             0.5,
             "#f7f7f7"
            ],
            [
             0.6,
             "#e6f5d0"
            ],
            [
             0.7,
             "#b8e186"
            ],
            [
             0.8,
             "#7fbc41"
            ],
            [
             0.9,
             "#4d9221"
            ],
            [
             1,
             "#276419"
            ]
           ],
           "sequential": [
            [
             0,
             "#0d0887"
            ],
            [
             0.1111111111111111,
             "#46039f"
            ],
            [
             0.2222222222222222,
             "#7201a8"
            ],
            [
             0.3333333333333333,
             "#9c179e"
            ],
            [
             0.4444444444444444,
             "#bd3786"
            ],
            [
             0.5555555555555556,
             "#d8576b"
            ],
            [
             0.6666666666666666,
             "#ed7953"
            ],
            [
             0.7777777777777778,
             "#fb9f3a"
            ],
            [
             0.8888888888888888,
             "#fdca26"
            ],
            [
             1,
             "#f0f921"
            ]
           ],
           "sequentialminus": [
            [
             0,
             "#0d0887"
            ],
            [
             0.1111111111111111,
             "#46039f"
            ],
            [
             0.2222222222222222,
             "#7201a8"
            ],
            [
             0.3333333333333333,
             "#9c179e"
            ],
            [
             0.4444444444444444,
             "#bd3786"
            ],
            [
             0.5555555555555556,
             "#d8576b"
            ],
            [
             0.6666666666666666,
             "#ed7953"
            ],
            [
             0.7777777777777778,
             "#fb9f3a"
            ],
            [
             0.8888888888888888,
             "#fdca26"
            ],
            [
             1,
             "#f0f921"
            ]
           ]
          },
          "colorway": [
           "#636efa",
           "#EF553B",
           "#00cc96",
           "#ab63fa",
           "#FFA15A",
           "#19d3f3",
           "#FF6692",
           "#B6E880",
           "#FF97FF",
           "#FECB52"
          ],
          "font": {
           "color": "#2a3f5f"
          },
          "geo": {
           "bgcolor": "white",
           "lakecolor": "white",
           "landcolor": "#E5ECF6",
           "showlakes": true,
           "showland": true,
           "subunitcolor": "white"
          },
          "hoverlabel": {
           "align": "left"
          },
          "hovermode": "closest",
          "mapbox": {
           "style": "light"
          },
          "paper_bgcolor": "white",
          "plot_bgcolor": "#E5ECF6",
          "polar": {
           "angularaxis": {
            "gridcolor": "white",
            "linecolor": "white",
            "ticks": ""
           },
           "bgcolor": "#E5ECF6",
           "radialaxis": {
            "gridcolor": "white",
            "linecolor": "white",
            "ticks": ""
           }
          },
          "scene": {
           "xaxis": {
            "backgroundcolor": "#E5ECF6",
            "gridcolor": "white",
            "gridwidth": 2,
            "linecolor": "white",
            "showbackground": true,
            "ticks": "",
            "zerolinecolor": "white"
           },
           "yaxis": {
            "backgroundcolor": "#E5ECF6",
            "gridcolor": "white",
            "gridwidth": 2,
            "linecolor": "white",
            "showbackground": true,
            "ticks": "",
            "zerolinecolor": "white"
           },
           "zaxis": {
            "backgroundcolor": "#E5ECF6",
            "gridcolor": "white",
            "gridwidth": 2,
            "linecolor": "white",
            "showbackground": true,
            "ticks": "",
            "zerolinecolor": "white"
           }
          },
          "shapedefaults": {
           "line": {
            "color": "#2a3f5f"
           }
          },
          "ternary": {
           "aaxis": {
            "gridcolor": "white",
            "linecolor": "white",
            "ticks": ""
           },
           "baxis": {
            "gridcolor": "white",
            "linecolor": "white",
            "ticks": ""
           },
           "bgcolor": "#E5ECF6",
           "caxis": {
            "gridcolor": "white",
            "linecolor": "white",
            "ticks": ""
           }
          },
          "title": {
           "x": 0.05
          },
          "xaxis": {
           "automargin": true,
           "gridcolor": "white",
           "linecolor": "white",
           "ticks": "",
           "title": {
            "standoff": 15
           },
           "zerolinecolor": "white",
           "zerolinewidth": 2
          },
          "yaxis": {
           "automargin": true,
           "gridcolor": "white",
           "linecolor": "white",
           "ticks": "",
           "title": {
            "standoff": 15
           },
           "zerolinecolor": "white",
           "zerolinewidth": 2
          }
         }
        },
        "title": {
         "text": "Clean and Affordable Energy Access (SDG 7) and Carbon Emissions per Capita (2019)"
        },
        "xaxis": {
         "anchor": "y",
         "domain": [
          0,
          1
         ],
         "title": {
          "text": "Energy Access"
         }
        },
        "yaxis": {
         "anchor": "x",
         "domain": [
          0,
          1
         ],
         "title": {
          "text": "Emissions per Capita"
         }
        }
       }
      },
      "text/html": [
       "<div>                            <div id=\"6935a5a2-4807-44b9-9a7c-f1a6d8eb1dac\" class=\"plotly-graph-div\" style=\"height:525px; width:100%;\"></div>            <script type=\"text/javascript\">                require([\"plotly\"], function(Plotly) {                    window.PLOTLYENV=window.PLOTLYENV || {};                                    if (document.getElementById(\"6935a5a2-4807-44b9-9a7c-f1a6d8eb1dac\")) {                    Plotly.newPlot(                        \"6935a5a2-4807-44b9-9a7c-f1a6d8eb1dac\",                        [{\"hovertemplate\":\"Country=Albania\\u003cbr\\u003eEnergy Access=%{x}\\u003cbr\\u003eEmissions per Capita=%{y}\\u003cextra\\u003e\\u003c\\u002fextra\\u003e\",\"legendgroup\":\"Albania\",\"marker\":{\"color\":\"#636efa\",\"symbol\":\"circle\"},\"mode\":\"markers\",\"name\":\"Albania\",\"orientation\":\"v\",\"showlegend\":true,\"x\":[0.8],\"xaxis\":\"x\",\"y\":[1.4],\"yaxis\":\"y\",\"type\":\"scatter\"},{\"hovertemplate\":\"Country=Algeria\\u003cbr\\u003eEnergy Access=%{x}\\u003cbr\\u003eEmissions per Capita=%{y}\\u003cextra\\u003e\\u003c\\u002fextra\\u003e\",\"legendgroup\":\"Algeria\",\"marker\":{\"color\":\"#EF553B\",\"symbol\":\"circle\"},\"mode\":\"markers\",\"name\":\"Algeria\",\"orientation\":\"v\",\"showlegend\":true,\"x\":[0.8],\"xaxis\":\"x\",\"y\":[3.3],\"yaxis\":\"y\",\"type\":\"scatter\"},{\"hovertemplate\":\"Country=Angola\\u003cbr\\u003eEnergy Access=%{x}\\u003cbr\\u003eEmissions per Capita=%{y}\\u003cextra\\u003e\\u003c\\u002fextra\\u003e\",\"legendgroup\":\"Angola\",\"marker\":{\"color\":\"#00cc96\",\"symbol\":\"circle\"},\"mode\":\"markers\",\"name\":\"Angola\",\"orientation\":\"v\",\"showlegend\":true,\"x\":[0.933],\"xaxis\":\"x\",\"y\":[0.6],\"yaxis\":\"y\",\"type\":\"scatter\"},{\"hovertemplate\":\"Country=Argentina\\u003cbr\\u003eEnergy Access=%{x}\\u003cbr\\u003eEmissions per Capita=%{y}\\u003cextra\\u003e\\u003c\\u002fextra\\u003e\",\"legendgroup\":\"Argentina\",\"marker\":{\"color\":\"#ab63fa\",\"symbol\":\"circle\"},\"mode\":\"markers\",\"name\":\"Argentina\",\"orientation\":\"v\",\"showlegend\":true,\"x\":[1.0],\"xaxis\":\"x\",\"y\":[3.6],\"yaxis\":\"y\",\"type\":\"scatter\"},{\"hovertemplate\":\"Country=Armenia\\u003cbr\\u003eEnergy Access=%{x}\\u003cbr\\u003eEmissions per Capita=%{y}\\u003cextra\\u003e\\u003c\\u002fextra\\u003e\",\"legendgroup\":\"Armenia\",\"marker\":{\"color\":\"#FFA15A\",\"symbol\":\"circle\"},\"mode\":\"markers\",\"name\":\"Armenia\",\"orientation\":\"v\",\"showlegend\":true,\"x\":[0.933],\"xaxis\":\"x\",\"y\":[2.0],\"yaxis\":\"y\",\"type\":\"scatter\"},{\"hovertemplate\":\"Country=Australia\\u003cbr\\u003eEnergy Access=%{x}\\u003cbr\\u003eEmissions per Capita=%{y}\\u003cextra\\u003e\\u003c\\u002fextra\\u003e\",\"legendgroup\":\"Australia\",\"marker\":{\"color\":\"#19d3f3\",\"symbol\":\"circle\"},\"mode\":\"markers\",\"name\":\"Australia\",\"orientation\":\"v\",\"showlegend\":true,\"x\":[0.8],\"xaxis\":\"x\",\"y\":[15.4],\"yaxis\":\"y\",\"type\":\"scatter\"},{\"hovertemplate\":\"Country=Austria\\u003cbr\\u003eEnergy Access=%{x}\\u003cbr\\u003eEmissions per Capita=%{y}\\u003cextra\\u003e\\u003c\\u002fextra\\u003e\",\"legendgroup\":\"Austria\",\"marker\":{\"color\":\"#FF6692\",\"symbol\":\"circle\"},\"mode\":\"markers\",\"name\":\"Austria\",\"orientation\":\"v\",\"showlegend\":true,\"x\":[0.8],\"xaxis\":\"x\",\"y\":[7.1],\"yaxis\":\"y\",\"type\":\"scatter\"},{\"hovertemplate\":\"Country=Azerbaijan\\u003cbr\\u003eEnergy Access=%{x}\\u003cbr\\u003eEmissions per Capita=%{y}\\u003cextra\\u003e\\u003c\\u002fextra\\u003e\",\"legendgroup\":\"Azerbaijan\",\"marker\":{\"color\":\"#B6E880\",\"symbol\":\"circle\"},\"mode\":\"markers\",\"name\":\"Azerbaijan\",\"orientation\":\"v\",\"showlegend\":true,\"x\":[0.8],\"xaxis\":\"x\",\"y\":[3.4],\"yaxis\":\"y\",\"type\":\"scatter\"},{\"hovertemplate\":\"Country=Bahrain\\u003cbr\\u003eEnergy Access=%{x}\\u003cbr\\u003eEmissions per Capita=%{y}\\u003cextra\\u003e\\u003c\\u002fextra\\u003e\",\"legendgroup\":\"Bahrain\",\"marker\":{\"color\":\"#FF97FF\",\"symbol\":\"circle\"},\"mode\":\"markers\",\"name\":\"Bahrain\",\"orientation\":\"v\",\"showlegend\":true,\"x\":[1.0],\"xaxis\":\"x\",\"y\":[19.9],\"yaxis\":\"y\",\"type\":\"scatter\"},{\"hovertemplate\":\"Country=Bangladesh\\u003cbr\\u003eEnergy Access=%{x}\\u003cbr\\u003eEmissions per Capita=%{y}\\u003cextra\\u003e\\u003c\\u002fextra\\u003e\",\"legendgroup\":\"Bangladesh\",\"marker\":{\"color\":\"#FECB52\",\"symbol\":\"circle\"},\"mode\":\"markers\",\"name\":\"Bangladesh\",\"orientation\":\"v\",\"showlegend\":true,\"x\":[0.933],\"xaxis\":\"x\",\"y\":[0.6],\"yaxis\":\"y\",\"type\":\"scatter\"},{\"hovertemplate\":\"Country=Belarus\\u003cbr\\u003eEnergy Access=%{x}\\u003cbr\\u003eEmissions per Capita=%{y}\\u003cextra\\u003e\\u003c\\u002fextra\\u003e\",\"legendgroup\":\"Belarus\",\"marker\":{\"color\":\"#636efa\",\"symbol\":\"circle\"},\"mode\":\"markers\",\"name\":\"Belarus\",\"orientation\":\"v\",\"showlegend\":true,\"x\":[0.8],\"xaxis\":\"x\",\"y\":[5.9],\"yaxis\":\"y\",\"type\":\"scatter\"},{\"hovertemplate\":\"Country=Belgium\\u003cbr\\u003eEnergy Access=%{x}\\u003cbr\\u003eEmissions per Capita=%{y}\\u003cextra\\u003e\\u003c\\u002fextra\\u003e\",\"legendgroup\":\"Belgium\",\"marker\":{\"color\":\"#EF553B\",\"symbol\":\"circle\"},\"mode\":\"markers\",\"name\":\"Belgium\",\"orientation\":\"v\",\"showlegend\":true,\"x\":[0.8],\"xaxis\":\"x\",\"y\":[7.9],\"yaxis\":\"y\",\"type\":\"scatter\"},{\"hovertemplate\":\"Country=Benin\\u003cbr\\u003eEnergy Access=%{x}\\u003cbr\\u003eEmissions per Capita=%{y}\\u003cextra\\u003e\\u003c\\u002fextra\\u003e\",\"legendgroup\":\"Benin\",\"marker\":{\"color\":\"#00cc96\",\"symbol\":\"circle\"},\"mode\":\"markers\",\"name\":\"Benin\",\"orientation\":\"v\",\"showlegend\":true,\"x\":[0.8],\"xaxis\":\"x\",\"y\":[0.6],\"yaxis\":\"y\",\"type\":\"scatter\"},{\"hovertemplate\":\"Country=Bosnia and Herzegovina\\u003cbr\\u003eEnergy Access=%{x}\\u003cbr\\u003eEmissions per Capita=%{y}\\u003cextra\\u003e\\u003c\\u002fextra\\u003e\",\"legendgroup\":\"Bosnia and Herzegovina\",\"marker\":{\"color\":\"#ab63fa\",\"symbol\":\"circle\"},\"mode\":\"markers\",\"name\":\"Bosnia and Herzegovina\",\"orientation\":\"v\",\"showlegend\":true,\"x\":[0.8],\"xaxis\":\"x\",\"y\":[6.3],\"yaxis\":\"y\",\"type\":\"scatter\"},{\"hovertemplate\":\"Country=Botswana\\u003cbr\\u003eEnergy Access=%{x}\\u003cbr\\u003eEmissions per Capita=%{y}\\u003cextra\\u003e\\u003c\\u002fextra\\u003e\",\"legendgroup\":\"Botswana\",\"marker\":{\"color\":\"#FFA15A\",\"symbol\":\"circle\"},\"mode\":\"markers\",\"name\":\"Botswana\",\"orientation\":\"v\",\"showlegend\":true,\"x\":[0.8],\"xaxis\":\"x\",\"y\":[3.1],\"yaxis\":\"y\",\"type\":\"scatter\"},{\"hovertemplate\":\"Country=Brazil\\u003cbr\\u003eEnergy Access=%{x}\\u003cbr\\u003eEmissions per Capita=%{y}\\u003cextra\\u003e\\u003c\\u002fextra\\u003e\",\"legendgroup\":\"Brazil\",\"marker\":{\"color\":\"#19d3f3\",\"symbol\":\"circle\"},\"mode\":\"markers\",\"name\":\"Brazil\",\"orientation\":\"v\",\"showlegend\":true,\"x\":[0.933],\"xaxis\":\"x\",\"y\":[2.0],\"yaxis\":\"y\",\"type\":\"scatter\"},{\"hovertemplate\":\"Country=Brunei Darussalam\\u003cbr\\u003eEnergy Access=%{x}\\u003cbr\\u003eEmissions per Capita=%{y}\\u003cextra\\u003e\\u003c\\u002fextra\\u003e\",\"legendgroup\":\"Brunei Darussalam\",\"marker\":{\"color\":\"#FF6692\",\"symbol\":\"circle\"},\"mode\":\"markers\",\"name\":\"Brunei Darussalam\",\"orientation\":\"v\",\"showlegend\":true,\"x\":[1.0],\"xaxis\":\"x\",\"y\":[15.4],\"yaxis\":\"y\",\"type\":\"scatter\"},{\"hovertemplate\":\"Country=Bulgaria\\u003cbr\\u003eEnergy Access=%{x}\\u003cbr\\u003eEmissions per Capita=%{y}\\u003cextra\\u003e\\u003c\\u002fextra\\u003e\",\"legendgroup\":\"Bulgaria\",\"marker\":{\"color\":\"#B6E880\",\"symbol\":\"circle\"},\"mode\":\"markers\",\"name\":\"Bulgaria\",\"orientation\":\"v\",\"showlegend\":true,\"x\":[0.6],\"xaxis\":\"x\",\"y\":[5.5],\"yaxis\":\"y\",\"type\":\"scatter\"},{\"hovertemplate\":\"Country=Cambodia\\u003cbr\\u003eEnergy Access=%{x}\\u003cbr\\u003eEmissions per Capita=%{y}\\u003cextra\\u003e\\u003c\\u002fextra\\u003e\",\"legendgroup\":\"Cambodia\",\"marker\":{\"color\":\"#FF97FF\",\"symbol\":\"circle\"},\"mode\":\"markers\",\"name\":\"Cambodia\",\"orientation\":\"v\",\"showlegend\":true,\"x\":[0.933],\"xaxis\":\"x\",\"y\":[0.8],\"yaxis\":\"y\",\"type\":\"scatter\"},{\"hovertemplate\":\"Country=Cameroon\\u003cbr\\u003eEnergy Access=%{x}\\u003cbr\\u003eEmissions per Capita=%{y}\\u003cextra\\u003e\\u003c\\u002fextra\\u003e\",\"legendgroup\":\"Cameroon\",\"marker\":{\"color\":\"#FECB52\",\"symbol\":\"circle\"},\"mode\":\"markers\",\"name\":\"Cameroon\",\"orientation\":\"v\",\"showlegend\":true,\"x\":[0.8],\"xaxis\":\"x\",\"y\":[0.3],\"yaxis\":\"y\",\"type\":\"scatter\"},{\"hovertemplate\":\"Country=Canada\\u003cbr\\u003eEnergy Access=%{x}\\u003cbr\\u003eEmissions per Capita=%{y}\\u003cextra\\u003e\\u003c\\u002fextra\\u003e\",\"legendgroup\":\"Canada\",\"marker\":{\"color\":\"#636efa\",\"symbol\":\"circle\"},\"mode\":\"markers\",\"name\":\"Canada\",\"orientation\":\"v\",\"showlegend\":true,\"x\":[0.8],\"xaxis\":\"x\",\"y\":[14.8],\"yaxis\":\"y\",\"type\":\"scatter\"},{\"hovertemplate\":\"Country=Chile\\u003cbr\\u003eEnergy Access=%{x}\\u003cbr\\u003eEmissions per Capita=%{y}\\u003cextra\\u003e\\u003c\\u002fextra\\u003e\",\"legendgroup\":\"Chile\",\"marker\":{\"color\":\"#EF553B\",\"symbol\":\"circle\"},\"mode\":\"markers\",\"name\":\"Chile\",\"orientation\":\"v\",\"showlegend\":true,\"x\":[1.0],\"xaxis\":\"x\",\"y\":[4.8],\"yaxis\":\"y\",\"type\":\"scatter\"},{\"hovertemplate\":\"Country=China\\u003cbr\\u003eEnergy Access=%{x}\\u003cbr\\u003eEmissions per Capita=%{y}\\u003cextra\\u003e\\u003c\\u002fextra\\u003e\",\"legendgroup\":\"China\",\"marker\":{\"color\":\"#00cc96\",\"symbol\":\"circle\"},\"mode\":\"markers\",\"name\":\"China\",\"orientation\":\"v\",\"showlegend\":true,\"x\":[0.8],\"xaxis\":\"x\",\"y\":[7.1],\"yaxis\":\"y\",\"type\":\"scatter\"},{\"hovertemplate\":\"Country=Colombia\\u003cbr\\u003eEnergy Access=%{x}\\u003cbr\\u003eEmissions per Capita=%{y}\\u003cextra\\u003e\\u003c\\u002fextra\\u003e\",\"legendgroup\":\"Colombia\",\"marker\":{\"color\":\"#ab63fa\",\"symbol\":\"circle\"},\"mode\":\"markers\",\"name\":\"Colombia\",\"orientation\":\"v\",\"showlegend\":true,\"x\":[0.933],\"xaxis\":\"x\",\"y\":[1.5],\"yaxis\":\"y\",\"type\":\"scatter\"},{\"hovertemplate\":\"Country=Costa Rica\\u003cbr\\u003eEnergy Access=%{x}\\u003cbr\\u003eEmissions per Capita=%{y}\\u003cextra\\u003e\\u003c\\u002fextra\\u003e\",\"legendgroup\":\"Costa Rica\",\"marker\":{\"color\":\"#FFA15A\",\"symbol\":\"circle\"},\"mode\":\"markers\",\"name\":\"Costa Rica\",\"orientation\":\"v\",\"showlegend\":true,\"x\":[0.933],\"xaxis\":\"x\",\"y\":[1.5],\"yaxis\":\"y\",\"type\":\"scatter\"},{\"hovertemplate\":\"Country=Croatia\\u003cbr\\u003eEnergy Access=%{x}\\u003cbr\\u003eEmissions per Capita=%{y}\\u003cextra\\u003e\\u003c\\u002fextra\\u003e\",\"legendgroup\":\"Croatia\",\"marker\":{\"color\":\"#19d3f3\",\"symbol\":\"circle\"},\"mode\":\"markers\",\"name\":\"Croatia\",\"orientation\":\"v\",\"showlegend\":true,\"x\":[0.8],\"xaxis\":\"x\",\"y\":[3.8],\"yaxis\":\"y\",\"type\":\"scatter\"},{\"hovertemplate\":\"Country=Cuba\\u003cbr\\u003eEnergy Access=%{x}\\u003cbr\\u003eEmissions per Capita=%{y}\\u003cextra\\u003e\\u003c\\u002fextra\\u003e\",\"legendgroup\":\"Cuba\",\"marker\":{\"color\":\"#FF6692\",\"symbol\":\"circle\"},\"mode\":\"markers\",\"name\":\"Cuba\",\"orientation\":\"v\",\"showlegend\":true,\"x\":[0.6],\"xaxis\":\"x\",\"y\":[2.1],\"yaxis\":\"y\",\"type\":\"scatter\"},{\"hovertemplate\":\"Country=Cyprus\\u003cbr\\u003eEnergy Access=%{x}\\u003cbr\\u003eEmissions per Capita=%{y}\\u003cextra\\u003e\\u003c\\u002fextra\\u003e\",\"legendgroup\":\"Cyprus\",\"marker\":{\"color\":\"#B6E880\",\"symbol\":\"circle\"},\"mode\":\"markers\",\"name\":\"Cyprus\",\"orientation\":\"v\",\"showlegend\":true,\"x\":[0.8],\"xaxis\":\"x\",\"y\":[7.3],\"yaxis\":\"y\",\"type\":\"scatter\"},{\"hovertemplate\":\"Country=Czechia\\u003cbr\\u003eEnergy Access=%{x}\\u003cbr\\u003eEmissions per Capita=%{y}\\u003cextra\\u003e\\u003c\\u002fextra\\u003e\",\"legendgroup\":\"Czechia\",\"marker\":{\"color\":\"#FF97FF\",\"symbol\":\"circle\"},\"mode\":\"markers\",\"name\":\"Czechia\",\"orientation\":\"v\",\"showlegend\":true,\"x\":[0.8],\"xaxis\":\"x\",\"y\":[9.0],\"yaxis\":\"y\",\"type\":\"scatter\"},{\"hovertemplate\":\"Country=Denmark\\u003cbr\\u003eEnergy Access=%{x}\\u003cbr\\u003eEmissions per Capita=%{y}\\u003cextra\\u003e\\u003c\\u002fextra\\u003e\",\"legendgroup\":\"Denmark\",\"marker\":{\"color\":\"#FECB52\",\"symbol\":\"circle\"},\"mode\":\"markers\",\"name\":\"Denmark\",\"orientation\":\"v\",\"showlegend\":true,\"x\":[0.8],\"xaxis\":\"x\",\"y\":[4.9],\"yaxis\":\"y\",\"type\":\"scatter\"},{\"hovertemplate\":\"Country=Dominican Republic\\u003cbr\\u003eEnergy Access=%{x}\\u003cbr\\u003eEmissions per Capita=%{y}\\u003cextra\\u003e\\u003c\\u002fextra\\u003e\",\"legendgroup\":\"Dominican Republic\",\"marker\":{\"color\":\"#636efa\",\"symbol\":\"circle\"},\"mode\":\"markers\",\"name\":\"Dominican Republic\",\"orientation\":\"v\",\"showlegend\":true,\"x\":[0.933],\"xaxis\":\"x\",\"y\":[2.2],\"yaxis\":\"y\",\"type\":\"scatter\"},{\"hovertemplate\":\"Country=Ecuador\\u003cbr\\u003eEnergy Access=%{x}\\u003cbr\\u003eEmissions per Capita=%{y}\\u003cextra\\u003e\\u003c\\u002fextra\\u003e\",\"legendgroup\":\"Ecuador\",\"marker\":{\"color\":\"#EF553B\",\"symbol\":\"circle\"},\"mode\":\"markers\",\"name\":\"Ecuador\",\"orientation\":\"v\",\"showlegend\":true,\"x\":[0.933],\"xaxis\":\"x\",\"y\":[2.1],\"yaxis\":\"y\",\"type\":\"scatter\"},{\"hovertemplate\":\"Country=El Salvador\\u003cbr\\u003eEnergy Access=%{x}\\u003cbr\\u003eEmissions per Capita=%{y}\\u003cextra\\u003e\\u003c\\u002fextra\\u003e\",\"legendgroup\":\"El Salvador\",\"marker\":{\"color\":\"#00cc96\",\"symbol\":\"circle\"},\"mode\":\"markers\",\"name\":\"El Salvador\",\"orientation\":\"v\",\"showlegend\":true,\"x\":[0.933],\"xaxis\":\"x\",\"y\":[1.2],\"yaxis\":\"y\",\"type\":\"scatter\"},{\"hovertemplate\":\"Country=Equatorial Guinea\\u003cbr\\u003eEnergy Access=%{x}\\u003cbr\\u003eEmissions per Capita=%{y}\\u003cextra\\u003e\\u003c\\u002fextra\\u003e\",\"legendgroup\":\"Equatorial Guinea\",\"marker\":{\"color\":\"#ab63fa\",\"symbol\":\"circle\"},\"mode\":\"markers\",\"name\":\"Equatorial Guinea\",\"orientation\":\"v\",\"showlegend\":true,\"x\":[0.8],\"xaxis\":\"x\",\"y\":[3.2],\"yaxis\":\"y\",\"type\":\"scatter\"},{\"hovertemplate\":\"Country=Eritrea\\u003cbr\\u003eEnergy Access=%{x}\\u003cbr\\u003eEmissions per Capita=%{y}\\u003cextra\\u003e\\u003c\\u002fextra\\u003e\",\"legendgroup\":\"Eritrea\",\"marker\":{\"color\":\"#FFA15A\",\"symbol\":\"circle\"},\"mode\":\"markers\",\"name\":\"Eritrea\",\"orientation\":\"v\",\"showlegend\":true,\"x\":[0.8],\"xaxis\":\"x\",\"y\":[0.2],\"yaxis\":\"y\",\"type\":\"scatter\"},{\"hovertemplate\":\"Country=Estonia\\u003cbr\\u003eEnergy Access=%{x}\\u003cbr\\u003eEmissions per Capita=%{y}\\u003cextra\\u003e\\u003c\\u002fextra\\u003e\",\"legendgroup\":\"Estonia\",\"marker\":{\"color\":\"#19d3f3\",\"symbol\":\"circle\"},\"mode\":\"markers\",\"name\":\"Estonia\",\"orientation\":\"v\",\"showlegend\":true,\"x\":[0.8],\"xaxis\":\"x\",\"y\":[7.4],\"yaxis\":\"y\",\"type\":\"scatter\"},{\"hovertemplate\":\"Country=Eswatini\\u003cbr\\u003eEnergy Access=%{x}\\u003cbr\\u003eEmissions per Capita=%{y}\\u003cextra\\u003e\\u003c\\u002fextra\\u003e\",\"legendgroup\":\"Eswatini\",\"marker\":{\"color\":\"#FF6692\",\"symbol\":\"circle\"},\"mode\":\"markers\",\"name\":\"Eswatini\",\"orientation\":\"v\",\"showlegend\":true,\"x\":[0.8],\"xaxis\":\"x\",\"y\":[1.0],\"yaxis\":\"y\",\"type\":\"scatter\"},{\"hovertemplate\":\"Country=Ethiopia\\u003cbr\\u003eEnergy Access=%{x}\\u003cbr\\u003eEmissions per Capita=%{y}\\u003cextra\\u003e\\u003c\\u002fextra\\u003e\",\"legendgroup\":\"Ethiopia\",\"marker\":{\"color\":\"#B6E880\",\"symbol\":\"circle\"},\"mode\":\"markers\",\"name\":\"Ethiopia\",\"orientation\":\"v\",\"showlegend\":true,\"x\":[0.933],\"xaxis\":\"x\",\"y\":[0.1],\"yaxis\":\"y\",\"type\":\"scatter\"},{\"hovertemplate\":\"Country=Finland\\u003cbr\\u003eEnergy Access=%{x}\\u003cbr\\u003eEmissions per Capita=%{y}\\u003cextra\\u003e\\u003c\\u002fextra\\u003e\",\"legendgroup\":\"Finland\",\"marker\":{\"color\":\"#FF97FF\",\"symbol\":\"circle\"},\"mode\":\"markers\",\"name\":\"Finland\",\"orientation\":\"v\",\"showlegend\":true,\"x\":[0.8],\"xaxis\":\"x\",\"y\":[7.3],\"yaxis\":\"y\",\"type\":\"scatter\"},{\"hovertemplate\":\"Country=France\\u003cbr\\u003eEnergy Access=%{x}\\u003cbr\\u003eEmissions per Capita=%{y}\\u003cextra\\u003e\\u003c\\u002fextra\\u003e\",\"legendgroup\":\"France\",\"marker\":{\"color\":\"#FECB52\",\"symbol\":\"circle\"},\"mode\":\"markers\",\"name\":\"France\",\"orientation\":\"v\",\"showlegend\":true,\"x\":[0.8],\"xaxis\":\"x\",\"y\":[4.3],\"yaxis\":\"y\",\"type\":\"scatter\"},{\"hovertemplate\":\"Country=Gabon\\u003cbr\\u003eEnergy Access=%{x}\\u003cbr\\u003eEmissions per Capita=%{y}\\u003cextra\\u003e\\u003c\\u002fextra\\u003e\",\"legendgroup\":\"Gabon\",\"marker\":{\"color\":\"#636efa\",\"symbol\":\"circle\"},\"mode\":\"markers\",\"name\":\"Gabon\",\"orientation\":\"v\",\"showlegend\":true,\"x\":[0.8],\"xaxis\":\"x\",\"y\":[1.1],\"yaxis\":\"y\",\"type\":\"scatter\"},{\"hovertemplate\":\"Country=Georgia\\u003cbr\\u003eEnergy Access=%{x}\\u003cbr\\u003eEmissions per Capita=%{y}\\u003cextra\\u003e\\u003c\\u002fextra\\u003e\",\"legendgroup\":\"Georgia\",\"marker\":{\"color\":\"#EF553B\",\"symbol\":\"circle\"},\"mode\":\"markers\",\"name\":\"Georgia\",\"orientation\":\"v\",\"showlegend\":true,\"x\":[0.8],\"xaxis\":\"x\",\"y\":[2.6],\"yaxis\":\"y\",\"type\":\"scatter\"},{\"hovertemplate\":\"Country=Germany\\u003cbr\\u003eEnergy Access=%{x}\\u003cbr\\u003eEmissions per Capita=%{y}\\u003cextra\\u003e\\u003c\\u002fextra\\u003e\",\"legendgroup\":\"Germany\",\"marker\":{\"color\":\"#00cc96\",\"symbol\":\"circle\"},\"mode\":\"markers\",\"name\":\"Germany\",\"orientation\":\"v\",\"showlegend\":true,\"x\":[0.8],\"xaxis\":\"x\",\"y\":[7.8],\"yaxis\":\"y\",\"type\":\"scatter\"},{\"hovertemplate\":\"Country=Ghana\\u003cbr\\u003eEnergy Access=%{x}\\u003cbr\\u003eEmissions per Capita=%{y}\\u003cextra\\u003e\\u003c\\u002fextra\\u003e\",\"legendgroup\":\"Ghana\",\"marker\":{\"color\":\"#ab63fa\",\"symbol\":\"circle\"},\"mode\":\"markers\",\"name\":\"Ghana\",\"orientation\":\"v\",\"showlegend\":true,\"x\":[0.933],\"xaxis\":\"x\",\"y\":[0.6],\"yaxis\":\"y\",\"type\":\"scatter\"},{\"hovertemplate\":\"Country=Gibraltar\\u003cbr\\u003eEnergy Access=%{x}\\u003cbr\\u003eEmissions per Capita=%{y}\\u003cextra\\u003e\\u003c\\u002fextra\\u003e\",\"legendgroup\":\"Gibraltar\",\"marker\":{\"color\":\"#FFA15A\",\"symbol\":\"circle\"},\"mode\":\"markers\",\"name\":\"Gibraltar\",\"orientation\":\"v\",\"showlegend\":true,\"x\":[0.4],\"xaxis\":\"x\",\"y\":[21.1],\"yaxis\":\"y\",\"type\":\"scatter\"},{\"hovertemplate\":\"Country=Greece\\u003cbr\\u003eEnergy Access=%{x}\\u003cbr\\u003eEmissions per Capita=%{y}\\u003cextra\\u003e\\u003c\\u002fextra\\u003e\",\"legendgroup\":\"Greece\",\"marker\":{\"color\":\"#19d3f3\",\"symbol\":\"circle\"},\"mode\":\"markers\",\"name\":\"Greece\",\"orientation\":\"v\",\"showlegend\":true,\"x\":[0.8],\"xaxis\":\"x\",\"y\":[5.3],\"yaxis\":\"y\",\"type\":\"scatter\"},{\"hovertemplate\":\"Country=Guatemala\\u003cbr\\u003eEnergy Access=%{x}\\u003cbr\\u003eEmissions per Capita=%{y}\\u003cextra\\u003e\\u003c\\u002fextra\\u003e\",\"legendgroup\":\"Guatemala\",\"marker\":{\"color\":\"#FF6692\",\"symbol\":\"circle\"},\"mode\":\"markers\",\"name\":\"Guatemala\",\"orientation\":\"v\",\"showlegend\":true,\"x\":[0.8],\"xaxis\":\"x\",\"y\":[1.1],\"yaxis\":\"y\",\"type\":\"scatter\"},{\"hovertemplate\":\"Country=Guyana\\u003cbr\\u003eEnergy Access=%{x}\\u003cbr\\u003eEmissions per Capita=%{y}\\u003cextra\\u003e\\u003c\\u002fextra\\u003e\",\"legendgroup\":\"Guyana\",\"marker\":{\"color\":\"#B6E880\",\"symbol\":\"circle\"},\"mode\":\"markers\",\"name\":\"Guyana\",\"orientation\":\"v\",\"showlegend\":true,\"x\":[0.8],\"xaxis\":\"x\",\"y\":[3.4],\"yaxis\":\"y\",\"type\":\"scatter\"},{\"hovertemplate\":\"Country=Haiti\\u003cbr\\u003eEnergy Access=%{x}\\u003cbr\\u003eEmissions per Capita=%{y}\\u003cextra\\u003e\\u003c\\u002fextra\\u003e\",\"legendgroup\":\"Haiti\",\"marker\":{\"color\":\"#FF97FF\",\"symbol\":\"circle\"},\"mode\":\"markers\",\"name\":\"Haiti\",\"orientation\":\"v\",\"showlegend\":true,\"x\":[0.933],\"xaxis\":\"x\",\"y\":[0.3],\"yaxis\":\"y\",\"type\":\"scatter\"},{\"hovertemplate\":\"Country=Honduras\\u003cbr\\u003eEnergy Access=%{x}\\u003cbr\\u003eEmissions per Capita=%{y}\\u003cextra\\u003e\\u003c\\u002fextra\\u003e\",\"legendgroup\":\"Honduras\",\"marker\":{\"color\":\"#FECB52\",\"symbol\":\"circle\"},\"mode\":\"markers\",\"name\":\"Honduras\",\"orientation\":\"v\",\"showlegend\":true,\"x\":[0.933],\"xaxis\":\"x\",\"y\":[1.0],\"yaxis\":\"y\",\"type\":\"scatter\"},{\"hovertemplate\":\"Country=Hungary\\u003cbr\\u003eEnergy Access=%{x}\\u003cbr\\u003eEmissions per Capita=%{y}\\u003cextra\\u003e\\u003c\\u002fextra\\u003e\",\"legendgroup\":\"Hungary\",\"marker\":{\"color\":\"#636efa\",\"symbol\":\"circle\"},\"mode\":\"markers\",\"name\":\"Hungary\",\"orientation\":\"v\",\"showlegend\":true,\"x\":[0.8],\"xaxis\":\"x\",\"y\":[4.7],\"yaxis\":\"y\",\"type\":\"scatter\"},{\"hovertemplate\":\"Country=Iceland\\u003cbr\\u003eEnergy Access=%{x}\\u003cbr\\u003eEmissions per Capita=%{y}\\u003cextra\\u003e\\u003c\\u002fextra\\u003e\",\"legendgroup\":\"Iceland\",\"marker\":{\"color\":\"#EF553B\",\"symbol\":\"circle\"},\"mode\":\"markers\",\"name\":\"Iceland\",\"orientation\":\"v\",\"showlegend\":true,\"x\":[0.8],\"xaxis\":\"x\",\"y\":[4.5],\"yaxis\":\"y\",\"type\":\"scatter\"},{\"hovertemplate\":\"Country=India\\u003cbr\\u003eEnergy Access=%{x}\\u003cbr\\u003eEmissions per Capita=%{y}\\u003cextra\\u003e\\u003c\\u002fextra\\u003e\",\"legendgroup\":\"India\",\"marker\":{\"color\":\"#00cc96\",\"symbol\":\"circle\"},\"mode\":\"markers\",\"name\":\"India\",\"orientation\":\"v\",\"showlegend\":true,\"x\":[0.933],\"xaxis\":\"x\",\"y\":[1.7],\"yaxis\":\"y\",\"type\":\"scatter\"},{\"hovertemplate\":\"Country=Indonesia\\u003cbr\\u003eEnergy Access=%{x}\\u003cbr\\u003eEmissions per Capita=%{y}\\u003cextra\\u003e\\u003c\\u002fextra\\u003e\",\"legendgroup\":\"Indonesia\",\"marker\":{\"color\":\"#ab63fa\",\"symbol\":\"circle\"},\"mode\":\"markers\",\"name\":\"Indonesia\",\"orientation\":\"v\",\"showlegend\":true,\"x\":[0.933],\"xaxis\":\"x\",\"y\":[2.1],\"yaxis\":\"y\",\"type\":\"scatter\"},{\"hovertemplate\":\"Country=Iraq\\u003cbr\\u003eEnergy Access=%{x}\\u003cbr\\u003eEmissions per Capita=%{y}\\u003cextra\\u003e\\u003c\\u002fextra\\u003e\",\"legendgroup\":\"Iraq\",\"marker\":{\"color\":\"#FFA15A\",\"symbol\":\"circle\"},\"mode\":\"markers\",\"name\":\"Iraq\",\"orientation\":\"v\",\"showlegend\":true,\"x\":[0.8],\"xaxis\":\"x\",\"y\":[3.5],\"yaxis\":\"y\",\"type\":\"scatter\"},{\"hovertemplate\":\"Country=Ireland\\u003cbr\\u003eEnergy Access=%{x}\\u003cbr\\u003eEmissions per Capita=%{y}\\u003cextra\\u003e\\u003c\\u002fextra\\u003e\",\"legendgroup\":\"Ireland\",\"marker\":{\"color\":\"#19d3f3\",\"symbol\":\"circle\"},\"mode\":\"markers\",\"name\":\"Ireland\",\"orientation\":\"v\",\"showlegend\":true,\"x\":[0.8],\"xaxis\":\"x\",\"y\":[6.9],\"yaxis\":\"y\",\"type\":\"scatter\"},{\"hovertemplate\":\"Country=Israel\\u003cbr\\u003eEnergy Access=%{x}\\u003cbr\\u003eEmissions per Capita=%{y}\\u003cextra\\u003e\\u003c\\u002fextra\\u003e\",\"legendgroup\":\"Israel\",\"marker\":{\"color\":\"#FF6692\",\"symbol\":\"circle\"},\"mode\":\"markers\",\"name\":\"Israel\",\"orientation\":\"v\",\"showlegend\":true,\"x\":[0.8],\"xaxis\":\"x\",\"y\":[6.8],\"yaxis\":\"y\",\"type\":\"scatter\"},{\"hovertemplate\":\"Country=Italy\\u003cbr\\u003eEnergy Access=%{x}\\u003cbr\\u003eEmissions per Capita=%{y}\\u003cextra\\u003e\\u003c\\u002fextra\\u003e\",\"legendgroup\":\"Italy\",\"marker\":{\"color\":\"#B6E880\",\"symbol\":\"circle\"},\"mode\":\"markers\",\"name\":\"Italy\",\"orientation\":\"v\",\"showlegend\":true,\"x\":[0.8],\"xaxis\":\"x\",\"y\":[5.2],\"yaxis\":\"y\",\"type\":\"scatter\"},{\"hovertemplate\":\"Country=Jamaica\\u003cbr\\u003eEnergy Access=%{x}\\u003cbr\\u003eEmissions per Capita=%{y}\\u003cextra\\u003e\\u003c\\u002fextra\\u003e\",\"legendgroup\":\"Jamaica\",\"marker\":{\"color\":\"#FF97FF\",\"symbol\":\"circle\"},\"mode\":\"markers\",\"name\":\"Jamaica\",\"orientation\":\"v\",\"showlegend\":true,\"x\":[0.8],\"xaxis\":\"x\",\"y\":[2.7],\"yaxis\":\"y\",\"type\":\"scatter\"},{\"hovertemplate\":\"Country=Japan\\u003cbr\\u003eEnergy Access=%{x}\\u003cbr\\u003eEmissions per Capita=%{y}\\u003cextra\\u003e\\u003c\\u002fextra\\u003e\",\"legendgroup\":\"Japan\",\"marker\":{\"color\":\"#FECB52\",\"symbol\":\"circle\"},\"mode\":\"markers\",\"name\":\"Japan\",\"orientation\":\"v\",\"showlegend\":true,\"x\":[0.8],\"xaxis\":\"x\",\"y\":[8.3],\"yaxis\":\"y\",\"type\":\"scatter\"},{\"hovertemplate\":\"Country=Jordan\\u003cbr\\u003eEnergy Access=%{x}\\u003cbr\\u003eEmissions per Capita=%{y}\\u003cextra\\u003e\\u003c\\u002fextra\\u003e\",\"legendgroup\":\"Jordan\",\"marker\":{\"color\":\"#636efa\",\"symbol\":\"circle\"},\"mode\":\"markers\",\"name\":\"Jordan\",\"orientation\":\"v\",\"showlegend\":true,\"x\":[0.8],\"xaxis\":\"x\",\"y\":[2.2],\"yaxis\":\"y\",\"type\":\"scatter\"},{\"hovertemplate\":\"Country=Kazakhstan\\u003cbr\\u003eEnergy Access=%{x}\\u003cbr\\u003eEmissions per Capita=%{y}\\u003cextra\\u003e\\u003c\\u002fextra\\u003e\",\"legendgroup\":\"Kazakhstan\",\"marker\":{\"color\":\"#EF553B\",\"symbol\":\"circle\"},\"mode\":\"markers\",\"name\":\"Kazakhstan\",\"orientation\":\"v\",\"showlegend\":true,\"x\":[0.933],\"xaxis\":\"x\",\"y\":[10.7],\"yaxis\":\"y\",\"type\":\"scatter\"},{\"hovertemplate\":\"Country=Kenya\\u003cbr\\u003eEnergy Access=%{x}\\u003cbr\\u003eEmissions per Capita=%{y}\\u003cextra\\u003e\\u003c\\u002fextra\\u003e\",\"legendgroup\":\"Kenya\",\"marker\":{\"color\":\"#00cc96\",\"symbol\":\"circle\"},\"mode\":\"markers\",\"name\":\"Kenya\",\"orientation\":\"v\",\"showlegend\":true,\"x\":[0.933],\"xaxis\":\"x\",\"y\":[0.3],\"yaxis\":\"y\",\"type\":\"scatter\"},{\"hovertemplate\":\"Country=Kuwait\\u003cbr\\u003eEnergy Access=%{x}\\u003cbr\\u003eEmissions per Capita=%{y}\\u003cextra\\u003e\\u003c\\u002fextra\\u003e\",\"legendgroup\":\"Kuwait\",\"marker\":{\"color\":\"#ab63fa\",\"symbol\":\"circle\"},\"mode\":\"markers\",\"name\":\"Kuwait\",\"orientation\":\"v\",\"showlegend\":true,\"x\":[1.0],\"xaxis\":\"x\",\"y\":[21.6],\"yaxis\":\"y\",\"type\":\"scatter\"},{\"hovertemplate\":\"Country=Latvia\\u003cbr\\u003eEnergy Access=%{x}\\u003cbr\\u003eEmissions per Capita=%{y}\\u003cextra\\u003e\\u003c\\u002fextra\\u003e\",\"legendgroup\":\"Latvia\",\"marker\":{\"color\":\"#FFA15A\",\"symbol\":\"circle\"},\"mode\":\"markers\",\"name\":\"Latvia\",\"orientation\":\"v\",\"showlegend\":true,\"x\":[0.8],\"xaxis\":\"x\",\"y\":[3.7],\"yaxis\":\"y\",\"type\":\"scatter\"},{\"hovertemplate\":\"Country=Lebanon\\u003cbr\\u003eEnergy Access=%{x}\\u003cbr\\u003eEmissions per Capita=%{y}\\u003cextra\\u003e\\u003c\\u002fextra\\u003e\",\"legendgroup\":\"Lebanon\",\"marker\":{\"color\":\"#19d3f3\",\"symbol\":\"circle\"},\"mode\":\"markers\",\"name\":\"Lebanon\",\"orientation\":\"v\",\"showlegend\":true,\"x\":[0.6],\"xaxis\":\"x\",\"y\":[3.7],\"yaxis\":\"y\",\"type\":\"scatter\"},{\"hovertemplate\":\"Country=Libya\\u003cbr\\u003eEnergy Access=%{x}\\u003cbr\\u003eEmissions per Capita=%{y}\\u003cextra\\u003e\\u003c\\u002fextra\\u003e\",\"legendgroup\":\"Libya\",\"marker\":{\"color\":\"#FF6692\",\"symbol\":\"circle\"},\"mode\":\"markers\",\"name\":\"Libya\",\"orientation\":\"v\",\"showlegend\":true,\"x\":[0.6],\"xaxis\":\"x\",\"y\":[6.6],\"yaxis\":\"y\",\"type\":\"scatter\"},{\"hovertemplate\":\"Country=Lithuania\\u003cbr\\u003eEnergy Access=%{x}\\u003cbr\\u003eEmissions per Capita=%{y}\\u003cextra\\u003e\\u003c\\u002fextra\\u003e\",\"legendgroup\":\"Lithuania\",\"marker\":{\"color\":\"#B6E880\",\"symbol\":\"circle\"},\"mode\":\"markers\",\"name\":\"Lithuania\",\"orientation\":\"v\",\"showlegend\":true,\"x\":[0.8],\"xaxis\":\"x\",\"y\":[4.0],\"yaxis\":\"y\",\"type\":\"scatter\"},{\"hovertemplate\":\"Country=Luxembourg\\u003cbr\\u003eEnergy Access=%{x}\\u003cbr\\u003eEmissions per Capita=%{y}\\u003cextra\\u003e\\u003c\\u002fextra\\u003e\",\"legendgroup\":\"Luxembourg\",\"marker\":{\"color\":\"#FF97FF\",\"symbol\":\"circle\"},\"mode\":\"markers\",\"name\":\"Luxembourg\",\"orientation\":\"v\",\"showlegend\":true,\"x\":[0.8],\"xaxis\":\"x\",\"y\":[14.6],\"yaxis\":\"y\",\"type\":\"scatter\"},{\"hovertemplate\":\"Country=Madagascar\\u003cbr\\u003eEnergy Access=%{x}\\u003cbr\\u003eEmissions per Capita=%{y}\\u003cextra\\u003e\\u003c\\u002fextra\\u003e\",\"legendgroup\":\"Madagascar\",\"marker\":{\"color\":\"#FECB52\",\"symbol\":\"circle\"},\"mode\":\"markers\",\"name\":\"Madagascar\",\"orientation\":\"v\",\"showlegend\":true,\"x\":[0.933],\"xaxis\":\"x\",\"y\":[0.1],\"yaxis\":\"y\",\"type\":\"scatter\"},{\"hovertemplate\":\"Country=Malaysia\\u003cbr\\u003eEnergy Access=%{x}\\u003cbr\\u003eEmissions per Capita=%{y}\\u003cextra\\u003e\\u003c\\u002fextra\\u003e\",\"legendgroup\":\"Malaysia\",\"marker\":{\"color\":\"#636efa\",\"symbol\":\"circle\"},\"mode\":\"markers\",\"name\":\"Malaysia\",\"orientation\":\"v\",\"showlegend\":true,\"x\":[0.8],\"xaxis\":\"x\",\"y\":[7.2],\"yaxis\":\"y\",\"type\":\"scatter\"},{\"hovertemplate\":\"Country=Malta\\u003cbr\\u003eEnergy Access=%{x}\\u003cbr\\u003eEmissions per Capita=%{y}\\u003cextra\\u003e\\u003c\\u002fextra\\u003e\",\"legendgroup\":\"Malta\",\"marker\":{\"color\":\"#EF553B\",\"symbol\":\"circle\"},\"mode\":\"markers\",\"name\":\"Malta\",\"orientation\":\"v\",\"showlegend\":true,\"x\":[0.6],\"xaxis\":\"x\",\"y\":[3.3],\"yaxis\":\"y\",\"type\":\"scatter\"},{\"hovertemplate\":\"Country=Mauritius\\u003cbr\\u003eEnergy Access=%{x}\\u003cbr\\u003eEmissions per Capita=%{y}\\u003cextra\\u003e\\u003c\\u002fextra\\u003e\",\"legendgroup\":\"Mauritius\",\"marker\":{\"color\":\"#00cc96\",\"symbol\":\"circle\"},\"mode\":\"markers\",\"name\":\"Mauritius\",\"orientation\":\"v\",\"showlegend\":true,\"x\":[0.8],\"xaxis\":\"x\",\"y\":[3.3],\"yaxis\":\"y\",\"type\":\"scatter\"},{\"hovertemplate\":\"Country=Mexico\\u003cbr\\u003eEnergy Access=%{x}\\u003cbr\\u003eEmissions per Capita=%{y}\\u003cextra\\u003e\\u003c\\u002fextra\\u003e\",\"legendgroup\":\"Mexico\",\"marker\":{\"color\":\"#ab63fa\",\"symbol\":\"circle\"},\"mode\":\"markers\",\"name\":\"Mexico\",\"orientation\":\"v\",\"showlegend\":true,\"x\":[1.0],\"xaxis\":\"x\",\"y\":[3.4],\"yaxis\":\"y\",\"type\":\"scatter\"},{\"hovertemplate\":\"Country=Mongolia\\u003cbr\\u003eEnergy Access=%{x}\\u003cbr\\u003eEmissions per Capita=%{y}\\u003cextra\\u003e\\u003c\\u002fextra\\u003e\",\"legendgroup\":\"Mongolia\",\"marker\":{\"color\":\"#FFA15A\",\"symbol\":\"circle\"},\"mode\":\"markers\",\"name\":\"Mongolia\",\"orientation\":\"v\",\"showlegend\":true,\"x\":[0.8],\"xaxis\":\"x\",\"y\":[7.0],\"yaxis\":\"y\",\"type\":\"scatter\"},{\"hovertemplate\":\"Country=Montenegro\\u003cbr\\u003eEnergy Access=%{x}\\u003cbr\\u003eEmissions per Capita=%{y}\\u003cextra\\u003e\\u003c\\u002fextra\\u003e\",\"legendgroup\":\"Montenegro\",\"marker\":{\"color\":\"#19d3f3\",\"symbol\":\"circle\"},\"mode\":\"markers\",\"name\":\"Montenegro\",\"orientation\":\"v\",\"showlegend\":true,\"x\":[0.6],\"xaxis\":\"x\",\"y\":[4.2],\"yaxis\":\"y\",\"type\":\"scatter\"},{\"hovertemplate\":\"Country=Morocco\\u003cbr\\u003eEnergy Access=%{x}\\u003cbr\\u003eEmissions per Capita=%{y}\\u003cextra\\u003e\\u003c\\u002fextra\\u003e\",\"legendgroup\":\"Morocco\",\"marker\":{\"color\":\"#FF6692\",\"symbol\":\"circle\"},\"mode\":\"markers\",\"name\":\"Morocco\",\"orientation\":\"v\",\"showlegend\":true,\"x\":[0.8],\"xaxis\":\"x\",\"y\":[1.8],\"yaxis\":\"y\",\"type\":\"scatter\"},{\"hovertemplate\":\"Country=Mozambique\\u003cbr\\u003eEnergy Access=%{x}\\u003cbr\\u003eEmissions per Capita=%{y}\\u003cextra\\u003e\\u003c\\u002fextra\\u003e\",\"legendgroup\":\"Mozambique\",\"marker\":{\"color\":\"#B6E880\",\"symbol\":\"circle\"},\"mode\":\"markers\",\"name\":\"Mozambique\",\"orientation\":\"v\",\"showlegend\":true,\"x\":[0.8],\"xaxis\":\"x\",\"y\":[0.2],\"yaxis\":\"y\",\"type\":\"scatter\"},{\"hovertemplate\":\"Country=Myanmar\\u003cbr\\u003eEnergy Access=%{x}\\u003cbr\\u003eEmissions per Capita=%{y}\\u003cextra\\u003e\\u003c\\u002fextra\\u003e\",\"legendgroup\":\"Myanmar\",\"marker\":{\"color\":\"#FF97FF\",\"symbol\":\"circle\"},\"mode\":\"markers\",\"name\":\"Myanmar\",\"orientation\":\"v\",\"showlegend\":true,\"x\":[0.8],\"xaxis\":\"x\",\"y\":[0.6],\"yaxis\":\"y\",\"type\":\"scatter\"},{\"hovertemplate\":\"Country=Namibia\\u003cbr\\u003eEnergy Access=%{x}\\u003cbr\\u003eEmissions per Capita=%{y}\\u003cextra\\u003e\\u003c\\u002fextra\\u003e\",\"legendgroup\":\"Namibia\",\"marker\":{\"color\":\"#FECB52\",\"symbol\":\"circle\"},\"mode\":\"markers\",\"name\":\"Namibia\",\"orientation\":\"v\",\"showlegend\":true,\"x\":[0.8],\"xaxis\":\"x\",\"y\":[1.5],\"yaxis\":\"y\",\"type\":\"scatter\"},{\"hovertemplate\":\"Country=Nepal\\u003cbr\\u003eEnergy Access=%{x}\\u003cbr\\u003eEmissions per Capita=%{y}\\u003cextra\\u003e\\u003c\\u002fextra\\u003e\",\"legendgroup\":\"Nepal\",\"marker\":{\"color\":\"#636efa\",\"symbol\":\"circle\"},\"mode\":\"markers\",\"name\":\"Nepal\",\"orientation\":\"v\",\"showlegend\":true,\"x\":[0.8],\"xaxis\":\"x\",\"y\":[0.4],\"yaxis\":\"y\",\"type\":\"scatter\"},{\"hovertemplate\":\"Country=New Zealand\\u003cbr\\u003eEnergy Access=%{x}\\u003cbr\\u003eEmissions per Capita=%{y}\\u003cextra\\u003e\\u003c\\u002fextra\\u003e\",\"legendgroup\":\"New Zealand\",\"marker\":{\"color\":\"#EF553B\",\"symbol\":\"circle\"},\"mode\":\"markers\",\"name\":\"New Zealand\",\"orientation\":\"v\",\"showlegend\":true,\"x\":[0.8],\"xaxis\":\"x\",\"y\":[6.7],\"yaxis\":\"y\",\"type\":\"scatter\"},{\"hovertemplate\":\"Country=Nicaragua\\u003cbr\\u003eEnergy Access=%{x}\\u003cbr\\u003eEmissions per Capita=%{y}\\u003cextra\\u003e\\u003c\\u002fextra\\u003e\",\"legendgroup\":\"Nicaragua\",\"marker\":{\"color\":\"#00cc96\",\"symbol\":\"circle\"},\"mode\":\"markers\",\"name\":\"Nicaragua\",\"orientation\":\"v\",\"showlegend\":true,\"x\":[0.8],\"xaxis\":\"x\",\"y\":[0.8],\"yaxis\":\"y\",\"type\":\"scatter\"},{\"hovertemplate\":\"Country=Niger\\u003cbr\\u003eEnergy Access=%{x}\\u003cbr\\u003eEmissions per Capita=%{y}\\u003cextra\\u003e\\u003c\\u002fextra\\u003e\",\"legendgroup\":\"Niger\",\"marker\":{\"color\":\"#ab63fa\",\"symbol\":\"circle\"},\"mode\":\"markers\",\"name\":\"Niger\",\"orientation\":\"v\",\"showlegend\":true,\"x\":[0.8],\"xaxis\":\"x\",\"y\":[0.1],\"yaxis\":\"y\",\"type\":\"scatter\"},{\"hovertemplate\":\"Country=Nigeria\\u003cbr\\u003eEnergy Access=%{x}\\u003cbr\\u003eEmissions per Capita=%{y}\\u003cextra\\u003e\\u003c\\u002fextra\\u003e\",\"legendgroup\":\"Nigeria\",\"marker\":{\"color\":\"#FFA15A\",\"symbol\":\"circle\"},\"mode\":\"markers\",\"name\":\"Nigeria\",\"orientation\":\"v\",\"showlegend\":true,\"x\":[0.8],\"xaxis\":\"x\",\"y\":[0.5],\"yaxis\":\"y\",\"type\":\"scatter\"},{\"hovertemplate\":\"Country=North Macedonia\\u003cbr\\u003eEnergy Access=%{x}\\u003cbr\\u003eEmissions per Capita=%{y}\\u003cextra\\u003e\\u003c\\u002fextra\\u003e\",\"legendgroup\":\"North Macedonia\",\"marker\":{\"color\":\"#19d3f3\",\"symbol\":\"circle\"},\"mode\":\"markers\",\"name\":\"North Macedonia\",\"orientation\":\"v\",\"showlegend\":true,\"x\":[0.6],\"xaxis\":\"x\",\"y\":[3.8],\"yaxis\":\"y\",\"type\":\"scatter\"},{\"hovertemplate\":\"Country=Norway\\u003cbr\\u003eEnergy Access=%{x}\\u003cbr\\u003eEmissions per Capita=%{y}\\u003cextra\\u003e\\u003c\\u002fextra\\u003e\",\"legendgroup\":\"Norway\",\"marker\":{\"color\":\"#FF6692\",\"symbol\":\"circle\"},\"mode\":\"markers\",\"name\":\"Norway\",\"orientation\":\"v\",\"showlegend\":true,\"x\":[0.8],\"xaxis\":\"x\",\"y\":[6.8],\"yaxis\":\"y\",\"type\":\"scatter\"},{\"hovertemplate\":\"Country=Oman\\u003cbr\\u003eEnergy Access=%{x}\\u003cbr\\u003eEmissions per Capita=%{y}\\u003cextra\\u003e\\u003c\\u002fextra\\u003e\",\"legendgroup\":\"Oman\",\"marker\":{\"color\":\"#B6E880\",\"symbol\":\"circle\"},\"mode\":\"markers\",\"name\":\"Oman\",\"orientation\":\"v\",\"showlegend\":true,\"x\":[0.8],\"xaxis\":\"x\",\"y\":[13.8],\"yaxis\":\"y\",\"type\":\"scatter\"},{\"hovertemplate\":\"Country=Pakistan\\u003cbr\\u003eEnergy Access=%{x}\\u003cbr\\u003eEmissions per Capita=%{y}\\u003cextra\\u003e\\u003c\\u002fextra\\u003e\",\"legendgroup\":\"Pakistan\",\"marker\":{\"color\":\"#FF97FF\",\"symbol\":\"circle\"},\"mode\":\"markers\",\"name\":\"Pakistan\",\"orientation\":\"v\",\"showlegend\":true,\"x\":[0.8],\"xaxis\":\"x\",\"y\":[0.8],\"yaxis\":\"y\",\"type\":\"scatter\"},{\"hovertemplate\":\"Country=Panama\\u003cbr\\u003eEnergy Access=%{x}\\u003cbr\\u003eEmissions per Capita=%{y}\\u003cextra\\u003e\\u003c\\u002fextra\\u003e\",\"legendgroup\":\"Panama\",\"marker\":{\"color\":\"#FECB52\",\"symbol\":\"circle\"},\"mode\":\"markers\",\"name\":\"Panama\",\"orientation\":\"v\",\"showlegend\":true,\"x\":[0.8],\"xaxis\":\"x\",\"y\":[3.0],\"yaxis\":\"y\",\"type\":\"scatter\"},{\"hovertemplate\":\"Country=Paraguay\\u003cbr\\u003eEnergy Access=%{x}\\u003cbr\\u003eEmissions per Capita=%{y}\\u003cextra\\u003e\\u003c\\u002fextra\\u003e\",\"legendgroup\":\"Paraguay\",\"marker\":{\"color\":\"#636efa\",\"symbol\":\"circle\"},\"mode\":\"markers\",\"name\":\"Paraguay\",\"orientation\":\"v\",\"showlegend\":true,\"x\":[0.8],\"xaxis\":\"x\",\"y\":[1.1],\"yaxis\":\"y\",\"type\":\"scatter\"},{\"hovertemplate\":\"Country=Peru\\u003cbr\\u003eEnergy Access=%{x}\\u003cbr\\u003eEmissions per Capita=%{y}\\u003cextra\\u003e\\u003c\\u002fextra\\u003e\",\"legendgroup\":\"Peru\",\"marker\":{\"color\":\"#EF553B\",\"symbol\":\"circle\"},\"mode\":\"markers\",\"name\":\"Peru\",\"orientation\":\"v\",\"showlegend\":true,\"x\":[0.8],\"xaxis\":\"x\",\"y\":[1.6],\"yaxis\":\"y\",\"type\":\"scatter\"},{\"hovertemplate\":\"Country=Philippines\\u003cbr\\u003eEnergy Access=%{x}\\u003cbr\\u003eEmissions per Capita=%{y}\\u003cextra\\u003e\\u003c\\u002fextra\\u003e\",\"legendgroup\":\"Philippines\",\"marker\":{\"color\":\"#00cc96\",\"symbol\":\"circle\"},\"mode\":\"markers\",\"name\":\"Philippines\",\"orientation\":\"v\",\"showlegend\":true,\"x\":[0.8],\"xaxis\":\"x\",\"y\":[1.3],\"yaxis\":\"y\",\"type\":\"scatter\"},{\"hovertemplate\":\"Country=Poland\\u003cbr\\u003eEnergy Access=%{x}\\u003cbr\\u003eEmissions per Capita=%{y}\\u003cextra\\u003e\\u003c\\u002fextra\\u003e\",\"legendgroup\":\"Poland\",\"marker\":{\"color\":\"#ab63fa\",\"symbol\":\"circle\"},\"mode\":\"markers\",\"name\":\"Poland\",\"orientation\":\"v\",\"showlegend\":true,\"x\":[0.8],\"xaxis\":\"x\",\"y\":[7.5],\"yaxis\":\"y\",\"type\":\"scatter\"},{\"hovertemplate\":\"Country=Portugal\\u003cbr\\u003eEnergy Access=%{x}\\u003cbr\\u003eEmissions per Capita=%{y}\\u003cextra\\u003e\\u003c\\u002fextra\\u003e\",\"legendgroup\":\"Portugal\",\"marker\":{\"color\":\"#FFA15A\",\"symbol\":\"circle\"},\"mode\":\"markers\",\"name\":\"Portugal\",\"orientation\":\"v\",\"showlegend\":true,\"x\":[0.8],\"xaxis\":\"x\",\"y\":[4.1],\"yaxis\":\"y\",\"type\":\"scatter\"},{\"hovertemplate\":\"Country=Qatar\\u003cbr\\u003eEnergy Access=%{x}\\u003cbr\\u003eEmissions per Capita=%{y}\\u003cextra\\u003e\\u003c\\u002fextra\\u003e\",\"legendgroup\":\"Qatar\",\"marker\":{\"color\":\"#19d3f3\",\"symbol\":\"circle\"},\"mode\":\"markers\",\"name\":\"Qatar\",\"orientation\":\"v\",\"showlegend\":true,\"x\":[0.8],\"xaxis\":\"x\",\"y\":[30.1],\"yaxis\":\"y\",\"type\":\"scatter\"},{\"hovertemplate\":\"Country=Romania\\u003cbr\\u003eEnergy Access=%{x}\\u003cbr\\u003eEmissions per Capita=%{y}\\u003cextra\\u003e\\u003c\\u002fextra\\u003e\",\"legendgroup\":\"Romania\",\"marker\":{\"color\":\"#FF6692\",\"symbol\":\"circle\"},\"mode\":\"markers\",\"name\":\"Romania\",\"orientation\":\"v\",\"showlegend\":true,\"x\":[0.6],\"xaxis\":\"x\",\"y\":[3.6],\"yaxis\":\"y\",\"type\":\"scatter\"},{\"hovertemplate\":\"Country=Russian Federation\\u003cbr\\u003eEnergy Access=%{x}\\u003cbr\\u003eEmissions per Capita=%{y}\\u003cextra\\u003e\\u003c\\u002fextra\\u003e\",\"legendgroup\":\"Russian Federation\",\"marker\":{\"color\":\"#B6E880\",\"symbol\":\"circle\"},\"mode\":\"markers\",\"name\":\"Russian Federation\",\"orientation\":\"v\",\"showlegend\":true,\"x\":[0.6],\"xaxis\":\"x\",\"y\":[11.4],\"yaxis\":\"y\",\"type\":\"scatter\"},{\"hovertemplate\":\"Country=Rwanda\\u003cbr\\u003eEnergy Access=%{x}\\u003cbr\\u003eEmissions per Capita=%{y}\\u003cextra\\u003e\\u003c\\u002fextra\\u003e\",\"legendgroup\":\"Rwanda\",\"marker\":{\"color\":\"#FF97FF\",\"symbol\":\"circle\"},\"mode\":\"markers\",\"name\":\"Rwanda\",\"orientation\":\"v\",\"showlegend\":true,\"x\":[0.8],\"xaxis\":\"x\",\"y\":[0.1],\"yaxis\":\"y\",\"type\":\"scatter\"},{\"hovertemplate\":\"Country=Saudi Arabia\\u003cbr\\u003eEnergy Access=%{x}\\u003cbr\\u003eEmissions per Capita=%{y}\\u003cextra\\u003e\\u003c\\u002fextra\\u003e\",\"legendgroup\":\"Saudi Arabia\",\"marker\":{\"color\":\"#FECB52\",\"symbol\":\"circle\"},\"mode\":\"markers\",\"name\":\"Saudi Arabia\",\"orientation\":\"v\",\"showlegend\":true,\"x\":[0.8],\"xaxis\":\"x\",\"y\":[14.5],\"yaxis\":\"y\",\"type\":\"scatter\"},{\"hovertemplate\":\"Country=Senegal\\u003cbr\\u003eEnergy Access=%{x}\\u003cbr\\u003eEmissions per Capita=%{y}\\u003cextra\\u003e\\u003c\\u002fextra\\u003e\",\"legendgroup\":\"Senegal\",\"marker\":{\"color\":\"#636efa\",\"symbol\":\"circle\"},\"mode\":\"markers\",\"name\":\"Senegal\",\"orientation\":\"v\",\"showlegend\":true,\"x\":[0.8],\"xaxis\":\"x\",\"y\":[0.6],\"yaxis\":\"y\",\"type\":\"scatter\"},{\"hovertemplate\":\"Country=Serbia\\u003cbr\\u003eEnergy Access=%{x}\\u003cbr\\u003eEmissions per Capita=%{y}\\u003cextra\\u003e\\u003c\\u002fextra\\u003e\",\"legendgroup\":\"Serbia\",\"marker\":{\"color\":\"#EF553B\",\"symbol\":\"circle\"},\"mode\":\"markers\",\"name\":\"Serbia\",\"orientation\":\"v\",\"showlegend\":true,\"x\":[0.6],\"xaxis\":\"x\",\"y\":[6.5],\"yaxis\":\"y\",\"type\":\"scatter\"},{\"hovertemplate\":\"Country=Singapore\\u003cbr\\u003eEnergy Access=%{x}\\u003cbr\\u003eEmissions per Capita=%{y}\\u003cextra\\u003e\\u003c\\u002fextra\\u003e\",\"legendgroup\":\"Singapore\",\"marker\":{\"color\":\"#00cc96\",\"symbol\":\"circle\"},\"mode\":\"markers\",\"name\":\"Singapore\",\"orientation\":\"v\",\"showlegend\":true,\"x\":[0.8],\"xaxis\":\"x\",\"y\":[7.9],\"yaxis\":\"y\",\"type\":\"scatter\"},{\"hovertemplate\":\"Country=Slovenia\\u003cbr\\u003eEnergy Access=%{x}\\u003cbr\\u003eEmissions per Capita=%{y}\\u003cextra\\u003e\\u003c\\u002fextra\\u003e\",\"legendgroup\":\"Slovenia\",\"marker\":{\"color\":\"#ab63fa\",\"symbol\":\"circle\"},\"mode\":\"markers\",\"name\":\"Slovenia\",\"orientation\":\"v\",\"showlegend\":true,\"x\":[0.8],\"xaxis\":\"x\",\"y\":[6.3],\"yaxis\":\"y\",\"type\":\"scatter\"},{\"hovertemplate\":\"Country=South Africa\\u003cbr\\u003eEnergy Access=%{x}\\u003cbr\\u003eEmissions per Capita=%{y}\\u003cextra\\u003e\\u003c\\u002fextra\\u003e\",\"legendgroup\":\"South Africa\",\"marker\":{\"color\":\"#FFA15A\",\"symbol\":\"circle\"},\"mode\":\"markers\",\"name\":\"South Africa\",\"orientation\":\"v\",\"showlegend\":true,\"x\":[0.8],\"xaxis\":\"x\",\"y\":[7.5],\"yaxis\":\"y\",\"type\":\"scatter\"},{\"hovertemplate\":\"Country=South Sudan\\u003cbr\\u003eEnergy Access=%{x}\\u003cbr\\u003eEmissions per Capita=%{y}\\u003cextra\\u003e\\u003c\\u002fextra\\u003e\",\"legendgroup\":\"South Sudan\",\"marker\":{\"color\":\"#19d3f3\",\"symbol\":\"circle\"},\"mode\":\"markers\",\"name\":\"South Sudan\",\"orientation\":\"v\",\"showlegend\":true,\"x\":[0.8],\"xaxis\":\"x\",\"y\":[0.2],\"yaxis\":\"y\",\"type\":\"scatter\"},{\"hovertemplate\":\"Country=Spain\\u003cbr\\u003eEnergy Access=%{x}\\u003cbr\\u003eEmissions per Capita=%{y}\\u003cextra\\u003e\\u003c\\u002fextra\\u003e\",\"legendgroup\":\"Spain\",\"marker\":{\"color\":\"#FF6692\",\"symbol\":\"circle\"},\"mode\":\"markers\",\"name\":\"Spain\",\"orientation\":\"v\",\"showlegend\":true,\"x\":[0.8],\"xaxis\":\"x\",\"y\":[4.9],\"yaxis\":\"y\",\"type\":\"scatter\"},{\"hovertemplate\":\"Country=Sri Lanka\\u003cbr\\u003eEnergy Access=%{x}\\u003cbr\\u003eEmissions per Capita=%{y}\\u003cextra\\u003e\\u003c\\u002fextra\\u003e\",\"legendgroup\":\"Sri Lanka\",\"marker\":{\"color\":\"#B6E880\",\"symbol\":\"circle\"},\"mode\":\"markers\",\"name\":\"Sri Lanka\",\"orientation\":\"v\",\"showlegend\":true,\"x\":[0.8],\"xaxis\":\"x\",\"y\":[1.0],\"yaxis\":\"y\",\"type\":\"scatter\"},{\"hovertemplate\":\"Country=Sudan\\u003cbr\\u003eEnergy Access=%{x}\\u003cbr\\u003eEmissions per Capita=%{y}\\u003cextra\\u003e\\u003c\\u002fextra\\u003e\",\"legendgroup\":\"Sudan\",\"marker\":{\"color\":\"#FF97FF\",\"symbol\":\"circle\"},\"mode\":\"markers\",\"name\":\"Sudan\",\"orientation\":\"v\",\"showlegend\":true,\"x\":[0.8],\"xaxis\":\"x\",\"y\":[0.5],\"yaxis\":\"y\",\"type\":\"scatter\"},{\"hovertemplate\":\"Country=Suriname\\u003cbr\\u003eEnergy Access=%{x}\\u003cbr\\u003eEmissions per Capita=%{y}\\u003cextra\\u003e\\u003c\\u002fextra\\u003e\",\"legendgroup\":\"Suriname\",\"marker\":{\"color\":\"#FECB52\",\"symbol\":\"circle\"},\"mode\":\"markers\",\"name\":\"Suriname\",\"orientation\":\"v\",\"showlegend\":true,\"x\":[0.8],\"xaxis\":\"x\",\"y\":[4.5],\"yaxis\":\"y\",\"type\":\"scatter\"},{\"hovertemplate\":\"Country=Sweden\\u003cbr\\u003eEnergy Access=%{x}\\u003cbr\\u003eEmissions per Capita=%{y}\\u003cextra\\u003e\\u003c\\u002fextra\\u003e\",\"legendgroup\":\"Sweden\",\"marker\":{\"color\":\"#636efa\",\"symbol\":\"circle\"},\"mode\":\"markers\",\"name\":\"Sweden\",\"orientation\":\"v\",\"showlegend\":true,\"x\":[0.8],\"xaxis\":\"x\",\"y\":[3.3],\"yaxis\":\"y\",\"type\":\"scatter\"},{\"hovertemplate\":\"Country=Switzerland\\u003cbr\\u003eEnergy Access=%{x}\\u003cbr\\u003eEmissions per Capita=%{y}\\u003cextra\\u003e\\u003c\\u002fextra\\u003e\",\"legendgroup\":\"Switzerland\",\"marker\":{\"color\":\"#EF553B\",\"symbol\":\"circle\"},\"mode\":\"markers\",\"name\":\"Switzerland\",\"orientation\":\"v\",\"showlegend\":true,\"x\":[0.8],\"xaxis\":\"x\",\"y\":[4.2],\"yaxis\":\"y\",\"type\":\"scatter\"},{\"hovertemplate\":\"Country=Syrian Arab Republic\\u003cbr\\u003eEnergy Access=%{x}\\u003cbr\\u003eEmissions per Capita=%{y}\\u003cextra\\u003e\\u003c\\u002fextra\\u003e\",\"legendgroup\":\"Syrian Arab Republic\",\"marker\":{\"color\":\"#00cc96\",\"symbol\":\"circle\"},\"mode\":\"markers\",\"name\":\"Syrian Arab Republic\",\"orientation\":\"v\",\"showlegend\":true,\"x\":[0.8],\"xaxis\":\"x\",\"y\":[1.4],\"yaxis\":\"y\",\"type\":\"scatter\"},{\"hovertemplate\":\"Country=Tajikistan\\u003cbr\\u003eEnergy Access=%{x}\\u003cbr\\u003eEmissions per Capita=%{y}\\u003cextra\\u003e\\u003c\\u002fextra\\u003e\",\"legendgroup\":\"Tajikistan\",\"marker\":{\"color\":\"#ab63fa\",\"symbol\":\"circle\"},\"mode\":\"markers\",\"name\":\"Tajikistan\",\"orientation\":\"v\",\"showlegend\":true,\"x\":[0.8],\"xaxis\":\"x\",\"y\":[0.7],\"yaxis\":\"y\",\"type\":\"scatter\"},{\"hovertemplate\":\"Country=Thailand\\u003cbr\\u003eEnergy Access=%{x}\\u003cbr\\u003eEmissions per Capita=%{y}\\u003cextra\\u003e\\u003c\\u002fextra\\u003e\",\"legendgroup\":\"Thailand\",\"marker\":{\"color\":\"#FFA15A\",\"symbol\":\"circle\"},\"mode\":\"markers\",\"name\":\"Thailand\",\"orientation\":\"v\",\"showlegend\":true,\"x\":[0.8],\"xaxis\":\"x\",\"y\":[3.6],\"yaxis\":\"y\",\"type\":\"scatter\"},{\"hovertemplate\":\"Country=Togo\\u003cbr\\u003eEnergy Access=%{x}\\u003cbr\\u003eEmissions per Capita=%{y}\\u003cextra\\u003e\\u003c\\u002fextra\\u003e\",\"legendgroup\":\"Togo\",\"marker\":{\"color\":\"#19d3f3\",\"symbol\":\"circle\"},\"mode\":\"markers\",\"name\":\"Togo\",\"orientation\":\"v\",\"showlegend\":true,\"x\":[0.8],\"xaxis\":\"x\",\"y\":[0.2],\"yaxis\":\"y\",\"type\":\"scatter\"},{\"hovertemplate\":\"Country=Trinidad and Tobago\\u003cbr\\u003eEnergy Access=%{x}\\u003cbr\\u003eEmissions per Capita=%{y}\\u003cextra\\u003e\\u003c\\u002fextra\\u003e\",\"legendgroup\":\"Trinidad and Tobago\",\"marker\":{\"color\":\"#FF6692\",\"symbol\":\"circle\"},\"mode\":\"markers\",\"name\":\"Trinidad and Tobago\",\"orientation\":\"v\",\"showlegend\":true,\"x\":[0.8],\"xaxis\":\"x\",\"y\":[11.9],\"yaxis\":\"y\",\"type\":\"scatter\"},{\"hovertemplate\":\"Country=Tunisia\\u003cbr\\u003eEnergy Access=%{x}\\u003cbr\\u003eEmissions per Capita=%{y}\\u003cextra\\u003e\\u003c\\u002fextra\\u003e\",\"legendgroup\":\"Tunisia\",\"marker\":{\"color\":\"#B6E880\",\"symbol\":\"circle\"},\"mode\":\"markers\",\"name\":\"Tunisia\",\"orientation\":\"v\",\"showlegend\":true,\"x\":[0.8],\"xaxis\":\"x\",\"y\":[2.3],\"yaxis\":\"y\",\"type\":\"scatter\"},{\"hovertemplate\":\"Country=Turkmenistan\\u003cbr\\u003eEnergy Access=%{x}\\u003cbr\\u003eEmissions per Capita=%{y}\\u003cextra\\u003e\\u003c\\u002fextra\\u003e\",\"legendgroup\":\"Turkmenistan\",\"marker\":{\"color\":\"#FF97FF\",\"symbol\":\"circle\"},\"mode\":\"markers\",\"name\":\"Turkmenistan\",\"orientation\":\"v\",\"showlegend\":true,\"x\":[0.8],\"xaxis\":\"x\",\"y\":[10.1],\"yaxis\":\"y\",\"type\":\"scatter\"},{\"hovertemplate\":\"Country=Uganda\\u003cbr\\u003eEnergy Access=%{x}\\u003cbr\\u003eEmissions per Capita=%{y}\\u003cextra\\u003e\\u003c\\u002fextra\\u003e\",\"legendgroup\":\"Uganda\",\"marker\":{\"color\":\"#FECB52\",\"symbol\":\"circle\"},\"mode\":\"markers\",\"name\":\"Uganda\",\"orientation\":\"v\",\"showlegend\":true,\"x\":[0.8],\"xaxis\":\"x\",\"y\":[0.1],\"yaxis\":\"y\",\"type\":\"scatter\"},{\"hovertemplate\":\"Country=Ukraine\\u003cbr\\u003eEnergy Access=%{x}\\u003cbr\\u003eEmissions per Capita=%{y}\\u003cextra\\u003e\\u003c\\u002fextra\\u003e\",\"legendgroup\":\"Ukraine\",\"marker\":{\"color\":\"#636efa\",\"symbol\":\"circle\"},\"mode\":\"markers\",\"name\":\"Ukraine\",\"orientation\":\"v\",\"showlegend\":true,\"x\":[0.6],\"xaxis\":\"x\",\"y\":[3.8],\"yaxis\":\"y\",\"type\":\"scatter\"},{\"hovertemplate\":\"Country=United Arab Emirates\\u003cbr\\u003eEnergy Access=%{x}\\u003cbr\\u003eEmissions per Capita=%{y}\\u003cextra\\u003e\\u003c\\u002fextra\\u003e\",\"legendgroup\":\"United Arab Emirates\",\"marker\":{\"color\":\"#EF553B\",\"symbol\":\"circle\"},\"mode\":\"markers\",\"name\":\"United Arab Emirates\",\"orientation\":\"v\",\"showlegend\":true,\"x\":[0.8],\"xaxis\":\"x\",\"y\":[18.2],\"yaxis\":\"y\",\"type\":\"scatter\"},{\"hovertemplate\":\"Country=United Kingdom\\u003cbr\\u003eEnergy Access=%{x}\\u003cbr\\u003eEmissions per Capita=%{y}\\u003cextra\\u003e\\u003c\\u002fextra\\u003e\",\"legendgroup\":\"United Kingdom\",\"marker\":{\"color\":\"#00cc96\",\"symbol\":\"circle\"},\"mode\":\"markers\",\"name\":\"United Kingdom\",\"orientation\":\"v\",\"showlegend\":true,\"x\":[0.8],\"xaxis\":\"x\",\"y\":[5.1],\"yaxis\":\"y\",\"type\":\"scatter\"},{\"hovertemplate\":\"Country=Uruguay\\u003cbr\\u003eEnergy Access=%{x}\\u003cbr\\u003eEmissions per Capita=%{y}\\u003cextra\\u003e\\u003c\\u002fextra\\u003e\",\"legendgroup\":\"Uruguay\",\"marker\":{\"color\":\"#ab63fa\",\"symbol\":\"circle\"},\"mode\":\"markers\",\"name\":\"Uruguay\",\"orientation\":\"v\",\"showlegend\":true,\"x\":[0.8],\"xaxis\":\"x\",\"y\":[1.9],\"yaxis\":\"y\",\"type\":\"scatter\"},{\"hovertemplate\":\"Country=Uzbekistan\\u003cbr\\u003eEnergy Access=%{x}\\u003cbr\\u003eEmissions per Capita=%{y}\\u003cextra\\u003e\\u003c\\u002fextra\\u003e\",\"legendgroup\":\"Uzbekistan\",\"marker\":{\"color\":\"#FFA15A\",\"symbol\":\"circle\"},\"mode\":\"markers\",\"name\":\"Uzbekistan\",\"orientation\":\"v\",\"showlegend\":true,\"x\":[0.8],\"xaxis\":\"x\",\"y\":[3.3],\"yaxis\":\"y\",\"type\":\"scatter\"},{\"hovertemplate\":\"Country=Viet Nam\\u003cbr\\u003eEnergy Access=%{x}\\u003cbr\\u003eEmissions per Capita=%{y}\\u003cextra\\u003e\\u003c\\u002fextra\\u003e\",\"legendgroup\":\"Viet Nam\",\"marker\":{\"color\":\"#19d3f3\",\"symbol\":\"circle\"},\"mode\":\"markers\",\"name\":\"Viet Nam\",\"orientation\":\"v\",\"showlegend\":true,\"x\":[0.8],\"xaxis\":\"x\",\"y\":[2.9],\"yaxis\":\"y\",\"type\":\"scatter\"},{\"hovertemplate\":\"Country=Zambia\\u003cbr\\u003eEnergy Access=%{x}\\u003cbr\\u003eEmissions per Capita=%{y}\\u003cextra\\u003e\\u003c\\u002fextra\\u003e\",\"legendgroup\":\"Zambia\",\"marker\":{\"color\":\"#FF6692\",\"symbol\":\"circle\"},\"mode\":\"markers\",\"name\":\"Zambia\",\"orientation\":\"v\",\"showlegend\":true,\"x\":[0.8],\"xaxis\":\"x\",\"y\":[0.4],\"yaxis\":\"y\",\"type\":\"scatter\"},{\"hovertemplate\":\"Country=Zimbabwe\\u003cbr\\u003eEnergy Access=%{x}\\u003cbr\\u003eEmissions per Capita=%{y}\\u003cextra\\u003e\\u003c\\u002fextra\\u003e\",\"legendgroup\":\"Zimbabwe\",\"marker\":{\"color\":\"#B6E880\",\"symbol\":\"circle\"},\"mode\":\"markers\",\"name\":\"Zimbabwe\",\"orientation\":\"v\",\"showlegend\":true,\"x\":[0.8],\"xaxis\":\"x\",\"y\":[0.7],\"yaxis\":\"y\",\"type\":\"scatter\"}],                        {\"template\":{\"data\":{\"histogram2dcontour\":[{\"type\":\"histogram2dcontour\",\"colorbar\":{\"outlinewidth\":0,\"ticks\":\"\"},\"colorscale\":[[0.0,\"#0d0887\"],[0.1111111111111111,\"#46039f\"],[0.2222222222222222,\"#7201a8\"],[0.3333333333333333,\"#9c179e\"],[0.4444444444444444,\"#bd3786\"],[0.5555555555555556,\"#d8576b\"],[0.6666666666666666,\"#ed7953\"],[0.7777777777777778,\"#fb9f3a\"],[0.8888888888888888,\"#fdca26\"],[1.0,\"#f0f921\"]]}],\"choropleth\":[{\"type\":\"choropleth\",\"colorbar\":{\"outlinewidth\":0,\"ticks\":\"\"}}],\"histogram2d\":[{\"type\":\"histogram2d\",\"colorbar\":{\"outlinewidth\":0,\"ticks\":\"\"},\"colorscale\":[[0.0,\"#0d0887\"],[0.1111111111111111,\"#46039f\"],[0.2222222222222222,\"#7201a8\"],[0.3333333333333333,\"#9c179e\"],[0.4444444444444444,\"#bd3786\"],[0.5555555555555556,\"#d8576b\"],[0.6666666666666666,\"#ed7953\"],[0.7777777777777778,\"#fb9f3a\"],[0.8888888888888888,\"#fdca26\"],[1.0,\"#f0f921\"]]}],\"heatmap\":[{\"type\":\"heatmap\",\"colorbar\":{\"outlinewidth\":0,\"ticks\":\"\"},\"colorscale\":[[0.0,\"#0d0887\"],[0.1111111111111111,\"#46039f\"],[0.2222222222222222,\"#7201a8\"],[0.3333333333333333,\"#9c179e\"],[0.4444444444444444,\"#bd3786\"],[0.5555555555555556,\"#d8576b\"],[0.6666666666666666,\"#ed7953\"],[0.7777777777777778,\"#fb9f3a\"],[0.8888888888888888,\"#fdca26\"],[1.0,\"#f0f921\"]]}],\"heatmapgl\":[{\"type\":\"heatmapgl\",\"colorbar\":{\"outlinewidth\":0,\"ticks\":\"\"},\"colorscale\":[[0.0,\"#0d0887\"],[0.1111111111111111,\"#46039f\"],[0.2222222222222222,\"#7201a8\"],[0.3333333333333333,\"#9c179e\"],[0.4444444444444444,\"#bd3786\"],[0.5555555555555556,\"#d8576b\"],[0.6666666666666666,\"#ed7953\"],[0.7777777777777778,\"#fb9f3a\"],[0.8888888888888888,\"#fdca26\"],[1.0,\"#f0f921\"]]}],\"contourcarpet\":[{\"type\":\"contourcarpet\",\"colorbar\":{\"outlinewidth\":0,\"ticks\":\"\"}}],\"contour\":[{\"type\":\"contour\",\"colorbar\":{\"outlinewidth\":0,\"ticks\":\"\"},\"colorscale\":[[0.0,\"#0d0887\"],[0.1111111111111111,\"#46039f\"],[0.2222222222222222,\"#7201a8\"],[0.3333333333333333,\"#9c179e\"],[0.4444444444444444,\"#bd3786\"],[0.5555555555555556,\"#d8576b\"],[0.6666666666666666,\"#ed7953\"],[0.7777777777777778,\"#fb9f3a\"],[0.8888888888888888,\"#fdca26\"],[1.0,\"#f0f921\"]]}],\"surface\":[{\"type\":\"surface\",\"colorbar\":{\"outlinewidth\":0,\"ticks\":\"\"},\"colorscale\":[[0.0,\"#0d0887\"],[0.1111111111111111,\"#46039f\"],[0.2222222222222222,\"#7201a8\"],[0.3333333333333333,\"#9c179e\"],[0.4444444444444444,\"#bd3786\"],[0.5555555555555556,\"#d8576b\"],[0.6666666666666666,\"#ed7953\"],[0.7777777777777778,\"#fb9f3a\"],[0.8888888888888888,\"#fdca26\"],[1.0,\"#f0f921\"]]}],\"mesh3d\":[{\"type\":\"mesh3d\",\"colorbar\":{\"outlinewidth\":0,\"ticks\":\"\"}}],\"scatter\":[{\"fillpattern\":{\"fillmode\":\"overlay\",\"size\":10,\"solidity\":0.2},\"type\":\"scatter\"}],\"parcoords\":[{\"type\":\"parcoords\",\"line\":{\"colorbar\":{\"outlinewidth\":0,\"ticks\":\"\"}}}],\"scatterpolargl\":[{\"type\":\"scatterpolargl\",\"marker\":{\"colorbar\":{\"outlinewidth\":0,\"ticks\":\"\"}}}],\"bar\":[{\"error_x\":{\"color\":\"#2a3f5f\"},\"error_y\":{\"color\":\"#2a3f5f\"},\"marker\":{\"line\":{\"color\":\"#E5ECF6\",\"width\":0.5},\"pattern\":{\"fillmode\":\"overlay\",\"size\":10,\"solidity\":0.2}},\"type\":\"bar\"}],\"scattergeo\":[{\"type\":\"scattergeo\",\"marker\":{\"colorbar\":{\"outlinewidth\":0,\"ticks\":\"\"}}}],\"scatterpolar\":[{\"type\":\"scatterpolar\",\"marker\":{\"colorbar\":{\"outlinewidth\":0,\"ticks\":\"\"}}}],\"histogram\":[{\"marker\":{\"pattern\":{\"fillmode\":\"overlay\",\"size\":10,\"solidity\":0.2}},\"type\":\"histogram\"}],\"scattergl\":[{\"type\":\"scattergl\",\"marker\":{\"colorbar\":{\"outlinewidth\":0,\"ticks\":\"\"}}}],\"scatter3d\":[{\"type\":\"scatter3d\",\"line\":{\"colorbar\":{\"outlinewidth\":0,\"ticks\":\"\"}},\"marker\":{\"colorbar\":{\"outlinewidth\":0,\"ticks\":\"\"}}}],\"scattermapbox\":[{\"type\":\"scattermapbox\",\"marker\":{\"colorbar\":{\"outlinewidth\":0,\"ticks\":\"\"}}}],\"scatterternary\":[{\"type\":\"scatterternary\",\"marker\":{\"colorbar\":{\"outlinewidth\":0,\"ticks\":\"\"}}}],\"scattercarpet\":[{\"type\":\"scattercarpet\",\"marker\":{\"colorbar\":{\"outlinewidth\":0,\"ticks\":\"\"}}}],\"carpet\":[{\"aaxis\":{\"endlinecolor\":\"#2a3f5f\",\"gridcolor\":\"white\",\"linecolor\":\"white\",\"minorgridcolor\":\"white\",\"startlinecolor\":\"#2a3f5f\"},\"baxis\":{\"endlinecolor\":\"#2a3f5f\",\"gridcolor\":\"white\",\"linecolor\":\"white\",\"minorgridcolor\":\"white\",\"startlinecolor\":\"#2a3f5f\"},\"type\":\"carpet\"}],\"table\":[{\"cells\":{\"fill\":{\"color\":\"#EBF0F8\"},\"line\":{\"color\":\"white\"}},\"header\":{\"fill\":{\"color\":\"#C8D4E3\"},\"line\":{\"color\":\"white\"}},\"type\":\"table\"}],\"barpolar\":[{\"marker\":{\"line\":{\"color\":\"#E5ECF6\",\"width\":0.5},\"pattern\":{\"fillmode\":\"overlay\",\"size\":10,\"solidity\":0.2}},\"type\":\"barpolar\"}],\"pie\":[{\"automargin\":true,\"type\":\"pie\"}]},\"layout\":{\"autotypenumbers\":\"strict\",\"colorway\":[\"#636efa\",\"#EF553B\",\"#00cc96\",\"#ab63fa\",\"#FFA15A\",\"#19d3f3\",\"#FF6692\",\"#B6E880\",\"#FF97FF\",\"#FECB52\"],\"font\":{\"color\":\"#2a3f5f\"},\"hovermode\":\"closest\",\"hoverlabel\":{\"align\":\"left\"},\"paper_bgcolor\":\"white\",\"plot_bgcolor\":\"#E5ECF6\",\"polar\":{\"bgcolor\":\"#E5ECF6\",\"angularaxis\":{\"gridcolor\":\"white\",\"linecolor\":\"white\",\"ticks\":\"\"},\"radialaxis\":{\"gridcolor\":\"white\",\"linecolor\":\"white\",\"ticks\":\"\"}},\"ternary\":{\"bgcolor\":\"#E5ECF6\",\"aaxis\":{\"gridcolor\":\"white\",\"linecolor\":\"white\",\"ticks\":\"\"},\"baxis\":{\"gridcolor\":\"white\",\"linecolor\":\"white\",\"ticks\":\"\"},\"caxis\":{\"gridcolor\":\"white\",\"linecolor\":\"white\",\"ticks\":\"\"}},\"coloraxis\":{\"colorbar\":{\"outlinewidth\":0,\"ticks\":\"\"}},\"colorscale\":{\"sequential\":[[0.0,\"#0d0887\"],[0.1111111111111111,\"#46039f\"],[0.2222222222222222,\"#7201a8\"],[0.3333333333333333,\"#9c179e\"],[0.4444444444444444,\"#bd3786\"],[0.5555555555555556,\"#d8576b\"],[0.6666666666666666,\"#ed7953\"],[0.7777777777777778,\"#fb9f3a\"],[0.8888888888888888,\"#fdca26\"],[1.0,\"#f0f921\"]],\"sequentialminus\":[[0.0,\"#0d0887\"],[0.1111111111111111,\"#46039f\"],[0.2222222222222222,\"#7201a8\"],[0.3333333333333333,\"#9c179e\"],[0.4444444444444444,\"#bd3786\"],[0.5555555555555556,\"#d8576b\"],[0.6666666666666666,\"#ed7953\"],[0.7777777777777778,\"#fb9f3a\"],[0.8888888888888888,\"#fdca26\"],[1.0,\"#f0f921\"]],\"diverging\":[[0,\"#8e0152\"],[0.1,\"#c51b7d\"],[0.2,\"#de77ae\"],[0.3,\"#f1b6da\"],[0.4,\"#fde0ef\"],[0.5,\"#f7f7f7\"],[0.6,\"#e6f5d0\"],[0.7,\"#b8e186\"],[0.8,\"#7fbc41\"],[0.9,\"#4d9221\"],[1,\"#276419\"]]},\"xaxis\":{\"gridcolor\":\"white\",\"linecolor\":\"white\",\"ticks\":\"\",\"title\":{\"standoff\":15},\"zerolinecolor\":\"white\",\"automargin\":true,\"zerolinewidth\":2},\"yaxis\":{\"gridcolor\":\"white\",\"linecolor\":\"white\",\"ticks\":\"\",\"title\":{\"standoff\":15},\"zerolinecolor\":\"white\",\"automargin\":true,\"zerolinewidth\":2},\"scene\":{\"xaxis\":{\"backgroundcolor\":\"#E5ECF6\",\"gridcolor\":\"white\",\"linecolor\":\"white\",\"showbackground\":true,\"ticks\":\"\",\"zerolinecolor\":\"white\",\"gridwidth\":2},\"yaxis\":{\"backgroundcolor\":\"#E5ECF6\",\"gridcolor\":\"white\",\"linecolor\":\"white\",\"showbackground\":true,\"ticks\":\"\",\"zerolinecolor\":\"white\",\"gridwidth\":2},\"zaxis\":{\"backgroundcolor\":\"#E5ECF6\",\"gridcolor\":\"white\",\"linecolor\":\"white\",\"showbackground\":true,\"ticks\":\"\",\"zerolinecolor\":\"white\",\"gridwidth\":2}},\"shapedefaults\":{\"line\":{\"color\":\"#2a3f5f\"}},\"annotationdefaults\":{\"arrowcolor\":\"#2a3f5f\",\"arrowhead\":0,\"arrowwidth\":1},\"geo\":{\"bgcolor\":\"white\",\"landcolor\":\"#E5ECF6\",\"subunitcolor\":\"white\",\"showland\":true,\"showlakes\":true,\"lakecolor\":\"white\"},\"title\":{\"x\":0.05},\"mapbox\":{\"style\":\"light\"}}},\"xaxis\":{\"anchor\":\"y\",\"domain\":[0.0,1.0],\"title\":{\"text\":\"Energy Access\"}},\"yaxis\":{\"anchor\":\"x\",\"domain\":[0.0,1.0],\"title\":{\"text\":\"Emissions per Capita\"}},\"legend\":{\"title\":{\"text\":\"Country\"},\"tracegroupgap\":0},\"title\":{\"text\":\"Clean and Affordable Energy Access (SDG 7) and Carbon Emissions per Capita (2019)\"}},                        {\"responsive\": true}                    ).then(function(){\n",
       "                            \n",
       "var gd = document.getElementById('6935a5a2-4807-44b9-9a7c-f1a6d8eb1dac');\n",
       "var x = new MutationObserver(function (mutations, observer) {{\n",
       "        var display = window.getComputedStyle(gd).display;\n",
       "        if (!display || display === 'none') {{\n",
       "            console.log([gd, 'removed!']);\n",
       "            Plotly.purge(gd);\n",
       "            observer.disconnect();\n",
       "        }}\n",
       "}});\n",
       "\n",
       "// Listen for the removal of the full notebook cells\n",
       "var notebookContainer = gd.closest('#notebook-container');\n",
       "if (notebookContainer) {{\n",
       "    x.observe(notebookContainer, {childList: true});\n",
       "}}\n",
       "\n",
       "// Listen for the clearing of the current output cell\n",
       "var outputEl = gd.closest('.output');\n",
       "if (outputEl) {{\n",
       "    x.observe(outputEl, {childList: true});\n",
       "}}\n",
       "\n",
       "                        })                };                });            </script>        </div>"
      ]
     },
     "metadata": {},
     "output_type": "display_data"
    }
   ],
   "source": [
    "import plotly.express as px\n",
    "fig = px.scatter(\n",
    "    file_merged,\n",
    "    x=\"Value_x\",\n",
    "    y=\"Value_y\",\n",
    "    color=\"Country\",\n",
    "    title=\"Clean and Affordable Energy Access (SDG 7) and Carbon Emissions per Capita (2019)\",\n",
    "    labels={\"Value_x\": \"Energy Access\", \"Value_y\": \"Emissions per Capita\"},\n",
    ")\n",
    "fig.show()"
   ]
  },
  {
   "cell_type": "markdown",
   "id": "5419e1f3-e30e-44b0-a48e-9875823fde24",
   "metadata": {},
   "source": [
    "#### **Conclusion**: The results indicate that the hypothesis is false; there is no significant relationship between the proposed variables. On the contrary, there is a noticeable concentration around the X value **0.8**, which could be influenced by various factors, such as a significant number of countries complying substantially with the provisions of SDG 7.\n",
    "\n",
    "#### Nevertheless, it is necessary to confirm this finding with a Pearson correlation analysis."
   ]
  },
  {
   "cell_type": "code",
   "execution_count": 33,
   "id": "59aeb96b-64b1-4aea-a98c-0eef6c9fdc8c",
   "metadata": {},
   "outputs": [
    {
     "name": "stdout",
     "output_type": "stream",
     "text": [
      "The Pearson Correlation is: -0.10883763043461271\n"
     ]
    }
   ],
   "source": [
    "correlation_pearson = file_merged['Value_x'].corr(file_merged['Value_y'])\n",
    "print(f\"The Pearson Correlation is: {correlation_pearson}\")"
   ]
  },
  {
   "cell_type": "markdown",
   "id": "7adb38c3-14d1-45b3-bc4f-74f0e26c70bf",
   "metadata": {},
   "source": [
    "#### **Finally, the Pearson correlation analysis indicates a very slight negative correlation, which is not significant, further confirming that there is no relationship between the two variables.**"
   ]
  }
 ],
 "metadata": {
  "kernelspec": {
   "display_name": "base",
   "language": "python",
   "name": "python3"
  },
  "language_info": {
   "codemirror_mode": {
    "name": "ipython",
    "version": 3
   },
   "file_extension": ".py",
   "mimetype": "text/x-python",
   "name": "python",
   "nbconvert_exporter": "python",
   "pygments_lexer": "ipython3",
   "version": "3.12.2"
  }
 },
 "nbformat": 4,
 "nbformat_minor": 5
}
